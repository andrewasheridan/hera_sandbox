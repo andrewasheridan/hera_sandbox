{
 "cells": [
  {
   "cell_type": "markdown",
   "metadata": {},
   "source": [
    "# History\n",
    "\n",
    "> To help keep track of the chronological order of the work that I have done. (history recording began June 4)"
   ]
  },
  {
   "cell_type": "markdown",
   "metadata": {},
   "source": [
    "## May 21\n",
    "\n",
    "> Initial explorations in the wrap / unwrap problem\n",
    "\n",
    "> Began working through simple TensorFlow examples\n"
   ]
  },
  {
   "cell_type": "markdown",
   "metadata": {},
   "source": [
    "## May 23\n",
    "> Continued work on simple TF examples\n",
    "\n",
    "> Began work on TF Sales_Prediction example project"
   ]
  },
  {
   "cell_type": "markdown",
   "metadata": {},
   "source": [
    "## May 24\n",
    "> Finished TF Sales_Prediction example\n",
    "\n",
    "> Began work on TF Tau Finder"
   ]
  },
  {
   "cell_type": "markdown",
   "metadata": {},
   "source": [
    "## May 25\n",
    "> Continued work on TF Tau Finder"
   ]
  },
  {
   "cell_type": "markdown",
   "metadata": {},
   "source": [
    "## May 26\n",
    "> Began work on `wu_rand_tau_rand_phase`"
   ]
  },
  {
   "cell_type": "markdown",
   "metadata": {},
   "source": [
    "## May 27\n",
    "> Began work on `wu_perfect_lin_tau_0_phase` & `wu_perfect_lin_tau_rand_phase`"
   ]
  },
  {
   "cell_type": "markdown",
   "metadata": {},
   "source": [
    "## May 29\n",
    "> Began work on `wu_fuzzy_rand_tau_rand_phase`, `wu_768_512_256_all_relu`, `wu_fitting_noisey_spikey_data`"
   ]
  },
  {
   "cell_type": "markdown",
   "metadata": {},
   "source": [
    "## May 30\n",
    ">  Began work on `wu_integer_tau_noisey_spikey`, `wu_increasing_difficulty`\n",
    "\n",
    "> Frustrated with my lack of orginazation I move all new work into a new directory 'wrapped'\n",
    " - notebooks will no longer have long names that describe their contents\n",
    " - names are now arbitrary\n",
    "> Began work on `NATO` networks\n",
    " - names are in aphabetical order"
   ]
  },
  {
   "cell_type": "markdown",
   "metadata": {},
   "source": [
    "## May 31\n",
    "> Continued work on `NATO` networks\n",
    "\n",
    "> Began work on `Anthroponomy` networks (failed)"
   ]
  },
  {
   "cell_type": "markdown",
   "metadata": {},
   "source": [
    "## June 1\n",
    "> Began work on `ship-shape' networks\n",
    " - names NOT in aphabetical order (BAD idea, sorry)\n",
    " - **Teak** network pretty good\n",
    "> Began work on `authors` networks\n",
    " - Back to aphabetical\n",
    " - **Baxter** network pretty good (is based on **Teak**)"
   ]
  },
  {
   "cell_type": "markdown",
   "metadata": {},
   "source": [
    "## June 2\n",
    "> Begin adding `*_notes` notebooks to each directory to keep track of things\n",
    "\n",
    "> Began work on `painters` networks\n",
    " - aphabetical order\n",
    " - began saving images as logs"
   ]
  },
  {
   "cell_type": "markdown",
   "metadata": {},
   "source": [
    "## June 4\n",
    "> Contined work on `painters` networks\n",
    " - **Dahl** shows promise"
   ]
  },
  {
   "cell_type": "code",
   "execution_count": null,
   "metadata": {},
   "outputs": [],
   "source": []
  }
 ],
 "metadata": {
  "kernelspec": {
   "display_name": "Python 3",
   "language": "python",
   "name": "python3"
  },
  "language_info": {
   "codemirror_mode": {
    "name": "ipython",
    "version": 3
   },
   "file_extension": ".py",
   "mimetype": "text/x-python",
   "name": "python",
   "nbconvert_exporter": "python",
   "pygments_lexer": "ipython3",
   "version": "3.6.5"
  }
 },
 "nbformat": 4,
 "nbformat_minor": 2
}
