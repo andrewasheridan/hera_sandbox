{
 "cells": [
  {
   "cell_type": "markdown",
   "metadata": {},
   "source": [
    "Following along with MachineLearning @ Cal\n",
    "\n",
    " - notebook https://github.com/mlberkeley/IntroToTensorFlow/blob/master/Denoise_Autoencoder_Student.ipynb\n",
    "\n",
    " - video https://www.youtube.com/watch?v=etNdsIfcMEQ"
   ]
  },
  {
   "cell_type": "code",
   "execution_count": 1,
   "metadata": {
    "ExecuteTime": {
     "end_time": "2018-05-21T23:42:48.774546Z",
     "start_time": "2018-05-21T23:42:43.792285Z"
    }
   },
   "outputs": [],
   "source": [
    "# suppress warning\n",
    "import warnings\n",
    "with warnings.catch_warnings():\n",
    "    warnings.filterwarnings(\"ignore\",category=FutureWarning)\n",
    "    import h5py\n",
    "import tensorflow as tf"
   ]
  },
  {
   "cell_type": "markdown",
   "metadata": {},
   "source": [
    "### Denoising Autoencoder\n",
    "In this lab, you will be applying a noise filter to MNIST images and using a denoising autoencoder to reconstruct the original image."
   ]
  },
  {
   "cell_type": "code",
   "execution_count": 2,
   "metadata": {
    "ExecuteTime": {
     "end_time": "2018-05-21T23:42:48.799578Z",
     "start_time": "2018-05-21T23:42:48.777733Z"
    }
   },
   "outputs": [],
   "source": [
    "import numpy as np\n",
    "def masking_noise(X, v):\n",
    "    \"\"\" Apply masking noise to data in X, in other words a fraction v of elements of X\n",
    "    (chosen at random) is forced to zero.\"\"\"\n",
    "    \n",
    "    X_noise = X.copy()\n",
    "\n",
    "    n_samples = X.shape[0]\n",
    "    n_features = X.shape[1]\n",
    "\n",
    "    for i in range(n_samples):\n",
    "        mask = np.random.choice(range(n_features), int(v*n_features), replace=False)\n",
    "        for m in mask:\n",
    "            X_noise[i][m] = 0.\n",
    "    return X_noise"
   ]
  },
  {
   "cell_type": "markdown",
   "metadata": {
    "ExecuteTime": {
     "end_time": "2018-05-21T21:36:54.833101Z",
     "start_time": "2018-05-21T21:36:54.663143Z"
    }
   },
   "source": [
    "![title](Denoising_Autoencoder_image.png)"
   ]
  },
  {
   "cell_type": "markdown",
   "metadata": {},
   "source": [
    "#### Network parameters and Hyperparameters"
   ]
  },
  {
   "cell_type": "code",
   "execution_count": 3,
   "metadata": {
    "ExecuteTime": {
     "end_time": "2018-05-21T23:42:48.818419Z",
     "start_time": "2018-05-21T23:42:48.805112Z"
    },
    "code_folding": []
   },
   "outputs": [],
   "source": [
    "# Parameters\n",
    "learning_rate = 0.01\n",
    "training_epochs = 10\n",
    "batch_size = 256\n",
    "\n",
    "# Network Parameters\n",
    "n_hidden_1 = 256 # 1st layer num features\n",
    "n_hidden_2 = 128 # 2nd layer num features\n",
    "n_input = 784 # MNIST data input (img shape: 28*28)"
   ]
  },
  {
   "cell_type": "markdown",
   "metadata": {},
   "source": [
    "Create a placeholder value for the input images after they are flattened to an array of dimension 784."
   ]
  },
  {
   "cell_type": "code",
   "execution_count": 4,
   "metadata": {
    "ExecuteTime": {
     "end_time": "2018-05-21T23:42:48.863102Z",
     "start_time": "2018-05-21T23:42:48.825299Z"
    }
   },
   "outputs": [],
   "source": [
    "\n",
    "X = tf.placeholder(tf.float32, shape = [None, n_input], name = \"X\")\n",
    "X_noise = tf.placeholder(tf.float32, shape = [None, n_input], name = \"X_noise\")"
   ]
  },
  {
   "cell_type": "markdown",
   "metadata": {},
   "source": [
    "Fill in the weights and biases dictionary for all the layers.\n",
    "\n",
    "\n",
    "Fill in the encoder and decoder functions:\n",
    " - The encoder function takes in a noisy image and returns a 128 dimensional tensor (the middle layer)\n",
    " - The decoder function takes in the middle layer of the network and outputs the restored image"
   ]
  },
  {
   "cell_type": "markdown",
   "metadata": {},
   "source": [
    "#### Q: What is a sigmoid?"
   ]
  },
  {
   "cell_type": "code",
   "execution_count": 5,
   "metadata": {
    "ExecuteTime": {
     "end_time": "2018-05-21T23:42:49.030351Z",
     "start_time": "2018-05-21T23:42:48.867023Z"
    }
   },
   "outputs": [],
   "source": [
    "weights = {\n",
    "    'encoder_w1': tf.Variable(tf.truncated_normal([n_input, n_hidden_1], stddev=0.1)),\n",
    "    'encoder_w2': tf.Variable(tf.truncated_normal([n_hidden_1, n_hidden_2], stddev=0.1)),\n",
    "    'decoder_w1': tf.Variable(tf.truncated_normal([n_hidden_2, n_hidden_1], stddev=0.1)),\n",
    "    'decoder_w2': tf.Variable(tf.truncated_normal([n_hidden_1, n_input], stddev=0.1))\n",
    "}\n",
    "\n",
    "bias = {\n",
    "    \"encoder_b1\": tf.Variable(tf.truncated_normal([1, n_hidden_1], stddev=0.1)),\n",
    "    \"encoder_b2\": tf.Variable(tf.truncated_normal([1, n_hidden_2], stddev=0.1)),\n",
    "    \"decoder_b1\": tf.Variable(tf.truncated_normal([1, n_hidden_1], stddev=0.1)),\n",
    "    \"decoder_b2\": tf.Variable(tf.truncated_normal([1, n_input], stddev=0.1))\n",
    "}\n",
    "\n",
    "def encoder(X):\n",
    "    layer1 = tf.nn.sigmoid(tf.matmul(X, weights['encoder_w1'])+bias['encoder_b1'])\n",
    "    layer2 = tf.nn.sigmoid(tf.matmul(layer1, weights['encoder_w2'])+bias['encoder_b2'])\n",
    "    return layer2\n",
    "    \n",
    "def decoder(x):\n",
    "    layer1 = tf.nn.sigmoid(tf.matmul(x, weights['decoder_w1'])+bias['decoder_b1'])\n",
    "    layer2 = tf.nn.sigmoid(tf.matmul(layer1, weights['decoder_w2'])+bias['decoder_b2'])\n",
    "    return layer2"
   ]
  },
  {
   "cell_type": "markdown",
   "metadata": {},
   "source": [
    "\n",
    "Create the encoder and decoder layers using the functions above."
   ]
  },
  {
   "cell_type": "code",
   "execution_count": 6,
   "metadata": {
    "ExecuteTime": {
     "end_time": "2018-05-21T23:42:49.075964Z",
     "start_time": "2018-05-21T23:42:49.033541Z"
    }
   },
   "outputs": [],
   "source": [
    "encoder_op = encoder(X_noise)\n",
    "decoder_op = decoder(encoder_op)\n",
    "\n",
    "pred = decoder_op"
   ]
  },
  {
   "cell_type": "markdown",
   "metadata": {},
   "source": [
    "Calculate the entropy by taking the Log Loss and calculate the overall loss by taking the mean of the entropy. The predicted value of this network is the output of the decoder and the true value is the original MNIST image before the noise filter is added."
   ]
  },
  {
   "cell_type": "code",
   "execution_count": 7,
   "metadata": {
    "ExecuteTime": {
     "end_time": "2018-05-21T23:42:49.167133Z",
     "start_time": "2018-05-21T23:42:49.080087Z"
    }
   },
   "outputs": [],
   "source": [
    "entropy = tf.losses.log_loss(X, pred)\n",
    "loss = tf.reduce_mean(entropy)"
   ]
  },
  {
   "cell_type": "markdown",
   "metadata": {},
   "source": [
    "\n",
    "Define the optimizer as the RMSPropOptimizer which minimizes the loss calculated above."
   ]
  },
  {
   "cell_type": "code",
   "execution_count": 8,
   "metadata": {
    "ExecuteTime": {
     "end_time": "2018-05-21T23:42:49.702150Z",
     "start_time": "2018-05-21T23:42:49.176704Z"
    }
   },
   "outputs": [],
   "source": [
    "optimizer = tf.train.RMSPropOptimizer(learning_rate = learning_rate).minimize(loss)"
   ]
  },
  {
   "cell_type": "code",
   "execution_count": 9,
   "metadata": {
    "ExecuteTime": {
     "end_time": "2018-05-21T23:43:03.938204Z",
     "start_time": "2018-05-21T23:42:49.706702Z"
    }
   },
   "outputs": [
    {
     "name": "stdout",
     "output_type": "stream",
     "text": [
      "WARNING:tensorflow:From <ipython-input-9-471a3b7da640>:2: read_data_sets (from tensorflow.contrib.learn.python.learn.datasets.mnist) is deprecated and will be removed in a future version.\n",
      "Instructions for updating:\n",
      "Please use alternatives such as official/mnist/dataset.py from tensorflow/models.\n",
      "WARNING:tensorflow:From /Users/andrew/anaconda3/lib/python3.6/site-packages/tensorflow/contrib/learn/python/learn/datasets/mnist.py:260: maybe_download (from tensorflow.contrib.learn.python.learn.datasets.base) is deprecated and will be removed in a future version.\n",
      "Instructions for updating:\n",
      "Please write your own downloading logic.\n",
      "WARNING:tensorflow:From /Users/andrew/anaconda3/lib/python3.6/site-packages/tensorflow/contrib/learn/python/learn/datasets/mnist.py:262: extract_images (from tensorflow.contrib.learn.python.learn.datasets.mnist) is deprecated and will be removed in a future version.\n",
      "Instructions for updating:\n",
      "Please use tf.data to implement this functionality.\n",
      "Extracting ../data/mnist/train-images-idx3-ubyte.gz\n",
      "WARNING:tensorflow:From /Users/andrew/anaconda3/lib/python3.6/site-packages/tensorflow/contrib/learn/python/learn/datasets/mnist.py:267: extract_labels (from tensorflow.contrib.learn.python.learn.datasets.mnist) is deprecated and will be removed in a future version.\n",
      "Instructions for updating:\n",
      "Please use tf.data to implement this functionality.\n",
      "Extracting ../data/mnist/train-labels-idx1-ubyte.gz\n",
      "WARNING:tensorflow:From /Users/andrew/anaconda3/lib/python3.6/site-packages/tensorflow/contrib/learn/python/learn/datasets/mnist.py:110: dense_to_one_hot (from tensorflow.contrib.learn.python.learn.datasets.mnist) is deprecated and will be removed in a future version.\n",
      "Instructions for updating:\n",
      "Please use tf.one_hot on tensors.\n",
      "Extracting ../data/mnist/t10k-images-idx3-ubyte.gz\n",
      "Extracting ../data/mnist/t10k-labels-idx1-ubyte.gz\n",
      "WARNING:tensorflow:From /Users/andrew/anaconda3/lib/python3.6/site-packages/tensorflow/contrib/learn/python/learn/datasets/mnist.py:290: DataSet.__init__ (from tensorflow.contrib.learn.python.learn.datasets.mnist) is deprecated and will be removed in a future version.\n",
      "Instructions for updating:\n",
      "Please use alternatives such as official/mnist/dataset.py from tensorflow/models.\n"
     ]
    }
   ],
   "source": [
    "from tensorflow.examples.tutorials.mnist import input_data\n",
    "MNIST = input_data.read_data_sets(\"../data/mnist\", one_hot = True)"
   ]
  },
  {
   "cell_type": "markdown",
   "metadata": {},
   "source": [
    "Start an interactive session and initialize all the variables created above."
   ]
  },
  {
   "cell_type": "code",
   "execution_count": 10,
   "metadata": {
    "ExecuteTime": {
     "end_time": "2018-05-21T23:43:04.043548Z",
     "start_time": "2018-05-21T23:43:03.944282Z"
    }
   },
   "outputs": [],
   "source": [
    "sess = tf.InteractiveSession()\n",
    "sess.run(tf.global_variables_initializer())"
   ]
  },
  {
   "cell_type": "markdown",
   "metadata": {},
   "source": [
    "For each training epoch, take a batch of the training examples, apply the noise filter to each image, and run the optimizer and loss. At the end of each epoch, print the loss and confirm it decreases with each epoch."
   ]
  },
  {
   "cell_type": "code",
   "execution_count": 11,
   "metadata": {
    "ExecuteTime": {
     "end_time": "2018-05-21T23:47:14.755639Z",
     "start_time": "2018-05-21T23:43:04.060044Z"
    }
   },
   "outputs": [
    {
     "name": "stdout",
     "output_type": "stream",
     "text": [
      "Epoch 0: 99.91455999016762\n",
      "Epoch 1: 45.291812896728516\n",
      "Epoch 2: 35.01400084793568\n",
      "Epoch 3: 31.24410055577755\n",
      "Epoch 4: 28.91467247903347\n",
      "Epoch 5: 27.388187810778618\n",
      "Epoch 6: 26.261610224843025\n",
      "Epoch 7: 25.49820525199175\n",
      "Epoch 8: 24.83810717612505\n",
      "Epoch 9: 24.348440527915955\n"
     ]
    }
   ],
   "source": [
    "num_batches = int(MNIST.train.num_examples/batch_size)\n",
    "\n",
    "for epoch in range(training_epochs):\n",
    "    total_loss = 0\n",
    "    for batch in range(num_batches):\n",
    "        x, _ = MNIST.train.next_batch(batch_size)\n",
    "        x_noise = masking_noise(x, 0.5)\n",
    "        _, l = sess.run([optimizer, loss], feed_dict = {X: x, X_noise: x_noise})\n",
    "        total_loss += l\n",
    "    print(\"Epoch {0}: {1}\".format(epoch, total_loss))"
   ]
  },
  {
   "cell_type": "markdown",
   "metadata": {},
   "source": [
    "Use the code below to plot the original image, the noisy image, and the reconstructed image."
   ]
  },
  {
   "cell_type": "code",
   "execution_count": 12,
   "metadata": {
    "ExecuteTime": {
     "end_time": "2018-05-21T23:47:15.207594Z",
     "start_time": "2018-05-21T23:47:14.760643Z"
    }
   },
   "outputs": [],
   "source": [
    "import matplotlib.pyplot as plt"
   ]
  },
  {
   "cell_type": "code",
   "execution_count": 13,
   "metadata": {
    "ExecuteTime": {
     "end_time": "2018-05-21T23:47:17.545908Z",
     "start_time": "2018-05-21T23:47:15.213154Z"
    }
   },
   "outputs": [
    {
     "data": {
      "image/png": "[encoded data removed]",
      "text/plain": [
       "<matplotlib.figure.Figure at 0x18161391d0>"
      ]
     },
     "metadata": {},
     "output_type": "display_data"
    }
   ],
   "source": [
    "x = MNIST.test.images[:10]\n",
    "x_noise = masking_noise(x, 0.5)\n",
    "pred_img = sess.run(pred, feed_dict = {X: x, X_noise:x_noise})\n",
    "f, a = plt.subplots(3, 10, figsize=(10, 3))\n",
    "plt.axis('off')\n",
    "for i in range(10):\n",
    "    a[0][i].imshow(np.reshape(x[i], (28, 28)))\n",
    "    a[1][i].imshow(np.reshape(x_noise[i], (28, 28)))\n",
    "    a[2][i].imshow(np.reshape(pred_img[i], (28, 28)))\n",
    "plt.show()"
   ]
  },
  {
   "cell_type": "code",
   "execution_count": 14,
   "metadata": {
    "ExecuteTime": {
     "end_time": "2018-05-21T23:47:19.793137Z",
     "start_time": "2018-05-21T23:47:17.550324Z"
    }
   },
   "outputs": [
    {
     "data": {
      "image/png": "[encoded data removed]",
      "text/plain": [
       "<matplotlib.figure.Figure at 0x1c20114a58>"
      ]
     },
     "metadata": {},
     "output_type": "display_data"
    },
    {
     "data": {
      "image/png": "[encoded data removed]",
      "text/plain": [
       "<matplotlib.figure.Figure at 0x1c20114710>"
      ]
     },
     "metadata": {},
     "output_type": "display_data"
    }
   ],
   "source": [
    "plt.axis('off')\n",
    "f, a = plt.subplots(3, 10, figsize=(10, 3))\n",
    "for i in range(10):\n",
    "    a[0][i].imshow(np.reshape(x[i], (28, 28)), cmap='Greys',  interpolation='nearest')\n",
    "    a[1][i].imshow(np.reshape(x_noise[i], (28, 28)), cmap='Greys',  interpolation='nearest')\n",
    "    a[2][i].imshow(np.reshape(pred_img[i], (28, 28)), cmap='Greys',  interpolation='nearest')\n",
    "plt.show()"
   ]
  },
  {
   "cell_type": "code",
   "execution_count": null,
   "metadata": {},
   "outputs": [],
   "source": []
  }
 ],
 "metadata": {
  "kernelspec": {
   "display_name": "Python 3",
   "language": "python",
   "name": "python3"
  },
  "language_info": {
   "codemirror_mode": {
    "name": "ipython",
    "version": 3
   },
   "file_extension": ".py",
   "mimetype": "text/x-python",
   "name": "python",
   "nbconvert_exporter": "python",
   "pygments_lexer": "ipython3",
   "version": "3.6.4"
  },
  "varInspector": {
   "cols": {
    "lenName": 16,
    "lenType": 16,
    "lenVar": 40
   },
   "kernels_config": {
    "python": {
     "delete_cmd_postfix": "",
     "delete_cmd_prefix": "del ",
     "library": "var_list.py",
     "varRefreshCmd": "print(var_dic_list())"
    },
    "r": {
     "delete_cmd_postfix": ") ",
     "delete_cmd_prefix": "rm(",
     "library": "var_list.r",
     "varRefreshCmd": "cat(var_dic_list()) "
    }
   },
   "types_to_exclude": [
    "module",
    "function",
    "builtin_function_or_method",
    "instance",
    "_Feature"
   ],
   "window_display": false
  }
 },
 "nbformat": 4,
 "nbformat_minor": 2
}
