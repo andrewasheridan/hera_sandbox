{
 "cells": [
  {
   "cell_type": "code",
   "execution_count": 2,
   "metadata": {
    "ExecuteTime": {
     "end_time": "2018-05-23T20:12:16.931388Z",
     "start_time": "2018-05-23T20:12:16.926521Z"
    }
   },
   "outputs": [],
   "source": [
    "import os\n",
    "import tensorflow as tf"
   ]
  },
  {
   "cell_type": "markdown",
   "metadata": {},
   "source": [
    "> We are going to create a simple model for addition.\n",
    "\n",
    "\"Let's build a TensorFlow computational graph that adds two numbers together. Here's what the computational graph will look like. This graph has two inputs, X and Y. Those are the two numbers we want to add together. This graph also has one operation called 'addition'. That note simply adds together the tensors passed into it. Once this graph is defined, we can use it by creating a new TensorFlow session. Then we'll feed in values for X and Y, and we'll ask the session object to execute the addition node.\"\n",
    "\n",
    "![title](addition_TF_graph_image.png)"
   ]
  },
  {
   "cell_type": "code",
   "execution_count": 5,
   "metadata": {
    "ExecuteTime": {
     "end_time": "2018-05-23T20:37:49.017986Z",
     "start_time": "2018-05-23T20:37:48.981644Z"
    }
   },
   "outputs": [
    {
     "name": "stdout",
     "output_type": "stream",
     "text": [
      "[ 5.  4. 20.]\n"
     ]
    }
   ],
   "source": [
    "# Define computational graph\n",
    "\"\"\"When you create a node in TensorFlow, you have to choose what kind of node to create.\n",
    "   The X and Y nodes will be placeholder nodes that get assigned a new value every time \n",
    "   we make a calculation, so we'll create them as a TF.placeholder node\n",
    "   \"\"\"\n",
    "\n",
    "\"\"\"TF.placeholder... When we create a placeholder node, we have to pass on the data type.\n",
    "   We'll be adding numbers here, so we can use a floating point data-type.\n",
    "   I'll use TF.float32.\n",
    "   We also need to give this node the name. \n",
    "   \"\"\"\n",
    "X = tf.placeholder(tf.float32, name = \"X\")\n",
    "Y = tf.placeholder(tf.float32, name = \"y\")\n",
    "\n",
    "\"\"\"Now we can define the node that does the addition operation.\n",
    "   In TensorFlow we can do that by creating a TF.Add node.\n",
    "   Then we'll pass on the X and Y nodes to the addition node,\n",
    "   that tells TensorFlow to link those nodes on the computational graph,\n",
    "   so we're asking it to pull the values from X and Y and add the result.\n",
    "   \"\"\"\n",
    "addition = tf.add(X, Y, name = \"addition\")\n",
    "\n",
    "# Create the session\n",
    "\"\"\"To execute operations in the graph, we have to create a session. \n",
    "   We need to pass on the operation we want to run, in this case addition.\n",
    "   \"\"\"\n",
    "\n",
    "\"\"\"InteractiveSession() for ipython notebooks where code flows through multiple cells.\n",
    "   Could also do session = tf.Session(), though there may be some extra housekeeping.\"\"\"\n",
    "\n",
    "with tf.Session() as session:\n",
    "    \n",
    "    \"\"\"When the addition operation runs,\n",
    "    it's going to see that it needs to grab the values of the X and Y nodes,\n",
    "    so we also need to feed in values for X and Y.\n",
    "    We can do that by supplying a parameter called 'feed dict'.\"\"\"\n",
    "    result = session.run(addition, feed_dict = {X: [1, 2, 10], Y : [4, 2, 10]})\n",
    "    \n",
    "    print(result)\n",
    "    # [ 5.  4. 20.]"
   ]
  },
  {
   "cell_type": "code",
   "execution_count": null,
   "metadata": {},
   "outputs": [],
   "source": []
  }
 ],
 "metadata": {
  "kernelspec": {
   "display_name": "Python 3",
   "language": "python",
   "name": "python3"
  },
  "language_info": {
   "codemirror_mode": {
    "name": "ipython",
    "version": 3
   },
   "file_extension": ".py",
   "mimetype": "text/x-python",
   "name": "python",
   "nbconvert_exporter": "python",
   "pygments_lexer": "ipython3",
   "version": "3.6.4"
  },
  "varInspector": {
   "cols": {
    "lenName": 16,
    "lenType": 16,
    "lenVar": 40
   },
   "kernels_config": {
    "python": {
     "delete_cmd_postfix": "",
     "delete_cmd_prefix": "del ",
     "library": "var_list.py",
     "varRefreshCmd": "print(var_dic_list())"
    },
    "r": {
     "delete_cmd_postfix": ") ",
     "delete_cmd_prefix": "rm(",
     "library": "var_list.r",
     "varRefreshCmd": "cat(var_dic_list()) "
    }
   },
   "types_to_exclude": [
    "module",
    "function",
    "builtin_function_or_method",
    "instance",
    "_Feature"
   ],
   "window_display": false
  }
 },
 "nbformat": 4,
 "nbformat_minor": 2
}
