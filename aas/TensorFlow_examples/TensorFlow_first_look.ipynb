{
 "cells": [
  {
   "cell_type": "markdown",
   "metadata": {},
   "source": [
    "`pip install tensorflow`\n",
    "\n",
    " - validate\n",
    "https://www.tensorflow.org/install/install_mac#ValidateYourInstallation\n",
    "\n",
    " - CPU warning? https://github.com/lakshayg/tensorflow-build"
   ]
  },
  {
   "cell_type": "markdown",
   "metadata": {},
   "source": [
    "Following along with MachineLearning @ Cal\n",
    "\n",
    " - notebook https://github.com/mlberkeley/IntroToTensorFlow/blob/master/Basic_Models-Student.ipynb\n",
    "\n",
    " - video https://www.youtube.com/watch?v=etNdsIfcMEQ"
   ]
  },
  {
   "cell_type": "markdown",
   "metadata": {},
   "source": [
    ">A known warning appears.\n",
    "It is ignorable: https://github.com/h5py/h5py/issues/995"
   ]
  },
  {
   "cell_type": "code",
   "execution_count": 1,
   "metadata": {
    "ExecuteTime": {
     "end_time": "2018-05-21T21:19:24.964935Z",
     "start_time": "2018-05-21T21:19:24.828032Z"
    },
    "code_folding": [
     0
    ]
   },
   "outputs": [],
   "source": [
    "# suppress warning\n",
    "import warnings\n",
    "with warnings.catch_warnings():\n",
    "    warnings.filterwarnings(\"ignore\",category=FutureWarning)\n",
    "    import h5py"
   ]
  },
  {
   "cell_type": "code",
   "execution_count": 2,
   "metadata": {
    "ExecuteTime": {
     "end_time": "2018-05-21T21:19:27.545915Z",
     "start_time": "2018-05-21T21:19:25.525809Z"
    }
   },
   "outputs": [],
   "source": [
    "import tensorflow as tf"
   ]
  },
  {
   "cell_type": "markdown",
   "metadata": {},
   "source": [
    "## Feed Forward Network on MNIST\n",
    "\n",
    "Here we build a simple fully-connected network for MNIST. The network will have 2 hidden layers: 784 input neurons (28x28 shaped mnist), 2x layers with 256 hidden neurons , and 10 output neurons ( 1 for each digit)\n",
    "\n",
    "\n",
    "Tensorflow provides a convenient interface for MNIST data. This makes it really easy to test your code on a dataset that is commonly used. The code below shows you how to read MNIST images and store the labels as one-hot vectors"
   ]
  },
  {
   "cell_type": "markdown",
   "metadata": {},
   "source": [
    "#### Q: What is a Feed Forward Network? How is it different from other networks?\n",
    "https://en.wikipedia.org/wiki/Feedforward_neural_network\n",
    "https://en.wikipedia.org/wiki/Artificial_neural_network\n",
    "\n",
    "> The first and simplest type of ANN. Information only moves forward through nodes (input, hidden, output)\n",
    "\n",
    "\n",
    "#### Q: What makes a layer hidden? \n",
    "https://stats.stackexchange.com/a/63163\n",
    "\n",
    "> The hidden layers' job is to transform the inputs into something that the output layer can use\n",
    "\n",
    "#### Q: What is a neuron / hidden neuron?\n",
    "https://en.wikipedia.org/wiki/Perceptron <- First Primitive neuron <br>\n",
    "https://en.wikipedia.org/wiki/Artificial_neuron\n",
    "https://en.wikipedia.org/wiki/Sigmoid_function <- special case of logistic function\n",
    "\n",
    "> Elementary units in a NN, recieve one or more inputs. Sums its inputs to create an output, inputs are weghted. Outputs passed to activation function or transfer function. The transfer functions have a sigmoid shape. \n",
    "\n",
    "\n",
    "#### Q: What is a one-hot vector?\n",
    "https://en.wikipedia.org/wiki/One-hot\n",
    "\n",
    "> One-hot is a group of bits among which the legal combinations of values are only those with a single high (1) bit and all the others low. A similar implementation in which all bits are '1' except one '0' is sometimes called one-cold."
   ]
  },
  {
   "cell_type": "code",
   "execution_count": 3,
   "metadata": {
    "ExecuteTime": {
     "end_time": "2018-05-21T21:19:40.662149Z",
     "start_time": "2018-05-21T21:19:30.696040Z"
    }
   },
   "outputs": [
    {
     "name": "stdout",
     "output_type": "stream",
     "text": [
      "WARNING:tensorflow:From <ipython-input-3-d1d10c1b5b98>:2: read_data_sets (from tensorflow.contrib.learn.python.learn.datasets.mnist) is deprecated and will be removed in a future version.\n",
      "Instructions for updating:\n",
      "Please use alternatives such as official/mnist/dataset.py from tensorflow/models.\n",
      "WARNING:tensorflow:From /Users/andrew/anaconda3/lib/python3.6/site-packages/tensorflow/contrib/learn/python/learn/datasets/mnist.py:260: maybe_download (from tensorflow.contrib.learn.python.learn.datasets.base) is deprecated and will be removed in a future version.\n",
      "Instructions for updating:\n",
      "Please write your own downloading logic.\n",
      "WARNING:tensorflow:From /Users/andrew/anaconda3/lib/python3.6/site-packages/tensorflow/contrib/learn/python/learn/datasets/mnist.py:262: extract_images (from tensorflow.contrib.learn.python.learn.datasets.mnist) is deprecated and will be removed in a future version.\n",
      "Instructions for updating:\n",
      "Please use tf.data to implement this functionality.\n",
      "Extracting ../data/mnist/train-images-idx3-ubyte.gz\n",
      "WARNING:tensorflow:From /Users/andrew/anaconda3/lib/python3.6/site-packages/tensorflow/contrib/learn/python/learn/datasets/mnist.py:267: extract_labels (from tensorflow.contrib.learn.python.learn.datasets.mnist) is deprecated and will be removed in a future version.\n",
      "Instructions for updating:\n",
      "Please use tf.data to implement this functionality.\n",
      "Extracting ../data/mnist/train-labels-idx1-ubyte.gz\n",
      "WARNING:tensorflow:From /Users/andrew/anaconda3/lib/python3.6/site-packages/tensorflow/contrib/learn/python/learn/datasets/mnist.py:110: dense_to_one_hot (from tensorflow.contrib.learn.python.learn.datasets.mnist) is deprecated and will be removed in a future version.\n",
      "Instructions for updating:\n",
      "Please use tf.one_hot on tensors.\n",
      "Extracting ../data/mnist/t10k-images-idx3-ubyte.gz\n",
      "Extracting ../data/mnist/t10k-labels-idx1-ubyte.gz\n",
      "WARNING:tensorflow:From /Users/andrew/anaconda3/lib/python3.6/site-packages/tensorflow/contrib/learn/python/learn/datasets/mnist.py:290: DataSet.__init__ (from tensorflow.contrib.learn.python.learn.datasets.mnist) is deprecated and will be removed in a future version.\n",
      "Instructions for updating:\n",
      "Please use alternatives such as official/mnist/dataset.py from tensorflow/models.\n"
     ]
    }
   ],
   "source": [
    "from tensorflow.examples.tutorials.mnist import input_data\n",
    "MNIST = input_data.read_data_sets('../data/mnist', one_hot = True)"
   ]
  },
  {
   "cell_type": "markdown",
   "metadata": {},
   "source": [
    "Create placeholders for X and Y.\n",
    "\n",
    " - Note that each MNIST image is 28x28. Additionally, the data will already be flattened into a 784 dimensional vector when we input it into the model\n",
    " - Each label is 10d - a vector element for every possible digit.\n",
    " - Make sure the shapes of the placeholders are defined so a variable number of images and labels can be fed in each batch. This is what index 0 manages. Just put None instead of a dimension in this piece of the net"
   ]
  },
  {
   "cell_type": "code",
   "execution_count": 4,
   "metadata": {
    "ExecuteTime": {
     "end_time": "2018-05-21T21:19:43.126734Z",
     "start_time": "2018-05-21T21:19:43.114524Z"
    }
   },
   "outputs": [],
   "source": [
    "with tf.name_scope('input'):\n",
    "\n",
    "    # X is where the images go, taken from a 1-D vector len = 784\n",
    "    # shape has dim1 = None b/c we want variable batch size\n",
    "    X = tf.placeholder(tf.float32, shape = [None, 784])\n",
    "    \n",
    "    # y has dim2 = 10 b/c of the ten digitis (0 -> 9)\n",
    "    # for 3 it will be zero everywhere and 1 in the threes position\n",
    "    y = tf.placeholder(tf.float32, shape = [None, 10])"
   ]
  },
  {
   "cell_type": "markdown",
   "metadata": {},
   "source": [
    "\n",
    "Create a weights variable and a biases variable of the appropriate shapes.\n",
    "\n",
    " - Initialize the weights variable from a truncated normal distribution using tf.truncated_normal(...) - this is better than setting weights to zero because it removes symmetry from backpropagation. Here's a more in depth discussion\n",
    " - The bias variable should also be set to a small value, such as 0.1. Do this by using tf.constant(...) and inputting the value and the appropriate shape\n",
    " - When you multiply the feature vector X and the weights variable, the result should be the same shape as the bias tensor so they can be added\n",
    " - Make sure to use tf.matmul() when multiplying matrices. Using * will multiply element wise\n",
    " \n",
    "Declare each layer in the network and the final logits by:\n",
    " - Creating variables for weights and biases of the appropriate sizes\n",
    " - Applying ReLu on $X \\cdot W + b$\n",
    "Network Configurations:\n",
    " - First layer has 784 input features and 256 output features\n",
    " - Second layer has 256 input features and 256 output features\n",
    " - Third layer has 256 input features and 10 output features\n"
   ]
  },
  {
   "cell_type": "markdown",
   "metadata": {},
   "source": [
    "#### Note: What does ReLu do?\n",
    "\n",
    "> Something about nonlinearity"
   ]
  },
  {
   "cell_type": "code",
   "execution_count": 5,
   "metadata": {
    "ExecuteTime": {
     "end_time": "2018-05-21T21:19:47.667873Z",
     "start_time": "2018-05-21T21:19:47.581160Z"
    }
   },
   "outputs": [],
   "source": [
    "with tf.name_scope('network'):\n",
    "    # First Layer (Hidden Layer)\n",
    "    W1 = tf.Variable(tf.truncated_normal([784, 256], stddev = 0.1)) # weights\n",
    "    b1 = tf.Variable(tf.constant(0.1, shape = [1, 256])) # bias\n",
    "    layer1 = tf.nn.relu(tf.matmul(X, W1) + b1) # layer\n",
    "    # + operator is broadcast addition\n",
    "    \n",
    "    # Second Layer (Hidden Layer)\n",
    "    W2 = tf.Variable(tf.truncated_normal([256, 256], stddev = 0.1))\n",
    "    b2 = tf.Variable(tf.constant(0.1, shape = [1, 256])) \n",
    "    layer2 = tf.nn.relu(tf.matmul(layer1, W2) + b2) \n",
    "    \n",
    "    # Third Layer (Output Layer)\n",
    "    W_out = tf.Variable(tf.truncated_normal([256, 10], stddev = 0.1))\n",
    "    b_out = tf.Variable(tf.constant(0.1, shape = [1, 10])) \n",
    "    logits = tf.matmul(layer2, W_out) + b_out"
   ]
  },
  {
   "cell_type": "markdown",
   "metadata": {},
   "source": [
    "#### Note: Didnt use relu on the third layer because we will be adding nonlinearlity in the next cell and dont want to do it twice"
   ]
  },
  {
   "cell_type": "markdown",
   "metadata": {},
   "source": [
    "Compute the entropy using tf.nn.softmax_cross_entropy_with_logits. This will apply the softmax function to the logits before calculating the entropy. The loss as the mean over the entropy."
   ]
  },
  {
   "cell_type": "code",
   "execution_count": 6,
   "metadata": {
    "ExecuteTime": {
     "end_time": "2018-05-21T21:19:51.606704Z",
     "start_time": "2018-05-21T21:19:51.518603Z"
    }
   },
   "outputs": [
    {
     "name": "stdout",
     "output_type": "stream",
     "text": [
      "WARNING:tensorflow:From <ipython-input-6-b45927f43233>:2: softmax_cross_entropy_with_logits (from tensorflow.python.ops.nn_ops) is deprecated and will be removed in a future version.\n",
      "Instructions for updating:\n",
      "\n",
      "Future major versions of TensorFlow will allow gradients to flow\n",
      "into the labels input on backprop by default.\n",
      "\n",
      "See @{tf.nn.softmax_cross_entropy_with_logits_v2}.\n",
      "\n"
     ]
    }
   ],
   "source": [
    "with tf.name_scope('cross_entropy_loss'):\n",
    "    entropy = tf.nn.softmax_cross_entropy_with_logits(logits = logits, labels = y)\n",
    "    loss = tf.reduce_mean(entropy)"
   ]
  },
  {
   "cell_type": "markdown",
   "metadata": {},
   "source": [
    "Declare the optimizer as the GradientDescentOptimizer with an appropriate learning rate. Set it to minimize the loss.\n",
    " - Note: When running the optimizer, if the loss is nan or increasing with each epoch, try decreasing the learning rate"
   ]
  },
  {
   "cell_type": "code",
   "execution_count": 7,
   "metadata": {
    "ExecuteTime": {
     "end_time": "2018-05-21T21:20:07.263509Z",
     "start_time": "2018-05-21T21:20:07.137684Z"
    }
   },
   "outputs": [],
   "source": [
    "optimizer = tf.train.GradientDescentOptimizer(learning_rate = 0.01).minimize(loss)"
   ]
  },
  {
   "cell_type": "markdown",
   "metadata": {},
   "source": [
    "Compute the accuracy by:\n",
    " - using tf.equal on the predicted label and the true label\n",
    " - casting that to a float and computing the mean over all examples"
   ]
  },
  {
   "cell_type": "code",
   "execution_count": 8,
   "metadata": {
    "ExecuteTime": {
     "end_time": "2018-05-21T21:20:10.036367Z",
     "start_time": "2018-05-21T21:20:10.014085Z"
    }
   },
   "outputs": [],
   "source": [
    "Y_pred = tf.nn.softmax(logits)\n",
    "y_pred_cls = tf.argmax(Y_pred, 1)\n",
    "y_cls = tf.argmax(y, 1)\n",
    "accuracy = tf.reduce_mean(tf.cast(tf.equal(y_pred_cls, y_cls), tf.float32))"
   ]
  },
  {
   "cell_type": "markdown",
   "metadata": {},
   "source": [
    "Create summaries for Tensorboard"
   ]
  },
  {
   "cell_type": "code",
   "execution_count": 9,
   "metadata": {
    "ExecuteTime": {
     "end_time": "2018-05-21T21:20:13.236054Z",
     "start_time": "2018-05-21T21:20:13.187487Z"
    }
   },
   "outputs": [
    {
     "data": {
      "text/plain": [
       "<tf.Tensor 'biasout:0' shape=() dtype=string>"
      ]
     },
     "execution_count": 9,
     "metadata": {},
     "output_type": "execute_result"
    }
   ],
   "source": [
    "tf.summary.scalar('loss', loss)\n",
    "tf.summary.scalar('accuracy', accuracy)\n",
    "tf.summary.histogram('Weight1', W1)\n",
    "tf.summary.histogram('bias1', b1)\n",
    "\n",
    "tf.summary.histogram('Weight2', W2)\n",
    "tf.summary.histogram('bias2', b2)\n",
    "\n",
    "tf.summary.histogram('Weightout', W_out)\n",
    "tf.summary.histogram('biasout', b_out)"
   ]
  },
  {
   "cell_type": "markdown",
   "metadata": {},
   "source": [
    "\n",
    "Merge all the summaries together so they can called easily"
   ]
  },
  {
   "cell_type": "code",
   "execution_count": 10,
   "metadata": {
    "ExecuteTime": {
     "end_time": "2018-05-21T21:20:15.012545Z",
     "start_time": "2018-05-21T21:20:15.004495Z"
    }
   },
   "outputs": [],
   "source": [
    "summary_op = tf.summary.merge_all()"
   ]
  },
  {
   "cell_type": "markdown",
   "metadata": {},
   "source": [
    "Start an Interactive Session and initialize all the global variables.\n",
    " - For each epoch, run the optimizer on each X,y pair and sum up the loss over all data points\n",
    " - Print the loss after each epoch\n",
    "We set the batch size to 128 and epochs to 25. Feel free to play around with these variables. Additionally, every 5 epochs we calculate validation accuracy"
   ]
  },
  {
   "cell_type": "markdown",
   "metadata": {},
   "source": [
    "While running this cell, run tensorboard in terminal and view in another browser tab (port 6006)\n",
    "\n",
    "`tensorboard --logdir=logs/train3`"
   ]
  },
  {
   "cell_type": "code",
   "execution_count": 11,
   "metadata": {
    "ExecuteTime": {
     "end_time": "2018-05-21T21:24:07.643666Z",
     "start_time": "2018-05-21T21:20:22.650134Z"
    }
   },
   "outputs": [
    {
     "name": "stdout",
     "output_type": "stream",
     "text": [
      "Epoch 0: 395.8924269974232\n",
      "Epoch 1: 183.04771149158478\n",
      "Epoch 2: 150.46270795166492\n",
      "Epoch 3: 133.85742942988873\n",
      "Epoch 4: 123.47373594343662\n",
      "Epoch 5: 114.7441264167428\n",
      "Epoch 6: 107.80778257548809\n",
      "Epoch 7: 102.40609376132488\n",
      "Epoch 8: 97.07909911870956\n",
      "Epoch 9: 92.80356278270483\n",
      "Epoch 10: 88.9181501492858\n",
      "Epoch 11: 84.59605491161346\n",
      "Epoch 12: 81.6367072686553\n",
      "Epoch 13: 78.58499363064766\n",
      "Epoch 14: 75.24895284324884\n",
      "Epoch 15: 73.02678813785315\n",
      "Epoch 16: 70.46018522232771\n",
      "Epoch 17: 67.78374381363392\n",
      "Epoch 18: 66.3462533429265\n",
      "Epoch 19: 63.916351579129696\n",
      "Epoch 20: 62.017591655254364\n",
      "Epoch 21: 60.29782583191991\n",
      "Epoch 22: 58.39210659265518\n",
      "Epoch 23: 56.858104076236486\n",
      "Epoch 24: 55.28392601758242\n",
      "Epoch 25: 53.64414206892252\n",
      "Epoch 26: 52.65501984208822\n",
      "Epoch 27: 51.16809895262122\n",
      "Epoch 28: 49.9548333697021\n",
      "Epoch 29: 48.54450298845768\n"
     ]
    }
   ],
   "source": [
    "batch_size = 128\n",
    "epochs = 30\n",
    "sess = tf.InteractiveSession()\n",
    "writer = tf.summary.FileWriter('logs/train3', graph = tf.get_default_graph())\n",
    "sess.run(tf.global_variables_initializer())\n",
    "n_nbatches = (int) (MNIST.train.num_examples / batch_size)\n",
    "\n",
    "for i in range(epochs):\n",
    "    total_loss = 0\n",
    "    \n",
    "    for batch in range(n_nbatches):\n",
    "        X_batch, y_batch = MNIST.train.next_batch(batch_size)\n",
    "        o, l, summary = sess.run([optimizer, loss, summary_op], feed_dict = {X: X_batch, y: y_batch})\n",
    "        writer.add_summary(summary, i*n_nbatches + batch)\n",
    "        total_loss += l\n",
    "    print(\"Epoch {0}: {1}\".format(i, total_loss))"
   ]
  },
  {
   "cell_type": "code",
   "execution_count": 12,
   "metadata": {
    "ExecuteTime": {
     "end_time": "2018-05-21T21:24:07.898434Z",
     "start_time": "2018-05-21T21:24:07.754461Z"
    }
   },
   "outputs": [
    {
     "data": {
      "text/plain": [
       "0.9621"
      ]
     },
     "execution_count": 12,
     "metadata": {},
     "output_type": "execute_result"
    }
   ],
   "source": [
    "X_batch, y_batch = MNIST.test.next_batch(MNIST.test.num_examples)\n",
    "final_accuracy = sess.run(accuracy, feed_dict = {X: X_batch, y: y_batch})\n",
    "final_accuracy"
   ]
  },
  {
   "cell_type": "code",
   "execution_count": null,
   "metadata": {},
   "outputs": [],
   "source": []
  }
 ],
 "metadata": {
  "kernelspec": {
   "display_name": "Python 3",
   "language": "python",
   "name": "python3"
  },
  "language_info": {
   "codemirror_mode": {
    "name": "ipython",
    "version": 3
   },
   "file_extension": ".py",
   "mimetype": "text/x-python",
   "name": "python",
   "nbconvert_exporter": "python",
   "pygments_lexer": "ipython3",
   "version": "3.6.4"
  },
  "varInspector": {
   "cols": {
    "lenName": 16,
    "lenType": 16,
    "lenVar": 40
   },
   "kernels_config": {
    "python": {
     "delete_cmd_postfix": "",
     "delete_cmd_prefix": "del ",
     "library": "var_list.py",
     "varRefreshCmd": "print(var_dic_list())"
    },
    "r": {
     "delete_cmd_postfix": ") ",
     "delete_cmd_prefix": "rm(",
     "library": "var_list.r",
     "varRefreshCmd": "cat(var_dic_list()) "
    }
   },
   "types_to_exclude": [
    "module",
    "function",
    "builtin_function_or_method",
    "instance",
    "_Feature"
   ],
   "window_display": false
  }
 },
 "nbformat": 4,
 "nbformat_minor": 2
}
