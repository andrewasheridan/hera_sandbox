{
 "cells": [
  {
   "cell_type": "markdown",
   "metadata": {},
   "source": [
    "background reading:\n",
    "https://www.toptal.com/machine-learning/machine-learning-theory-an-introductory-primer\n",
    "\n",
    "notebook lifted from:\n",
    "https://github.com/aymericdamien/TensorFlow-Examples/blob/master/examples/2_BasicModels/linear_regression.py#L4"
   ]
  },
  {
   "cell_type": "code",
   "execution_count": 4,
   "metadata": {
    "ExecuteTime": {
     "end_time": "2018-05-23T19:44:20.997218Z",
     "start_time": "2018-05-23T19:44:10.313460Z"
    }
   },
   "outputs": [
    {
     "name": "stdout",
     "output_type": "stream",
     "text": [
      "Epoch: 0050 cost= 0.237203971 W= 0.4733581 b= -0.8082795\n",
      "Epoch: 0100 cost= 0.218694940 W= 0.46004987 b= -0.7125413\n",
      "Epoch: 0150 cost= 0.202323034 W= 0.44753307 b= -0.6224963\n",
      "Epoch: 0200 cost= 0.187841669 W= 0.4357607 b= -0.5378067\n",
      "Epoch: 0250 cost= 0.175032556 W= 0.42468852 b= -0.45815396\n",
      "Epoch: 0300 cost= 0.163702741 W= 0.4142748 b= -0.38323835\n",
      "Epoch: 0350 cost= 0.153681412 W= 0.40448043 b= -0.31277856\n",
      "Epoch: 0400 cost= 0.144817412 W= 0.3952685 b= -0.2465087\n",
      "Epoch: 0450 cost= 0.136977211 W= 0.3866045 b= -0.18418072\n",
      "Epoch: 0500 cost= 0.130042598 W= 0.37845585 b= -0.12555954\n",
      "Epoch: 0550 cost= 0.123908982 W= 0.37079182 b= -0.07042492\n",
      "Epoch: 0600 cost= 0.118483938 W= 0.36358362 b= -0.018569361\n",
      "Epoch: 0650 cost= 0.113685623 W= 0.35680407 b= 0.03020208\n",
      "Epoch: 0700 cost= 0.109441608 W= 0.35042772 b= 0.07607283\n",
      "Epoch: 0750 cost= 0.105687983 W= 0.34443063 b= 0.119215466\n",
      "Epoch: 0800 cost= 0.102368049 W= 0.3387902 b= 0.15979223\n",
      "Epoch: 0850 cost= 0.099431738 W= 0.3334853 b= 0.19795571\n",
      "Epoch: 0900 cost= 0.096834771 W= 0.32849577 b= 0.2338495\n",
      "Epoch: 0950 cost= 0.094537951 W= 0.32380313 b= 0.26760834\n",
      "Epoch: 1000 cost= 0.092506573 W= 0.31938955 b= 0.29935968\n",
      "Optimization Finished!\n",
      "Training cost= 0.09250657 W= 0.31938955 b= 0.29935968 \n",
      "\n"
     ]
    },
    {
     "data": {
      "image/png": "[encoded data removed]",
      "text/plain": [
       "<matplotlib.figure.Figure at 0x181fa154a8>"
      ]
     },
     "metadata": {},
     "output_type": "display_data"
    },
    {
     "name": "stdout",
     "output_type": "stream",
     "text": [
      "Testing... (Mean square loss Comparison)\n",
      "Testing cost= 0.0825447\n",
      "Absolute mean square loss difference: 0.009961873\n"
     ]
    },
    {
     "data": {
      "image/png": "[encoded data removed]",
      "text/plain": [
       "<matplotlib.figure.Figure at 0x181fad3be0>"
      ]
     },
     "metadata": {},
     "output_type": "display_data"
    }
   ],
   "source": [
    "import tensorflow as tf\n",
    "import numpy\n",
    "import matplotlib.pyplot as plt\n",
    "rng = numpy.random\n",
    "\n",
    "# Parameters\n",
    "learning_rate = 0.01\n",
    "training_epochs = 1000\n",
    "display_step = 50\n",
    "\n",
    "# Training Data\n",
    "train_X = numpy.asarray([3.3,4.4,5.5,6.71,6.93,4.168,9.779,6.182,7.59,2.167,\n",
    "                         7.042,10.791,5.313,7.997,5.654,9.27,3.1])\n",
    "\n",
    "train_Y = numpy.asarray([1.7,2.76,2.09,3.19,1.694,1.573,3.366,2.596,2.53,1.221,\n",
    "                         2.827,3.465,1.65,2.904,2.42,2.94,1.3])\n",
    "\n",
    "n_samples = train_X.shape[0]\n",
    "\n",
    "# tf Graph Input\n",
    "X = tf.placeholder(\"float\")\n",
    "Y = tf.placeholder(\"float\")\n",
    "\n",
    "# Set model weights\n",
    "W = tf.Variable(rng.randn(), name=\"weight\")\n",
    "b = tf.Variable(rng.randn(), name=\"bias\")\n",
    "\n",
    "# Construct a linear model\n",
    "pred = tf.add(tf.multiply(X, W), b)\n",
    "\n",
    "# Mean squared error\n",
    "cost = tf.reduce_sum(tf.pow(pred-Y, 2))/(2*n_samples)\n",
    "\n",
    "# Gradient descent\n",
    "#  Note, minimize() knows to modify W and b because Variable objects are trainable=True by default\n",
    "optimizer = tf.train.GradientDescentOptimizer(learning_rate).minimize(cost)\n",
    "\n",
    "# Initialize the variables (i.e. assign their default value)\n",
    "init = tf.global_variables_initializer()\n",
    "\n",
    "# Start training\n",
    "sess = tf.Session()\n",
    "\n",
    "# Run the initializer\n",
    "sess.run(init)\n",
    "\n",
    "# Fit all training data\n",
    "for epoch in range(training_epochs):\n",
    "    \n",
    "    for (x, y) in zip(train_X, train_Y):\n",
    "        sess.run(optimizer, feed_dict={X: x, Y: y})\n",
    "\n",
    "    # Display logs per epoch step\n",
    "    if (epoch+1) % display_step == 0:\n",
    "        c = sess.run(cost, feed_dict={X: train_X, Y:train_Y})\n",
    "        print(\"Epoch:\", '%04d' % (epoch+1), \"cost=\", \"{:.9f}\".format(c), \\\n",
    "            \"W=\", sess.run(W), \"b=\", sess.run(b))\n",
    "\n",
    "print(\"Optimization Finished!\")\n",
    "training_cost = sess.run(cost, feed_dict={X: train_X, Y: train_Y})\n",
    "print(\"Training cost=\", training_cost, \"W=\", sess.run(W), \"b=\", sess.run(b), '\\n')\n",
    "\n",
    "# Graphic display\n",
    "plt.plot(train_X, train_Y, 'ro', label='Original data')\n",
    "plt.plot(train_X, sess.run(W) * train_X + sess.run(b), label='Fitted line')\n",
    "plt.legend()\n",
    "plt.show()\n",
    "\n",
    "# Testing example, as requested (Issue #2)\n",
    "test_X = numpy.asarray([6.83, 4.668, 8.9, 7.91, 5.7, 8.7, 3.1, 2.1])\n",
    "test_Y = numpy.asarray([1.84, 2.273, 3.2, 2.831, 2.92, 3.24, 1.35, 1.03])\n",
    "\n",
    "print(\"Testing... (Mean square loss Comparison)\")\n",
    "testing_cost = sess.run(\n",
    "    tf.reduce_sum(tf.pow(pred - Y, 2)) / (2 * test_X.shape[0]),\n",
    "    feed_dict={X: test_X, Y: test_Y})  # same function as cost above\n",
    "print(\"Testing cost=\", testing_cost)\n",
    "print(\"Absolute mean square loss difference:\", abs(\n",
    "    training_cost - testing_cost))\n",
    "\n",
    "plt.plot(test_X, test_Y, 'bo', label='Testing data')\n",
    "plt.plot(train_X, sess.run(W) * train_X + sess.run(b), label='Fitted line')\n",
    "plt.legend()\n",
    "plt.show()"
   ]
  },
  {
   "cell_type": "markdown",
   "metadata": {},
   "source": [
    "> I dont reall understand this."
   ]
  },
  {
   "cell_type": "markdown",
   "metadata": {},
   "source": [
    "review TF at lynda.com\n",
    "\n",
    "https://www.lynda.com/Google-TensorFlow-tutorials/"
   ]
  },
  {
   "cell_type": "code",
   "execution_count": null,
   "metadata": {},
   "outputs": [],
   "source": []
  }
 ],
 "metadata": {
  "kernelspec": {
   "display_name": "Python 3",
   "language": "python",
   "name": "python3"
  },
  "language_info": {
   "codemirror_mode": {
    "name": "ipython",
    "version": 3
   },
   "file_extension": ".py",
   "mimetype": "text/x-python",
   "name": "python",
   "nbconvert_exporter": "python",
   "pygments_lexer": "ipython3",
   "version": "3.6.4"
  },
  "varInspector": {
   "cols": {
    "lenName": 16,
    "lenType": 16,
    "lenVar": 40
   },
   "kernels_config": {
    "python": {
     "delete_cmd_postfix": "",
     "delete_cmd_prefix": "del ",
     "library": "var_list.py",
     "varRefreshCmd": "print(var_dic_list())"
    },
    "r": {
     "delete_cmd_postfix": ") ",
     "delete_cmd_prefix": "rm(",
     "library": "var_list.r",
     "varRefreshCmd": "cat(var_dic_list()) "
    }
   },
   "types_to_exclude": [
    "module",
    "function",
    "builtin_function_or_method",
    "instance",
    "_Feature"
   ],
   "window_display": false
  }
 },
 "nbformat": 4,
 "nbformat_minor": 2
}
