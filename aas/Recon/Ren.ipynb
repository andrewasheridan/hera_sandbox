{
 "cells": [
  {
   "cell_type": "code",
   "execution_count": 1,
   "metadata": {},
   "outputs": [],
   "source": [
    "# hera stuff\n",
    "import hera_cal as hc\n",
    "import pyuvdata\n",
    "import aipy\n",
    "import uvtools\n",
    "\n",
    "# general\n",
    "import numpy as np\n",
    "import random\n",
    "import matplotlib.pyplot as plt\n",
    "import sys, io # flushing notebook output\n",
    "\n",
    "# NN\n",
    "import tensorflow as tf\n",
    "from sklearn.model_selection import train_test_split"
   ]
  },
  {
   "cell_type": "markdown",
   "metadata": {},
   "source": [
    "***"
   ]
  },
  {
   "cell_type": "code",
   "execution_count": 2,
   "metadata": {},
   "outputs": [],
   "source": [
    "# load in data for a JD. \n",
    "data_directory = '../zen_data/'\n",
    "miriad_path = data_directory + 'zen.2458098.58037.xx.HH.uv'\n",
    "\n",
    "uvd = pyuvdata.UVData()\n",
    "uvd.read_miriad(miriad_path)\n",
    "\n",
    "# gains for same data \n",
    "calfits_path = data_directory + 'zen.2458098.58037.xx.HH.uv.abs.calfits'\n",
    "gains, flags = hc.io.load_cal(calfits_path)\n",
    "\n",
    "# get the redundancies for that data\n",
    "aa = hc.utils.get_aa_from_uv(uvd)\n",
    "info = hc.omni.aa_to_info(aa)\n",
    "red_bls = np.array(info.get_reds())"
   ]
  },
  {
   "cell_type": "markdown",
   "metadata": {},
   "source": [
    "***"
   ]
  },
  {
   "cell_type": "code",
   "execution_count": null,
   "metadata": {},
   "outputs": [],
   "source": [
    "# sometimes the antennas are bad, make sure they are good\n",
    "def ants_good(bl, gain_keys):\n",
    "    \"\"\"Returns True if both antennas are in gains.keys\"\"\"\n",
    "    ants = [a[0] for a in gain_keys] # gain_keys is a list of tuples like (ant, pol)\n",
    "    if bl[0] in ants and bl[1] in ants:\n",
    "        return True\n",
    "    else:\n",
    "        return False\n",
    "    \n",
    "def gen_flatness_from_good_red_bls(good_red_bls):\n",
    "\n",
    "    num_keys = 0\n",
    "    while num_keys < 2:\n",
    "\n",
    "        data = {bl: uvd.get_data(bl) for bl in np.random.choice(good_red_bls) if ants_good(bl, gains.keys())}\n",
    "        num_keys = len(data.keys())\n",
    "        \n",
    "    rnd_keys = random.sample(data.keys(), 2)\n",
    "    \n",
    "    a, b = rnd_keys[0][0], rnd_keys[0][1]\n",
    "    c, d = rnd_keys[1][0], rnd_keys[1][1]\n",
    "    S = data[a, b]*data[c, d].conjugate() * gains[(a,'x')].conjugate() * gains[(b,'x')] * gains[(c,'x')] * gains[(d,'x')].conjugate()\n",
    " \n",
    "    return S\n",
    "\n",
    "def gen_mega_flatness(good_red_bls, num = 250):\n",
    "    mega_S = []\n",
    "    for _ in range(num):\n",
    "        mega_S.append(gen_flatness_from_good_red_bls(good_red_bls))\n",
    "    return np.concatenate(mega_S, axis = 0)\n",
    "\n",
    "def gen_plot(predicted_values, actual_values, output_scaler):\n",
    "    \"\"\"Create a prediction plot and save to byte string.\"\"\"\n",
    "    \n",
    "    prediction_unscaled = output_scaler.inverse_transform(predicted_values)\n",
    "    actual_unscaled = output_scaler.inverse_transform(actual_values)\n",
    "\n",
    "    sorting_idx = np.argsort(actual_unscaled.T[0])\n",
    "        \n",
    "    fig, ax = plt.subplots(figsize = (5, 3), dpi = 144)\n",
    "\n",
    "    ax.plot(prediction_unscaled.T[0][sorting_idx],\n",
    "            linestyle = 'none', marker = '.', markersize = 1,\n",
    "            color = 'darkblue')\n",
    "    \n",
    "    ax.plot(actual_unscaled.T[0][sorting_idx],\n",
    "            linestyle = 'none', marker = '.', markersize = 1, alpha = 0.50,\n",
    "            color = '#E50000')       \n",
    "    \n",
    "    ax.set_title('std: %.9f' %np.std(prediction_unscaled.T[0][sorting_idx] - actual_unscaled.T[0][sorting_idx]))\n",
    "    \n",
    "    buf = io.BytesIO()\n",
    "    fig.savefig(buf, format='png', dpi = 144)\n",
    "    plt.close(fig)\n",
    "    buf.seek(0)\n",
    "\n",
    "    return buf.getvalue()\n",
    "\n",
    "def get_acc(predicted_values, actual_values, output_scaler, val = 0.0005):\n",
    "    prediction_unscaled = output_scaler.inverse_transform(predicted_values)\n",
    "    actual_unscaled = output_scaler.inverse_transform(actual_values)\n",
    "    perc = abs(actual_unscaled.T[0] - prediction_unscaled.T[0])\n",
    "    acc = np.array(perc < val, dtype = int)\n",
    "    return np.mean(acc)\n",
    "\n",
    "def clean_phase(num_entries = 15000, tau_low = -0.04, tau_high = 0.04):\n",
    "\n",
    "    # random.uniform is half open [low, high) not sure if that matters\n",
    "    tau = np.random.uniform(low = tau_low, high = tau_high, size = num_entries) \n",
    "    nu = np.arange(1024)\n",
    "    \n",
    "    clean_phase_data = np.empty((num_entries, 1024))\n",
    "    for i in range(num_entries):\n",
    "        clean_phase_data[i] = np.angle(np.exp(2*np.pi*1j * (tau[i]*nu + np.random.uniform())))\n",
    "    \n",
    "    return clean_phase_data, tau.reshape(-1, 1)"
   ]
  },
  {
   "cell_type": "markdown",
   "metadata": {},
   "source": [
    "***"
   ]
  },
  {
   "cell_type": "code",
   "execution_count": null,
   "metadata": {},
   "outputs": [],
   "source": []
  }
 ],
 "metadata": {
  "kernelspec": {
   "display_name": "Python 2",
   "language": "python",
   "name": "python2"
  },
  "language_info": {
   "codemirror_mode": {
    "name": "ipython",
    "version": 2
   },
   "file_extension": ".py",
   "mimetype": "text/x-python",
   "name": "python",
   "nbconvert_exporter": "python",
   "pygments_lexer": "ipython2",
   "version": "2.7.15"
  }
 },
 "nbformat": 4,
 "nbformat_minor": 2
}
