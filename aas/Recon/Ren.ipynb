{
 "cells": [
  {
   "cell_type": "code",
   "execution_count": 1,
   "metadata": {},
   "outputs": [],
   "source": [
    "# hera stuff\n",
    "import hera_cal as hc\n",
    "import pyuvdata\n",
    "import aipy\n",
    "import uvtools\n",
    "\n",
    "# general\n",
    "import numpy as np\n",
    "import random\n",
    "import matplotlib.pyplot as plt\n",
    "import sys, io # flushing notebook output\n",
    "\n",
    "# NN\n",
    "import tensorflow as tf\n",
    "from sklearn.model_selection import train_test_split"
   ]
  },
  {
   "cell_type": "code",
   "execution_count": null,
   "metadata": {},
   "outputs": [],
   "source": [
    "# load in data for a JD. \n",
    "data_directory = '../zen_data/'\n",
    "miriad_path = data_directory + 'zen.2458098.58037.xx.HH.uv'\n",
    "\n",
    "uvd = pyuvdata.UVData()\n",
    "uvd.read_miriad(miriad_path)\n",
    "\n",
    "# gains for same data \n",
    "calfits_path = data_directory + 'zen.2458098.58037.xx.HH.uv.abs.calfits'\n",
    "gains, flags = hc.io.load_cal(calfits_path)\n",
    "\n",
    "# get the redundancies for that data\n",
    "aa = hc.utils.get_aa_from_uv(uvd)\n",
    "info = hc.omni.aa_to_info(aa)\n",
    "red_bls = np.array(info.get_reds())"
   ]
  },
  {
   "cell_type": "code",
   "execution_count": null,
   "metadata": {},
   "outputs": [],
   "source": []
  }
 ],
 "metadata": {
  "kernelspec": {
   "display_name": "Python 2",
   "language": "python",
   "name": "python2"
  },
  "language_info": {
   "codemirror_mode": {
    "name": "ipython",
    "version": 2
   },
   "file_extension": ".py",
   "mimetype": "text/x-python",
   "name": "python",
   "nbconvert_exporter": "python",
   "pygments_lexer": "ipython2",
   "version": "2.7.15"
  }
 },
 "nbformat": 4,
 "nbformat_minor": 2
}
