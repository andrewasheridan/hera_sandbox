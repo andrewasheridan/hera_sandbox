{
 "cells": [
  {
   "cell_type": "code",
   "execution_count": 1,
   "metadata": {
    "ExecuteTime": {
     "end_time": "2018-05-29T22:52:37.956283Z",
     "start_time": "2018-05-29T22:52:31.904318Z"
    }
   },
   "outputs": [
    {
     "name": "stderr",
     "output_type": "stream",
     "text": [
      "/Users/andrew/anaconda3/lib/python3.6/site-packages/h5py/__init__.py:36: FutureWarning: Conversion of the second argument of issubdtype from `float` to `np.floating` is deprecated. In future, it will be treated as `np.float64 == np.dtype(float).type`.\n",
      "  from ._conv import register_converters as _register_converters\n"
     ]
    },
    {
     "data": {
      "text/html": [
       "<style>.container { width:100% !important; }</style>"
      ],
      "text/plain": [
       "<IPython.core.display.HTML object>"
      ]
     },
     "metadata": {},
     "output_type": "display_data"
    }
   ],
   "source": [
    "import pandas as pd, tensorflow as tf,  matplotlib.pyplot as plt, sys\n",
    "from sklearn.preprocessing import MinMaxScaler\n",
    "\n",
    "from matplotlib.ticker import MultipleLocator, FormatStrFormatter, FuncFormatter\n",
    "from plot_styles import set_plotstyles\n",
    "set_plotstyles()\n",
    "%config InlineBackend.figure_format = 'retina'\n",
    "\n",
    "from IPython.core.display import display, HTML\n",
    "display(HTML(\"<style>.container { width:100% !important; }</style>\"))"
   ]
  },
  {
   "cell_type": "code",
   "execution_count": 2,
   "metadata": {
    "ExecuteTime": {
     "end_time": "2018-05-29T22:52:45.945430Z",
     "start_time": "2018-05-29T22:52:37.987364Z"
    }
   },
   "outputs": [],
   "source": [
    "#import data\n",
    "data_path_1 = 'data/wu_spikey.csv'\n",
    "data_df_1 = pd.read_csv(data_path_1, dtype = float)\n",
    "\n",
    "# split random 80% / 10%\n",
    "training_data_df_1 = data_df_1.sample(frac = 0.8)\n",
    "testing_data_df_1 = data_df_1.loc[~data_df_1.index.isin(training_data_df_1.index)]\n",
    "\n",
    "# separate input features from output\n",
    "X_training_1 = training_data_df_1.drop('slope', axis = 1).values\n",
    "y_training_1 = training_data_df_1[['slope']].values\n",
    "\n",
    "X_testing_1 = testing_data_df_1.drop('slope', axis = 1).values\n",
    "y_testing_1 = testing_data_df_1[['slope']].values\n",
    "\n",
    "# setup data scalers\n",
    "X_scaler_1 = MinMaxScaler(feature_range = (0,1))\n",
    "y_scaler_1 = MinMaxScaler(feature_range = (0,1))\n",
    "\n",
    "# scale data\n",
    "X_scaled_training_1 = X_scaler_1.fit_transform(X_training_1)\n",
    "y_scaled_training_1 = y_scaler_1.fit_transform(y_training_1)\n",
    "\n",
    "X_scaled_testing_1 = X_scaler_1.transform(X_testing_1)\n",
    "y_scaled_testing_1 = y_scaler_1.transform(y_testing_1)"
   ]
  },
  {
   "cell_type": "code",
   "execution_count": 3,
   "metadata": {
    "ExecuteTime": {
     "end_time": "2018-05-29T22:52:46.534146Z",
     "start_time": "2018-05-29T22:52:46.524406Z"
    }
   },
   "outputs": [],
   "source": [
    "number_of_inputs = X_scaled_training_1.shape[1]\n",
    "number_of_outputs = y_scaled_training_1.shape[1]"
   ]
  },
  {
   "cell_type": "code",
   "execution_count": 7,
   "metadata": {
    "ExecuteTime": {
     "end_time": "2018-05-29T22:59:37.500758Z",
     "start_time": "2018-05-29T22:59:37.494697Z"
    }
   },
   "outputs": [],
   "source": [
    "num_layers = 3\n",
    "layer_1_nodes = 768\n",
    "layer_2_nodes = 512\n",
    "layer_3_nodes = 256\n",
    "\n",
    "learning_rate = 0.0001"
   ]
  },
  {
   "cell_type": "code",
   "execution_count": 8,
   "metadata": {
    "ExecuteTime": {
     "end_time": "2018-05-29T22:59:37.880076Z",
     "start_time": "2018-05-29T22:59:37.868022Z"
    }
   },
   "outputs": [
    {
     "data": {
      "text/plain": [
       "'03_layers_768_512_256_nodes_run_A_dataset_spikey_LR_0001_dropout_all'"
      ]
     },
     "execution_count": 8,
     "metadata": {},
     "output_type": "execute_result"
    }
   ],
   "source": [
    "# change log path\n",
    "run_flag = 'A_dataset_spikey_LR_0001_dropout_all'\n",
    "nodes = '_'.join(['{:03}'.format(x) for x in [layer_1_nodes, layer_2_nodes, layer_3_nodes]])\n",
    "logdir = '{:02}_layers_{}_nodes_run_{}'.format(num_layers, nodes, run_flag)\n",
    "logdir"
   ]
  },
  {
   "cell_type": "code",
   "execution_count": 9,
   "metadata": {
    "ExecuteTime": {
     "end_time": "2018-05-29T22:59:38.961774Z",
     "start_time": "2018-05-29T22:59:38.957927Z"
    }
   },
   "outputs": [],
   "source": [
    "tf.reset_default_graph()"
   ]
  },
  {
   "cell_type": "code",
   "execution_count": 10,
   "metadata": {
    "ExecuteTime": {
     "end_time": "2018-05-29T22:59:49.197546Z",
     "start_time": "2018-05-29T22:59:40.308535Z"
    }
   },
   "outputs": [],
   "source": [
    "with tf.variable_scope('input'):\n",
    "    X  = tf.placeholder(tf.float32, shape = (None, number_of_inputs))\n",
    "    \n",
    "with tf.variable_scope('keep'):\n",
    "    keep_prob = tf.placeholder(tf.float32)\n",
    "    \n",
    "with tf.variable_scope('layer_1'):\n",
    "\n",
    "    biases = tf.get_variable(name = \"biases1\", shape = [layer_1_nodes], initializer = tf.zeros_initializer())\n",
    "    weights = tf.get_variable(name = \"weights1\", shape  = [number_of_inputs, layer_1_nodes], initializer = tf.contrib.layers.xavier_initializer())\n",
    "    layer_1_output = tf.nn.relu(tf.matmul(X, weights) + biases)\n",
    "    \n",
    "with tf.variable_scope('dropout_1'):\n",
    "    drop_out_1 = tf.nn.dropout(layer_1_output, keep_prob) \n",
    "\n",
    "with tf.variable_scope('layer_2'):\n",
    "\n",
    "    biases = tf.get_variable(name = \"biases2\", shape = [layer_2_nodes], initializer = tf.zeros_initializer())\n",
    "    weights = tf.get_variable(name = \"weights2\", shape  = [layer_1_nodes, layer_2_nodes], initializer = tf.contrib.layers.xavier_initializer())\n",
    "    layer_2_output = tf.nn.relu(tf.matmul(drop_out_1, weights) + biases)\n",
    "    \n",
    "with tf.variable_scope('dropout_2'):\n",
    "    drop_out_2 = tf.nn.dropout(layer_2_output, keep_prob) \n",
    "\n",
    "with tf.variable_scope('layer_3'):\n",
    "\n",
    "    biases = tf.get_variable(name = \"biases3\", shape = [layer_3_nodes], initializer = tf.zeros_initializer())\n",
    "    weights = tf.get_variable(name = \"weights3\", shape  = [layer_2_nodes, layer_3_nodes], initializer = tf.contrib.layers.xavier_initializer())\n",
    "    layer_3_output = tf.nn.relu(tf.matmul(drop_out_2, weights) + biases)\n",
    "\n",
    "with tf.variable_scope('dropout_3'):\n",
    "    drop_out_3 = tf.nn.dropout(layer_3_output, keep_prob) \n",
    "    \n",
    "with tf.variable_scope('output'):\n",
    "\n",
    "    biases = tf.get_variable(name = \"biases_out\", shape = [number_of_outputs], initializer = tf.zeros_initializer())\n",
    "    weights = tf.get_variable(name = \"weights_out\", shape  = [layer_3_nodes, number_of_outputs], initializer = tf.contrib.layers.xavier_initializer())\n",
    "    prediction = tf.nn.relu(tf.matmul(drop_out_3, weights) + biases)\n",
    "\n",
    "with tf.variable_scope('cost'):\n",
    "\n",
    "    y = tf.placeholder(tf.float32, shape = (None, 1))\n",
    "    cost = tf.reduce_mean(tf.squared_difference(prediction, y))\n",
    "\n",
    "with tf.variable_scope('train'):\n",
    "    optimizer = tf.train.AdamOptimizer(learning_rate, epsilon=1e-08).minimize(cost)\n",
    "\n",
    "with tf.variable_scope('logging'):\n",
    "    tf.summary.scalar('current_cost', cost)\n",
    "    tf.summary.histogram('predictions', prediction)\n",
    "    summary = tf.summary.merge_all()"
   ]
  },
  {
   "cell_type": "code",
   "execution_count": 11,
   "metadata": {
    "ExecuteTime": {
     "end_time": "2018-05-29T22:59:51.552539Z",
     "start_time": "2018-05-29T22:59:51.499426Z"
    }
   },
   "outputs": [],
   "source": [
    "saver = tf.train.Saver()"
   ]
  },
  {
   "cell_type": "code",
   "execution_count": 12,
   "metadata": {
    "ExecuteTime": {
     "end_time": "2018-05-29T22:59:54.140540Z",
     "start_time": "2018-05-29T22:59:54.136918Z"
    }
   },
   "outputs": [],
   "source": [
    "starting_epoch = 0\n",
    "training_epochs = 200"
   ]
  },
  {
   "cell_type": "code",
   "execution_count": 13,
   "metadata": {
    "ExecuteTime": {
     "end_time": "2018-05-29T23:05:08.149722Z",
     "start_time": "2018-05-29T22:59:55.147376Z"
    },
    "scrolled": false
   },
   "outputs": [
    {
     "name": "stdout",
     "output_type": "stream",
     "text": [
      " epoch:  199 testing_cost: 0.09471619874238967896"
     ]
    }
   ],
   "source": [
    "with tf.Session() as session:\n",
    "\n",
    "    session.run(tf.global_variables_initializer())\n",
    "\n",
    "    training_writer = tf.summary.FileWriter('logs/' + logdir + '/training', session.graph)\n",
    "    testing_writer = tf.summary.FileWriter('logs/' + logdir + '/testing', session.graph)\n",
    "\n",
    "    for epoch  in range(training_epochs):\n",
    "        epoch += starting_epoch\n",
    "        # Feed in the training data and do one stepf NN training\n",
    "        session.run(optimizer,\n",
    "                    feed_dict = {X: X_scaled_training_1, y: y_scaled_training_1, keep_prob: 0.5})\n",
    "\n",
    "        training_feed = {X: X_scaled_training_1, y: y_scaled_training_1, keep_prob: 0.5}\n",
    "        training_cost, training_summary = session.run([cost, summary],\n",
    "                                                       feed_dict = training_feed)\n",
    "\n",
    "        testing_feed =  {X: X_scaled_testing_1, y: y_scaled_testing_1, keep_prob: 0.5}\n",
    "        testing_cost, testing_summary = session.run([cost, summary],\n",
    "                                                     feed_dict = testing_feed)\n",
    "        \n",
    "        sys.stdout.write('\\r epoch: {:4.0f} testing_cost: {:2.20f}'.format(epoch, testing_cost))\n",
    "        \n",
    "        training_writer.add_summary(training_summary, epoch)\n",
    "        testing_writer.add_summary(testing_summary, epoch)\n",
    "        testing_writer.flush()\n",
    "        training_writer.flush()\n",
    "\n",
    "    model_save_location = 'logs/' + logdir + '/model' + '/trained_model.ckpt'\n",
    "    save_path = saver.save(session, model_save_location)"
   ]
  },
  {
   "cell_type": "code",
   "execution_count": null,
   "metadata": {},
   "outputs": [],
   "source": []
  }
 ],
 "metadata": {
  "kernelspec": {
   "display_name": "Python 3",
   "language": "python",
   "name": "python3"
  },
  "language_info": {
   "codemirror_mode": {
    "name": "ipython",
    "version": 3
   },
   "file_extension": ".py",
   "mimetype": "text/x-python",
   "name": "python",
   "nbconvert_exporter": "python",
   "pygments_lexer": "ipython3",
   "version": "3.6.5"
  },
  "varInspector": {
   "cols": {
    "lenName": 16,
    "lenType": 16,
    "lenVar": 40
   },
   "kernels_config": {
    "python": {
     "delete_cmd_postfix": "",
     "delete_cmd_prefix": "del ",
     "library": "var_list.py",
     "varRefreshCmd": "print(var_dic_list())"
    },
    "r": {
     "delete_cmd_postfix": ") ",
     "delete_cmd_prefix": "rm(",
     "library": "var_list.r",
     "varRefreshCmd": "cat(var_dic_list()) "
    }
   },
   "types_to_exclude": [
    "module",
    "function",
    "builtin_function_or_method",
    "instance",
    "_Feature"
   ],
   "window_display": false
  }
 },
 "nbformat": 4,
 "nbformat_minor": 2
}
