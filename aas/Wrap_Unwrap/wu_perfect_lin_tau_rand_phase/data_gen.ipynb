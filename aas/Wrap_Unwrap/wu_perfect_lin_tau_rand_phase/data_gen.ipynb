{
 "cells": [
  {
   "cell_type": "code",
   "execution_count": 1,
   "metadata": {
    "ExecuteTime": {
     "end_time": "2018-05-29T23:10:16.621344Z",
     "start_time": "2018-05-29T23:10:11.426627Z"
    }
   },
   "outputs": [
    {
     "name": "stderr",
     "output_type": "stream",
     "text": [
      "/Users/andrew/anaconda3/lib/python3.6/site-packages/h5py/__init__.py:36: FutureWarning: Conversion of the second argument of issubdtype from `float` to `np.floating` is deprecated. In future, it will be treated as `np.float64 == np.dtype(float).type`.\n",
      "  from ._conv import register_converters as _register_converters\n"
     ]
    },
    {
     "data": {
      "text/html": [
       "<style>.container { width:100% !important; }</style>"
      ],
      "text/plain": [
       "<IPython.core.display.HTML object>"
      ]
     },
     "metadata": {},
     "output_type": "display_data"
    }
   ],
   "source": [
    "import pandas as pd, tensorflow as tf,  matplotlib.pyplot as plt, sys\n",
    "from sklearn.preprocessing import MinMaxScaler\n",
    "\n",
    "from matplotlib.ticker import MultipleLocator, FormatStrFormatter, FuncFormatter\n",
    "from plot_styles import set_plotstyles\n",
    "set_plotstyles()\n",
    "%config InlineBackend.figure_format = 'retina'\n",
    "\n",
    "from IPython.core.display import display, HTML\n",
    "display(HTML(\"<style>.container { width:100% !important; }</style>\"))"
   ]
  },
  {
   "cell_type": "code",
   "execution_count": 2,
   "metadata": {
    "ExecuteTime": {
     "end_time": "2018-05-29T23:10:52.801705Z",
     "start_time": "2018-05-29T23:10:50.126371Z"
    }
   },
   "outputs": [],
   "source": [
    "import pandas as pd\n",
    "freqs = np.linspace(0.1, 0.2, 1024)\n",
    "get_slope = lambda x: np.mean((np.diff(np.unwrap(x))  / (2 * np.pi)) / np.diff(freqs))\n",
    "\n",
    "\n",
    "num_entries = 10000\n",
    "\n",
    "rand_wangle_data = np.empty((num_entries, len(freqs)))\n",
    "slope_rwd = np.empty(num_entries)\n",
    "\n",
    "for i in range(num_entries):\n",
    "    \n",
    "    tau = np.random.uniform(low = -100,\n",
    "                            high = 100) \n",
    "    \n",
    "    phi = np.random.uniform(high = 2 * np.pi)\n",
    "    \n",
    "    rand_wangle_data[i] = np.angle(np.exp(2 * np.pi * 1j * (tau*freqs + phi)))\n",
    "    slope_rwd[i] = get_slope(rand_wangle_data[i])\n"
   ]
  },
  {
   "cell_type": "code",
   "execution_count": 3,
   "metadata": {
    "ExecuteTime": {
     "end_time": "2018-05-29T23:11:38.786625Z",
     "start_time": "2018-05-29T23:11:08.876018Z"
    }
   },
   "outputs": [],
   "source": [
    "df = pd.DataFrame(rand_wangle_data)\n",
    "df.insert(0, 'slope', slope_rwd)\n",
    "df.to_csv('data/wu_rand_tau_rand_phase.csv', index = False)"
   ]
  },
  {
   "cell_type": "code",
   "execution_count": null,
   "metadata": {},
   "outputs": [],
   "source": []
  }
 ],
 "metadata": {
  "kernelspec": {
   "display_name": "Python 3",
   "language": "python",
   "name": "python3"
  },
  "language_info": {
   "codemirror_mode": {
    "name": "ipython",
    "version": 3
   },
   "file_extension": ".py",
   "mimetype": "text/x-python",
   "name": "python",
   "nbconvert_exporter": "python",
   "pygments_lexer": "ipython3",
   "version": "3.6.5"
  },
  "varInspector": {
   "cols": {
    "lenName": 16,
    "lenType": 16,
    "lenVar": 40
   },
   "kernels_config": {
    "python": {
     "delete_cmd_postfix": "",
     "delete_cmd_prefix": "del ",
     "library": "var_list.py",
     "varRefreshCmd": "print(var_dic_list())"
    },
    "r": {
     "delete_cmd_postfix": ") ",
     "delete_cmd_prefix": "rm(",
     "library": "var_list.r",
     "varRefreshCmd": "cat(var_dic_list()) "
    }
   },
   "types_to_exclude": [
    "module",
    "function",
    "builtin_function_or_method",
    "instance",
    "_Feature"
   ],
   "window_display": false
  }
 },
 "nbformat": 4,
 "nbformat_minor": 2
}
