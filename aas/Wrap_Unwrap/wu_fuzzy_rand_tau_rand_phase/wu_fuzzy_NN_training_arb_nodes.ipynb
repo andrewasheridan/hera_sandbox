{
 "cells": [
  {
   "cell_type": "markdown",
   "metadata": {},
   "source": [
    "`wu_fuzzy_NN_training.ipynb`\n",
    "> trying to make the code more compact"
   ]
  },
  {
   "cell_type": "code",
   "execution_count": 2,
   "metadata": {
    "ExecuteTime": {
     "end_time": "2018-05-29T17:36:07.696340Z",
     "start_time": "2018-05-29T17:36:07.637357Z"
    }
   },
   "outputs": [
    {
     "data": {
      "text/html": [
       "<style>.container { width:100% !important; }</style>"
      ],
      "text/plain": [
       "<IPython.core.display.HTML object>"
      ]
     },
     "metadata": {},
     "output_type": "display_data"
    }
   ],
   "source": [
    "import pandas as pd, tensorflow as tf,  matplotlib.pyplot as plt, sys\n",
    "from sklearn.preprocessing import MinMaxScaler\n",
    "\n",
    "from matplotlib.ticker import MultipleLocator, FormatStrFormatter, FuncFormatter\n",
    "from plot_styles import set_plotstyles\n",
    "set_plotstyles()\n",
    "%config InlineBackend.figure_format = 'retina'\n",
    "\n",
    "from IPython.core.display import display, HTML\n",
    "display(HTML(\"<style>.container { width:100% !important; }</style>\"))"
   ]
  },
  {
   "cell_type": "code",
   "execution_count": 3,
   "metadata": {
    "ExecuteTime": {
     "end_time": "2018-05-29T17:37:43.631606Z",
     "start_time": "2018-05-29T17:36:11.574830Z"
    }
   },
   "outputs": [],
   "source": [
    "#import data\n",
    "data_path_1 = 'data/wu_fuzzy_rand_tau_rand_phase_more_noise.csv'\n",
    "data_df_1 = pd.read_csv(data_path_1, dtype = float)\n",
    "\n",
    "# split random 80% / 10%\n",
    "training_data_df_1 = data_df_1.sample(frac = 0.8)\n",
    "testing_data_df_1 = data_df_1.loc[~data_df_1.index.isin(training_data_df_1.index)]\n",
    "\n",
    "# separate input features from output\n",
    "X_training_1 = training_data_df_1.drop('slope', axis = 1).values\n",
    "Y_training_1 = training_data_df_1[['slope']].values\n",
    "\n",
    "X_testing_1 = testing_data_df_1.drop('slope', axis = 1).values\n",
    "Y_testing_1 = testing_data_df_1[['slope']].values\n",
    "\n",
    "# setup data scalers\n",
    "X_scaler_1 = MinMaxScaler(feature_range = (0,1))\n",
    "Y_scaler_1 = MinMaxScaler(feature_range = (0,1))\n",
    "\n",
    "# scale data\n",
    "X_scaled_training_1 = X_scaler_1.fit_transform(X_training_1)\n",
    "Y_scaled_training_1 = Y_scaler_1.fit_transform(Y_training_1)\n",
    "\n",
    "X_scaled_testing_1 = X_scaler_1.transform(X_testing_1)\n",
    "Y_scaled_testing_1 = Y_scaler_1.transform(Y_testing_1)"
   ]
  },
  {
   "cell_type": "code",
   "execution_count": 4,
   "metadata": {
    "ExecuteTime": {
     "end_time": "2018-05-29T17:37:45.636461Z",
     "start_time": "2018-05-29T17:37:45.627220Z"
    }
   },
   "outputs": [],
   "source": [
    "number_of_inputs = X_scaled_training_1.shape[1]\n",
    "number_of_outputs = Y_scaled_training_1.shape[1]"
   ]
  },
  {
   "cell_type": "code",
   "execution_count": 5,
   "metadata": {
    "ExecuteTime": {
     "end_time": "2018-05-29T17:37:46.998580Z",
     "start_time": "2018-05-29T17:37:46.992344Z"
    }
   },
   "outputs": [],
   "source": [
    "# def formula_layer_nodes(num_layers, num_inputs, num_ouputs):\n",
    "#     r = (number_of_inputs/number_of_outputs)**(1/(num_layers + 1))\n",
    "    \n",
    "#     return [int(number_of_outputs * r**(n - 1)) for n in range(num_layers + 2)[2:][::-1]]"
   ]
  },
  {
   "cell_type": "code",
   "execution_count": 6,
   "metadata": {
    "ExecuteTime": {
     "end_time": "2018-05-29T17:37:48.286752Z",
     "start_time": "2018-05-29T17:37:48.280168Z"
    }
   },
   "outputs": [],
   "source": [
    "layer_nodes = [115,280,450,290,205,102,50]"
   ]
  },
  {
   "cell_type": "code",
   "execution_count": 7,
   "metadata": {
    "ExecuteTime": {
     "end_time": "2018-05-29T17:37:49.688944Z",
     "start_time": "2018-05-29T17:37:49.677028Z"
    }
   },
   "outputs": [],
   "source": [
    "learning_rate = 0.0015\n",
    "training_epochs = 2000"
   ]
  },
  {
   "cell_type": "code",
   "execution_count": 8,
   "metadata": {
    "ExecuteTime": {
     "end_time": "2018-05-29T17:37:51.403618Z",
     "start_time": "2018-05-29T17:37:51.378260Z"
    }
   },
   "outputs": [
    {
     "data": {
      "text/plain": [
       "'seven_layers_LARGE_115_280_450_290_205_102_50'"
      ]
     },
     "execution_count": 8,
     "metadata": {},
     "output_type": "execute_result"
    }
   ],
   "source": [
    "run_code = 'seven_layers_LARGE_'\n",
    "logdir = run_code + '_'.join([str(nodes) for nodes in layer_nodes])\n",
    "logdir"
   ]
  },
  {
   "cell_type": "code",
   "execution_count": 9,
   "metadata": {
    "ExecuteTime": {
     "end_time": "2018-05-29T17:37:52.999133Z",
     "start_time": "2018-05-29T17:37:52.981886Z"
    }
   },
   "outputs": [],
   "source": [
    "tf.reset_default_graph()"
   ]
  },
  {
   "cell_type": "code",
   "execution_count": 10,
   "metadata": {
    "ExecuteTime": {
     "end_time": "2018-05-29T17:38:09.898065Z",
     "start_time": "2018-05-29T17:37:54.640689Z"
    }
   },
   "outputs": [],
   "source": [
    "# Input Layer\n",
    "with tf.variable_scope('input'):\n",
    "    X  = tf.placeholder(tf.float32, shape = (None, number_of_inputs))\n",
    "\n",
    "# Layer 1\n",
    "with tf.variable_scope('layer_1'):\n",
    "\n",
    "    biases = tf.get_variable(name = \"biases1\",\n",
    "                             shape = [layer_nodes[0]],\n",
    "                             initializer = tf.zeros_initializer())\n",
    "\n",
    "    weights = tf.get_variable(name = \"weights1\",\n",
    "                              shape  = [number_of_inputs, layer_nodes[0]],\n",
    "                         initializer = tf.contrib.layers.xavier_initializer())\n",
    "\n",
    "\n",
    "    layer_1_output = tf.nn.relu(tf.matmul(X, weights) + biases)\n",
    "\n",
    "# Layer 2\n",
    "with tf.variable_scope('layer_2'):\n",
    "\n",
    "    biases = tf.get_variable(name = \"biases2\",\n",
    "                             shape = [layer_nodes[1]],\n",
    "                             initializer = tf.zeros_initializer())\n",
    "\n",
    "    weights = tf.get_variable(name = \"weights2\",\n",
    "                              shape  = [layer_nodes[0], layer_nodes[1]],\n",
    "                         initializer = tf.contrib.layers.xavier_initializer())\n",
    "\n",
    "\n",
    "    layer_2_output = tf.nn.leaky_relu(tf.matmul(layer_1_output, weights) + biases)\n",
    "\n",
    "# Layer 3\n",
    "with tf.variable_scope('layer_3'):\n",
    "\n",
    "    biases = tf.get_variable(name = \"biases3\",\n",
    "                             shape = [layer_nodes[2]],\n",
    "                             initializer = tf.zeros_initializer())\n",
    "\n",
    "    weights = tf.get_variable(name = \"weights3\",\n",
    "                              shape  = [layer_nodes[1], layer_nodes[2]],\n",
    "                         initializer = tf.contrib.layers.xavier_initializer())\n",
    "\n",
    "\n",
    "    layer_3_output = tf.nn.relu(tf.matmul(layer_2_output, weights) + biases)\n",
    "\n",
    " # Layer 4\n",
    "with tf.variable_scope('layer_4'):\n",
    "\n",
    "    biases = tf.get_variable(name = \"biases4\",\n",
    "                             shape = [layer_nodes[3]],\n",
    "                             initializer = tf.zeros_initializer())\n",
    "\n",
    "    weights = tf.get_variable(name = \"weights4\",\n",
    "                              shape  = [layer_nodes[2], layer_nodes[3]],\n",
    "                         initializer = tf.contrib.layers.xavier_initializer())\n",
    "\n",
    "\n",
    "    layer_4_output = tf.nn.relu(tf.matmul(layer_3_output, weights) + biases)\n",
    "    \n",
    " # Layer 3\n",
    "with tf.variable_scope('layer_5'):\n",
    "\n",
    "    biases = tf.get_variable(name = \"biases5\",\n",
    "                             shape = [layer_nodes[4]],\n",
    "                             initializer = tf.zeros_initializer())\n",
    "\n",
    "    weights = tf.get_variable(name = \"weights5\",\n",
    "                              shape  = [layer_nodes[3], layer_nodes[4]],\n",
    "                         initializer = tf.contrib.layers.xavier_initializer())\n",
    "\n",
    "\n",
    "    layer_5_output = tf.nn.relu(tf.matmul(layer_4_output, weights) + biases)\n",
    "    \n",
    "# Layer 6\n",
    "with tf.variable_scope('layer_6'):\n",
    "\n",
    "    biases = tf.get_variable(name = \"biases6\",\n",
    "                             shape = [layer_nodes[5]],\n",
    "                             initializer = tf.zeros_initializer())\n",
    "\n",
    "    weights = tf.get_variable(name = \"weights6\",\n",
    "                              shape  = [layer_nodes[4], layer_nodes[5]],\n",
    "                         initializer = tf.contrib.layers.xavier_initializer())\n",
    "\n",
    "\n",
    "    layer_6_output = tf.nn.relu(tf.matmul(layer_5_output, weights) + biases)\n",
    "\n",
    "# Layer 7\n",
    "with tf.variable_scope('layer_7'):\n",
    "\n",
    "    biases = tf.get_variable(name = \"biases7\",\n",
    "                             shape = [layer_nodes[6]],\n",
    "                             initializer = tf.zeros_initializer())\n",
    "\n",
    "    weights = tf.get_variable(name = \"weights7\",\n",
    "                              shape  = [layer_nodes[5], layer_nodes[6]],\n",
    "                         initializer = tf.contrib.layers.xavier_initializer())\n",
    "\n",
    "\n",
    "    layer_7_output = tf.nn.relu(tf.matmul(layer_6_output, weights) + biases)\n",
    "# Output layer\n",
    "\n",
    "with tf.variable_scope('output'):\n",
    "\n",
    "    biases = tf.get_variable(name = \"biases_out\",\n",
    "                             shape = [number_of_outputs],\n",
    "                             initializer = tf.zeros_initializer())\n",
    "\n",
    "    weights = tf.get_variable(name = \"weights_out\",\n",
    "                              shape  = [layer_nodes[6], number_of_outputs],\n",
    "                         initializer = tf.contrib.layers.xavier_initializer())\n",
    "\n",
    "\n",
    "    prediction = tf.nn.relu(tf.matmul(layer_7_output, weights) + biases)\n",
    "\n",
    "with tf.variable_scope('cost'):\n",
    "\n",
    "    Y = tf.placeholder(tf.float32, shape = (None, 1))\n",
    "    cost = tf.reduce_mean(tf.squared_difference(prediction, Y))\n",
    "\n",
    "\n",
    "with tf.variable_scope('train'):\n",
    "    optimizer = tf.train.AdamOptimizer(learning_rate, epsilon=1e-08).minimize(cost)\n",
    "\n",
    "with tf.variable_scope('logging'):\n",
    "    tf.summary.scalar('current_cost', cost)\n",
    "    summary = tf.summary.merge_all()\n",
    "    "
   ]
  },
  {
   "cell_type": "code",
   "execution_count": 11,
   "metadata": {
    "ExecuteTime": {
     "end_time": "2018-05-29T17:38:11.438939Z",
     "start_time": "2018-05-29T17:38:11.302560Z"
    }
   },
   "outputs": [],
   "source": [
    "saver = tf.train.Saver()"
   ]
  },
  {
   "cell_type": "code",
   "execution_count": null,
   "metadata": {
    "ExecuteTime": {
     "start_time": "2018-05-29T17:36:22.274Z"
    }
   },
   "outputs": [
    {
     "name": "stdout",
     "output_type": "stream",
     "text": [
      " epoch:  358 testing_cost: 0.0698450878"
     ]
    }
   ],
   "source": [
    "with tf.Session() as session:\n",
    "\n",
    "    session.run(tf.global_variables_initializer())\n",
    "\n",
    "    training_writer = tf.summary.FileWriter('logs/' + logdir + '/training', session.graph)\n",
    "    testing_writer = tf.summary.FileWriter('logs/' + logdir + '/testing', session.graph)\n",
    "\n",
    "    for epoch in range(training_epochs):\n",
    "\n",
    "        # Feed in the training data and do one stepf NN training\n",
    "        session.run(optimizer,\n",
    "                    feed_dict = {X: X_scaled_training_1, Y: Y_scaled_training_1})\n",
    "\n",
    "        training_feed = {X: X_scaled_training_1, Y: Y_scaled_training_1}\n",
    "        training_cost, training_summary = session.run([cost, summary],\n",
    "                                                feed_dict = training_feed)\n",
    "\n",
    "        testing_feed =  {X: X_scaled_testing_1, Y: Y_scaled_testing_1}\n",
    "        testing_cost, testing_summary = session.run([cost, summary],\n",
    "                                                     feed_dict = testing_feed)\n",
    "        sys.stdout.write('\\r epoch: {:4.0f} testing_cost: {:2.10f}'.format(epoch, testing_cost))\n",
    "        \n",
    "        training_writer.add_summary(training_summary, epoch)\n",
    "        testing_writer.add_summary(testing_summary, epoch)\n",
    "        testing_writer.flush()\n",
    "        training_writer.flush()\n",
    "\n",
    "    model_save_location = 'logs/' + logdir + '_model' + '/trained_model.ckpt'\n",
    "    save_path = saver.save(session, model_save_location)"
   ]
  },
  {
   "cell_type": "code",
   "execution_count": null,
   "metadata": {
    "ExecuteTime": {
     "start_time": "2018-05-29T17:38:53.470Z"
    }
   },
   "outputs": [],
   "source": [
    "with tf.Session() as session:\n",
    "    saver.restore(session,'logs/seven_layers_LARGE_115_280_450_290_205_102_50_model/trained_model.ckpt')\n",
    "    \n",
    "    prediction_scaled = session.run(prediction, feed_dict = {X: X_scaled_testing})\n",
    "    \n",
    "    # the predictions but in the original units\n",
    "    prediction_unscaled = Y_scaler.inverse_transform(prediction_scaled)"
   ]
  },
  {
   "cell_type": "code",
   "execution_count": null,
   "metadata": {
    "ExecuteTime": {
     "start_time": "2018-05-29T17:39:24.294Z"
    }
   },
   "outputs": [],
   "source": [
    "sorting_idx = np.argsort(Y_testing_1.T[0])\n",
    "\n",
    "fig, ax = plt.subplots(figsize = (8.5, 3), dpi = 100)\n",
    "\n",
    "ax.set_title('NN predictions vs actual, final testing cost ?')\n",
    "ax.plot(prediction_unscaled.T[0][sorting_idx],\n",
    "        linestyle = 'none', marker = '.', markersize = 1,\n",
    "        color = 'darkblue', label = 'Prediction')\n",
    "\n",
    "ax.plot(Y_testing_1.T[0][sorting_idx],\n",
    "        linestyle = 'none', marker = '.', markersize = 1, alpha = 0.75, \n",
    "        color = '#E50000', label = 'Actual')\n",
    "\n",
    "ax.set_ylabel(r'$\\tau$ [ ns ]')\n",
    "ax.set_xlabel(r'$\\texttt{Y\\_testing}$ sample number')\n",
    "ax.legend( loc = 'best')\n",
    "plt.show()"
   ]
  },
  {
   "cell_type": "code",
   "execution_count": null,
   "metadata": {
    "ExecuteTime": {
     "start_time": "2018-05-29T17:39:40.716Z"
    }
   },
   "outputs": [],
   "source": [
    "NN_SCORE = sum((Y_scaled_testing_1.T[0] - prediction_scaled.T[0])**2)\n",
    "NN_SCORE"
   ]
  },
  {
   "cell_type": "code",
   "execution_count": null,
   "metadata": {
    "ExecuteTime": {
     "start_time": "2018-05-29T17:39:51.587Z"
    }
   },
   "outputs": [],
   "source": [
    "np.std(abs(Y_testing_1.T[0] - prediction_unscaled.T[0]))"
   ]
  },
  {
   "cell_type": "code",
   "execution_count": null,
   "metadata": {
    "ExecuteTime": {
     "start_time": "2018-05-29T17:39:59.975Z"
    }
   },
   "outputs": [],
   "source": [
    "np.mean(abs(Y_testing_1.T[0] - prediction_unscaled.T[0]))"
   ]
  },
  {
   "cell_type": "code",
   "execution_count": null,
   "metadata": {},
   "outputs": [],
   "source": []
  }
 ],
 "metadata": {
  "kernelspec": {
   "display_name": "Python 3",
   "language": "python",
   "name": "python3"
  },
  "language_info": {
   "codemirror_mode": {
    "name": "ipython",
    "version": 3
   },
   "file_extension": ".py",
   "mimetype": "text/x-python",
   "name": "python",
   "nbconvert_exporter": "python",
   "pygments_lexer": "ipython3",
   "version": "3.6.5"
  },
  "varInspector": {
   "cols": {
    "lenName": 16,
    "lenType": 16,
    "lenVar": 40
   },
   "kernels_config": {
    "python": {
     "delete_cmd_postfix": "",
     "delete_cmd_prefix": "del ",
     "library": "var_list.py",
     "varRefreshCmd": "print(var_dic_list())"
    },
    "r": {
     "delete_cmd_postfix": ") ",
     "delete_cmd_prefix": "rm(",
     "library": "var_list.r",
     "varRefreshCmd": "cat(var_dic_list()) "
    }
   },
   "types_to_exclude": [
    "module",
    "function",
    "builtin_function_or_method",
    "instance",
    "_Feature"
   ],
   "window_display": false
  }
 },
 "nbformat": 4,
 "nbformat_minor": 2
}
