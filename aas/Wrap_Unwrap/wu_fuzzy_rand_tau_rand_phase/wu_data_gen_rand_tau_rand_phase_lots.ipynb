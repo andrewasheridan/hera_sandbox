{
 "cells": [
  {
   "cell_type": "markdown",
   "metadata": {},
   "source": [
    "lots of data..."
   ]
  },
  {
   "cell_type": "code",
   "execution_count": 1,
   "metadata": {
    "ExecuteTime": {
     "end_time": "2018-05-29T17:25:30.735082Z",
     "start_time": "2018-05-29T17:25:29.842973Z"
    }
   },
   "outputs": [],
   "source": [
    "import pandas as pd\n",
    "# frequencies\n",
    "# from 0.100 GHZ to 0.200 GHz, 1024 channels, \n",
    "# (9.77517107e-05 GHz per channel)\n",
    "freqs = np.linspace(0.1, 0.2, 1024)\n",
    "\n",
    "# delay time tau \n",
    "# from -100 ns to 100 ns\n",
    "abs_max_tau = 100 \n",
    "num_taus = 100000"
   ]
  },
  {
   "cell_type": "code",
   "execution_count": 2,
   "metadata": {
    "ExecuteTime": {
     "end_time": "2018-05-29T17:25:40.413039Z",
     "start_time": "2018-05-29T17:25:40.404275Z"
    }
   },
   "outputs": [],
   "source": [
    "get_slope = lambda x: np.mean((np.diff(np.unwrap(x))  / (2 * np.pi)) / np.diff(freqs))"
   ]
  },
  {
   "cell_type": "code",
   "execution_count": 3,
   "metadata": {
    "ExecuteTime": {
     "end_time": "2018-05-29T17:35:46.773587Z",
     "start_time": "2018-05-29T17:29:00.089622Z"
    }
   },
   "outputs": [],
   "source": [
    "rand_wangle_data = np.empty((num_taus, len(freqs)))\n",
    "slope_rwd = np.empty(num_taus)\n",
    "for i in range(num_taus):\n",
    "    \n",
    "    # random tau in a range with fuzzy edges...\n",
    "    tau = np.random.uniform(low = np.random.uniform(low = -110, high = -90),\n",
    "                            high = np.random.uniform(low = 90, high = 110)) \n",
    "    phi = np.random.uniform(high = 2 * np.pi)\n",
    "    \n",
    "    rand_wangle_data[i] = np.angle(np.exp(2 * np.pi * 1j * (tau*freqs + phi)))\n",
    "    slope_rwd[i] = get_slope(rand_wangle_data[i])\n",
    "    if np.random.uniform() < 0.25:\n",
    "        noise = 0\n",
    "    elif np.random.uniform() < 0.5:\n",
    "        noise = np.random.normal(scale = 0.33, size = len(freqs))\n",
    "        \n",
    "    elif np.random.uniform() < 0.75:\n",
    "        noise = np.random.normal(scale = 0.66, size = len(freqs))\n",
    "    else:\n",
    "        noise = np.random.normal(scale = 1, size = len(freqs))\n",
    "        \n",
    "    rand_wangle_data[i] += noise\n",
    "    \n",
    "df = pd.DataFrame(rand_wangle_data)\n",
    "df.insert(0, 'slope', slope_rwd)\n",
    "\n",
    "df.to_csv('data/wu_fuzzy_rand_tau_rand_phase_more_noise.csv', index = False)"
   ]
  },
  {
   "cell_type": "code",
   "execution_count": null,
   "metadata": {},
   "outputs": [],
   "source": []
  }
 ],
 "metadata": {
  "kernelspec": {
   "display_name": "Python 3",
   "language": "python",
   "name": "python3"
  },
  "language_info": {
   "codemirror_mode": {
    "name": "ipython",
    "version": 3
   },
   "file_extension": ".py",
   "mimetype": "text/x-python",
   "name": "python",
   "nbconvert_exporter": "python",
   "pygments_lexer": "ipython3",
   "version": "3.6.5"
  },
  "varInspector": {
   "cols": {
    "lenName": 16,
    "lenType": 16,
    "lenVar": 40
   },
   "kernels_config": {
    "python": {
     "delete_cmd_postfix": "",
     "delete_cmd_prefix": "del ",
     "library": "var_list.py",
     "varRefreshCmd": "print(var_dic_list())"
    },
    "r": {
     "delete_cmd_postfix": ") ",
     "delete_cmd_prefix": "rm(",
     "library": "var_list.r",
     "varRefreshCmd": "cat(var_dic_list()) "
    }
   },
   "types_to_exclude": [
    "module",
    "function",
    "builtin_function_or_method",
    "instance",
    "_Feature"
   ],
   "window_display": false
  }
 },
 "nbformat": 4,
 "nbformat_minor": 2
}
