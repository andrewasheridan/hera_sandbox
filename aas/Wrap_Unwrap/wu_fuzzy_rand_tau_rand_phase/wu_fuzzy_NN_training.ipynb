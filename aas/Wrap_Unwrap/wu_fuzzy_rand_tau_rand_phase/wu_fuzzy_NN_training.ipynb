{
 "cells": [
  {
   "cell_type": "markdown",
   "metadata": {},
   "source": [
    "`wu_fuzzy_NN_training.ipynb`"
   ]
  },
  {
   "cell_type": "code",
   "execution_count": 1,
   "metadata": {
    "ExecuteTime": {
     "end_time": "2018-05-29T17:30:34.575509Z",
     "start_time": "2018-05-29T17:30:26.498014Z"
    }
   },
   "outputs": [
    {
     "name": "stderr",
     "output_type": "stream",
     "text": [
      "/Users/andrew/anaconda3/lib/python3.6/site-packages/h5py/__init__.py:36: FutureWarning: Conversion of the second argument of issubdtype from `float` to `np.floating` is deprecated. In future, it will be treated as `np.float64 == np.dtype(float).type`.\n",
      "  from ._conv import register_converters as _register_converters\n"
     ]
    },
    {
     "data": {
      "text/html": [
       "<style>.container { width:100% !important; }</style>"
      ],
      "text/plain": [
       "<IPython.core.display.HTML object>"
      ]
     },
     "metadata": {},
     "output_type": "display_data"
    }
   ],
   "source": [
    "import pandas as pd, tensorflow as tf,  matplotlib.pyplot as plt, sys\n",
    "from sklearn.preprocessing import MinMaxScaler\n",
    "\n",
    "from matplotlib.ticker import MultipleLocator, FormatStrFormatter, FuncFormatter\n",
    "from plot_styles import set_plotstyles\n",
    "set_plotstyles()\n",
    "%config InlineBackend.figure_format = 'retina'\n",
    "\n",
    "from IPython.core.display import display, HTML\n",
    "display(HTML(\"<style>.container { width:100% !important; }</style>\"))"
   ]
  },
  {
   "cell_type": "code",
   "execution_count": null,
   "metadata": {
    "ExecuteTime": {
     "end_time": "2018-05-29T16:59:17.291012Z",
     "start_time": "2018-05-29T16:59:11.227185Z"
    }
   },
   "outputs": [],
   "source": [
    "#import data\n",
    "data_path_1 = 'data/wu_fuzzy_rand_tau_rand_phase_more_noise.csv'\n",
    "data_df_1 = pd.read_csv(data_path_1, dtype = float)\n",
    "\n",
    "# split random 80% / 10%\n",
    "training_data_df_1 = data_df_1.sample(frac = 0.8)\n",
    "testing_data_df_1 = data_df_1.loc[~data_df_1.index.isin(training_data_df_1.index)]\n",
    "\n",
    "# separate input features from output\n",
    "X_training_1 = training_data_df_1.drop('slope', axis = 1).values\n",
    "Y_training_1 = training_data_df_1[['slope']].values\n",
    "\n",
    "X_testing_1 = testing_data_df_1.drop('slope', axis = 1).values\n",
    "Y_testing_1 = testing_data_df_1[['slope']].values\n",
    "\n",
    "# setup data scalers\n",
    "X_scaler_1 = MinMaxScaler(feature_range = (0,1))\n",
    "Y_scaler_1 = MinMaxScaler(feature_range = (0,1))\n",
    "\n",
    "# scale data\n",
    "X_scaled_training_1 = X_scaler_1.fit_transform(X_training_1)\n",
    "Y_scaled_training_1 = Y_scaler_1.fit_transform(Y_training_1)\n",
    "\n",
    "X_scaled_testing_1 = X_scaler_1.transform(X_testing_1)\n",
    "Y_scaled_testing_1 = Y_scaler_1.transform(Y_testing_1)"
   ]
  },
  {
   "cell_type": "code",
   "execution_count": null,
   "metadata": {
    "ExecuteTime": {
     "end_time": "2018-05-29T16:59:17.999548Z",
     "start_time": "2018-05-29T16:59:17.988092Z"
    }
   },
   "outputs": [],
   "source": [
    "number_of_inputs = X_scaled_training_1.shape[1]\n",
    "number_of_outputs = Y_scaled_training_1.shape[1]"
   ]
  },
  {
   "cell_type": "code",
   "execution_count": null,
   "metadata": {
    "ExecuteTime": {
     "end_time": "2018-05-29T16:02:34.724839Z",
     "start_time": "2018-05-29T16:02:34.697870Z"
    }
   },
   "outputs": [],
   "source": [
    "num_layers = 5\n",
    "r = (number_of_inputs/number_of_outputs)**(1/(num_layers + 1))\n",
    "\n",
    "layer_1_nodes = int(number_of_outputs * r**(num_layers - 1))\n",
    "layer_2_nodes = int(number_of_outputs * r**(num_layers - 2))\n",
    "layer_3_nodes = int(number_of_outputs * r**(num_layers - 3))\n",
    "layer_4_nodes = int(number_of_outputs * r**(num_layers - 4))\n",
    "layer_5_nodes = int(number_of_outputs * r**(num_layers - 5))\n",
    "\n",
    "\n",
    "learning_rate = 0.0015\n",
    "training_epochs = 500"
   ]
  },
  {
   "cell_type": "code",
   "execution_count": null,
   "metadata": {
    "ExecuteTime": {
     "end_time": "2018-05-29T16:02:42.823049Z",
     "start_time": "2018-05-29T16:02:42.814758Z"
    }
   },
   "outputs": [],
   "source": [
    "# change log path\n",
    "logdir = str(layer_1_nodes) + '_' + str(layer_2_nodes) + '_' + str(layer_3_nodes) + '_' + str(layer_4_nodes) + '_' + str(layer_5_nodes)\n",
    "logdir += '_a_relu'\n",
    "logdir"
   ]
  },
  {
   "cell_type": "code",
   "execution_count": null,
   "metadata": {
    "ExecuteTime": {
     "end_time": "2018-05-29T16:02:44.201123Z",
     "start_time": "2018-05-29T16:02:44.197628Z"
    }
   },
   "outputs": [],
   "source": [
    "tf.reset_default_graph()"
   ]
  },
  {
   "cell_type": "code",
   "execution_count": null,
   "metadata": {
    "ExecuteTime": {
     "end_time": "2018-05-29T16:02:53.784031Z",
     "start_time": "2018-05-29T16:02:52.914217Z"
    }
   },
   "outputs": [],
   "source": [
    "# Input Layer\n",
    "with tf.variable_scope('input'):\n",
    "    X  = tf.placeholder(tf.float32, shape = (None, number_of_inputs))\n",
    "\n",
    "# Layer 1\n",
    "with tf.variable_scope('layer_1'):\n",
    "\n",
    "    biases = tf.get_variable(name = \"biases1\",\n",
    "                             shape = [layer_1_nodes],\n",
    "                             initializer = tf.zeros_initializer())\n",
    "\n",
    "    weights = tf.get_variable(name = \"weights1\",\n",
    "                              shape  = [number_of_inputs, layer_1_nodes],\n",
    "                         initializer = tf.contrib.layers.xavier_initializer())\n",
    "\n",
    "\n",
    "    layer_1_output = tf.nn.relu(tf.matmul(X, weights) + biases)\n",
    "\n",
    "# Layer 2\n",
    "with tf.variable_scope('layer_2'):\n",
    "\n",
    "    biases = tf.get_variable(name = \"biases2\",\n",
    "                             shape = [layer_2_nodes],\n",
    "                             initializer = tf.zeros_initializer())\n",
    "\n",
    "    weights = tf.get_variable(name = \"weights2\",\n",
    "                              shape  = [layer_1_nodes, layer_2_nodes],\n",
    "                         initializer = tf.contrib.layers.xavier_initializer())\n",
    "\n",
    "\n",
    "    layer_2_output = tf.nn.relu(tf.matmul(layer_1_output, weights) + biases)\n",
    "\n",
    "# Layer 3\n",
    "with tf.variable_scope('layer_3'):\n",
    "\n",
    "    biases = tf.get_variable(name = \"biases3\",\n",
    "                             shape = [layer_3_nodes],\n",
    "                             initializer = tf.zeros_initializer())\n",
    "\n",
    "    weights = tf.get_variable(name = \"weights3\",\n",
    "                              shape  = [layer_2_nodes, layer_3_nodes],\n",
    "                         initializer = tf.contrib.layers.xavier_initializer())\n",
    "\n",
    "\n",
    "    layer_3_output = tf.nn.relu(tf.matmul(layer_2_output, weights) + biases)\n",
    "\n",
    "# Layer 4\n",
    "with tf.variable_scope('layer_4'):\n",
    "\n",
    "    biases = tf.get_variable(name = \"biases4\",\n",
    "                             shape = [layer_4_nodes],\n",
    "                             initializer = tf.zeros_initializer())\n",
    "\n",
    "    weights = tf.get_variable(name = \"weights4\",\n",
    "                              shape  = [layer_3_nodes, layer_4_nodes],\n",
    "                         initializer = tf.contrib.layers.xavier_initializer())\n",
    "\n",
    "\n",
    "    layer_4_output = tf.nn.relu(tf.matmul(layer_3_output, weights) + biases)\n",
    "\n",
    "\n",
    "# Layer 5\n",
    "with tf.variable_scope('layer_5'):\n",
    "\n",
    "    biases = tf.get_variable(name = \"biases5\",\n",
    "                             shape = [layer_5_nodes],\n",
    "                             initializer = tf.zeros_initializer())\n",
    "\n",
    "    weights = tf.get_variable(name = \"weights5\",\n",
    "                              shape  = [layer_4_nodes, layer_5_nodes],\n",
    "                         initializer = tf.contrib.layers.xavier_initializer())\n",
    "\n",
    "\n",
    "    layer_5_output = tf.nn.relu(tf.matmul(layer_4_output, weights) + biases)\n",
    "\n",
    "\n",
    "\n",
    "# Output layer\n",
    "\n",
    "with tf.variable_scope('output'):\n",
    "\n",
    "    biases = tf.get_variable(name = \"biases_out\",\n",
    "                             shape = [number_of_outputs],\n",
    "                             initializer = tf.zeros_initializer())\n",
    "\n",
    "    weights = tf.get_variable(name = \"weights_out\",\n",
    "                              shape  = [layer_5_nodes, number_of_outputs],\n",
    "                         initializer = tf.contrib.layers.xavier_initializer())\n",
    "\n",
    "\n",
    "    prediction = tf.nn.relu(tf.matmul(layer_5_output, weights) + biases)\n",
    "\n",
    "with tf.variable_scope('cost'):\n",
    "\n",
    "    Y = tf.placeholder(tf.float32, shape = (None, 1))\n",
    "    cost = tf.reduce_mean(tf.squared_difference(prediction, Y))\n",
    "\n",
    "\n",
    "with tf.variable_scope('train'):\n",
    "    optimizer = tf.train.AdamOptimizer(learning_rate, epsilon=1e-08).minimize(cost)\n",
    "\n",
    "with tf.variable_scope('logging'):\n",
    "    tf.summary.scalar('current_cost', cost)\n",
    "    summary = tf.summary.merge_all()\n",
    "    "
   ]
  },
  {
   "cell_type": "code",
   "execution_count": null,
   "metadata": {
    "ExecuteTime": {
     "end_time": "2018-05-29T16:02:56.189023Z",
     "start_time": "2018-05-29T16:02:56.123515Z"
    }
   },
   "outputs": [],
   "source": [
    "saver = tf.train.Saver()"
   ]
  },
  {
   "cell_type": "code",
   "execution_count": null,
   "metadata": {
    "ExecuteTime": {
     "end_time": "2018-05-29T16:05:06.036904Z",
     "start_time": "2018-05-29T16:02:56.933838Z"
    }
   },
   "outputs": [],
   "source": [
    "with tf.Session() as session:\n",
    "\n",
    "    session.run(tf.global_variables_initializer())\n",
    "\n",
    "    training_writer = tf.summary.FileWriter('logs/' + logdir + '/training', session.graph)\n",
    "    testing_writer = tf.summary.FileWriter('logs/' + logdir + '/testing', session.graph)\n",
    "\n",
    "    for epoch in range(training_epochs):\n",
    "\n",
    "        # Feed in the training data and do one stepf NN training\n",
    "        session.run(optimizer,\n",
    "                    feed_dict = {X: X_scaled_training_1, Y: Y_scaled_training_1})\n",
    "\n",
    "        training_feed = {X: X_scaled_training_1, Y: Y_scaled_training_1}\n",
    "        training_cost, training_summary = session.run([cost, summary],\n",
    "                                                feed_dict = training_feed)\n",
    "\n",
    "        testing_feed =  {X: X_scaled_testing_1, Y: Y_scaled_testing_1}\n",
    "        testing_cost, testing_summary = session.run([cost, summary],\n",
    "                                                     feed_dict = testing_feed)\n",
    "        sys.stdout.write('\\r epoch: {:4.0f} testing_cost: {:2.10f}'.format(epoch, testing_cost))\n",
    "        \n",
    "        training_writer.add_summary(training_summary, epoch)\n",
    "        testing_writer.add_summary(testing_summary, epoch)\n",
    "        testing_writer.flush()\n",
    "        training_writer.flush()\n",
    "\n",
    "    model_save_location = 'logs/' + logdir + '_model' + '/trained_model.ckpt'\n",
    "    save_path = saver.save(session, model_save_location)"
   ]
  },
  {
   "cell_type": "code",
   "execution_count": null,
   "metadata": {
    "ExecuteTime": {
     "end_time": "2018-05-29T16:08:34.946775Z",
     "start_time": "2018-05-29T16:08:34.825245Z"
    }
   },
   "outputs": [],
   "source": [
    "with tf.Session() as session:\n",
    "    saver.restore(session,'logs/101_31_10_3_1_a_relu_model/trained_model.ckpt')\n",
    "    \n",
    "    prediction_scaled = session.run(prediction, feed_dict = {X: X_scaled_testing_1})\n",
    "    \n",
    "    # the predictions but in the original units\n",
    "    prediction_unscaled = Y_scaler_1.inverse_transform(prediction_scaled)"
   ]
  },
  {
   "cell_type": "code",
   "execution_count": null,
   "metadata": {
    "ExecuteTime": {
     "end_time": "2018-05-29T16:09:19.417438Z",
     "start_time": "2018-05-29T16:09:18.112363Z"
    }
   },
   "outputs": [],
   "source": [
    "sorting_idx = np.argsort(Y_testing_1.T[0])\n",
    "\n",
    "fig, ax = plt.subplots(figsize = (8.5, 3), dpi = 100)\n",
    "\n",
    "ax.set_title('NN predictions vs actual, final testing cost ?')\n",
    "ax.plot(prediction_unscaled.T[0][sorting_idx],\n",
    "        linestyle = 'none', marker = '.', markersize = 1,\n",
    "        color = 'darkblue', label = 'Prediction')\n",
    "\n",
    "ax.plot(Y_testing_1.T[0][sorting_idx],\n",
    "        linestyle = 'none', marker = '.', markersize = 1, alpha = 0.75, \n",
    "        color = '#E50000', label = 'Actual')\n",
    "\n",
    "ax.set_ylabel(r'$\\tau$ [ ns ]')\n",
    "ax.set_xlabel(r'$\\texttt{Y\\_testing}$ sample number')\n",
    "ax.legend( loc = 'best')\n",
    "plt.show()"
   ]
  },
  {
   "cell_type": "code",
   "execution_count": null,
   "metadata": {
    "ExecuteTime": {
     "end_time": "2018-05-29T16:10:16.083833Z",
     "start_time": "2018-05-29T16:10:16.075097Z"
    }
   },
   "outputs": [],
   "source": [
    "NN_SCORE = sum((Y_scaled_testing_1.T[0] - prediction_scaled.T[0])**2)\n",
    "NN_SCORE"
   ]
  },
  {
   "cell_type": "code",
   "execution_count": null,
   "metadata": {
    "ExecuteTime": {
     "end_time": "2018-05-29T16:10:25.629963Z",
     "start_time": "2018-05-29T16:10:25.621946Z"
    }
   },
   "outputs": [],
   "source": [
    "np.std(abs(Y_testing_1.T[0] - prediction_unscaled.T[0]))"
   ]
  },
  {
   "cell_type": "code",
   "execution_count": null,
   "metadata": {
    "ExecuteTime": {
     "end_time": "2018-05-29T16:10:34.060027Z",
     "start_time": "2018-05-29T16:10:34.051728Z"
    }
   },
   "outputs": [],
   "source": [
    "np.mean(abs(Y_testing_1.T[0] - prediction_unscaled.T[0]))"
   ]
  },
  {
   "cell_type": "code",
   "execution_count": null,
   "metadata": {
    "ExecuteTime": {
     "end_time": "2018-05-29T16:13:22.061318Z",
     "start_time": "2018-05-29T16:11:26.205399Z"
    }
   },
   "outputs": [],
   "source": [
    "with tf.Session() as session:\n",
    "\n",
    "#     session.run(tf.global_variables_initializer())\n",
    "    saver.restore(session,'logs/101_31_10_3_1_a_relu_model/trained_model.ckpt')\n",
    "    training_writer = tf.summary.FileWriter('logs/' + logdir + '/training', session.graph)\n",
    "    testing_writer = tf.summary.FileWriter('logs/' + logdir + '/testing', session.graph)\n",
    "\n",
    "    for epoch in range(training_epochs):\n",
    "        epoch = epoch + training_epochs\n",
    "        # Feed in the training data and do one stepf NN training\n",
    "        session.run(optimizer,\n",
    "                    feed_dict = {X: X_scaled_training_1, Y: Y_scaled_training_1})\n",
    "\n",
    "        training_feed = {X: X_scaled_training_1, Y: Y_scaled_training_1}\n",
    "        training_cost, training_summary = session.run([cost, summary],\n",
    "                                                feed_dict = training_feed)\n",
    "\n",
    "        testing_feed =  {X: X_scaled_testing_1, Y: Y_scaled_testing_1}\n",
    "        testing_cost, testing_summary = session.run([cost, summary],\n",
    "                                                     feed_dict = testing_feed)\n",
    "        sys.stdout.write('\\r epoch: {:4.0f} testing_cost: {:2.10f}'.format(epoch, testing_cost))\n",
    "        \n",
    "        training_writer.add_summary(training_summary, epoch)\n",
    "        testing_writer.add_summary(testing_summary, epoch)\n",
    "        testing_writer.flush()\n",
    "        training_writer.flush()\n",
    "\n",
    "    model_save_location = 'logs/' + logdir + '_model' + '/trained_model.ckpt'\n",
    "    save_path = saver.save(session, model_save_location)"
   ]
  },
  {
   "cell_type": "code",
   "execution_count": null,
   "metadata": {
    "ExecuteTime": {
     "end_time": "2018-05-29T16:13:59.676137Z",
     "start_time": "2018-05-29T16:13:59.592567Z"
    }
   },
   "outputs": [],
   "source": [
    "with tf.Session() as session:\n",
    "    saver.restore(session,'logs/101_31_10_3_1_a_relu_model/trained_model.ckpt')\n",
    "    \n",
    "    prediction_scaled = session.run(prediction, feed_dict = {X: X_scaled_testing_1})\n",
    "    \n",
    "    # the predictions but in the original units\n",
    "    prediction_unscaled = Y_scaler_1.inverse_transform(prediction_scaled)"
   ]
  },
  {
   "cell_type": "code",
   "execution_count": null,
   "metadata": {
    "ExecuteTime": {
     "end_time": "2018-05-29T16:14:02.263249Z",
     "start_time": "2018-05-29T16:14:01.878346Z"
    }
   },
   "outputs": [],
   "source": [
    "sorting_idx = np.argsort(Y_testing_1.T[0])\n",
    "\n",
    "fig, ax = plt.subplots(figsize = (8.5, 3), dpi = 100)\n",
    "\n",
    "ax.set_title('NN predictions vs actual, final testing cost ?')\n",
    "ax.plot(prediction_unscaled.T[0][sorting_idx],\n",
    "        linestyle = 'none', marker = '.', markersize = 1,\n",
    "        color = 'darkblue', label = 'Prediction')\n",
    "\n",
    "ax.plot(Y_testing_1.T[0][sorting_idx],\n",
    "        linestyle = 'none', marker = '.', markersize = 1, alpha = 0.75, \n",
    "        color = '#E50000', label = 'Actual')\n",
    "\n",
    "ax.set_ylabel(r'$\\tau$ [ ns ]')\n",
    "ax.set_xlabel(r'$\\texttt{Y\\_testing}$ sample number')\n",
    "ax.legend( loc = 'best')\n",
    "plt.show()"
   ]
  },
  {
   "cell_type": "code",
   "execution_count": null,
   "metadata": {
    "ExecuteTime": {
     "end_time": "2018-05-29T16:14:04.788716Z",
     "start_time": "2018-05-29T16:14:04.778888Z"
    }
   },
   "outputs": [],
   "source": [
    "NN_SCORE = sum((Y_scaled_testing_1.T[0] - prediction_scaled.T[0])**2)\n",
    "NN_SCORE"
   ]
  },
  {
   "cell_type": "code",
   "execution_count": null,
   "metadata": {
    "ExecuteTime": {
     "end_time": "2018-05-29T16:14:05.845591Z",
     "start_time": "2018-05-29T16:14:05.833853Z"
    }
   },
   "outputs": [],
   "source": [
    "np.std(abs(Y_testing_1.T[0] - prediction_unscaled.T[0]))"
   ]
  },
  {
   "cell_type": "code",
   "execution_count": null,
   "metadata": {
    "ExecuteTime": {
     "end_time": "2018-05-29T16:14:06.254105Z",
     "start_time": "2018-05-29T16:14:06.246529Z"
    }
   },
   "outputs": [],
   "source": [
    "np.mean(abs(Y_testing_1.T[0] - prediction_unscaled.T[0]))"
   ]
  },
  {
   "cell_type": "code",
   "execution_count": null,
   "metadata": {
    "ExecuteTime": {
     "end_time": "2018-05-29T16:15:18.968460Z",
     "start_time": "2018-05-29T16:15:12.288320Z"
    }
   },
   "outputs": [],
   "source": [
    "#import data\n",
    "data_path_2 = 'data/wu_fuzzy_rand_tau_rand_phase_more_noise.csv'\n",
    "data_df_2 = pd.read_csv(data_path_2, dtype = float)\n",
    "\n",
    "# split random 80% / 10%\n",
    "training_data_df_2 = data_df_2.sample(frac = 0.8)\n",
    "testing_data_df_2 = data_df_2.loc[~data_df_2.index.isin(training_data_df_2.index)]\n",
    "\n",
    "# separate input features from output\n",
    "X_training_2 = training_data_df_2.drop('slope', axis = 1).values\n",
    "Y_training_2 = training_data_df_2[['slope']].values\n",
    "\n",
    "X_testing_2 = testing_data_df_2.drop('slope', axis = 1).values\n",
    "Y_testing_2 = testing_data_df_2[['slope']].values\n",
    "\n",
    "# setup data scalers\n",
    "X_scaler_2 = MinMaxScaler(feature_range = (0,1))\n",
    "Y_scaler_2 = MinMaxScaler(feature_range = (0,1))\n",
    "\n",
    "# scale data\n",
    "X_scaled_training_2 = X_scaler_2.fit_transform(X_training_2)\n",
    "Y_scaled_training_2 = Y_scaler_2.fit_transform(Y_training_2)\n",
    "\n",
    "X_scaled_testing_2 = X_scaler_2.transform(X_testing_2)\n",
    "Y_scaled_testing_2 = Y_scaler_2.transform(Y_testing_2)"
   ]
  },
  {
   "cell_type": "code",
   "execution_count": null,
   "metadata": {
    "ExecuteTime": {
     "end_time": "2018-05-29T16:19:33.876513Z",
     "start_time": "2018-05-29T16:17:23.891733Z"
    }
   },
   "outputs": [],
   "source": [
    "with tf.Session() as session:\n",
    "\n",
    "    saver.restore(session,'logs/101_31_10_3_1_a_relu_model/trained_model.ckpt')\n",
    "\n",
    "\n",
    "    training_writer = tf.summary.FileWriter('logs/' + logdir + '_more_noise' + '/training', session.graph)\n",
    "    testing_writer = tf.summary.FileWriter('logs/' + logdir + '/testing', session.graph)\n",
    "\n",
    "    for epoch in range(training_epochs):\n",
    "        epoch = epoch + 2 * training_epochs\n",
    "        # Feed in the training data and do one stepf NN training\n",
    "        session.run(optimizer,\n",
    "                    feed_dict = {X: X_scaled_training_1, Y: Y_scaled_training_1})\n",
    "\n",
    "        training_feed = {X: X_scaled_training_1, Y: Y_scaled_training_1}\n",
    "        training_cost, training_summary = session.run([cost, summary],\n",
    "                                                feed_dict = training_feed)\n",
    "\n",
    "        testing_feed =  {X: X_scaled_testing_1, Y: Y_scaled_testing_1}\n",
    "        testing_cost, testing_summary = session.run([cost, summary],\n",
    "                                                     feed_dict = testing_feed)\n",
    "        sys.stdout.write('\\r epoch: {:4.0f} testing_cost: {:2.10f}'.format(epoch, testing_cost))\n",
    "        \n",
    "        training_writer.add_summary(training_summary, epoch)\n",
    "        testing_writer.add_summary(testing_summary, epoch)\n",
    "        testing_writer.flush()\n",
    "        training_writer.flush()\n",
    "\n",
    "    model_save_location = 'logs/' + logdir + '_model_more_noise' + '/trained_model.ckpt'\n",
    "    save_path = saver.save(session, model_save_location)"
   ]
  },
  {
   "cell_type": "code",
   "execution_count": null,
   "metadata": {
    "ExecuteTime": {
     "end_time": "2018-05-29T16:20:17.924998Z",
     "start_time": "2018-05-29T16:20:17.840905Z"
    }
   },
   "outputs": [],
   "source": [
    "with tf.Session() as session:\n",
    "    saver.restore(session,'logs/101_31_10_3_1_a_relu_model_more_noise/trained_model.ckpt')\n",
    "    \n",
    "    prediction_scaled = session.run(prediction, feed_dict = {X: X_scaled_testing_1})\n",
    "    \n",
    "    # the predictions but in the original units\n",
    "    prediction_unscaled = Y_scaler_1.inverse_transform(prediction_scaled)"
   ]
  },
  {
   "cell_type": "code",
   "execution_count": null,
   "metadata": {
    "ExecuteTime": {
     "end_time": "2018-05-29T16:20:19.306047Z",
     "start_time": "2018-05-29T16:20:18.801677Z"
    }
   },
   "outputs": [],
   "source": [
    "sorting_idx = np.argsort(Y_testing_1.T[0])\n",
    "\n",
    "fig, ax = plt.subplots(figsize = (8.5, 3), dpi = 100)\n",
    "\n",
    "ax.set_title('NN predictions vs actual, final testing cost ?')\n",
    "ax.plot(prediction_unscaled.T[0][sorting_idx],\n",
    "        linestyle = 'none', marker = '.', markersize = 1,\n",
    "        color = 'darkblue', label = 'Prediction')\n",
    "\n",
    "ax.plot(Y_testing_1.T[0][sorting_idx],\n",
    "        linestyle = 'none', marker = '.', markersize = 1, alpha = 0.75, \n",
    "        color = '#E50000', label = 'Actual')\n",
    "\n",
    "ax.set_ylabel(r'$\\tau$ [ ns ]')\n",
    "ax.set_xlabel(r'$\\texttt{Y\\_testing}$ sample number')\n",
    "ax.legend( loc = 'best')\n",
    "plt.show()"
   ]
  },
  {
   "cell_type": "code",
   "execution_count": null,
   "metadata": {
    "ExecuteTime": {
     "end_time": "2018-05-29T16:20:26.683971Z",
     "start_time": "2018-05-29T16:20:26.675414Z"
    }
   },
   "outputs": [],
   "source": [
    "NN_SCORE = sum((Y_scaled_testing_1.T[0] - prediction_scaled.T[0])**2)\n",
    "NN_SCORE"
   ]
  },
  {
   "cell_type": "code",
   "execution_count": null,
   "metadata": {
    "ExecuteTime": {
     "end_time": "2018-05-29T16:20:27.875305Z",
     "start_time": "2018-05-29T16:20:27.867870Z"
    }
   },
   "outputs": [],
   "source": [
    "np.std(abs(Y_testing_1.T[0] - prediction_unscaled.T[0]))"
   ]
  },
  {
   "cell_type": "code",
   "execution_count": null,
   "metadata": {
    "ExecuteTime": {
     "end_time": "2018-05-29T16:20:28.675482Z",
     "start_time": "2018-05-29T16:20:28.667209Z"
    }
   },
   "outputs": [],
   "source": [
    "np.mean(abs(Y_testing_1.T[0] - prediction_unscaled.T[0]))"
   ]
  },
  {
   "cell_type": "code",
   "execution_count": null,
   "metadata": {
    "ExecuteTime": {
     "end_time": "2018-05-29T16:23:16.432383Z",
     "start_time": "2018-05-29T16:21:06.503848Z"
    }
   },
   "outputs": [],
   "source": [
    "with tf.Session() as session:\n",
    "\n",
    "    saver.restore(session,'logs/101_31_10_3_1_a_relu_model/trained_model.ckpt')\n",
    "\n",
    "    training_writer = tf.summary.FileWriter('logs/' + logdir + '_more_noise' + '/training', session.graph)\n",
    "    testing_writer = tf.summary.FileWriter('logs/' + logdir + '_more_noise' + '/testing', session.graph)\n",
    "\n",
    "    for epoch in range(training_epochs):\n",
    "        epoch = epoch + 3 * training_epochs\n",
    "        # Feed in the training data and do one stepf NN training\n",
    "        session.run(optimizer,\n",
    "                    feed_dict = {X: X_scaled_training_1, Y: Y_scaled_training_1})\n",
    "\n",
    "        training_feed = {X: X_scaled_training_1, Y: Y_scaled_training_1}\n",
    "        training_cost, training_summary = session.run([cost, summary],\n",
    "                                                feed_dict = training_feed)\n",
    "\n",
    "        testing_feed =  {X: X_scaled_testing_1, Y: Y_scaled_testing_1}\n",
    "        testing_cost, testing_summary = session.run([cost, summary],\n",
    "                                                     feed_dict = testing_feed)\n",
    "        sys.stdout.write('\\r epoch: {:4.0f} testing_cost: {:2.10f}'.format(epoch, testing_cost))\n",
    "        \n",
    "        training_writer.add_summary(training_summary, epoch)\n",
    "        testing_writer.add_summary(testing_summary, epoch)\n",
    "        testing_writer.flush()\n",
    "        training_writer.flush()\n",
    "\n",
    "    model_save_location = 'logs/' + logdir + '_model_more_noise_2' + '/trained_model.ckpt'\n",
    "    save_path = saver.save(session, model_save_location)"
   ]
  },
  {
   "cell_type": "code",
   "execution_count": null,
   "metadata": {
    "ExecuteTime": {
     "end_time": "2018-05-29T16:24:15.493625Z",
     "start_time": "2018-05-29T16:24:15.384174Z"
    }
   },
   "outputs": [],
   "source": [
    "with tf.Session() as session:\n",
    "    saver.restore(session,'logs/101_31_10_3_1_a_relu_model_more_noise_2/trained_model.ckpt')\n",
    "    \n",
    "    prediction_scaled = session.run(prediction, feed_dict = {X: X_scaled_testing_1})\n",
    "    \n",
    "    # the predictions but in the original units\n",
    "    prediction_unscaled = Y_scaler_1.inverse_transform(prediction_scaled)"
   ]
  },
  {
   "cell_type": "code",
   "execution_count": null,
   "metadata": {
    "ExecuteTime": {
     "end_time": "2018-05-29T16:24:16.498116Z",
     "start_time": "2018-05-29T16:24:16.099127Z"
    }
   },
   "outputs": [],
   "source": [
    "sorting_idx = np.argsort(Y_testing_1.T[0])\n",
    "\n",
    "fig, ax = plt.subplots(figsize = (8.5, 3), dpi = 100)\n",
    "\n",
    "ax.set_title('NN predictions vs actual, final testing cost ?')\n",
    "ax.plot(prediction_unscaled.T[0][sorting_idx],\n",
    "        linestyle = 'none', marker = '.', markersize = 1,\n",
    "        color = 'darkblue', label = 'Prediction')\n",
    "\n",
    "ax.plot(Y_testing_1.T[0][sorting_idx],\n",
    "        linestyle = 'none', marker = '.', markersize = 1, alpha = 0.75, \n",
    "        color = '#E50000', label = 'Actual')\n",
    "\n",
    "ax.set_ylabel(r'$\\tau$ [ ns ]')\n",
    "ax.set_xlabel(r'$\\texttt{Y\\_testing}$ sample number')\n",
    "ax.legend( loc = 'best')\n",
    "plt.show()"
   ]
  },
  {
   "cell_type": "code",
   "execution_count": null,
   "metadata": {
    "ExecuteTime": {
     "end_time": "2018-05-29T16:24:19.765647Z",
     "start_time": "2018-05-29T16:24:19.757804Z"
    }
   },
   "outputs": [],
   "source": [
    "NN_SCORE = sum((Y_scaled_testing_1.T[0] - prediction_scaled.T[0])**2)\n",
    "NN_SCORE"
   ]
  },
  {
   "cell_type": "code",
   "execution_count": null,
   "metadata": {
    "ExecuteTime": {
     "end_time": "2018-05-29T16:24:20.500572Z",
     "start_time": "2018-05-29T16:24:20.490133Z"
    }
   },
   "outputs": [],
   "source": [
    "np.std(abs(Y_testing_1.T[0] - prediction_unscaled.T[0]))"
   ]
  },
  {
   "cell_type": "code",
   "execution_count": null,
   "metadata": {
    "ExecuteTime": {
     "end_time": "2018-05-29T16:24:21.139698Z",
     "start_time": "2018-05-29T16:24:21.130914Z"
    }
   },
   "outputs": [],
   "source": [
    "np.mean(abs(Y_testing_1.T[0] - prediction_unscaled.T[0]))"
   ]
  },
  {
   "cell_type": "code",
   "execution_count": null,
   "metadata": {},
   "outputs": [],
   "source": []
  },
  {
   "cell_type": "code",
   "execution_count": null,
   "metadata": {},
   "outputs": [],
   "source": []
  }
 ],
 "metadata": {
  "kernelspec": {
   "display_name": "Python 3",
   "language": "python",
   "name": "python3"
  },
  "language_info": {
   "codemirror_mode": {
    "name": "ipython",
    "version": 3
   },
   "file_extension": ".py",
   "mimetype": "text/x-python",
   "name": "python",
   "nbconvert_exporter": "python",
   "pygments_lexer": "ipython3",
   "version": "3.6.5"
  },
  "varInspector": {
   "cols": {
    "lenName": 16,
    "lenType": 16,
    "lenVar": 40
   },
   "kernels_config": {
    "python": {
     "delete_cmd_postfix": "",
     "delete_cmd_prefix": "del ",
     "library": "var_list.py",
     "varRefreshCmd": "print(var_dic_list())"
    },
    "r": {
     "delete_cmd_postfix": ") ",
     "delete_cmd_prefix": "rm(",
     "library": "var_list.r",
     "varRefreshCmd": "cat(var_dic_list()) "
    }
   },
   "types_to_exclude": [
    "module",
    "function",
    "builtin_function_or_method",
    "instance",
    "_Feature"
   ],
   "window_display": false
  }
 },
 "nbformat": 4,
 "nbformat_minor": 2
}
