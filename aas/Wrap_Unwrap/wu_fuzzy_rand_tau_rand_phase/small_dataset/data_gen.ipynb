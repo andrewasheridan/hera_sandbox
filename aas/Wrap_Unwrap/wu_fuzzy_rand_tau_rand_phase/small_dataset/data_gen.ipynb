{
 "cells": [
  {
   "cell_type": "code",
   "execution_count": 1,
   "metadata": {
    "ExecuteTime": {
     "end_time": "2018-05-29T19:00:44.234400Z",
     "start_time": "2018-05-29T19:00:43.389609Z"
    }
   },
   "outputs": [],
   "source": [
    "import pandas as pd"
   ]
  },
  {
   "cell_type": "code",
   "execution_count": 2,
   "metadata": {
    "ExecuteTime": {
     "end_time": "2018-05-29T19:00:44.267954Z",
     "start_time": "2018-05-29T19:00:44.255929Z"
    }
   },
   "outputs": [],
   "source": [
    "# frequencies\n",
    "# from 0.100 GHZ to 0.200 GHz, 1024 channels, \n",
    "# (9.77517107e-05 GHz per channel)\n",
    "freqs = np.linspace(0.1, 0.2, 1024)"
   ]
  },
  {
   "cell_type": "code",
   "execution_count": 3,
   "metadata": {
    "ExecuteTime": {
     "end_time": "2018-05-29T19:01:10.714532Z",
     "start_time": "2018-05-29T19:01:10.709638Z"
    }
   },
   "outputs": [],
   "source": [
    "get_slope = lambda x: np.mean((np.diff(np.unwrap(x))  / (2 * np.pi)) / np.diff(freqs))"
   ]
  },
  {
   "cell_type": "code",
   "execution_count": 7,
   "metadata": {
    "ExecuteTime": {
     "end_time": "2018-05-29T19:39:43.241209Z",
     "start_time": "2018-05-29T19:39:24.353760Z"
    }
   },
   "outputs": [],
   "source": [
    "rand_wangle_data = np.empty((num_taus, len(freqs)))\n",
    "slope_rwd = np.empty(num_taus)\n",
    "\n",
    "num_entries = 5000\n",
    "for i in range(num_entries):\n",
    "    \n",
    "    # random tau in a range with fuzzy edges...\n",
    "    tau = np.random.uniform(low = -100,\n",
    "                            high = 100) \n",
    "    phi = np.random.uniform(high = 2 * np.pi)\n",
    "    \n",
    "    rand_wangle_data[i] = np.angle(np.exp(2 * np.pi * 1j * (tau*freqs + phi)))\n",
    "    slope_rwd[i] = get_slope(rand_wangle_data[i])\n",
    "    noise = 0\n",
    "    if np.random.random() < 0.05:\n",
    "        noise = np.random.normal(scale = 0.1, size = len(freqs))\n",
    "    \n",
    "    rand_wangle_data[i] += noise\n",
    "    \n",
    "df = pd.DataFrame(rand_wangle_data)\n",
    "df.insert(0, 'slope', slope_rwd)\n",
    "df.to_csv('data/wu_small_dataset_b.csv', index = False)"
   ]
  },
  {
   "cell_type": "code",
   "execution_count": null,
   "metadata": {},
   "outputs": [],
   "source": [
    "# rand_wangle_data = np.empty((num_taus, len(freqs)))\n",
    "# slope_rwd = np.empty(num_taus)\n",
    "\n",
    "# num_entries = 2500\n",
    "# for i in range(num_entries):\n",
    "    \n",
    "#     # random tau in a range with fuzzy edges...\n",
    "#     tau = np.random.uniform(low = np.random.uniform(low = -110, high = -90),\n",
    "#                             high = np.random.uniform(low = 90, high = 110)) \n",
    "#     phi = np.random.uniform(high = 2 * np.pi)\n",
    "    \n",
    "#     rand_wangle_data[i] = np.angle(np.exp(2 * np.pi * 1j * (tau*freqs + phi)))\n",
    "#     slope_rwd[i] = get_slope(rand_wangle_data[i])\n",
    "#     noise = np.random.normal(scale = 0.1, size = len(freqs))\n",
    "#     rand_wangle_data[i] += noise\n",
    "    \n",
    "# df = pd.DataFrame(rand_wangle_data)\n",
    "# df.insert(0, 'slope', slope_rwd)\n",
    "# df.to_csv('data/wu_small_dataset_b.csv', index = False)"
   ]
  },
  {
   "cell_type": "code",
   "execution_count": null,
   "metadata": {},
   "outputs": [],
   "source": [
    "# rand_wangle_data = np.empty((num_taus, len(freqs)))\n",
    "# slope_rwd = np.empty(num_taus)\n",
    "\n",
    "# num_entries = 2500\n",
    "# for i in range(num_entries):\n",
    "    \n",
    "#     # random tau in a range with fuzzy edges...\n",
    "#     tau = np.random.uniform(low = np.random.uniform(low = -110, high = -90),\n",
    "#                             high = np.random.uniform(low = 90, high = 110)) \n",
    "#     phi = np.random.uniform(high = 2 * np.pi)\n",
    "    \n",
    "#     rand_wangle_data[i] = np.angle(np.exp(2 * np.pi * 1j * (tau*freqs + phi)))\n",
    "#     slope_rwd[i] = get_slope(rand_wangle_data[i])\n",
    "#     noise = np.random.normal(scale = 0.1, size = len(freqs))\n",
    "#     rand_wangle_data[i] += noise\n",
    "    \n",
    "# df = pd.DataFrame(rand_wangle_data)\n",
    "# df.insert(0, 'slope', slope_rwd)\n",
    "# df.to_csv('data/wu_small_dataset_c.csv', index = False)"
   ]
  }
 ],
 "metadata": {
  "kernelspec": {
   "display_name": "Python 3",
   "language": "python",
   "name": "python3"
  },
  "language_info": {
   "codemirror_mode": {
    "name": "ipython",
    "version": 3
   },
   "file_extension": ".py",
   "mimetype": "text/x-python",
   "name": "python",
   "nbconvert_exporter": "python",
   "pygments_lexer": "ipython3",
   "version": "3.6.5"
  },
  "varInspector": {
   "cols": {
    "lenName": 16,
    "lenType": 16,
    "lenVar": 40
   },
   "kernels_config": {
    "python": {
     "delete_cmd_postfix": "",
     "delete_cmd_prefix": "del ",
     "library": "var_list.py",
     "varRefreshCmd": "print(var_dic_list())"
    },
    "r": {
     "delete_cmd_postfix": ") ",
     "delete_cmd_prefix": "rm(",
     "library": "var_list.r",
     "varRefreshCmd": "cat(var_dic_list()) "
    }
   },
   "types_to_exclude": [
    "module",
    "function",
    "builtin_function_or_method",
    "instance",
    "_Feature"
   ],
   "window_display": false
  }
 },
 "nbformat": 4,
 "nbformat_minor": 2
}
