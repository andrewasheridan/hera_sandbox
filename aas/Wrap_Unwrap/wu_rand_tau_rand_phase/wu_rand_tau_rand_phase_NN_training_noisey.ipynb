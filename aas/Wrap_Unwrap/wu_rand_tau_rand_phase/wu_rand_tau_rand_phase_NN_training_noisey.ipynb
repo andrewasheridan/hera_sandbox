{
 "cells": [
  {
   "cell_type": "markdown",
   "metadata": {},
   "source": [
    "`wu_rand_tau_rand_phase_NN_training_noisey.ipynb`"
   ]
  },
  {
   "cell_type": "code",
   "execution_count": 1,
   "metadata": {
    "ExecuteTime": {
     "end_time": "2018-05-26T22:44:45.698234Z",
     "start_time": "2018-05-26T22:44:11.032466Z"
    }
   },
   "outputs": [],
   "source": [
    "import pandas as pd\n",
    "from sklearn.preprocessing import MinMaxScaler\n",
    "\n",
    "data_path = 'data/wrap_data_rand_tau_rand_phase_50000_noisey.csv'\n",
    "data_df = pd.read_csv(data_path, dtype = float)\n",
    "\n",
    "training_data_df = data_df.sample(frac = 0.8)\n",
    "testing_data_df = data_df.loc[~data_df.index.isin(training_data_df.index)]\n",
    "\n",
    "X_training = training_data_df.drop('slope', axis = 1).values\n",
    "Y_training = training_data_df[['slope']].values\n",
    "\n",
    "X_testing = testing_data_df.drop('slope', axis = 1).values\n",
    "Y_testing = testing_data_df[['slope']].values\n",
    "\n",
    "X_scaler = MinMaxScaler(feature_range = (0,1))\n",
    "Y_scaler = MinMaxScaler(feature_range = (0,1))\n",
    "\n",
    "X_scaled_training = X_scaler.fit_transform(X_training)\n",
    "Y_scaled_training = Y_scaler.fit_transform(Y_training)\n",
    "\n",
    "X_scaled_testing = X_scaler.transform(X_testing)\n",
    "Y_scaled_testing = Y_scaler.transform(Y_testing)\n",
    "\n",
    "number_of_inputs = X_scaled_training.shape[1]\n",
    "number_of_outputs = Y_scaled_training.shape[1]"
   ]
  },
  {
   "cell_type": "code",
   "execution_count": 2,
   "metadata": {
    "ExecuteTime": {
     "end_time": "2018-05-26T22:44:50.562629Z",
     "start_time": "2018-05-26T22:44:47.475788Z"
    }
   },
   "outputs": [
    {
     "name": "stderr",
     "output_type": "stream",
     "text": [
      "/Users/andrew/anaconda3/lib/python3.6/site-packages/h5py/__init__.py:36: FutureWarning: Conversion of the second argument of issubdtype from `float` to `np.floating` is deprecated. In future, it will be treated as `np.float64 == np.dtype(float).type`.\n",
      "  from ._conv import register_converters as _register_converters\n"
     ]
    }
   ],
   "source": [
    "import tensorflow as tf"
   ]
  },
  {
   "cell_type": "code",
   "execution_count": 3,
   "metadata": {
    "ExecuteTime": {
     "end_time": "2018-05-26T22:44:52.757131Z",
     "start_time": "2018-05-26T22:44:52.751077Z"
    }
   },
   "outputs": [],
   "source": [
    "import sys"
   ]
  },
  {
   "cell_type": "code",
   "execution_count": 4,
   "metadata": {
    "ExecuteTime": {
     "end_time": "2018-05-26T22:44:54.402302Z",
     "start_time": "2018-05-26T22:44:54.394647Z"
    }
   },
   "outputs": [],
   "source": [
    "learning_rate = 0.0015\n",
    "training_epochs = 2000\n",
    "\n",
    "layer_1_nodes = 115\n",
    "layer_2_nodes = 280\n",
    "layer_3_nodes = 150"
   ]
  },
  {
   "cell_type": "code",
   "execution_count": 5,
   "metadata": {
    "ExecuteTime": {
     "end_time": "2018-05-26T22:44:55.771096Z",
     "start_time": "2018-05-26T22:44:55.764307Z"
    }
   },
   "outputs": [],
   "source": [
    "logdir = 'rand_tau_rand_phase_50000_noisey/'\n",
    "layer_code = '115_180_150_a'"
   ]
  },
  {
   "cell_type": "code",
   "execution_count": 6,
   "metadata": {
    "ExecuteTime": {
     "end_time": "2018-05-26T22:45:08.051801Z",
     "start_time": "2018-05-26T22:44:57.193348Z"
    }
   },
   "outputs": [],
   "source": [
    "tf.reset_default_graph()\n",
    "\n",
    "# Input Layer\n",
    "with tf.variable_scope('input'):\n",
    "    X  = tf.placeholder(tf.float32, shape = (None, number_of_inputs))\n",
    "\n",
    "# Layer 1\n",
    "with tf.variable_scope('layer_1'):\n",
    "\n",
    "    biases = tf.get_variable(name = \"biases1\",\n",
    "                             shape = [layer_1_nodes],\n",
    "                             initializer = tf.zeros_initializer())\n",
    "\n",
    "    weights = tf.get_variable(name = \"weights1\",\n",
    "                              shape  = [number_of_inputs, layer_1_nodes],\n",
    "                         initializer = tf.contrib.layers.xavier_initializer())\n",
    "\n",
    "\n",
    "    layer_1_output = tf.nn.relu(tf.matmul(X, weights) + biases)\n",
    "\n",
    "# Layer 2\n",
    "with tf.variable_scope('layer_2'):\n",
    "\n",
    "    biases = tf.get_variable(name = \"biases2\",\n",
    "                             shape = [layer_2_nodes],\n",
    "                             initializer = tf.zeros_initializer())\n",
    "\n",
    "    weights = tf.get_variable(name = \"weights2\",\n",
    "                              shape  = [layer_1_nodes, layer_2_nodes],\n",
    "                         initializer = tf.contrib.layers.xavier_initializer())\n",
    "\n",
    "\n",
    "    layer_2_output = tf.nn.relu(tf.matmul(layer_1_output, weights) + biases)\n",
    "\n",
    "# Layer 3\n",
    "with tf.variable_scope('layer_3'):\n",
    "\n",
    "    biases = tf.get_variable(name = \"biases3\",\n",
    "                             shape = [layer_3_nodes],\n",
    "                             initializer = tf.zeros_initializer())\n",
    "\n",
    "    weights = tf.get_variable(name = \"weights3\",\n",
    "                              shape  = [layer_2_nodes, layer_3_nodes],\n",
    "                         initializer = tf.contrib.layers.xavier_initializer())\n",
    "\n",
    "\n",
    "    layer_3_output = tf.nn.relu(tf.matmul(layer_2_output, weights) + biases)\n",
    "\n",
    "# Output layer\n",
    "\n",
    "with tf.variable_scope('output'):\n",
    "\n",
    "    biases = tf.get_variable(name = \"biases_out\",\n",
    "                             shape = [number_of_outputs],\n",
    "                             initializer = tf.zeros_initializer())\n",
    "\n",
    "    weights = tf.get_variable(name = \"weights_out\",\n",
    "                              shape  = [layer_3_nodes, number_of_outputs],\n",
    "                         initializer = tf.contrib.layers.xavier_initializer())\n",
    "\n",
    "\n",
    "    prediction = tf.nn.relu(tf.matmul(layer_3_output, weights) + biases)\n",
    "\n",
    "with tf.variable_scope('cost'):\n",
    "\n",
    "    Y = tf.placeholder(tf.float32, shape = (None, 1))\n",
    "    cost = tf.reduce_mean(tf.squared_difference(prediction, Y))\n",
    "\n",
    "\n",
    "with tf.variable_scope('train'):\n",
    "    optimizer = tf.train.AdamOptimizer(learning_rate, epsilon=1e-08).minimize(cost)\n",
    "\n",
    "with tf.variable_scope('logging'):\n",
    "    tf.summary.scalar('current_cost', cost)\n",
    "    summary = tf.summary.merge_all()"
   ]
  },
  {
   "cell_type": "code",
   "execution_count": 7,
   "metadata": {
    "ExecuteTime": {
     "end_time": "2018-05-27T08:51:57.974040Z",
     "start_time": "2018-05-26T22:45:09.457757Z"
    },
    "scrolled": false
   },
   "outputs": [
    {
     "name": "stdout",
     "output_type": "stream",
     "text": [
      " epoch: 1999 training_cost: 0.0032246750779449945"
     ]
    }
   ],
   "source": [
    "saver = tf.train.Saver()\n",
    "\n",
    "with tf.Session() as session:\n",
    "\n",
    "    session.run(tf.global_variables_initializer())\n",
    "\n",
    "    training_writer = tf.summary.FileWriter('logs/' + logdir + layer_code + '/training', session.graph)\n",
    "    testing_writer = tf.summary.FileWriter('logs/' + logdir + layer_code + '/testing', session.graph)\n",
    "\n",
    "    for epoch in range(training_epochs):\n",
    "\n",
    "        # Feed in the training data and do one stepf NN training\n",
    "        session.run(optimizer,\n",
    "                    feed_dict = {X: X_scaled_training, Y: Y_scaled_training})\n",
    "\n",
    "        training_feed = {X: X_scaled_training, Y: Y_scaled_training}\n",
    "        training_cost, training_summary = session.run([cost, summary],\n",
    "                                                feed_dict = training_feed)\n",
    "\n",
    "        testing_feed =  {X: X_scaled_testing, Y: Y_scaled_testing}\n",
    "        testing_cost, testing_summary = session.run([cost, summary],\n",
    "                                                     feed_dict = testing_feed)\n",
    "        sys.stdout.write('\\r epoch: {} training_cost: {}'.format(epoch, training_cost))\n",
    "        \n",
    "        training_writer.add_summary(training_summary, epoch)\n",
    "        testing_writer.add_summary(testing_summary, epoch)\n",
    "        testing_writer.flush()\n",
    "        training_writer.flush()\n",
    "\n",
    "    model_save_location = 'logs/' + logdir + layer_code + '_model' + '/trained_model.ckpt'\n",
    "    save_path = saver.save(session, model_save_location)"
   ]
  },
  {
   "cell_type": "code",
   "execution_count": 8,
   "metadata": {
    "ExecuteTime": {
     "end_time": "2018-05-27T08:52:00.234043Z",
     "start_time": "2018-05-27T08:51:59.804829Z"
    }
   },
   "outputs": [
    {
     "name": "stdout",
     "output_type": "stream",
     "text": [
      "INFO:tensorflow:Restoring parameters from logs/rand_tau_rand_phase_50000_noisey/115_180_150_a_model/trained_model.ckpt\n"
     ]
    }
   ],
   "source": [
    "with tf.Session() as session:\n",
    "    saver.restore(session,'logs/rand_tau_rand_phase_50000_noisey/'+layer_code+'_model/trained_model.ckpt')\n",
    "    \n",
    "    prediction_scaled = session.run(prediction, feed_dict = {X: X_scaled_testing})\n",
    "    prediction_unscaled = Y_scaler.inverse_transform(prediction_scaled)"
   ]
  },
  {
   "cell_type": "code",
   "execution_count": 9,
   "metadata": {
    "ExecuteTime": {
     "end_time": "2018-05-27T08:52:01.880097Z",
     "start_time": "2018-05-27T08:52:01.853383Z"
    }
   },
   "outputs": [
    {
     "data": {
      "text/plain": [
       "array([0.39565346, 0.6252804 , 0.7041786 , 0.23414461, 0.48631594,\n",
       "       0.1419201 , 0.8397275 , 0.39780837, 1.0349864 , 0.12360985],\n",
       "      dtype=float32)"
      ]
     },
     "execution_count": 9,
     "metadata": {},
     "output_type": "execute_result"
    }
   ],
   "source": [
    "prediction_scaled.T[0][0:10]"
   ]
  },
  {
   "cell_type": "code",
   "execution_count": 10,
   "metadata": {
    "ExecuteTime": {
     "end_time": "2018-05-27T08:52:03.554060Z",
     "start_time": "2018-05-27T08:52:03.545114Z"
    }
   },
   "outputs": [
    {
     "data": {
      "text/plain": [
       "array([0.375, 0.675, 0.75 , 0.275, 0.5  , 0.15 , 0.9  , 0.4  , 1.   ,\n",
       "       0.125])"
      ]
     },
     "execution_count": 10,
     "metadata": {},
     "output_type": "execute_result"
    }
   ],
   "source": [
    "Y_scaled_testing.T[0][0:10]"
   ]
  },
  {
   "cell_type": "code",
   "execution_count": 11,
   "metadata": {
    "ExecuteTime": {
     "end_time": "2018-05-27T08:52:06.236065Z",
     "start_time": "2018-05-27T08:52:05.233484Z"
    }
   },
   "outputs": [
    {
     "data": {
      "text/plain": [
       "<matplotlib.figure.Figure at 0x1a252630b8>"
      ]
     },
     "metadata": {},
     "output_type": "display_data"
    }
   ],
   "source": [
    "import matplotlib.pyplot as plt\n",
    "\n",
    "idx = np.argsort(Y_scaled_testing.T[0])\n",
    "plt.plot(prediction_scaled.T[0][idx], ls = 'none', marker = '.')\n",
    "plt.plot(Y_scaled_testing.T[0][idx], ls = 'none', marker = '.')\n",
    "\n",
    "plt.show()"
   ]
  },
  {
   "cell_type": "code",
   "execution_count": 12,
   "metadata": {
    "ExecuteTime": {
     "end_time": "2018-05-27T08:52:07.869251Z",
     "start_time": "2018-05-27T08:52:07.850418Z"
    }
   },
   "outputs": [
    {
     "data": {
      "text/plain": [
       "39.86190907491009"
      ]
     },
     "execution_count": 12,
     "metadata": {},
     "output_type": "execute_result"
    }
   ],
   "source": [
    "sum((prediction_scaled.T[0] - Y_scaled_testing.T[0])**2)"
   ]
  },
  {
   "cell_type": "code",
   "execution_count": null,
   "metadata": {},
   "outputs": [],
   "source": []
  }
 ],
 "metadata": {
  "kernelspec": {
   "display_name": "Python 3",
   "language": "python",
   "name": "python3"
  },
  "language_info": {
   "codemirror_mode": {
    "name": "ipython",
    "version": 3
   },
   "file_extension": ".py",
   "mimetype": "text/x-python",
   "name": "python",
   "nbconvert_exporter": "python",
   "pygments_lexer": "ipython3",
   "version": "3.6.5"
  },
  "varInspector": {
   "cols": {
    "lenName": 16,
    "lenType": 16,
    "lenVar": 40
   },
   "kernels_config": {
    "python": {
     "delete_cmd_postfix": "",
     "delete_cmd_prefix": "del ",
     "library": "var_list.py",
     "varRefreshCmd": "print(var_dic_list())"
    },
    "r": {
     "delete_cmd_postfix": ") ",
     "delete_cmd_prefix": "rm(",
     "library": "var_list.r",
     "varRefreshCmd": "cat(var_dic_list()) "
    }
   },
   "types_to_exclude": [
    "module",
    "function",
    "builtin_function_or_method",
    "instance",
    "_Feature"
   ],
   "window_display": false
  }
 },
 "nbformat": 4,
 "nbformat_minor": 2
}
