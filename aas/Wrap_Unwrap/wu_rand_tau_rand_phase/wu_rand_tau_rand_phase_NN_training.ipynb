{
 "cells": [
  {
   "cell_type": "markdown",
   "metadata": {},
   "source": [
    "`wu_rand_tau_rand_phase_NN_training.ipynb`"
   ]
  },
  {
   "cell_type": "code",
   "execution_count": 33,
   "metadata": {
    "ExecuteTime": {
     "end_time": "2018-05-26T20:34:56.557876Z",
     "start_time": "2018-05-26T20:34:50.678078Z"
    }
   },
   "outputs": [],
   "source": [
    "import pandas as pd\n",
    "from sklearn.preprocessing import MinMaxScaler\n",
    "\n",
    "data_path = 'data/wrap_data_rand_tau_rand_phase_10000.csv'\n",
    "data_df = pd.read_csv(data_path, dtype = float)\n",
    "\n",
    "training_data_df = data_df.sample(frac = 0.8)\n",
    "testing_data_df = data_df.loc[~data_df.index.isin(training_data_df.index)]\n",
    "\n",
    "X_training = training_data_df.drop('slope', axis = 1).values\n",
    "Y_training = training_data_df[['slope']].values\n",
    "\n",
    "X_testing = testing_data_df.drop('slope', axis = 1).values\n",
    "Y_testing = testing_data_df[['slope']].values\n",
    "\n",
    "X_scaler = MinMaxScaler(feature_range = (0,1))\n",
    "Y_scaler = MinMaxScaler(feature_range = (0,1))\n",
    "\n",
    "X_scaled_training = X_scaler.fit_transform(X_training)\n",
    "Y_scaled_training = Y_scaler.fit_transform(Y_training)\n",
    "\n",
    "X_scaled_testing = X_scaler.transform(X_testing)\n",
    "Y_scaled_testing = Y_scaler.transform(Y_testing)\n",
    "\n",
    "number_of_inputs = X_scaled_training.shape[1]\n",
    "number_of_outputs = Y_scaled_training.shape[1]"
   ]
  },
  {
   "cell_type": "code",
   "execution_count": 34,
   "metadata": {
    "ExecuteTime": {
     "end_time": "2018-05-26T20:34:57.343582Z",
     "start_time": "2018-05-26T20:34:57.334725Z"
    }
   },
   "outputs": [],
   "source": [
    "import tensorflow as tf"
   ]
  },
  {
   "cell_type": "code",
   "execution_count": 35,
   "metadata": {
    "ExecuteTime": {
     "end_time": "2018-05-26T20:34:58.007813Z",
     "start_time": "2018-05-26T20:34:58.001145Z"
    }
   },
   "outputs": [],
   "source": [
    "import sys"
   ]
  },
  {
   "cell_type": "code",
   "execution_count": 36,
   "metadata": {
    "ExecuteTime": {
     "end_time": "2018-05-26T20:34:58.683902Z",
     "start_time": "2018-05-26T20:34:58.675634Z"
    }
   },
   "outputs": [],
   "source": [
    "learning_rate = 0.0015\n",
    "training_epochs = 2500\n",
    "\n",
    "layer_1_nodes = 115\n",
    "layer_2_nodes = 280\n",
    "layer_3_nodes = 160"
   ]
  },
  {
   "cell_type": "code",
   "execution_count": 37,
   "metadata": {
    "ExecuteTime": {
     "end_time": "2018-05-26T20:35:02.149692Z",
     "start_time": "2018-05-26T20:35:02.144433Z"
    }
   },
   "outputs": [],
   "source": [
    "logdir = 'rand_tau_rand_phase_10000/'\n",
    "layer_code = '115_280_160_a'"
   ]
  },
  {
   "cell_type": "code",
   "execution_count": 38,
   "metadata": {
    "ExecuteTime": {
     "end_time": "2018-05-26T20:35:03.349118Z",
     "start_time": "2018-05-26T20:35:02.890146Z"
    }
   },
   "outputs": [],
   "source": [
    "tf.reset_default_graph()\n",
    "\n",
    "# Input Layer\n",
    "with tf.variable_scope('input'):\n",
    "    X  = tf.placeholder(tf.float32, shape = (None, number_of_inputs))\n",
    "\n",
    "# Layer 1\n",
    "with tf.variable_scope('layer_1'):\n",
    "\n",
    "    biases = tf.get_variable(name = \"biases1\",\n",
    "                             shape = [layer_1_nodes],\n",
    "                             initializer = tf.zeros_initializer())\n",
    "\n",
    "    weights = tf.get_variable(name = \"weights1\",\n",
    "                              shape  = [number_of_inputs, layer_1_nodes],\n",
    "                         initializer = tf.contrib.layers.xavier_initializer())\n",
    "\n",
    "\n",
    "    layer_1_output = tf.nn.relu(tf.matmul(X, weights) + biases)\n",
    "\n",
    "# Layer 2\n",
    "with tf.variable_scope('layer_2'):\n",
    "\n",
    "    biases = tf.get_variable(name = \"biases2\",\n",
    "                             shape = [layer_2_nodes],\n",
    "                             initializer = tf.zeros_initializer())\n",
    "\n",
    "    weights = tf.get_variable(name = \"weights2\",\n",
    "                              shape  = [layer_1_nodes, layer_2_nodes],\n",
    "                         initializer = tf.contrib.layers.xavier_initializer())\n",
    "\n",
    "\n",
    "    layer_2_output = tf.nn.relu(tf.matmul(layer_1_output, weights) + biases)\n",
    "\n",
    "# Layer 3\n",
    "with tf.variable_scope('layer_3'):\n",
    "\n",
    "    biases = tf.get_variable(name = \"biases3\",\n",
    "                             shape = [layer_3_nodes],\n",
    "                             initializer = tf.zeros_initializer())\n",
    "\n",
    "    weights = tf.get_variable(name = \"weights3\",\n",
    "                              shape  = [layer_2_nodes, layer_3_nodes],\n",
    "                         initializer = tf.contrib.layers.xavier_initializer())\n",
    "\n",
    "\n",
    "    layer_3_output = tf.nn.relu(tf.matmul(layer_2_output, weights) + biases)\n",
    "\n",
    "# Output layer\n",
    "\n",
    "with tf.variable_scope('output'):\n",
    "\n",
    "    biases = tf.get_variable(name = \"biases_out\",\n",
    "                             shape = [number_of_outputs],\n",
    "                             initializer = tf.zeros_initializer())\n",
    "\n",
    "    weights = tf.get_variable(name = \"weights_out\",\n",
    "                              shape  = [layer_3_nodes, number_of_outputs],\n",
    "                         initializer = tf.contrib.layers.xavier_initializer())\n",
    "\n",
    "\n",
    "    prediction = tf.nn.relu(tf.matmul(layer_3_output, weights) + biases)\n",
    "\n",
    "with tf.variable_scope('cost'):\n",
    "\n",
    "    Y = tf.placeholder(tf.float32, shape = (None, 1))\n",
    "    cost = tf.reduce_mean(tf.squared_difference(prediction, Y))\n",
    "\n",
    "\n",
    "with tf.variable_scope('train'):\n",
    "    optimizer = tf.train.AdamOptimizer(learning_rate, epsilon=1e-08).minimize(cost)\n",
    "\n",
    "with tf.variable_scope('logging'):\n",
    "    tf.summary.scalar('current_cost', cost)\n",
    "    summary = tf.summary.merge_all()"
   ]
  },
  {
   "cell_type": "code",
   "execution_count": 39,
   "metadata": {
    "ExecuteTime": {
     "end_time": "2018-05-26T20:49:16.921336Z",
     "start_time": "2018-05-26T20:35:04.967838Z"
    },
    "scrolled": false
   },
   "outputs": [
    {
     "name": "stdout",
     "output_type": "stream",
     "text": [
      " epoch: 2499 training_cost: 4.060926949023269e-055"
     ]
    }
   ],
   "source": [
    "saver = tf.train.Saver()\n",
    "\n",
    "with tf.Session() as session:\n",
    "\n",
    "    session.run(tf.global_variables_initializer())\n",
    "\n",
    "    training_writer = tf.summary.FileWriter('logs/' + logdir + layer_code + '/training', session.graph)\n",
    "    testing_writer = tf.summary.FileWriter('logs/' + logdir + layer_code + '/testing', session.graph)\n",
    "\n",
    "    for epoch in range(training_epochs):\n",
    "\n",
    "        # Feed in the training data and do one stepf NN training\n",
    "        session.run(optimizer,\n",
    "                    feed_dict = {X: X_scaled_training, Y: Y_scaled_training})\n",
    "\n",
    "        training_feed = {X: X_scaled_training, Y: Y_scaled_training}\n",
    "        training_cost, training_summary = session.run([cost, summary],\n",
    "                                                feed_dict = training_feed)\n",
    "\n",
    "        testing_feed =  {X: X_scaled_testing, Y: Y_scaled_testing}\n",
    "        testing_cost, testing_summary = session.run([cost, summary],\n",
    "                                                     feed_dict = testing_feed)\n",
    "        sys.stdout.write('\\r epoch: {} training_cost: {}'.format(epoch, training_cost))\n",
    "        \n",
    "        training_writer.add_summary(training_summary, epoch)\n",
    "        testing_writer.add_summary(testing_summary, epoch)\n",
    "        testing_writer.flush()\n",
    "        training_writer.flush()\n",
    "\n",
    "    model_save_location = 'logs/' + logdir + layer_code + '_model' + '/trained_model.ckpt'\n",
    "    save_path = saver.save(session, model_save_location)"
   ]
  },
  {
   "cell_type": "code",
   "execution_count": 40,
   "metadata": {
    "ExecuteTime": {
     "end_time": "2018-05-26T20:49:17.604788Z",
     "start_time": "2018-05-26T20:49:17.499183Z"
    }
   },
   "outputs": [
    {
     "name": "stdout",
     "output_type": "stream",
     "text": [
      "INFO:tensorflow:Restoring parameters from logs/rand_tau_rand_phase_10000/115_280_160_a_model/trained_model.ckpt\n"
     ]
    }
   ],
   "source": [
    "with tf.Session() as session:\n",
    "    saver.restore(session,'logs/rand_tau_rand_phase_10000/115_280_160_a_model/trained_model.ckpt')\n",
    "    \n",
    "    prediction_scaled = session.run(prediction, feed_dict = {X: X_scaled_testing})\n",
    "    prediction_unscaled = Y_scaler.inverse_transform(prediction_scaled)"
   ]
  },
  {
   "cell_type": "code",
   "execution_count": 41,
   "metadata": {
    "ExecuteTime": {
     "end_time": "2018-05-26T20:49:18.284562Z",
     "start_time": "2018-05-26T20:49:18.271635Z"
    }
   },
   "outputs": [
    {
     "data": {
      "text/plain": [
       "array([0.8709155 , 0.74377584, 0.5573994 , 0.41792035, 0.8966483 ,\n",
       "       0.5481466 , 0.97134805, 0.14683822, 0.9208999 , 0.39718887],\n",
       "      dtype=float32)"
      ]
     },
     "execution_count": 41,
     "metadata": {},
     "output_type": "execute_result"
    }
   ],
   "source": [
    "prediction_scaled.T[0][0:10]"
   ]
  },
  {
   "cell_type": "code",
   "execution_count": 42,
   "metadata": {
    "ExecuteTime": {
     "end_time": "2018-05-26T20:49:18.870516Z",
     "start_time": "2018-05-26T20:49:18.856328Z"
    }
   },
   "outputs": [
    {
     "data": {
      "text/plain": [
       "array([0.875, 0.75 , 0.575, 0.425, 0.9  , 0.55 , 0.975, 0.15 , 0.925,\n",
       "       0.4  ])"
      ]
     },
     "execution_count": 42,
     "metadata": {},
     "output_type": "execute_result"
    }
   ],
   "source": [
    "Y_scaled_testing.T[0][0:10]"
   ]
  },
  {
   "cell_type": "code",
   "execution_count": 43,
   "metadata": {
    "ExecuteTime": {
     "end_time": "2018-05-26T20:49:19.644244Z",
     "start_time": "2018-05-26T20:49:19.474436Z"
    }
   },
   "outputs": [
    {
     "data": {
      "image/png": "[encoded data removed]",
      "text/plain": [
       "<matplotlib.figure.Figure at 0x1a110d06a0>"
      ]
     },
     "metadata": {},
     "output_type": "display_data"
    }
   ],
   "source": [
    "import matplotlib.pyplot as plt\n",
    "\n",
    "idx = np.argsort(Y_scaled_testing.T[0])\n",
    "plt.plot(Y_scaled_testing.T[0][idx], ls = 'none', marker = '.')\n",
    "plt.plot(prediction_scaled.T[0][idx], ls = 'none', marker = '.')\n",
    "plt.show()"
   ]
  },
  {
   "cell_type": "code",
   "execution_count": 44,
   "metadata": {
    "ExecuteTime": {
     "end_time": "2018-05-26T20:49:55.634751Z",
     "start_time": "2018-05-26T20:49:55.626446Z"
    }
   },
   "outputs": [
    {
     "data": {
      "text/plain": [
       "0.07892538294487406"
      ]
     },
     "execution_count": 44,
     "metadata": {},
     "output_type": "execute_result"
    }
   ],
   "source": [
    "sum((prediction_scaled.T[0] - Y_scaled_testing.T[0])**2)"
   ]
  },
  {
   "cell_type": "code",
   "execution_count": null,
   "metadata": {},
   "outputs": [],
   "source": []
  }
 ],
 "metadata": {
  "kernelspec": {
   "display_name": "Python 3",
   "language": "python",
   "name": "python3"
  },
  "language_info": {
   "codemirror_mode": {
    "name": "ipython",
    "version": 3
   },
   "file_extension": ".py",
   "mimetype": "text/x-python",
   "name": "python",
   "nbconvert_exporter": "python",
   "pygments_lexer": "ipython3",
   "version": "3.6.5"
  },
  "varInspector": {
   "cols": {
    "lenName": 16,
    "lenType": 16,
    "lenVar": 40
   },
   "kernels_config": {
    "python": {
     "delete_cmd_postfix": "",
     "delete_cmd_prefix": "del ",
     "library": "var_list.py",
     "varRefreshCmd": "print(var_dic_list())"
    },
    "r": {
     "delete_cmd_postfix": ") ",
     "delete_cmd_prefix": "rm(",
     "library": "var_list.r",
     "varRefreshCmd": "cat(var_dic_list()) "
    }
   },
   "types_to_exclude": [
    "module",
    "function",
    "builtin_function_or_method",
    "instance",
    "_Feature"
   ],
   "window_display": false
  }
 },
 "nbformat": 4,
 "nbformat_minor": 2
}
