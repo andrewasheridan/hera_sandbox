{
 "cells": [
  {
   "cell_type": "markdown",
   "metadata": {},
   "source": [
    "`wu_iterative_NN_training_copy.ipynb`"
   ]
  },
  {
   "cell_type": "code",
   "execution_count": 1,
   "metadata": {
    "ExecuteTime": {
     "end_time": "2018-05-28T06:21:30.868320Z",
     "start_time": "2018-05-28T06:21:27.788495Z"
    }
   },
   "outputs": [
    {
     "name": "stderr",
     "output_type": "stream",
     "text": [
      "/Users/andrew/anaconda3/lib/python3.6/site-packages/h5py/__init__.py:36: FutureWarning: Conversion of the second argument of issubdtype from `float` to `np.floating` is deprecated. In future, it will be treated as `np.float64 == np.dtype(float).type`.\n",
      "  from ._conv import register_converters as _register_converters\n"
     ]
    },
    {
     "data": {
      "text/html": [
       "<style>.container { width:100% !important; }</style>"
      ],
      "text/plain": [
       "<IPython.core.display.HTML object>"
      ]
     },
     "metadata": {},
     "output_type": "display_data"
    }
   ],
   "source": [
    "import pandas as pd, tensorflow as tf,  matplotlib.pyplot as plt, sys\n",
    "from sklearn.preprocessing import MinMaxScaler\n",
    "\n",
    "from matplotlib.ticker import MultipleLocator, FormatStrFormatter, FuncFormatter\n",
    "from plot_styles import set_plotstyles\n",
    "set_plotstyles()\n",
    "%config InlineBackend.figure_format = 'retina'\n",
    "\n",
    "from IPython.core.display import display, HTML\n",
    "display(HTML(\"<style>.container { width:100% !important; }</style>\"))"
   ]
  },
  {
   "cell_type": "code",
   "execution_count": 2,
   "metadata": {
    "ExecuteTime": {
     "end_time": "2018-05-28T06:21:37.565446Z",
     "start_time": "2018-05-28T06:21:31.681111Z"
    }
   },
   "outputs": [],
   "source": [
    "#import data\n",
    "data_path = 'data/wu_zero_phase.csv'\n",
    "data_df = pd.read_csv(data_path, dtype = float)\n",
    "\n",
    "# split random 80% / 20%\n",
    "training_data_df = data_df.sample(frac = 0.8)\n",
    "testing_data_df = data_df.loc[~data_df.index.isin(training_data_df.index)]\n",
    "\n",
    "# separate input features from output\n",
    "X_training = training_data_df.drop('slope', axis = 1).values\n",
    "Y_training = training_data_df[['slope']].values\n",
    "\n",
    "X_testing = testing_data_df.drop('slope', axis = 1).values\n",
    "Y_testing = testing_data_df[['slope']].values\n",
    "\n",
    "# setup data scalers\n",
    "X_scaler = MinMaxScaler(feature_range = (0,1))\n",
    "Y_scaler = MinMaxScaler(feature_range = (0,1))\n",
    "\n",
    "# scale data\n",
    "X_scaled_training = X_scaler.fit_transform(X_training)\n",
    "Y_scaled_training = Y_scaler.fit_transform(Y_training)\n",
    "\n",
    "X_scaled_testing = X_scaler.transform(X_testing)\n",
    "Y_scaled_testing = Y_scaler.transform(Y_testing)"
   ]
  },
  {
   "cell_type": "code",
   "execution_count": 3,
   "metadata": {
    "ExecuteTime": {
     "end_time": "2018-05-28T06:21:38.104708Z",
     "start_time": "2018-05-28T06:21:38.096406Z"
    }
   },
   "outputs": [],
   "source": [
    "number_of_inputs = X_scaled_training.shape[1]\n",
    "number_of_outputs = Y_scaled_training.shape[1]"
   ]
  },
  {
   "cell_type": "code",
   "execution_count": 8,
   "metadata": {
    "ExecuteTime": {
     "end_time": "2018-05-28T06:27:24.959340Z",
     "start_time": "2018-05-28T06:27:24.938924Z"
    }
   },
   "outputs": [],
   "source": [
    "num_layers = 9\n",
    "r = (number_of_inputs/number_of_outputs)**(1/(num_layers + 1))\n",
    "\n",
    "layer_1_nodes = int(number_of_outputs * r**9)\n",
    "layer_2_nodes = int(number_of_outputs * r**8)\n",
    "layer_3_nodes = int(number_of_outputs * r**7)\n",
    "layer_4_nodes = int(number_of_outputs * r**6)\n",
    "layer_5_nodes = int(number_of_outputs * r**5)\n",
    "layer_6_nodes = int(number_of_outputs * r**4)\n",
    "layer_7_nodes = int(number_of_outputs * r**3)\n",
    "layer_8_nodes = int(number_of_outputs * r**2)\n",
    "layer_9_nodes = int(number_of_outputs * r**1)\n",
    "\n",
    "learning_rate = 0.0015\n",
    "training_epochs = 1000"
   ]
  },
  {
   "cell_type": "code",
   "execution_count": 9,
   "metadata": {
    "ExecuteTime": {
     "end_time": "2018-05-28T06:27:35.398274Z",
     "start_time": "2018-05-28T06:27:35.388276Z"
    }
   },
   "outputs": [
    {
     "data": {
      "text/plain": [
       "'512_256_128_64_32_16_8_4_2_acc_a'"
      ]
     },
     "execution_count": 9,
     "metadata": {},
     "output_type": "execute_result"
    }
   ],
   "source": [
    "# change log path\n",
    "logdir = str(layer_1_nodes) + '_' + str(layer_2_nodes) + '_' + str(layer_3_nodes) + '_' + str(layer_4_nodes) + '_' + str(layer_5_nodes) + '_' + str(layer_6_nodes) + '_' + str(layer_7_nodes)+ '_' + str(layer_8_nodes)+ '_' + str(layer_9_nodes)\n",
    "logdir += '_acc_a'\n",
    "logdir"
   ]
  },
  {
   "cell_type": "code",
   "execution_count": 25,
   "metadata": {
    "ExecuteTime": {
     "end_time": "2018-05-28T06:36:42.267597Z",
     "start_time": "2018-05-28T06:36:40.440392Z"
    }
   },
   "outputs": [],
   "source": [
    "tf.reset_default_graph()\n",
    "\n",
    "# Input Layer\n",
    "with tf.variable_scope('input'):\n",
    "    X  = tf.placeholder(tf.float32, shape = (None, number_of_inputs))\n",
    "\n",
    "# Layer 1\n",
    "with tf.variable_scope('layer_1'):\n",
    "\n",
    "    biases = tf.get_variable(name = \"biases1\",\n",
    "                             shape = [layer_1_nodes],\n",
    "                             initializer = tf.zeros_initializer())\n",
    "\n",
    "    weights = tf.get_variable(name = \"weights1\",\n",
    "                              shape  = [number_of_inputs, layer_1_nodes],\n",
    "                         initializer = tf.contrib.layers.xavier_initializer())\n",
    "\n",
    "\n",
    "    layer_1_output = tf.nn.relu(tf.matmul(X, weights) + biases)\n",
    "\n",
    "# Layer 2\n",
    "with tf.variable_scope('layer_2'):\n",
    "\n",
    "    biases = tf.get_variable(name = \"biases2\",\n",
    "                             shape = [layer_2_nodes],\n",
    "                             initializer = tf.zeros_initializer())\n",
    "\n",
    "    weights = tf.get_variable(name = \"weights2\",\n",
    "                              shape  = [layer_1_nodes, layer_2_nodes],\n",
    "                         initializer = tf.contrib.layers.xavier_initializer())\n",
    "\n",
    "\n",
    "    layer_2_output = tf.nn.relu(tf.matmul(layer_1_output, weights) + biases)\n",
    "\n",
    "# Layer 3\n",
    "with tf.variable_scope('layer_3'):\n",
    "\n",
    "    biases = tf.get_variable(name = \"biases3\",\n",
    "                             shape = [layer_3_nodes],\n",
    "                             initializer = tf.zeros_initializer())\n",
    "\n",
    "    weights = tf.get_variable(name = \"weights3\",\n",
    "                              shape  = [layer_2_nodes, layer_3_nodes],\n",
    "                         initializer = tf.contrib.layers.xavier_initializer())\n",
    "\n",
    "\n",
    "    layer_3_output = tf.nn.relu(tf.matmul(layer_2_output, weights) + biases)\n",
    "\n",
    "# Layer 4\n",
    "with tf.variable_scope('layer_4'):\n",
    "\n",
    "    biases = tf.get_variable(name = \"biases4\",\n",
    "                             shape = [layer_4_nodes],\n",
    "                             initializer = tf.zeros_initializer())\n",
    "\n",
    "    weights = tf.get_variable(name = \"weights4\",\n",
    "                              shape  = [layer_3_nodes, layer_4_nodes],\n",
    "                         initializer = tf.contrib.layers.xavier_initializer())\n",
    "\n",
    "\n",
    "    layer_4_output = tf.nn.relu(tf.matmul(layer_3_output, weights) + biases)\n",
    "\n",
    "\n",
    "# Layer 5\n",
    "with tf.variable_scope('layer_5'):\n",
    "\n",
    "    biases = tf.get_variable(name = \"biases5\",\n",
    "                             shape = [layer_5_nodes],\n",
    "                             initializer = tf.zeros_initializer())\n",
    "\n",
    "    weights = tf.get_variable(name = \"weights5\",\n",
    "                              shape  = [layer_4_nodes, layer_5_nodes],\n",
    "                         initializer = tf.contrib.layers.xavier_initializer())\n",
    "\n",
    "\n",
    "    layer_5_output = tf.nn.relu(tf.matmul(layer_4_output, weights) + biases)\n",
    "\n",
    "# Layer 6\n",
    "with tf.variable_scope('layer_6'):\n",
    "\n",
    "    biases = tf.get_variable(name = \"biases6\",\n",
    "                             shape = [layer_6_nodes],\n",
    "                             initializer = tf.zeros_initializer())\n",
    "\n",
    "    weights = tf.get_variable(name = \"weights6\",\n",
    "                              shape  = [layer_5_nodes, layer_6_nodes],\n",
    "                         initializer = tf.contrib.layers.xavier_initializer())\n",
    "\n",
    "\n",
    "    layer_6_output = tf.nn.relu(tf.matmul(layer_5_output, weights) + biases)\n",
    "\n",
    "# Layer 7\n",
    "with tf.variable_scope('layer_7'):\n",
    "\n",
    "    biases = tf.get_variable(name = \"biases7\",\n",
    "                             shape = [layer_7_nodes],\n",
    "                             initializer = tf.zeros_initializer())\n",
    "\n",
    "    weights = tf.get_variable(name = \"weights7\",\n",
    "                              shape  = [layer_6_nodes, layer_7_nodes],\n",
    "                         initializer = tf.contrib.layers.xavier_initializer())\n",
    "\n",
    "\n",
    "    layer_7_output = tf.nn.relu(tf.matmul(layer_6_output, weights) + biases)\n",
    "\n",
    "# Layer 8\n",
    "with tf.variable_scope('layer_8'):\n",
    "\n",
    "    biases = tf.get_variable(name = \"biases8\",\n",
    "                             shape = [layer_8_nodes],\n",
    "                             initializer = tf.zeros_initializer())\n",
    "\n",
    "    weights = tf.get_variable(name = \"weights8\",\n",
    "                              shape  = [layer_7_nodes, layer_8_nodes],\n",
    "                         initializer = tf.contrib.layers.xavier_initializer())\n",
    "\n",
    "\n",
    "    layer_8_output = tf.nn.relu(tf.matmul(layer_7_output, weights) + biases)\n",
    "\n",
    "# Layer 9\n",
    "with tf.variable_scope('layer_9'):\n",
    "\n",
    "    biases = tf.get_variable(name = \"biases9\",\n",
    "                             shape = [layer_9_nodes],\n",
    "                             initializer = tf.zeros_initializer())\n",
    "\n",
    "    weights = tf.get_variable(name = \"weights9\",\n",
    "                              shape  = [layer_8_nodes, layer_9_nodes],\n",
    "                         initializer = tf.contrib.layers.xavier_initializer())\n",
    "\n",
    "\n",
    "    layer_9_output = tf.nn.relu(tf.matmul(layer_8_output, weights) + biases)\n",
    "\n",
    "\n",
    "# Output layer\n",
    "\n",
    "with tf.variable_scope('output'):\n",
    "\n",
    "    biases = tf.get_variable(name = \"biases_out\",\n",
    "                             shape = [number_of_outputs],\n",
    "                             initializer = tf.zeros_initializer())\n",
    "\n",
    "    weights = tf.get_variable(name = \"weights_out\",\n",
    "                              shape  = [layer_9_nodes, number_of_outputs],\n",
    "                         initializer = tf.contrib.layers.xavier_initializer())\n",
    "\n",
    "\n",
    "    prediction = tf.nn.relu(tf.matmul(layer_9_output, weights) + biases)\n",
    "\n",
    "with tf.variable_scope('cost'):\n",
    "\n",
    "    Y = tf.placeholder(tf.float32, shape = (None, 1))\n",
    "    cost = tf.reduce_mean(tf.squared_difference(prediction, Y))\n",
    "\n",
    "with tf.variable_scope('accuracy'):\n",
    "\n",
    "    Y = tf.placeholder(tf.float32, shape = (None, 1))\n",
    "    accuracy = tf.reduce_mean(tf.divide(tf.add(prediction,tf.multiply(Y,-1.)), Y))\n",
    "\n",
    "\n",
    "with tf.variable_scope('train'):\n",
    "    optimizer = tf.train.AdamOptimizer(learning_rate, epsilon=1e-08).minimize(cost)\n",
    "\n",
    "with tf.variable_scope('logging'):\n",
    "    tf.summary.scalar('current_cost', cost)\n",
    "    summary = tf.summary.merge_all()\n",
    "    \n",
    "saver = tf.train.Saver()"
   ]
  },
  {
   "cell_type": "code",
   "execution_count": 26,
   "metadata": {
    "ExecuteTime": {
     "end_time": "2018-05-28T06:36:45.403486Z",
     "start_time": "2018-05-28T06:36:44.350337Z"
    },
    "scrolled": false
   },
   "outputs": [
    {
     "ename": "InvalidArgumentError",
     "evalue": "You must feed a value for placeholder tensor 'cost/Placeholder' with dtype float and shape [?,1]\n\t [[Node: cost/Placeholder = Placeholder[dtype=DT_FLOAT, shape=[?,1], _device=\"/job:localhost/replica:0/task:0/device:CPU:0\"]()]]\n\nCaused by op 'cost/Placeholder', defined at:\n  File \"/Users/andrew/anaconda3/lib/python3.6/runpy.py\", line 193, in _run_module_as_main\n    \"__main__\", mod_spec)\n  File \"/Users/andrew/anaconda3/lib/python3.6/runpy.py\", line 85, in _run_code\n    exec(code, run_globals)\n  File \"/Users/andrew/anaconda3/lib/python3.6/site-packages/ipykernel_launcher.py\", line 16, in <module>\n    app.launch_new_instance()\n  File \"/Users/andrew/anaconda3/lib/python3.6/site-packages/traitlets/config/application.py\", line 658, in launch_instance\n    app.start()\n  File \"/Users/andrew/anaconda3/lib/python3.6/site-packages/ipykernel/kernelapp.py\", line 478, in start\n    self.io_loop.start()\n  File \"/Users/andrew/anaconda3/lib/python3.6/site-packages/zmq/eventloop/ioloop.py\", line 177, in start\n    super(ZMQIOLoop, self).start()\n  File \"/Users/andrew/anaconda3/lib/python3.6/site-packages/tornado/ioloop.py\", line 888, in start\n    handler_func(fd_obj, events)\n  File \"/Users/andrew/anaconda3/lib/python3.6/site-packages/tornado/stack_context.py\", line 277, in null_wrapper\n    return fn(*args, **kwargs)\n  File \"/Users/andrew/anaconda3/lib/python3.6/site-packages/zmq/eventloop/zmqstream.py\", line 440, in _handle_events\n    self._handle_recv()\n  File \"/Users/andrew/anaconda3/lib/python3.6/site-packages/zmq/eventloop/zmqstream.py\", line 472, in _handle_recv\n    self._run_callback(callback, msg)\n  File \"/Users/andrew/anaconda3/lib/python3.6/site-packages/zmq/eventloop/zmqstream.py\", line 414, in _run_callback\n    callback(*args, **kwargs)\n  File \"/Users/andrew/anaconda3/lib/python3.6/site-packages/tornado/stack_context.py\", line 277, in null_wrapper\n    return fn(*args, **kwargs)\n  File \"/Users/andrew/anaconda3/lib/python3.6/site-packages/ipykernel/kernelbase.py\", line 283, in dispatcher\n    return self.dispatch_shell(stream, msg)\n  File \"/Users/andrew/anaconda3/lib/python3.6/site-packages/ipykernel/kernelbase.py\", line 233, in dispatch_shell\n    handler(stream, idents, msg)\n  File \"/Users/andrew/anaconda3/lib/python3.6/site-packages/ipykernel/kernelbase.py\", line 399, in execute_request\n    user_expressions, allow_stdin)\n  File \"/Users/andrew/anaconda3/lib/python3.6/site-packages/ipykernel/ipkernel.py\", line 208, in do_execute\n    res = shell.run_cell(code, store_history=store_history, silent=silent)\n  File \"/Users/andrew/anaconda3/lib/python3.6/site-packages/ipykernel/zmqshell.py\", line 537, in run_cell\n    return super(ZMQInteractiveShell, self).run_cell(*args, **kwargs)\n  File \"/Users/andrew/anaconda3/lib/python3.6/site-packages/IPython/core/interactiveshell.py\", line 2728, in run_cell\n    interactivity=interactivity, compiler=compiler, result=result)\n  File \"/Users/andrew/anaconda3/lib/python3.6/site-packages/IPython/core/interactiveshell.py\", line 2850, in run_ast_nodes\n    if self.run_code(code, result):\n  File \"/Users/andrew/anaconda3/lib/python3.6/site-packages/IPython/core/interactiveshell.py\", line 2910, in run_code\n    exec(code_obj, self.user_global_ns, self.user_ns)\n  File \"<ipython-input-25-46c423e4ea18>\", line 152, in <module>\n    Y = tf.placeholder(tf.float32, shape = (None, 1))\n  File \"/Users/andrew/anaconda3/lib/python3.6/site-packages/tensorflow/python/ops/array_ops.py\", line 1808, in placeholder\n    return gen_array_ops.placeholder(dtype=dtype, shape=shape, name=name)\n  File \"/Users/andrew/anaconda3/lib/python3.6/site-packages/tensorflow/python/ops/gen_array_ops.py\", line 4848, in placeholder\n    \"Placeholder\", dtype=dtype, shape=shape, name=name)\n  File \"/Users/andrew/anaconda3/lib/python3.6/site-packages/tensorflow/python/framework/op_def_library.py\", line 787, in _apply_op_helper\n    op_def=op_def)\n  File \"/Users/andrew/anaconda3/lib/python3.6/site-packages/tensorflow/python/framework/ops.py\", line 3392, in create_op\n    op_def=op_def)\n  File \"/Users/andrew/anaconda3/lib/python3.6/site-packages/tensorflow/python/framework/ops.py\", line 1718, in __init__\n    self._traceback = self._graph._extract_stack()  # pylint: disable=protected-access\n\nInvalidArgumentError (see above for traceback): You must feed a value for placeholder tensor 'cost/Placeholder' with dtype float and shape [?,1]\n\t [[Node: cost/Placeholder = Placeholder[dtype=DT_FLOAT, shape=[?,1], _device=\"/job:localhost/replica:0/task:0/device:CPU:0\"]()]]\n",
     "output_type": "error",
     "traceback": [
      "\u001b[0;31m---------------------------------------------------------------------------\u001b[0m",
      "\u001b[0;31mInvalidArgumentError\u001b[0m                      Traceback (most recent call last)",
      "\u001b[0;32m~/anaconda3/lib/python3.6/site-packages/tensorflow/python/client/session.py\u001b[0m in \u001b[0;36m_do_call\u001b[0;34m(self, fn, *args)\u001b[0m\n\u001b[1;32m   1321\u001b[0m     \u001b[0;32mtry\u001b[0m\u001b[0;34m:\u001b[0m\u001b[0;34m\u001b[0m\u001b[0m\n\u001b[0;32m-> 1322\u001b[0;31m       \u001b[0;32mreturn\u001b[0m \u001b[0mfn\u001b[0m\u001b[0;34m(\u001b[0m\u001b[0;34m*\u001b[0m\u001b[0margs\u001b[0m\u001b[0;34m)\u001b[0m\u001b[0;34m\u001b[0m\u001b[0m\n\u001b[0m\u001b[1;32m   1323\u001b[0m     \u001b[0;32mexcept\u001b[0m \u001b[0merrors\u001b[0m\u001b[0;34m.\u001b[0m\u001b[0mOpError\u001b[0m \u001b[0;32mas\u001b[0m \u001b[0me\u001b[0m\u001b[0;34m:\u001b[0m\u001b[0;34m\u001b[0m\u001b[0m\n",
      "\u001b[0;32m~/anaconda3/lib/python3.6/site-packages/tensorflow/python/client/session.py\u001b[0m in \u001b[0;36m_run_fn\u001b[0;34m(feed_dict, fetch_list, target_list, options, run_metadata)\u001b[0m\n\u001b[1;32m   1306\u001b[0m       return self._call_tf_sessionrun(\n\u001b[0;32m-> 1307\u001b[0;31m           options, feed_dict, fetch_list, target_list, run_metadata)\n\u001b[0m\u001b[1;32m   1308\u001b[0m \u001b[0;34m\u001b[0m\u001b[0m\n",
      "\u001b[0;32m~/anaconda3/lib/python3.6/site-packages/tensorflow/python/client/session.py\u001b[0m in \u001b[0;36m_call_tf_sessionrun\u001b[0;34m(self, options, feed_dict, fetch_list, target_list, run_metadata)\u001b[0m\n\u001b[1;32m   1408\u001b[0m           \u001b[0mself\u001b[0m\u001b[0;34m.\u001b[0m\u001b[0m_session\u001b[0m\u001b[0;34m,\u001b[0m \u001b[0moptions\u001b[0m\u001b[0;34m,\u001b[0m \u001b[0mfeed_dict\u001b[0m\u001b[0;34m,\u001b[0m \u001b[0mfetch_list\u001b[0m\u001b[0;34m,\u001b[0m \u001b[0mtarget_list\u001b[0m\u001b[0;34m,\u001b[0m\u001b[0;34m\u001b[0m\u001b[0m\n\u001b[0;32m-> 1409\u001b[0;31m           run_metadata)\n\u001b[0m\u001b[1;32m   1410\u001b[0m     \u001b[0;32melse\u001b[0m\u001b[0;34m:\u001b[0m\u001b[0;34m\u001b[0m\u001b[0m\n",
      "\u001b[0;31mInvalidArgumentError\u001b[0m: You must feed a value for placeholder tensor 'cost/Placeholder' with dtype float and shape [?,1]\n\t [[Node: cost/Placeholder = Placeholder[dtype=DT_FLOAT, shape=[?,1], _device=\"/job:localhost/replica:0/task:0/device:CPU:0\"]()]]",
      "\nDuring handling of the above exception, another exception occurred:\n",
      "\u001b[0;31mInvalidArgumentError\u001b[0m                      Traceback (most recent call last)",
      "\u001b[0;32m<ipython-input-26-8aa422c6d71e>\u001b[0m in \u001b[0;36m<module>\u001b[0;34m()\u001b[0m\n\u001b[1;32m     10\u001b[0m         \u001b[0;31m# Feed in the training data and do one stepf NN training\u001b[0m\u001b[0;34m\u001b[0m\u001b[0;34m\u001b[0m\u001b[0m\n\u001b[1;32m     11\u001b[0m         session.run(optimizer,\n\u001b[0;32m---> 12\u001b[0;31m                     feed_dict = {X: X_scaled_training, Y: Y_scaled_training})\n\u001b[0m\u001b[1;32m     13\u001b[0m \u001b[0;34m\u001b[0m\u001b[0m\n\u001b[1;32m     14\u001b[0m         \u001b[0mtraining_feed\u001b[0m \u001b[0;34m=\u001b[0m \u001b[0;34m{\u001b[0m\u001b[0mX\u001b[0m\u001b[0;34m:\u001b[0m \u001b[0mX_scaled_training\u001b[0m\u001b[0;34m,\u001b[0m \u001b[0mY\u001b[0m\u001b[0;34m:\u001b[0m \u001b[0mY_scaled_training\u001b[0m\u001b[0;34m,\u001b[0m \u001b[0mY\u001b[0m\u001b[0;34m:\u001b[0m \u001b[0mY_scaled_training\u001b[0m\u001b[0;34m}\u001b[0m\u001b[0;34m\u001b[0m\u001b[0m\n",
      "\u001b[0;32m~/anaconda3/lib/python3.6/site-packages/tensorflow/python/client/session.py\u001b[0m in \u001b[0;36mrun\u001b[0;34m(self, fetches, feed_dict, options, run_metadata)\u001b[0m\n\u001b[1;32m    898\u001b[0m     \u001b[0;32mtry\u001b[0m\u001b[0;34m:\u001b[0m\u001b[0;34m\u001b[0m\u001b[0m\n\u001b[1;32m    899\u001b[0m       result = self._run(None, fetches, feed_dict, options_ptr,\n\u001b[0;32m--> 900\u001b[0;31m                          run_metadata_ptr)\n\u001b[0m\u001b[1;32m    901\u001b[0m       \u001b[0;32mif\u001b[0m \u001b[0mrun_metadata\u001b[0m\u001b[0;34m:\u001b[0m\u001b[0;34m\u001b[0m\u001b[0m\n\u001b[1;32m    902\u001b[0m         \u001b[0mproto_data\u001b[0m \u001b[0;34m=\u001b[0m \u001b[0mtf_session\u001b[0m\u001b[0;34m.\u001b[0m\u001b[0mTF_GetBuffer\u001b[0m\u001b[0;34m(\u001b[0m\u001b[0mrun_metadata_ptr\u001b[0m\u001b[0;34m)\u001b[0m\u001b[0;34m\u001b[0m\u001b[0m\n",
      "\u001b[0;32m~/anaconda3/lib/python3.6/site-packages/tensorflow/python/client/session.py\u001b[0m in \u001b[0;36m_run\u001b[0;34m(self, handle, fetches, feed_dict, options, run_metadata)\u001b[0m\n\u001b[1;32m   1133\u001b[0m     \u001b[0;32mif\u001b[0m \u001b[0mfinal_fetches\u001b[0m \u001b[0;32mor\u001b[0m \u001b[0mfinal_targets\u001b[0m \u001b[0;32mor\u001b[0m \u001b[0;34m(\u001b[0m\u001b[0mhandle\u001b[0m \u001b[0;32mand\u001b[0m \u001b[0mfeed_dict_tensor\u001b[0m\u001b[0;34m)\u001b[0m\u001b[0;34m:\u001b[0m\u001b[0;34m\u001b[0m\u001b[0m\n\u001b[1;32m   1134\u001b[0m       results = self._do_run(handle, final_targets, final_fetches,\n\u001b[0;32m-> 1135\u001b[0;31m                              feed_dict_tensor, options, run_metadata)\n\u001b[0m\u001b[1;32m   1136\u001b[0m     \u001b[0;32melse\u001b[0m\u001b[0;34m:\u001b[0m\u001b[0;34m\u001b[0m\u001b[0m\n\u001b[1;32m   1137\u001b[0m       \u001b[0mresults\u001b[0m \u001b[0;34m=\u001b[0m \u001b[0;34m[\u001b[0m\u001b[0;34m]\u001b[0m\u001b[0;34m\u001b[0m\u001b[0m\n",
      "\u001b[0;32m~/anaconda3/lib/python3.6/site-packages/tensorflow/python/client/session.py\u001b[0m in \u001b[0;36m_do_run\u001b[0;34m(self, handle, target_list, fetch_list, feed_dict, options, run_metadata)\u001b[0m\n\u001b[1;32m   1314\u001b[0m     \u001b[0;32mif\u001b[0m \u001b[0mhandle\u001b[0m \u001b[0;32mis\u001b[0m \u001b[0;32mNone\u001b[0m\u001b[0;34m:\u001b[0m\u001b[0;34m\u001b[0m\u001b[0m\n\u001b[1;32m   1315\u001b[0m       return self._do_call(_run_fn, feeds, fetches, targets, options,\n\u001b[0;32m-> 1316\u001b[0;31m                            run_metadata)\n\u001b[0m\u001b[1;32m   1317\u001b[0m     \u001b[0;32melse\u001b[0m\u001b[0;34m:\u001b[0m\u001b[0;34m\u001b[0m\u001b[0m\n\u001b[1;32m   1318\u001b[0m       \u001b[0;32mreturn\u001b[0m \u001b[0mself\u001b[0m\u001b[0;34m.\u001b[0m\u001b[0m_do_call\u001b[0m\u001b[0;34m(\u001b[0m\u001b[0m_prun_fn\u001b[0m\u001b[0;34m,\u001b[0m \u001b[0mhandle\u001b[0m\u001b[0;34m,\u001b[0m \u001b[0mfeeds\u001b[0m\u001b[0;34m,\u001b[0m \u001b[0mfetches\u001b[0m\u001b[0;34m)\u001b[0m\u001b[0;34m\u001b[0m\u001b[0m\n",
      "\u001b[0;32m~/anaconda3/lib/python3.6/site-packages/tensorflow/python/client/session.py\u001b[0m in \u001b[0;36m_do_call\u001b[0;34m(self, fn, *args)\u001b[0m\n\u001b[1;32m   1333\u001b[0m         \u001b[0;32mexcept\u001b[0m \u001b[0mKeyError\u001b[0m\u001b[0;34m:\u001b[0m\u001b[0;34m\u001b[0m\u001b[0m\n\u001b[1;32m   1334\u001b[0m           \u001b[0;32mpass\u001b[0m\u001b[0;34m\u001b[0m\u001b[0m\n\u001b[0;32m-> 1335\u001b[0;31m       \u001b[0;32mraise\u001b[0m \u001b[0mtype\u001b[0m\u001b[0;34m(\u001b[0m\u001b[0me\u001b[0m\u001b[0;34m)\u001b[0m\u001b[0;34m(\u001b[0m\u001b[0mnode_def\u001b[0m\u001b[0;34m,\u001b[0m \u001b[0mop\u001b[0m\u001b[0;34m,\u001b[0m \u001b[0mmessage\u001b[0m\u001b[0;34m)\u001b[0m\u001b[0;34m\u001b[0m\u001b[0m\n\u001b[0m\u001b[1;32m   1336\u001b[0m \u001b[0;34m\u001b[0m\u001b[0m\n\u001b[1;32m   1337\u001b[0m   \u001b[0;32mdef\u001b[0m \u001b[0m_extend_graph\u001b[0m\u001b[0;34m(\u001b[0m\u001b[0mself\u001b[0m\u001b[0;34m)\u001b[0m\u001b[0;34m:\u001b[0m\u001b[0;34m\u001b[0m\u001b[0m\n",
      "\u001b[0;31mInvalidArgumentError\u001b[0m: You must feed a value for placeholder tensor 'cost/Placeholder' with dtype float and shape [?,1]\n\t [[Node: cost/Placeholder = Placeholder[dtype=DT_FLOAT, shape=[?,1], _device=\"/job:localhost/replica:0/task:0/device:CPU:0\"]()]]\n\nCaused by op 'cost/Placeholder', defined at:\n  File \"/Users/andrew/anaconda3/lib/python3.6/runpy.py\", line 193, in _run_module_as_main\n    \"__main__\", mod_spec)\n  File \"/Users/andrew/anaconda3/lib/python3.6/runpy.py\", line 85, in _run_code\n    exec(code, run_globals)\n  File \"/Users/andrew/anaconda3/lib/python3.6/site-packages/ipykernel_launcher.py\", line 16, in <module>\n    app.launch_new_instance()\n  File \"/Users/andrew/anaconda3/lib/python3.6/site-packages/traitlets/config/application.py\", line 658, in launch_instance\n    app.start()\n  File \"/Users/andrew/anaconda3/lib/python3.6/site-packages/ipykernel/kernelapp.py\", line 478, in start\n    self.io_loop.start()\n  File \"/Users/andrew/anaconda3/lib/python3.6/site-packages/zmq/eventloop/ioloop.py\", line 177, in start\n    super(ZMQIOLoop, self).start()\n  File \"/Users/andrew/anaconda3/lib/python3.6/site-packages/tornado/ioloop.py\", line 888, in start\n    handler_func(fd_obj, events)\n  File \"/Users/andrew/anaconda3/lib/python3.6/site-packages/tornado/stack_context.py\", line 277, in null_wrapper\n    return fn(*args, **kwargs)\n  File \"/Users/andrew/anaconda3/lib/python3.6/site-packages/zmq/eventloop/zmqstream.py\", line 440, in _handle_events\n    self._handle_recv()\n  File \"/Users/andrew/anaconda3/lib/python3.6/site-packages/zmq/eventloop/zmqstream.py\", line 472, in _handle_recv\n    self._run_callback(callback, msg)\n  File \"/Users/andrew/anaconda3/lib/python3.6/site-packages/zmq/eventloop/zmqstream.py\", line 414, in _run_callback\n    callback(*args, **kwargs)\n  File \"/Users/andrew/anaconda3/lib/python3.6/site-packages/tornado/stack_context.py\", line 277, in null_wrapper\n    return fn(*args, **kwargs)\n  File \"/Users/andrew/anaconda3/lib/python3.6/site-packages/ipykernel/kernelbase.py\", line 283, in dispatcher\n    return self.dispatch_shell(stream, msg)\n  File \"/Users/andrew/anaconda3/lib/python3.6/site-packages/ipykernel/kernelbase.py\", line 233, in dispatch_shell\n    handler(stream, idents, msg)\n  File \"/Users/andrew/anaconda3/lib/python3.6/site-packages/ipykernel/kernelbase.py\", line 399, in execute_request\n    user_expressions, allow_stdin)\n  File \"/Users/andrew/anaconda3/lib/python3.6/site-packages/ipykernel/ipkernel.py\", line 208, in do_execute\n    res = shell.run_cell(code, store_history=store_history, silent=silent)\n  File \"/Users/andrew/anaconda3/lib/python3.6/site-packages/ipykernel/zmqshell.py\", line 537, in run_cell\n    return super(ZMQInteractiveShell, self).run_cell(*args, **kwargs)\n  File \"/Users/andrew/anaconda3/lib/python3.6/site-packages/IPython/core/interactiveshell.py\", line 2728, in run_cell\n    interactivity=interactivity, compiler=compiler, result=result)\n  File \"/Users/andrew/anaconda3/lib/python3.6/site-packages/IPython/core/interactiveshell.py\", line 2850, in run_ast_nodes\n    if self.run_code(code, result):\n  File \"/Users/andrew/anaconda3/lib/python3.6/site-packages/IPython/core/interactiveshell.py\", line 2910, in run_code\n    exec(code_obj, self.user_global_ns, self.user_ns)\n  File \"<ipython-input-25-46c423e4ea18>\", line 152, in <module>\n    Y = tf.placeholder(tf.float32, shape = (None, 1))\n  File \"/Users/andrew/anaconda3/lib/python3.6/site-packages/tensorflow/python/ops/array_ops.py\", line 1808, in placeholder\n    return gen_array_ops.placeholder(dtype=dtype, shape=shape, name=name)\n  File \"/Users/andrew/anaconda3/lib/python3.6/site-packages/tensorflow/python/ops/gen_array_ops.py\", line 4848, in placeholder\n    \"Placeholder\", dtype=dtype, shape=shape, name=name)\n  File \"/Users/andrew/anaconda3/lib/python3.6/site-packages/tensorflow/python/framework/op_def_library.py\", line 787, in _apply_op_helper\n    op_def=op_def)\n  File \"/Users/andrew/anaconda3/lib/python3.6/site-packages/tensorflow/python/framework/ops.py\", line 3392, in create_op\n    op_def=op_def)\n  File \"/Users/andrew/anaconda3/lib/python3.6/site-packages/tensorflow/python/framework/ops.py\", line 1718, in __init__\n    self._traceback = self._graph._extract_stack()  # pylint: disable=protected-access\n\nInvalidArgumentError (see above for traceback): You must feed a value for placeholder tensor 'cost/Placeholder' with dtype float and shape [?,1]\n\t [[Node: cost/Placeholder = Placeholder[dtype=DT_FLOAT, shape=[?,1], _device=\"/job:localhost/replica:0/task:0/device:CPU:0\"]()]]\n"
     ]
    }
   ],
   "source": [
    "with tf.Session() as session:\n",
    "\n",
    "    session.run(tf.global_variables_initializer())\n",
    "\n",
    "    training_writer = tf.summary.FileWriter('logs/' + logdir + '/training', session.graph)\n",
    "    testing_writer = tf.summary.FileWriter('logs/' + logdir + '/testing', session.graph)\n",
    "\n",
    "    for epoch in range(training_epochs):\n",
    "\n",
    "        # Feed in the training data and do one stepf NN training\n",
    "        session.run(optimizer,\n",
    "                    feed_dict = {X: X_scaled_training, Y: Y_scaled_training})\n",
    "\n",
    "        training_feed = {X: X_scaled_training, Y: Y_scaled_training, Y: Y_scaled_training}\n",
    "        training_cost, training_summary, training_accuracy = session.run([cost, accuracy, summary],\n",
    "                                                feed_dict = training_feed)\n",
    "\n",
    "        testing_feed =  {X: X_scaled_testing, Y: Y_scaled_testing}\n",
    "        testing_cost, testing_summary, testing_accuracy = session.run([cost, accuracy, summary],\n",
    "                                                     feed_dict = testing_feed)\n",
    "        sys.stdout.write('\\r epoch: {:4.0f} testing_accuracy: {:2.10f}'.format(epoch, testing_accuracy))\n",
    "        \n",
    "        training_writer.add_summary(training_summary, epoch)\n",
    "        training_writer.add_summary(accuracy, epoch)\n",
    "        training_writer.flush()\n",
    "\n",
    "        testing_writer.add_summary(testing_summary, epoch)\n",
    "        testing_writer.add_summary(accuracy, epoch)\n",
    "        testing_writer.flush()\n",
    "\n",
    "    model_save_location = 'logs/' + logdir + '_model' + '/trained_model.ckpt'\n",
    "    save_path = saver.save(session, model_save_location)"
   ]
  },
  {
   "cell_type": "code",
   "execution_count": 8,
   "metadata": {
    "ExecuteTime": {
     "end_time": "2018-05-28T05:57:06.366888Z",
     "start_time": "2018-05-28T05:57:06.165022Z"
    }
   },
   "outputs": [
    {
     "name": "stdout",
     "output_type": "stream",
     "text": [
      "INFO:tensorflow:Restoring parameters from logs/512_256_128_64_32_16_8_4_2_a_model/trained_model.ckpt\n"
     ]
    }
   ],
   "source": [
    "with tf.Session() as session:\n",
    "    saver.restore(session,'logs/512_256_128_64_32_16_8_4_2_a_model/trained_model.ckpt')\n",
    "    \n",
    "    prediction_scaled = session.run(prediction, feed_dict = {X: X_scaled_testing})\n",
    "    \n",
    "    # the predictions but in the original units\n",
    "    prediction_unscaled = Y_scaler.inverse_transform(prediction_scaled)"
   ]
  },
  {
   "cell_type": "code",
   "execution_count": 9,
   "metadata": {
    "ExecuteTime": {
     "end_time": "2018-05-28T05:57:31.519927Z",
     "start_time": "2018-05-28T05:57:27.593644Z"
    }
   },
   "outputs": [
    {
     "data": {
      "image/png": "[encoded data removed]",
      "text/plain": [
       "<matplotlib.figure.Figure at 0x1c411d4240>"
      ]
     },
     "metadata": {
      "image/png": {
       "height": 334,
       "width": 777
      }
     },
     "output_type": "display_data"
    }
   ],
   "source": [
    "sorting_idx = np.argsort(Y_testing.T[0])\n",
    "\n",
    "fig, ax = plt.subplots(figsize = (8.5, 3), dpi = 100)\n",
    "\n",
    "ax.set_title('NN predictions vs actual, final testing cost 0.0001379766')\n",
    "ax.plot(prediction_unscaled.T[0][sorting_idx],\n",
    "        linestyle = 'none', marker = '.', markersize = 1,\n",
    "        color = 'darkblue', label = 'Prediction')\n",
    "\n",
    "ax.plot(Y_testing.T[0][sorting_idx],\n",
    "        linestyle = 'none', marker = '.', markersize = 1, alpha = 0.75, \n",
    "        color = '#E50000', label = 'Actual')\n",
    "\n",
    "ax.set_ylabel(r'$\\tau$ [ ns ]')\n",
    "ax.set_xlabel(r'$\\texttt{Y\\_testing}$ sample number')\n",
    "ax.legend( loc = 'best')\n",
    "plt.show()"
   ]
  },
  {
   "cell_type": "code",
   "execution_count": 10,
   "metadata": {
    "ExecuteTime": {
     "end_time": "2018-05-28T05:57:39.494579Z",
     "start_time": "2018-05-28T05:57:39.485762Z"
    }
   },
   "outputs": [
    {
     "data": {
      "text/plain": [
       "0.2759531758101374"
      ]
     },
     "execution_count": 10,
     "metadata": {},
     "output_type": "execute_result"
    }
   ],
   "source": [
    "NN_SCORE = sum((Y_scaled_testing.T[0] - prediction_scaled.T[0])**2)\n",
    "NN_SCORE"
   ]
  },
  {
   "cell_type": "code",
   "execution_count": 11,
   "metadata": {
    "ExecuteTime": {
     "end_time": "2018-05-28T05:57:41.703440Z",
     "start_time": "2018-05-28T05:57:41.695759Z"
    }
   },
   "outputs": [
    {
     "data": {
      "text/plain": [
       "1.7475748713358723"
      ]
     },
     "execution_count": 11,
     "metadata": {},
     "output_type": "execute_result"
    }
   ],
   "source": [
    "np.std(abs(Y_testing.T[0] - prediction_unscaled.T[0]))"
   ]
  },
  {
   "cell_type": "code",
   "execution_count": 12,
   "metadata": {
    "ExecuteTime": {
     "end_time": "2018-05-28T05:57:42.469321Z",
     "start_time": "2018-05-28T05:57:42.461277Z"
    }
   },
   "outputs": [
    {
     "data": {
      "text/plain": [
       "1.569649404634896"
      ]
     },
     "execution_count": 12,
     "metadata": {},
     "output_type": "execute_result"
    }
   ],
   "source": [
    "np.mean(abs(Y_testing.T[0] - prediction_unscaled.T[0]))"
   ]
  },
  {
   "cell_type": "code",
   "execution_count": 13,
   "metadata": {
    "ExecuteTime": {
     "end_time": "2018-05-28T05:58:32.414139Z",
     "start_time": "2018-05-28T05:58:26.094192Z"
    }
   },
   "outputs": [],
   "source": [
    "#import data\n",
    "data_path = 'data/wu_rand_phase.csv'\n",
    "data_df = pd.read_csv(data_path, dtype = float)\n",
    "\n",
    "# split random 80% / 20%\n",
    "training_data_df = data_df.sample(frac = 0.8)\n",
    "testing_data_df = data_df.loc[~data_df.index.isin(training_data_df.index)]\n",
    "\n",
    "# separate input features from output\n",
    "X_training = training_data_df.drop('slope', axis = 1).values\n",
    "Y_training = training_data_df[['slope']].values\n",
    "\n",
    "X_testing = testing_data_df.drop('slope', axis = 1).values\n",
    "Y_testing = testing_data_df[['slope']].values\n",
    "\n",
    "# setup data scalers\n",
    "X_scaler = MinMaxScaler(feature_range = (0,1))\n",
    "Y_scaler = MinMaxScaler(feature_range = (0,1))\n",
    "\n",
    "# scale data\n",
    "X_scaled_training = X_scaler.fit_transform(X_training)\n",
    "Y_scaled_training = Y_scaler.fit_transform(Y_training)\n",
    "\n",
    "X_scaled_testing = X_scaler.transform(X_testing)\n",
    "Y_scaled_testing = Y_scaler.transform(Y_testing)"
   ]
  },
  {
   "cell_type": "code",
   "execution_count": 14,
   "metadata": {
    "ExecuteTime": {
     "end_time": "2018-05-28T05:58:43.171076Z",
     "start_time": "2018-05-28T05:58:43.160572Z"
    }
   },
   "outputs": [
    {
     "data": {
      "text/plain": [
       "'512_256_128_64_32_16_8_4_2_b'"
      ]
     },
     "execution_count": 14,
     "metadata": {},
     "output_type": "execute_result"
    }
   ],
   "source": [
    "# change log path\n",
    "logdir = str(layer_1_nodes) + '_' + str(layer_2_nodes) + '_' + str(layer_3_nodes) + '_' + str(layer_4_nodes) + '_' + str(layer_5_nodes) + '_' + str(layer_6_nodes) + '_' + str(layer_7_nodes)+ '_' + str(layer_8_nodes)+ '_' + str(layer_9_nodes)\n",
    "logdir += '_b'\n",
    "logdir"
   ]
  },
  {
   "cell_type": "code",
   "execution_count": 31,
   "metadata": {
    "ExecuteTime": {
     "end_time": "2018-05-28T06:18:00.817999Z",
     "start_time": "2018-05-28T06:17:47.153193Z"
    },
    "scrolled": false
   },
   "outputs": [
    {
     "name": "stdout",
     "output_type": "stream",
     "text": [
      "INFO:tensorflow:Restoring parameters from logs/512_256_128_64_32_16_8_4_2_a_model/trained_model.ckpt\n",
      " epoch:   19 testing_cost: 0.0000000000000000000000000"
     ]
    }
   ],
   "source": [
    "with tf.Session() as session:\n",
    "\n",
    "    saver.restore(session,'logs/512_256_128_64_32_16_8_4_2_a_model/trained_model.ckpt')\n",
    "\n",
    "    training_writer = tf.summary.FileWriter('logs/' + logdir + '/training', session.graph)\n",
    "    testing_writer = tf.summary.FileWriter('logs/' + logdir + '/testing', session.graph)\n",
    "\n",
    "    for epoch in range(20):\n",
    "\n",
    "        # Feed in the training data and do one stepf NN training\n",
    "        session.run(optimizer,\n",
    "                    feed_dict = {X: X_scaled_training, Y: Y_scaled_training})\n",
    "\n",
    "        training_feed = {X: X_scaled_training, Y: Y_scaled_training}\n",
    "        training_cost, training_summary = session.run([cost, summary],\n",
    "                                                feed_dict = training_feed)\n",
    "\n",
    "        testing_feed =  {X: X_scaled_testing, Y: Y_scaled_testing}\n",
    "        testing_cost, testing_summary = session.run([cost, summary],\n",
    "                                                     feed_dict = testing_feed)\n",
    "        sys.stdout.write('\\r epoch: {:4.0f} testing_cost: {:2.25f}'.format(epoch, testing_cost))\n",
    "        \n",
    "        training_writer.add_summary(training_summary, epoch)\n",
    "        testing_writer.add_summary(testing_summary, epoch)\n",
    "        testing_writer.flush()\n",
    "        training_writer.flush()\n",
    "\n",
    "    model_save_location = 'logs/' + logdir + '_model' + '/trained_model.ckpt'\n",
    "    save_path = saver.save(session, model_save_location)"
   ]
  },
  {
   "cell_type": "code",
   "execution_count": 27,
   "metadata": {
    "ExecuteTime": {
     "end_time": "2018-05-28T06:13:19.378841Z",
     "start_time": "2018-05-28T06:13:19.207451Z"
    }
   },
   "outputs": [
    {
     "name": "stdout",
     "output_type": "stream",
     "text": [
      "INFO:tensorflow:Restoring parameters from logs/512_256_128_64_32_16_8_4_2_b_model/trained_model.ckpt\n"
     ]
    }
   ],
   "source": [
    "with tf.Session() as session:\n",
    "    saver.restore(session,'logs/512_256_128_64_32_16_8_4_2_b_model/trained_model.ckpt')\n",
    "    \n",
    "    prediction_scaled = session.run(prediction, feed_dict = {X: X_scaled_testing})\n",
    "    \n",
    "    # the predictions but in the original units\n",
    "    prediction_unscaled = Y_scaler.inverse_transform(prediction_scaled)"
   ]
  },
  {
   "cell_type": "code",
   "execution_count": 29,
   "metadata": {
    "ExecuteTime": {
     "end_time": "2018-05-28T06:13:27.359754Z",
     "start_time": "2018-05-28T06:13:27.352448Z"
    }
   },
   "outputs": [
    {
     "data": {
      "text/plain": [
       "array([[7.70021],\n",
       "       [7.70021],\n",
       "       [7.70021],\n",
       "       ...,\n",
       "       [7.70021],\n",
       "       [7.70021],\n",
       "       [7.70021]], dtype=float32)"
      ]
     },
     "execution_count": 29,
     "metadata": {},
     "output_type": "execute_result"
    }
   ],
   "source": []
  },
  {
   "cell_type": "code",
   "execution_count": null,
   "metadata": {},
   "outputs": [],
   "source": []
  }
 ],
 "metadata": {
  "kernelspec": {
   "display_name": "Python 3",
   "language": "python",
   "name": "python3"
  },
  "language_info": {
   "codemirror_mode": {
    "name": "ipython",
    "version": 3
   },
   "file_extension": ".py",
   "mimetype": "text/x-python",
   "name": "python",
   "nbconvert_exporter": "python",
   "pygments_lexer": "ipython3",
   "version": "3.6.5"
  },
  "varInspector": {
   "cols": {
    "lenName": 16,
    "lenType": 16,
    "lenVar": 40
   },
   "kernels_config": {
    "python": {
     "delete_cmd_postfix": "",
     "delete_cmd_prefix": "del ",
     "library": "var_list.py",
     "varRefreshCmd": "print(var_dic_list())"
    },
    "r": {
     "delete_cmd_postfix": ") ",
     "delete_cmd_prefix": "rm(",
     "library": "var_list.r",
     "varRefreshCmd": "cat(var_dic_list()) "
    }
   },
   "types_to_exclude": [
    "module",
    "function",
    "builtin_function_or_method",
    "instance",
    "_Feature"
   ],
   "window_display": false
  }
 },
 "nbformat": 4,
 "nbformat_minor": 2
}
