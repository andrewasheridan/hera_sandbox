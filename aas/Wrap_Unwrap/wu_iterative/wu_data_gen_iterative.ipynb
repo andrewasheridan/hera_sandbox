{
 "cells": [
  {
   "cell_type": "markdown",
   "metadata": {},
   "source": [
    "`wu_data_gen_iterative.ipynb`"
   ]
  },
  {
   "cell_type": "code",
   "execution_count": 1,
   "metadata": {
    "ExecuteTime": {
     "end_time": "2018-05-28T18:45:37.817762Z",
     "start_time": "2018-05-28T18:45:37.330210Z"
    }
   },
   "outputs": [
    {
     "data": {
      "text/html": [
       "<style>.container { width:100% !important; }</style>"
      ],
      "text/plain": [
       "<IPython.core.display.HTML object>"
      ]
     },
     "metadata": {},
     "output_type": "display_data"
    }
   ],
   "source": [
    "import numpy as np, matplotlib.pyplot as plt, pandas as pd\n",
    "from matplotlib.ticker import MultipleLocator, FormatStrFormatter, FuncFormatter\n",
    "from plot_styles import set_plotstyles\n",
    "set_plotstyles()\n",
    "%config InlineBackend.figure_format = 'retina'\n",
    "\n",
    "from IPython.core.display import display, HTML\n",
    "display(HTML(\"<style>.container { width:100% !important; }</style>\"))"
   ]
  },
  {
   "cell_type": "code",
   "execution_count": 2,
   "metadata": {
    "ExecuteTime": {
     "end_time": "2018-05-28T18:45:39.089361Z",
     "start_time": "2018-05-28T18:45:39.081472Z"
    }
   },
   "outputs": [],
   "source": [
    "# frequencies\n",
    "# from 0.100 GHZ to 0.200 GHz, 1024 channels, \n",
    "# (9.77517107e-05 GHz per channel)\n",
    "freqs = np.linspace(0.1, 0.2, 1024)\n",
    "\n",
    "# delay time tau \n",
    "# from -100 ns to 100 ns\n",
    "abs_max_tau = 100 \n",
    "num_taus = 10000"
   ]
  },
  {
   "cell_type": "code",
   "execution_count": 3,
   "metadata": {
    "ExecuteTime": {
     "end_time": "2018-05-28T18:45:42.819345Z",
     "start_time": "2018-05-28T18:45:42.814353Z"
    }
   },
   "outputs": [],
   "source": [
    "get_slope = lambda x: np.mean((np.diff(np.unwrap(x))  / (2 * np.pi)) / np.diff(freqs))"
   ]
  },
  {
   "cell_type": "code",
   "execution_count": 4,
   "metadata": {
    "ExecuteTime": {
     "end_time": "2018-05-28T18:46:16.383806Z",
     "start_time": "2018-05-28T18:46:14.112613Z"
    }
   },
   "outputs": [],
   "source": [
    "rand_wangle_data_zero_phase = np.empty((num_taus, len(freqs)))\n",
    "slope_zero_phase = np.empty(num_taus)\n",
    "for i in range(num_taus):\n",
    "    \n",
    "    tau = np.random.uniform(low = -100, high = 100)\n",
    "    rand_wangle_data_zero_phase[i] = np.angle(np.exp(2 * np.pi * 1j * (tau  * freqs + 0)))            \n",
    "    slope_zero_phase[i] = get_slope(rand_wangle_data_zero_phase[i])"
   ]
  },
  {
   "cell_type": "code",
   "execution_count": 5,
   "metadata": {
    "ExecuteTime": {
     "end_time": "2018-05-28T18:46:50.552250Z",
     "start_time": "2018-05-28T18:46:26.919873Z"
    }
   },
   "outputs": [
    {
     "data": {
      "text/html": [
       "<div>\n",
       "<style scoped>\n",
       "    .dataframe tbody tr th:only-of-type {\n",
       "        vertical-align: middle;\n",
       "    }\n",
       "\n",
       "    .dataframe tbody tr th {\n",
       "        vertical-align: top;\n",
       "    }\n",
       "\n",
       "    .dataframe thead th {\n",
       "        text-align: right;\n",
       "    }\n",
       "</style>\n",
       "<table border=\"1\" class=\"dataframe\">\n",
       "  <thead>\n",
       "    <tr style=\"text-align: right;\">\n",
       "      <th></th>\n",
       "      <th>slope</th>\n",
       "      <th>0</th>\n",
       "      <th>1</th>\n",
       "      <th>2</th>\n",
       "      <th>3</th>\n",
       "      <th>4</th>\n",
       "      <th>5</th>\n",
       "      <th>6</th>\n",
       "      <th>7</th>\n",
       "      <th>8</th>\n",
       "      <th>...</th>\n",
       "      <th>1014</th>\n",
       "      <th>1015</th>\n",
       "      <th>1016</th>\n",
       "      <th>1017</th>\n",
       "      <th>1018</th>\n",
       "      <th>1019</th>\n",
       "      <th>1020</th>\n",
       "      <th>1021</th>\n",
       "      <th>1022</th>\n",
       "      <th>1023</th>\n",
       "    </tr>\n",
       "  </thead>\n",
       "  <tbody>\n",
       "    <tr>\n",
       "      <th>0</th>\n",
       "      <td>-38.341810</td>\n",
       "      <td>1.041872</td>\n",
       "      <td>1.018322</td>\n",
       "      <td>0.994773</td>\n",
       "      <td>0.971224</td>\n",
       "      <td>0.947675</td>\n",
       "      <td>0.924125</td>\n",
       "      <td>0.900576</td>\n",
       "      <td>0.877027</td>\n",
       "      <td>0.853478</td>\n",
       "      <td>...</td>\n",
       "      <td>2.295686</td>\n",
       "      <td>2.272137</td>\n",
       "      <td>2.248588</td>\n",
       "      <td>2.225039</td>\n",
       "      <td>2.201489</td>\n",
       "      <td>2.177940</td>\n",
       "      <td>2.154391</td>\n",
       "      <td>2.130842</td>\n",
       "      <td>2.107292</td>\n",
       "      <td>2.083743</td>\n",
       "    </tr>\n",
       "    <tr>\n",
       "      <th>1</th>\n",
       "      <td>57.611151</td>\n",
       "      <td>-1.500958</td>\n",
       "      <td>-1.465574</td>\n",
       "      <td>-1.430190</td>\n",
       "      <td>-1.394805</td>\n",
       "      <td>-1.359421</td>\n",
       "      <td>-1.324037</td>\n",
       "      <td>-1.288652</td>\n",
       "      <td>-1.253268</td>\n",
       "      <td>-1.217884</td>\n",
       "      <td>...</td>\n",
       "      <td>2.962810</td>\n",
       "      <td>2.998194</td>\n",
       "      <td>3.033579</td>\n",
       "      <td>3.068963</td>\n",
       "      <td>3.104347</td>\n",
       "      <td>3.139732</td>\n",
       "      <td>-3.108069</td>\n",
       "      <td>-3.072685</td>\n",
       "      <td>-3.037301</td>\n",
       "      <td>-3.001916</td>\n",
       "    </tr>\n",
       "    <tr>\n",
       "      <th>2</th>\n",
       "      <td>-27.889213</td>\n",
       "      <td>1.326247</td>\n",
       "      <td>1.309117</td>\n",
       "      <td>1.291988</td>\n",
       "      <td>1.274859</td>\n",
       "      <td>1.257729</td>\n",
       "      <td>1.240600</td>\n",
       "      <td>1.223471</td>\n",
       "      <td>1.206341</td>\n",
       "      <td>1.189212</td>\n",
       "      <td>...</td>\n",
       "      <td>2.806658</td>\n",
       "      <td>2.789528</td>\n",
       "      <td>2.772399</td>\n",
       "      <td>2.755270</td>\n",
       "      <td>2.738140</td>\n",
       "      <td>2.721011</td>\n",
       "      <td>2.703882</td>\n",
       "      <td>2.686752</td>\n",
       "      <td>2.669623</td>\n",
       "      <td>2.652494</td>\n",
       "    </tr>\n",
       "    <tr>\n",
       "      <th>3</th>\n",
       "      <td>6.579369</td>\n",
       "      <td>-2.149246</td>\n",
       "      <td>-2.145205</td>\n",
       "      <td>-2.141164</td>\n",
       "      <td>-2.137123</td>\n",
       "      <td>-2.133082</td>\n",
       "      <td>-2.129041</td>\n",
       "      <td>-2.125000</td>\n",
       "      <td>-2.120959</td>\n",
       "      <td>-2.116918</td>\n",
       "      <td>...</td>\n",
       "      <td>1.948324</td>\n",
       "      <td>1.952365</td>\n",
       "      <td>1.956406</td>\n",
       "      <td>1.960447</td>\n",
       "      <td>1.964488</td>\n",
       "      <td>1.968529</td>\n",
       "      <td>1.972570</td>\n",
       "      <td>1.976611</td>\n",
       "      <td>1.980652</td>\n",
       "      <td>1.984693</td>\n",
       "    </tr>\n",
       "    <tr>\n",
       "      <th>4</th>\n",
       "      <td>-94.383251</td>\n",
       "      <td>-2.754078</td>\n",
       "      <td>-2.812047</td>\n",
       "      <td>-2.870017</td>\n",
       "      <td>-2.927986</td>\n",
       "      <td>-2.985956</td>\n",
       "      <td>-3.043925</td>\n",
       "      <td>-3.101895</td>\n",
       "      <td>3.123321</td>\n",
       "      <td>3.065352</td>\n",
       "      <td>...</td>\n",
       "      <td>1.296754</td>\n",
       "      <td>1.238785</td>\n",
       "      <td>1.180816</td>\n",
       "      <td>1.122846</td>\n",
       "      <td>1.064877</td>\n",
       "      <td>1.006907</td>\n",
       "      <td>0.948938</td>\n",
       "      <td>0.890968</td>\n",
       "      <td>0.832999</td>\n",
       "      <td>0.775029</td>\n",
       "    </tr>\n",
       "  </tbody>\n",
       "</table>\n",
       "<p>5 rows × 1025 columns</p>\n",
       "</div>"
      ],
      "text/plain": [
       "       slope         0         1         2         3         4         5  \\\n",
       "0 -38.341810  1.041872  1.018322  0.994773  0.971224  0.947675  0.924125   \n",
       "1  57.611151 -1.500958 -1.465574 -1.430190 -1.394805 -1.359421 -1.324037   \n",
       "2 -27.889213  1.326247  1.309117  1.291988  1.274859  1.257729  1.240600   \n",
       "3   6.579369 -2.149246 -2.145205 -2.141164 -2.137123 -2.133082 -2.129041   \n",
       "4 -94.383251 -2.754078 -2.812047 -2.870017 -2.927986 -2.985956 -3.043925   \n",
       "\n",
       "          6         7         8    ...         1014      1015      1016  \\\n",
       "0  0.900576  0.877027  0.853478    ...     2.295686  2.272137  2.248588   \n",
       "1 -1.288652 -1.253268 -1.217884    ...     2.962810  2.998194  3.033579   \n",
       "2  1.223471  1.206341  1.189212    ...     2.806658  2.789528  2.772399   \n",
       "3 -2.125000 -2.120959 -2.116918    ...     1.948324  1.952365  1.956406   \n",
       "4 -3.101895  3.123321  3.065352    ...     1.296754  1.238785  1.180816   \n",
       "\n",
       "       1017      1018      1019      1020      1021      1022      1023  \n",
       "0  2.225039  2.201489  2.177940  2.154391  2.130842  2.107292  2.083743  \n",
       "1  3.068963  3.104347  3.139732 -3.108069 -3.072685 -3.037301 -3.001916  \n",
       "2  2.755270  2.738140  2.721011  2.703882  2.686752  2.669623  2.652494  \n",
       "3  1.960447  1.964488  1.968529  1.972570  1.976611  1.980652  1.984693  \n",
       "4  1.122846  1.064877  1.006907  0.948938  0.890968  0.832999  0.775029  \n",
       "\n",
       "[5 rows x 1025 columns]"
      ]
     },
     "execution_count": 5,
     "metadata": {},
     "output_type": "execute_result"
    }
   ],
   "source": [
    "import pandas as pd\n",
    "df_zero_phase = pd.DataFrame(rand_wangle_data_zero_phase)\n",
    "df_zero_phase.insert(0, 'slope', slope_zero_phase)\n",
    "df_zero_phase.to_csv('data/wu_zero_phase.csv', index = False)\n",
    "df_zero_phase.head()"
   ]
  },
  {
   "cell_type": "code",
   "execution_count": 9,
   "metadata": {
    "ExecuteTime": {
     "end_time": "2018-05-28T18:48:41.440201Z",
     "start_time": "2018-05-28T18:48:13.775250Z"
    }
   },
   "outputs": [],
   "source": [
    "rand_wangle_data_rand_phase = np.empty((num_taus, len(freqs)))\n",
    "slope_rand_phase = np.empty(num_taus)\n",
    "for i in range(num_taus):\n",
    "    \n",
    "    phi = np.random.uniform(high = 2 * np.pi)\n",
    "    tau = np.random.uniform(low = -100, high = 100)\n",
    "    rand_wangle_data_rand_phase[i] = np.angle(np.exp(2 * np.pi * 1j * (tau  * freqs + phi)))            \n",
    "    slope_rand_phase[i] = get_slope(rand_wangle_data_rand_phase[i])\n",
    "\n",
    "\n",
    "df_rand_phase = pd.DataFrame(rand_wangle_data_rand_phase)\n",
    "df_rand_phase.insert(0, 'slope', slope_rand_phase)\n",
    "df_rand_phase.to_csv('data/wu_rand_phase.csv', index = False)"
   ]
  },
  {
   "cell_type": "code",
   "execution_count": 10,
   "metadata": {
    "ExecuteTime": {
     "end_time": "2018-05-28T18:49:18.223635Z",
     "start_time": "2018-05-28T18:48:43.138013Z"
    }
   },
   "outputs": [],
   "source": [
    "\n",
    "rand_wangle_data_rand_phase_10_percent_low_noise = np.empty((num_taus, len(freqs)))\n",
    "slope_rand_phase_10_percent_low_noise = np.empty(num_taus)\n",
    "for i in range(num_taus):\n",
    "    \n",
    "    phi = np.random.uniform(high = 2 * np.pi)\n",
    "    tau = np.random.uniform(low = -100, high = 100)\n",
    "    rand_wangle_data_rand_phase_10_percent_low_noise[i] = np.angle(np.exp(2 * np.pi * 1j * (tau  * freqs + phi)))\n",
    "    slope_rand_phase_10_percent_low_noise[i] = get_slope(rand_wangle_data_rand_phase_10_percent_low_noise[i])\n",
    "    if np.random.uniform() > 0.9:\n",
    "        noise = np.random.normal(len(freqs))\n",
    "        rand_wangle_data_rand_phase_10_percent_low_noise[i] += noise\n",
    "\n",
    "df_rand_phase_10_percent_low_noise = pd.DataFrame(rand_wangle_data_rand_phase_10_percent_low_noise)\n",
    "df_rand_phase_10_percent_low_noise.insert(0, 'slope', slope_rand_phase_10_percent_low_noise)\n",
    "df_rand_phase_10_percent_low_noise.to_csv('data/wu_rand_phase_10_percent_low_noise.csv', index = False)"
   ]
  }
 ],
 "metadata": {
  "kernelspec": {
   "display_name": "Python 3",
   "language": "python",
   "name": "python3"
  },
  "language_info": {
   "codemirror_mode": {
    "name": "ipython",
    "version": 3
   },
   "file_extension": ".py",
   "mimetype": "text/x-python",
   "name": "python",
   "nbconvert_exporter": "python",
   "pygments_lexer": "ipython3",
   "version": "3.6.5"
  },
  "varInspector": {
   "cols": {
    "lenName": 16,
    "lenType": 16,
    "lenVar": 40
   },
   "kernels_config": {
    "python": {
     "delete_cmd_postfix": "",
     "delete_cmd_prefix": "del ",
     "library": "var_list.py",
     "varRefreshCmd": "print(var_dic_list())"
    },
    "r": {
     "delete_cmd_postfix": ") ",
     "delete_cmd_prefix": "rm(",
     "library": "var_list.r",
     "varRefreshCmd": "cat(var_dic_list()) "
    }
   },
   "types_to_exclude": [
    "module",
    "function",
    "builtin_function_or_method",
    "instance",
    "_Feature"
   ],
   "window_display": false
  }
 },
 "nbformat": 4,
 "nbformat_minor": 2
}
