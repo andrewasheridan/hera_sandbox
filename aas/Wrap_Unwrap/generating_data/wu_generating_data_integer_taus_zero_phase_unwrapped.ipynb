{
 "cells": [
  {
   "cell_type": "markdown",
   "metadata": {},
   "source": [
    "`wu_generating_data_integer_taus_zero_phase_unwrapped.ipynb`\n",
    "\n",
    "> Generating data for the wrap-unwrap problem\n",
    "\n",
    "> integer values of tau, zero phase or noise (i want to make this easy)\n",
    "\n",
    "> UNWRAPPED DATA"
   ]
  },
  {
   "cell_type": "markdown",
   "metadata": {},
   "source": [
    "##### imports & notebook setup"
   ]
  },
  {
   "cell_type": "code",
   "execution_count": 5,
   "metadata": {
    "ExecuteTime": {
     "end_time": "2018-05-30T20:54:40.160877Z",
     "start_time": "2018-05-30T20:54:40.111745Z"
    }
   },
   "outputs": [
    {
     "data": {
      "text/html": [
       "<style>.container { width:100% !important; }</style>"
      ],
      "text/plain": [
       "<IPython.core.display.HTML object>"
      ]
     },
     "metadata": {},
     "output_type": "display_data"
    }
   ],
   "source": [
    "import numpy as np, pandas as pd\n",
    "\n",
    "import matplotlib.pyplot as plt\n",
    "from matplotlib.ticker import MultipleLocator, FormatStrFormatter, FuncFormatter\n",
    "\n",
    "from plot_styles import set_plotstyles\n",
    "set_plotstyles()\n",
    "\n",
    "from IPython.core.display import display, HTML\n",
    "display(HTML(\"<style>.container { width:100% !important; }</style>\"))\n",
    "%config InlineBackend.figure_format = 'retina'"
   ]
  },
  {
   "cell_type": "code",
   "execution_count": 6,
   "metadata": {
    "ExecuteTime": {
     "end_time": "2018-05-30T20:54:40.567625Z",
     "start_time": "2018-05-30T20:54:40.555831Z"
    }
   },
   "outputs": [],
   "source": [
    "# frequency channels for all data\n",
    "\n",
    "min_freq = 0.1   # GHz\n",
    "max_freq = 0.2   # GHz\n",
    "num_freqs = 1024\n",
    "freqs = np.linspace(min_freq, max_freq, num_freqs) # GHz"
   ]
  },
  {
   "cell_type": "code",
   "execution_count": 7,
   "metadata": {
    "ExecuteTime": {
     "end_time": "2018-05-30T20:54:40.803015Z",
     "start_time": "2018-05-30T20:54:40.792315Z"
    }
   },
   "outputs": [],
   "source": [
    "# tau bounds\n",
    "min_tau = -100 # ns\n",
    "max_tau =  100 # ns"
   ]
  },
  {
   "cell_type": "code",
   "execution_count": 8,
   "metadata": {
    "ExecuteTime": {
     "end_time": "2018-05-30T20:54:41.118060Z",
     "start_time": "2018-05-30T20:54:41.104674Z"
    }
   },
   "outputs": [],
   "source": [
    "def get_slope(y, x = freqs):\n",
    "    \"\"\"\n",
    "    Computes the mean slope of the data.\n",
    "    Assumes the data is a *perfect* line\n",
    "    \n",
    "    Parameters\n",
    "    ---------\n",
    "    y (array) : complex data to be unwrapped\n",
    "    x (array) : frequencies [GHz]\n",
    "    \n",
    "    Returns\n",
    "    -------\n",
    "    (float)  : slope of the line [nano-seconds]\n",
    "    \n",
    "    \"\"\"\n",
    "    return np.mean((np.diff(np.unwrap(y))  / (2 * np.pi)) / np.diff(x))"
   ]
  },
  {
   "cell_type": "markdown",
   "metadata": {},
   "source": [
    "#### Generate data"
   ]
  },
  {
   "cell_type": "markdown",
   "metadata": {},
   "source": [
    "> Data should have:\n",
    " - a low rate of spikes\n",
    " - a small amount of noise\n",
    "  - occasional large amounts of noise\n",
    " - integer values of tau"
   ]
  },
  {
   "cell_type": "code",
   "execution_count": 13,
   "metadata": {
    "ExecuteTime": {
     "end_time": "2018-05-30T20:57:42.916499Z",
     "start_time": "2018-05-30T20:57:30.822615Z"
    }
   },
   "outputs": [],
   "source": [
    "# how many entries in the dataframe?\n",
    "num_entries = 10000\n",
    "\n",
    "# each entry has a slope computed before noise & spikes are applied\n",
    "tau_col = np.empty(num_entries)\n",
    "\n",
    "# generate data\n",
    "data = np.empty((num_entries, num_freqs))\n",
    "for i in range(num_entries):\n",
    "    \n",
    "    # fix tau\n",
    "    tau = np.random.randint(min_tau,high = max_tau) \n",
    "    \n",
    "    # fix phi\n",
    "    phi = 0\n",
    "    \n",
    "    # generate angle data from complex data\n",
    "    data[i]    = np.angle(np.exp(2*np.pi*1j * (tau*freqs + phi)))\n",
    "    \n",
    "    # compute slope\n",
    "    tau_col[i] = get_slope(data[i])\n",
    "\n",
    "    data[i] = np.unwrap(data[i])"
   ]
  },
  {
   "cell_type": "markdown",
   "metadata": {},
   "source": [
    "#### save data\n",
    "\n",
    "> save as a compressed file\n",
    "\n",
    "> Filename convention:\n",
    "\n",
    "`wu_10000_normal-uniform-noise_5-percent-normal-pi-spike_integer-taus.bz2`\n",
    "\n",
    "\"wrap-unwrap\" \\_ \"number of entries\" \\_ \"type of noise added\" \\_ \"type of spikes added\" \\_ \"comments\""
   ]
  },
  {
   "cell_type": "code",
   "execution_count": 14,
   "metadata": {
    "ExecuteTime": {
     "end_time": "2018-05-30T21:02:01.289091Z",
     "start_time": "2018-05-30T20:58:38.185913Z"
    }
   },
   "outputs": [],
   "source": [
    "df = pd.DataFrame(data)\n",
    "df.insert(0, 'tau', tau_col)\n",
    "df.to_csv('data/wu_10000_zero-noise_zero-spikes_integer-taus-unwrapped', index = False, compression = 'bz2')"
   ]
  },
  {
   "cell_type": "code",
   "execution_count": null,
   "metadata": {},
   "outputs": [],
   "source": []
  }
 ],
 "metadata": {
  "kernelspec": {
   "display_name": "Python 3",
   "language": "python",
   "name": "python3"
  },
  "language_info": {
   "codemirror_mode": {
    "name": "ipython",
    "version": 3
   },
   "file_extension": ".py",
   "mimetype": "text/x-python",
   "name": "python",
   "nbconvert_exporter": "python",
   "pygments_lexer": "ipython3",
   "version": "3.6.5"
  },
  "varInspector": {
   "cols": {
    "lenName": 16,
    "lenType": 16,
    "lenVar": 40
   },
   "kernels_config": {
    "python": {
     "delete_cmd_postfix": "",
     "delete_cmd_prefix": "del ",
     "library": "var_list.py",
     "varRefreshCmd": "print(var_dic_list())"
    },
    "r": {
     "delete_cmd_postfix": ") ",
     "delete_cmd_prefix": "rm(",
     "library": "var_list.r",
     "varRefreshCmd": "cat(var_dic_list()) "
    }
   },
   "types_to_exclude": [
    "module",
    "function",
    "builtin_function_or_method",
    "instance",
    "_Feature"
   ],
   "window_display": false
  }
 },
 "nbformat": 4,
 "nbformat_minor": 2
}
