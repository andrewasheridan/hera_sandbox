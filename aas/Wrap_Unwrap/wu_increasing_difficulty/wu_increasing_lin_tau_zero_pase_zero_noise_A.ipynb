{
 "cells": [
  {
   "cell_type": "markdown",
   "metadata": {},
   "source": [
    "`wu_increasing_lin_tau_zero_pase_zero_noise_A.ipynb`\n",
    "\n",
    "> data: `wu_10000_zero-noise_zero-spikes_integer-taus-unwrapped`"
   ]
  },
  {
   "cell_type": "code",
   "execution_count": 1,
   "metadata": {
    "ExecuteTime": {
     "end_time": "2018-05-30T22:05:03.027717Z",
     "start_time": "2018-05-30T22:04:58.045541Z"
    }
   },
   "outputs": [
    {
     "name": "stderr",
     "output_type": "stream",
     "text": [
      "/Users/andrew/anaconda3/lib/python3.6/site-packages/h5py/__init__.py:36: FutureWarning: Conversion of the second argument of issubdtype from `float` to `np.floating` is deprecated. In future, it will be treated as `np.float64 == np.dtype(float).type`.\n",
      "  from ._conv import register_converters as _register_converters\n"
     ]
    },
    {
     "data": {
      "text/html": [
       "<style>.container { width:100% !important; }</style>"
      ],
      "text/plain": [
       "<IPython.core.display.HTML object>"
      ]
     },
     "metadata": {},
     "output_type": "display_data"
    }
   ],
   "source": [
    "import tensorflow as tf, numpy as np, pandas as pd, matplotlib.pyplot as plt, glob, sys, io\n",
    "\n",
    "from sklearn.preprocessing import MinMaxScaler\n",
    "\n",
    "import matplotlib.pyplot as plt\n",
    "from matplotlib.ticker import MultipleLocator, FormatStrFormatter, FuncFormatter\n",
    "\n",
    "from plot_styles import set_plotstyles\n",
    "set_plotstyles()\n",
    "\n",
    "from IPython.core.display import display, HTML\n",
    "display(HTML(\"<style>.container { width:100% !important; }</style>\"))\n",
    "%config InlineBackend.figure_format = 'retina'"
   ]
  },
  {
   "cell_type": "code",
   "execution_count": 2,
   "metadata": {
    "ExecuteTime": {
     "end_time": "2018-05-30T22:05:29.995152Z",
     "start_time": "2018-05-30T22:05:03.050243Z"
    }
   },
   "outputs": [],
   "source": [
    "# glob.glob(\"../generating_data/data/*\")\n",
    "data = pd.read_csv('../generating_data/data/wu_10000_zero-noise_zero-spikes_integer-taus-unwrapped', compression = 'bz2')"
   ]
  },
  {
   "cell_type": "code",
   "execution_count": 3,
   "metadata": {
    "ExecuteTime": {
     "end_time": "2018-05-30T22:05:30.408170Z",
     "start_time": "2018-05-30T22:05:30.161102Z"
    }
   },
   "outputs": [],
   "source": [
    "# split randomly 80% / 10%\n",
    "training_data_df = data.sample(frac = 0.8)\n",
    "testing_data_df = data.loc[~data.index.isin(training_data_df.index)]\n",
    "\n",
    "# separate input features from output\n",
    "X_training = training_data_df.drop('tau', axis = 1).values\n",
    "y_training = training_data_df[['tau']].values\n",
    "\n",
    "X_testing = testing_data_df.drop('tau', axis = 1).values\n",
    "y_testing = testing_data_df[['tau']].values"
   ]
  },
  {
   "cell_type": "code",
   "execution_count": 4,
   "metadata": {
    "ExecuteTime": {
     "end_time": "2018-05-30T22:05:31.232908Z",
     "start_time": "2018-05-30T22:05:30.850562Z"
    }
   },
   "outputs": [],
   "source": [
    "# setup data scalers\n",
    "X_scaler = MinMaxScaler(feature_range = (0,1))\n",
    "y_scaler = MinMaxScaler(feature_range = (0,1))\n",
    "\n",
    "# scale data\n",
    "X_scaled_training = X_scaler.fit_transform(X_training)\n",
    "y_scaled_training = y_scaler.fit_transform(y_training)\n",
    "\n",
    "X_scaled_testing = X_scaler.transform(X_testing)\n",
    "y_scaled_testing = y_scaler.transform(y_testing)"
   ]
  },
  {
   "cell_type": "code",
   "execution_count": 5,
   "metadata": {
    "ExecuteTime": {
     "end_time": "2018-05-30T22:05:31.568717Z",
     "start_time": "2018-05-30T22:05:31.555336Z"
    }
   },
   "outputs": [],
   "source": [
    "number_of_inputs =  X_scaled_training.shape[1]\n",
    "number_of_outputs = y_scaled_training.shape[1]\n",
    "\n",
    "layer_1_nodes = 256\n",
    "layer_2_nodes = 512\n",
    "layer_3_nodes = 768\n",
    "layer_4_nodes = 512\n",
    "layer_5_nodes = 256\n",
    "\n",
    "starting_epoch = 0\n",
    "training_epochs = 1000\n",
    "\n",
    "learning_rate = 0.0001"
   ]
  },
  {
   "cell_type": "code",
   "execution_count": 7,
   "metadata": {
    "ExecuteTime": {
     "end_time": "2018-05-30T21:18:18.074845Z",
     "start_time": "2018-05-30T21:18:18.062594Z"
    },
    "deletable": false,
    "editable": false,
    "run_control": {
     "frozen": true
    }
   },
   "outputs": [
    {
     "data": {
      "text/plain": [
       "'42727'"
      ]
     },
     "execution_count": 7,
     "metadata": {},
     "output_type": "execute_result"
    }
   ],
   "source": [
    "# one random serial number per NN graph\n",
    "# - add letters to end for repeated runs\n",
    "# - only run this cell once!\n",
    "log_random_serial_number = '{}'.format(np.random.randint(10000,99999))\n",
    "# log_random_serial_number = 42727\n",
    "log_random_serial_number"
   ]
  },
  {
   "cell_type": "code",
   "execution_count": 6,
   "metadata": {
    "ExecuteTime": {
     "end_time": "2018-05-30T22:05:31.884148Z",
     "start_time": "2018-05-30T22:05:31.870855Z"
    }
   },
   "outputs": [],
   "source": [
    "def log_dir(log_random_serial_number):\n",
    "    master_log_path = '../logs/'\n",
    "    log_num = len(glob.glob(master_log_path + log_random_serial_number + '*'))\n",
    "    \n",
    "    direc = master_log_path + log_random_serial_number\n",
    "    if log_num > 0:\n",
    "        # assumes less than 26 runs per graph\n",
    "        direc += chr(ord('@') + log_num)\n",
    "    return direc"
   ]
  },
  {
   "cell_type": "code",
   "execution_count": 7,
   "metadata": {
    "ExecuteTime": {
     "end_time": "2018-05-30T22:05:32.302035Z",
     "start_time": "2018-05-30T22:05:32.275583Z"
    }
   },
   "outputs": [],
   "source": [
    "def reduce_var(x, axis=None, keepdims=False):\n",
    "    \"\"\"Variance of a tensor, alongside the specified axis.\n",
    "\n",
    "    # Arguments\n",
    "        x: A tensor or variable.\n",
    "        axis: An integer, the axis to compute the variance.\n",
    "        keepdims: A boolean, whether to keep the dimensions or not.\n",
    "            If `keepdims` is `False`, the rank of the tensor is reduced\n",
    "            by 1. If `keepdims` is `True`,\n",
    "            the reduced dimension is retained with length 1.\n",
    "\n",
    "    # Returns\n",
    "        A tensor with the variance of elements of `x`.\n",
    "    \"\"\"\n",
    "    m = tf.reduce_mean(x, axis=axis, keepdims=True)\n",
    "    devs_squared = tf.square(x - m)\n",
    "    return tf.reduce_mean(devs_squared, axis=axis, keep_dims=keepdims)\n",
    "\n",
    "def reduce_std(x, axis=None, keepdims=False):\n",
    "    \"\"\"Standard deviation of a tensor, alongside the specified axis.\n",
    "\n",
    "    # Arguments\n",
    "        x: A tensor or variable.\n",
    "        axis: An integer, the axis to compute the standard deviation.\n",
    "        keepdims: A boolean, whether to keep the dimensions or not.\n",
    "            If `keepdims` is `False`, the rank of the tensor is reduced\n",
    "            by 1. If `keepdims` is `True`,\n",
    "            the reduced dimension is retained with length 1.\n",
    "\n",
    "    # Returns\n",
    "        A tensor with the standard deviation of elements of `x`.\n",
    "    \"\"\"\n",
    "    return tf.sqrt(reduce_var(x, axis=axis, keepdims=keepdims))\n",
    "\n"
   ]
  },
  {
   "cell_type": "code",
   "execution_count": 8,
   "metadata": {
    "ExecuteTime": {
     "end_time": "2018-05-30T22:05:41.654463Z",
     "start_time": "2018-05-30T22:05:32.608069Z"
    }
   },
   "outputs": [
    {
     "name": "stdout",
     "output_type": "stream",
     "text": [
      "WARNING:tensorflow:From <ipython-input-7-c23d26889903>:17: calling reduce_mean (from tensorflow.python.ops.math_ops) with keep_dims is deprecated and will be removed in a future version.\n",
      "Instructions for updating:\n",
      "keep_dims is deprecated, use keepdims instead\n"
     ]
    }
   ],
   "source": [
    "tf.reset_default_graph()\n",
    "\n",
    "with tf.variable_scope('input'):\n",
    "    X  = tf.placeholder(tf.float32, shape = (None, number_of_inputs))\n",
    "    \n",
    "with tf.variable_scope('keep'):\n",
    "    keep_prob = tf.placeholder(tf.float32)\n",
    "    \n",
    "with tf.variable_scope('layer_1'):\n",
    "\n",
    "    biases = tf.get_variable(name = \"biases1\", shape = [layer_1_nodes], initializer = tf.zeros_initializer())\n",
    "    weights = tf.get_variable(name = \"weights1\", shape  = [number_of_inputs, layer_1_nodes], initializer = tf.contrib.layers.xavier_initializer())\n",
    "    layer_1_output = tf.nn.relu(tf.matmul(X, weights) + biases)\n",
    "\n",
    "with tf.variable_scope('layer_2'):\n",
    "\n",
    "    biases = tf.get_variable(name = \"biases2\", shape = [layer_2_nodes], initializer = tf.zeros_initializer())\n",
    "    weights = tf.get_variable(name = \"weights2\", shape  = [layer_1_nodes, layer_2_nodes], initializer = tf.contrib.layers.xavier_initializer())\n",
    "    layer_2_output = tf.nn.relu(tf.matmul(layer_1_output, weights) + biases)\n",
    "\n",
    "with tf.variable_scope('layer_3'):\n",
    "\n",
    "    biases = tf.get_variable(name = \"biases3\", shape = [layer_3_nodes], initializer = tf.zeros_initializer())\n",
    "    weights = tf.get_variable(name = \"weights3\", shape  = [layer_2_nodes, layer_3_nodes], initializer = tf.contrib.layers.xavier_initializer())\n",
    "    layer_3_output = tf.nn.relu(tf.matmul(layer_2_output, weights) + biases)\n",
    "\n",
    "with tf.variable_scope('dropout_3_to_4'):\n",
    "    drop_out = tf.nn.dropout(layer_3_output, keep_prob) \n",
    "    \n",
    "with tf.variable_scope('layer_4'):\n",
    "\n",
    "    biases = tf.get_variable(name = \"biases4\", shape = [layer_4_nodes], initializer = tf.zeros_initializer())\n",
    "    weights = tf.get_variable(name = \"weights4\", shape  = [layer_3_nodes, layer_4_nodes], initializer = tf.contrib.layers.xavier_initializer())\n",
    "    layer_4_output = tf.nn.relu(tf.matmul(drop_out, weights) + biases)\n",
    "\n",
    "with tf.variable_scope('layer_5'):\n",
    "\n",
    "    biases = tf.get_variable(name = \"biases5\", shape = [layer_5_nodes], initializer = tf.zeros_initializer())\n",
    "    weights = tf.get_variable(name = \"weights5\", shape  = [layer_4_nodes, layer_5_nodes], initializer = tf.contrib.layers.xavier_initializer())\n",
    "    layer_5_output = tf.nn.relu(tf.matmul(layer_4_output, weights) + biases)\n",
    "    \n",
    "with tf.variable_scope('output'):\n",
    "\n",
    "    biases = tf.get_variable(name = \"biases_out\", shape = [number_of_outputs], initializer = tf.zeros_initializer())\n",
    "    weights = tf.get_variable(name = \"weights_out\", shape  = [layer_5_nodes, number_of_outputs], initializer = tf.contrib.layers.xavier_initializer())\n",
    "    prediction = tf.nn.relu(tf.matmul(layer_5_output, weights) + biases)\n",
    "\n",
    "with tf.variable_scope('std'):\n",
    "\n",
    "    y_std = tf.placeholder(tf.float32, shape = (None, 1))\n",
    "    std = reduce_std(tf.squared_difference(prediction, y_std))\n",
    "    \n",
    "with tf.variable_scope('cost'):\n",
    "\n",
    "    y_cost = tf.placeholder(tf.float32, shape = (None, 1))\n",
    "    cost = tf.reduce_mean(tf.squared_difference(prediction, y_cost))\n",
    "    \n",
    "with tf.variable_scope('score'):\n",
    "\n",
    "    y_score = tf.placeholder(tf.float32, shape = (None, 1))\n",
    "    score = tf.reduce_sum(tf.squared_difference(prediction, y_score))\n",
    "\n",
    "with tf.variable_scope('train'):\n",
    "    optimizer = tf.train.AdamOptimizer(learning_rate, epsilon=1e-08).minimize(cost)\n",
    "\n",
    "with tf.variable_scope('logging'):\n",
    "    \n",
    "    tf.summary.scalar('current_std', std)\n",
    "    tf.summary.scalar('current_cost', cost)\n",
    "    tf.summary.scalar('current_score', score)\n",
    "    tf.summary.histogram('predictions', prediction)\n",
    "    \n",
    "    summary = tf.summary.merge_all()"
   ]
  },
  {
   "cell_type": "code",
   "execution_count": 9,
   "metadata": {
    "ExecuteTime": {
     "end_time": "2018-05-30T22:05:42.040313Z",
     "start_time": "2018-05-30T22:05:41.967321Z"
    }
   },
   "outputs": [
    {
     "name": "stdout",
     "output_type": "stream",
     "text": [
      "../logs/42727A\n"
     ]
    }
   ],
   "source": [
    "saver = tf.train.Saver()\n",
    "log_direc = log_dir(str(42727))\n",
    "print(log_direc)"
   ]
  },
  {
   "cell_type": "code",
   "execution_count": 10,
   "metadata": {
    "ExecuteTime": {
     "end_time": "2018-05-30T22:33:51.002852Z",
     "start_time": "2018-05-30T22:05:50.022066Z"
    },
    "scrolled": false
   },
   "outputs": [
    {
     "name": "stdout",
     "output_type": "stream",
     "text": [
      " epoch:  999 testing_std: 0.00036033411743119359 testing_cost: 0.00013425429642666131 testing_score: 0.2685085833072662353550"
     ]
    }
   ],
   "source": [
    "\n",
    "with tf.Session() as session:\n",
    "\n",
    "    session.run(tf.global_variables_initializer())\n",
    "\n",
    "    training_writer = tf.summary.FileWriter(log_direc + '/training', session.graph)\n",
    "    testing_writer = tf.summary.FileWriter(log_direc + '/testing', session.graph)\n",
    "    model_save_location = log_direc + '/model/' + 'trained_model.ckpt'\n",
    "\n",
    "    \n",
    "    for epoch  in range(training_epochs):\n",
    "\n",
    "        # Feed in the training data and do one step NN training\n",
    "        session.run(optimizer,feed_dict = {X: X_scaled_training,\n",
    "                                           y_std: y_scaled_training,\n",
    "                                           y_cost: y_scaled_training,\n",
    "                                           y_score: y_scaled_training,\n",
    "                                           keep_prob: 0.5})\n",
    "\n",
    "        training_feed = {X: X_scaled_training,\n",
    "                         y_std: y_scaled_training,\n",
    "                         y_cost: y_scaled_training,\n",
    "                         y_score: y_scaled_training,\n",
    "                         keep_prob: 0.5}\n",
    "        \n",
    "        tr_std, tr_cost, tr_score, tr_summary = session.run([std, cost, score, summary], feed_dict = training_feed)\n",
    "\n",
    "        testing_feed =  {X: X_scaled_testing,\n",
    "                         y_std: y_scaled_testing,\n",
    "                         y_cost: y_scaled_testing,\n",
    "                         y_score: y_scaled_testing,\n",
    "                         keep_prob: 0.5}\n",
    "        \n",
    "        tt_std, tt_cost, tt_score, tt_summary = session.run([std, cost, score, summary],feed_dict = testing_feed)\n",
    "        \n",
    "        sys.stdout.write('\\r epoch: {:4.0f} testing_std: {:2.20f} testing_cost: {:2.20f} testing_score: {:2.20f}'.format(epoch, tt_std, tt_cost, tt_score))\n",
    "        \n",
    "        training_writer.add_summary(tr_summary, epoch)\n",
    "        testing_writer.add_summary(tt_summary, epoch)\n",
    "        testing_writer.flush()\n",
    "        training_writer.flush()\n",
    "        \n",
    "        if epoch % 50 == 0:\n",
    "                saver.save(session, model_save_location, epoch)\n",
    "            \n",
    "    saver.save(session, model_save_location, epoch)"
   ]
  },
  {
   "cell_type": "code",
   "execution_count": 11,
   "metadata": {
    "ExecuteTime": {
     "end_time": "2018-05-30T22:33:51.585770Z",
     "start_time": "2018-05-30T22:33:51.342335Z"
    }
   },
   "outputs": [
    {
     "name": "stdout",
     "output_type": "stream",
     "text": [
      "INFO:tensorflow:Restoring parameters from ../logs/42727A/model/trained_model.ckpt-999\n"
     ]
    }
   ],
   "source": [
    "with tf.Session() as session:\n",
    "    saver.restore(session,model_save_location + '-' + str(training_epochs - 1))\n",
    "    \n",
    "    prediction_scaled = session.run(prediction, feed_dict = {X: X_scaled_testing, keep_prob: 1})\n",
    "    \n",
    "    # the predictions but in the original units\n",
    "    prediction_unscaled = y_scaler.inverse_transform(prediction_scaled)"
   ]
  },
  {
   "cell_type": "code",
   "execution_count": 12,
   "metadata": {
    "ExecuteTime": {
     "end_time": "2018-05-30T22:33:55.463269Z",
     "start_time": "2018-05-30T22:33:51.993732Z"
    }
   },
   "outputs": [
    {
     "data": {
      "image/png": "[encoded data removed]",
      "text/plain": [
       "<matplotlib.figure.Figure at 0x1a305bc9e8>"
      ]
     },
     "metadata": {
      "image/png": {
       "height": 336,
       "width": 777
      }
     },
     "output_type": "display_data"
    }
   ],
   "source": [
    "sorting_idx = np.argsort(y_testing.T[0])\n",
    "\n",
    "fig, ax = plt.subplots(figsize = (8.5, 3), dpi = 100)\n",
    "\n",
    "ax.set_title(r'NN predictions vs actual, final cost $\\approx$ 5/1000')\n",
    "ax.plot(prediction_unscaled.T[0][sorting_idx],\n",
    "        linestyle = 'none', marker = '.', markersize = 1,\n",
    "        color = 'darkblue', label = 'Prediction')\n",
    "\n",
    "ax.plot(y_testing.T[0][sorting_idx],\n",
    "        linestyle = 'none', marker = '.', markersize = 1, alpha = 0.75, \n",
    "        color = '#E50000', label = 'Actual')\n",
    "\n",
    "ax.set_ylabel(r'$\\tau$ [ ns ]')\n",
    "ax.set_xlabel(r'$\\texttt{Y\\_testing}$ sample number')\n",
    "ax.legend( loc = 'best')\n",
    "plt.show()"
   ]
  },
  {
   "cell_type": "code",
   "execution_count": 13,
   "metadata": {
    "ExecuteTime": {
     "end_time": "2018-05-30T22:33:55.860137Z",
     "start_time": "2018-05-30T22:33:55.846638Z"
    }
   },
   "outputs": [
    {
     "data": {
      "text/plain": [
       "142.0958989968555"
      ]
     },
     "execution_count": 13,
     "metadata": {},
     "output_type": "execute_result"
    }
   ],
   "source": [
    "NN_SCORE = sum((y_scaled_testing.T[0] - prediction_scaled.T[0])**2)\n",
    "NN_SCORE"
   ]
  },
  {
   "cell_type": "code",
   "execution_count": 14,
   "metadata": {
    "ExecuteTime": {
     "end_time": "2018-05-30T22:33:56.256960Z",
     "start_time": "2018-05-30T22:33:56.247710Z"
    }
   },
   "outputs": [
    {
     "data": {
      "text/plain": [
       "27.25525468699755"
      ]
     },
     "execution_count": 14,
     "metadata": {},
     "output_type": "execute_result"
    }
   ],
   "source": [
    "np.std(abs(y_testing.T[0] - prediction_unscaled.T[0]))"
   ]
  },
  {
   "cell_type": "code",
   "execution_count": null,
   "metadata": {},
   "outputs": [],
   "source": []
  }
 ],
 "metadata": {
  "kernelspec": {
   "display_name": "Python 3",
   "language": "python",
   "name": "python3"
  },
  "language_info": {
   "codemirror_mode": {
    "name": "ipython",
    "version": 3
   },
   "file_extension": ".py",
   "mimetype": "text/x-python",
   "name": "python",
   "nbconvert_exporter": "python",
   "pygments_lexer": "ipython3",
   "version": "3.6.5"
  },
  "varInspector": {
   "cols": {
    "lenName": 16,
    "lenType": 16,
    "lenVar": 40
   },
   "kernels_config": {
    "python": {
     "delete_cmd_postfix": "",
     "delete_cmd_prefix": "del ",
     "library": "var_list.py",
     "varRefreshCmd": "print(var_dic_list())"
    },
    "r": {
     "delete_cmd_postfix": ") ",
     "delete_cmd_prefix": "rm(",
     "library": "var_list.r",
     "varRefreshCmd": "cat(var_dic_list()) "
    }
   },
   "types_to_exclude": [
    "module",
    "function",
    "builtin_function_or_method",
    "instance",
    "_Feature"
   ],
   "window_display": false
  }
 },
 "nbformat": 4,
 "nbformat_minor": 2
}
