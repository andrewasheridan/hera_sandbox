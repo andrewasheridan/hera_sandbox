{
 "cells": [
  {
   "cell_type": "markdown",
   "metadata": {},
   "source": [
    "> notebook to generate data for the taufinder project"
   ]
  },
  {
   "cell_type": "code",
   "execution_count": 5,
   "metadata": {
    "ExecuteTime": {
     "end_time": "2018-05-25T15:24:28.051748Z",
     "start_time": "2018-05-25T15:24:27.017103Z"
    }
   },
   "outputs": [],
   "source": [
    "import numpy as np\n",
    "import pandas as pd"
   ]
  },
  {
   "cell_type": "code",
   "execution_count": 2,
   "metadata": {
    "ExecuteTime": {
     "end_time": "2018-05-25T15:23:03.860729Z",
     "start_time": "2018-05-25T15:23:03.854993Z"
    }
   },
   "outputs": [],
   "source": [
    "def slope(angle_data):\n",
    "    return np.mean((np.diff(np.unwrap(angle_data))  / (2 * np.pi)) / np.diff(freqs))"
   ]
  },
  {
   "cell_type": "code",
   "execution_count": 3,
   "metadata": {
    "ExecuteTime": {
     "end_time": "2018-05-25T15:23:13.572034Z",
     "start_time": "2018-05-25T15:23:13.566067Z"
    }
   },
   "outputs": [],
   "source": [
    "freqs = np.linspace(0.1, 0.2, 1024) # GHz"
   ]
  },
  {
   "cell_type": "code",
   "execution_count": 8,
   "metadata": {
    "ExecuteTime": {
     "end_time": "2018-05-25T15:53:48.748883Z",
     "start_time": "2018-05-25T15:53:47.801091Z"
    }
   },
   "outputs": [],
   "source": [
    "num_taus = 10000\n",
    "\n",
    "abs_max_tau  = 100 #ns\n",
    "\n",
    "rand_taus = abs_max_tau * np.random.uniform(low = -1, high = 1, size = num_taus)\n",
    "\n",
    "rand_angle_data = np.empty((num_taus, len(freqs)))\n",
    "for i, r_tau in enumerate(rand_taus):\n",
    "    rand_angle_data[i] = np.angle(np.exp(-2 * np.pi * 1j * r_tau * freqs))"
   ]
  },
  {
   "cell_type": "code",
   "execution_count": 9,
   "metadata": {
    "ExecuteTime": {
     "end_time": "2018-05-25T15:53:53.741039Z",
     "start_time": "2018-05-25T15:53:52.480194Z"
    }
   },
   "outputs": [],
   "source": [
    "df = pd.DataFrame(rand_angle_data)\n",
    "df['tau'] = [slope(angle_data) for angle_data in rand_angle_data]\n",
    "tau = df['tau']\n",
    "df.drop(labels=['tau'], axis=1,inplace = True)\n",
    "df.insert(0, 'tau', tau)"
   ]
  },
  {
   "cell_type": "code",
   "execution_count": 10,
   "metadata": {
    "ExecuteTime": {
     "end_time": "2018-05-25T15:54:24.402354Z",
     "start_time": "2018-05-25T15:53:55.126044Z"
    }
   },
   "outputs": [],
   "source": [
    "df.to_csv('wrap_data_10000.csv', index = False)"
   ]
  },
  {
   "cell_type": "code",
   "execution_count": null,
   "metadata": {
    "ExecuteTime": {
     "end_time": "2018-05-25T17:05:39.163544Z",
     "start_time": "2018-05-25T17:05:39.089389Z"
    }
   },
   "outputs": [],
   "source": []
  },
  {
   "cell_type": "code",
   "execution_count": 12,
   "metadata": {
    "ExecuteTime": {
     "end_time": "2018-05-25T21:02:29.519078Z",
     "start_time": "2018-05-25T21:01:45.474371Z"
    }
   },
   "outputs": [],
   "source": [
    "num_taus = 10000\n",
    "\n",
    "abs_max_tau  = 100 #ns\n",
    "\n",
    "rand_taus = abs_max_tau * np.linspace(-1,1,num_taus)\n",
    "\n",
    "rand_angle_data = np.empty((num_taus, len(freqs)))\n",
    "for i, r_tau in enumerate(rand_taus):\n",
    "    rand_angle_data[i] = np.angle(np.exp(-2 * np.pi * 1j * r_tau * freqs))\n",
    "    \n",
    "df = pd.DataFrame(rand_angle_data)\n",
    "df['tau'] = [slope(angle_data) for angle_data in rand_angle_data]\n",
    "tau = df['tau']\n",
    "df.drop(labels=['tau'], axis=1,inplace = True)\n",
    "df.insert(0, 'tau', tau)\n",
    "\n",
    "df.to_csv('wrap_data_10000_ordered.csv', index = False)"
   ]
  },
  {
   "cell_type": "code",
   "execution_count": null,
   "metadata": {},
   "outputs": [],
   "source": []
  }
 ],
 "metadata": {
  "kernelspec": {
   "display_name": "Python 3",
   "language": "python",
   "name": "python3"
  },
  "language_info": {
   "codemirror_mode": {
    "name": "ipython",
    "version": 3
   },
   "file_extension": ".py",
   "mimetype": "text/x-python",
   "name": "python",
   "nbconvert_exporter": "python",
   "pygments_lexer": "ipython3",
   "version": "3.6.5"
  },
  "varInspector": {
   "cols": {
    "lenName": 16,
    "lenType": 16,
    "lenVar": 40
   },
   "kernels_config": {
    "python": {
     "delete_cmd_postfix": "",
     "delete_cmd_prefix": "del ",
     "library": "var_list.py",
     "varRefreshCmd": "print(var_dic_list())"
    },
    "r": {
     "delete_cmd_postfix": ") ",
     "delete_cmd_prefix": "rm(",
     "library": "var_list.r",
     "varRefreshCmd": "cat(var_dic_list()) "
    }
   },
   "types_to_exclude": [
    "module",
    "function",
    "builtin_function_or_method",
    "instance",
    "_Feature"
   ],
   "window_display": false
  }
 },
 "nbformat": 4,
 "nbformat_minor": 2
}
