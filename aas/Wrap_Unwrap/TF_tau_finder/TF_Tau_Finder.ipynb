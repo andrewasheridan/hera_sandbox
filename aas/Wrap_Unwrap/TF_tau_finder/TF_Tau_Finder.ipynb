{
 "cells": [
  {
   "cell_type": "markdown",
   "metadata": {},
   "source": [
    "# TF Tau Finder"
   ]
  },
  {
   "cell_type": "code",
   "execution_count": 1,
   "metadata": {
    "ExecuteTime": {
     "end_time": "2018-05-24T23:12:46.300989Z",
     "start_time": "2018-05-24T23:12:46.281785Z"
    }
   },
   "outputs": [
    {
     "data": {
      "text/html": [
       "<style>.container { width:100% !important; }</style>"
      ],
      "text/plain": [
       "<IPython.core.display.HTML object>"
      ]
     },
     "metadata": {},
     "output_type": "display_data"
    }
   ],
   "source": [
    "# fullwidth notebook cells\n",
    "from IPython.core.display import display, HTML\n",
    "display(HTML(\"<style>.container { width:100% !important; }</style>\"))"
   ]
  },
  {
   "cell_type": "code",
   "execution_count": 2,
   "metadata": {
    "ExecuteTime": {
     "end_time": "2018-05-24T23:12:51.309301Z",
     "start_time": "2018-05-24T23:12:46.304741Z"
    }
   },
   "outputs": [
    {
     "name": "stderr",
     "output_type": "stream",
     "text": [
      "/Users/andrew/anaconda3/lib/python3.6/importlib/_bootstrap.py:219: RuntimeWarning: numpy.dtype size changed, may indicate binary incompatibility. Expected 96, got 88\n",
      "  return f(*args, **kwds)\n",
      "/Users/andrew/anaconda3/lib/python3.6/importlib/_bootstrap.py:219: RuntimeWarning: numpy.dtype size changed, may indicate binary incompatibility. Expected 96, got 88\n",
      "  return f(*args, **kwds)\n",
      "/Users/andrew/anaconda3/lib/python3.6/importlib/_bootstrap.py:219: RuntimeWarning: numpy.dtype size changed, may indicate binary incompatibility. Expected 96, got 88\n",
      "  return f(*args, **kwds)\n",
      "/Users/andrew/anaconda3/lib/python3.6/importlib/_bootstrap.py:219: RuntimeWarning: numpy.dtype size changed, may indicate binary incompatibility. Expected 96, got 88\n",
      "  return f(*args, **kwds)\n"
     ]
    }
   ],
   "source": [
    "# suppress tensorflow FutureWarning\n",
    "import warnings\n",
    "with warnings.catch_warnings():\n",
    "    warnings.filterwarnings(\"ignore\",category=FutureWarning)\n",
    "    import h5py\n",
    "import tensorflow as tf\n",
    "\n",
    "# for reading & slicing data\n",
    "import pandas as pd\n",
    "\n",
    "# for data preprocessing\n",
    "from sklearn.preprocessing import MinMaxScaler\n",
    "\n",
    "import numpy as np"
   ]
  },
  {
   "cell_type": "markdown",
   "metadata": {},
   "source": [
    "***"
   ]
  },
  {
   "cell_type": "markdown",
   "metadata": {},
   "source": [
    "## Load data"
   ]
  },
  {
   "cell_type": "code",
   "execution_count": 3,
   "metadata": {
    "ExecuteTime": {
     "end_time": "2018-05-24T23:12:56.451429Z",
     "start_time": "2018-05-24T23:12:51.313237Z"
    }
   },
   "outputs": [],
   "source": [
    "data_path = 'wrap_data_test_1.csv'\n",
    "data_df = pd.read_csv(data_path, dtype = float)"
   ]
  },
  {
   "cell_type": "code",
   "execution_count": 4,
   "metadata": {
    "ExecuteTime": {
     "end_time": "2018-05-24T23:12:56.504154Z",
     "start_time": "2018-05-24T23:12:56.454310Z"
    }
   },
   "outputs": [
    {
     "data": {
      "text/html": [
       "<div>\n",
       "<style scoped>\n",
       "    .dataframe tbody tr th:only-of-type {\n",
       "        vertical-align: middle;\n",
       "    }\n",
       "\n",
       "    .dataframe tbody tr th {\n",
       "        vertical-align: top;\n",
       "    }\n",
       "\n",
       "    .dataframe thead th {\n",
       "        text-align: right;\n",
       "    }\n",
       "</style>\n",
       "<table border=\"1\" class=\"dataframe\">\n",
       "  <thead>\n",
       "    <tr style=\"text-align: right;\">\n",
       "      <th></th>\n",
       "      <th>tau</th>\n",
       "      <th>0</th>\n",
       "      <th>1</th>\n",
       "      <th>2</th>\n",
       "      <th>3</th>\n",
       "      <th>4</th>\n",
       "      <th>5</th>\n",
       "      <th>6</th>\n",
       "      <th>7</th>\n",
       "      <th>8</th>\n",
       "      <th>...</th>\n",
       "      <th>1014</th>\n",
       "      <th>1015</th>\n",
       "      <th>1016</th>\n",
       "      <th>1017</th>\n",
       "      <th>1018</th>\n",
       "      <th>1019</th>\n",
       "      <th>1020</th>\n",
       "      <th>1021</th>\n",
       "      <th>1022</th>\n",
       "      <th>1023</th>\n",
       "    </tr>\n",
       "  </thead>\n",
       "  <tbody>\n",
       "    <tr>\n",
       "      <th>0</th>\n",
       "      <td>4.263624</td>\n",
       "      <td>2.678914</td>\n",
       "      <td>2.681533</td>\n",
       "      <td>2.684151</td>\n",
       "      <td>2.686770</td>\n",
       "      <td>2.689389</td>\n",
       "      <td>2.692007</td>\n",
       "      <td>2.694626</td>\n",
       "      <td>2.697245</td>\n",
       "      <td>2.699863</td>\n",
       "      <td>...</td>\n",
       "      <td>-0.948926</td>\n",
       "      <td>-0.946307</td>\n",
       "      <td>-0.943688</td>\n",
       "      <td>-0.941069</td>\n",
       "      <td>-0.938451</td>\n",
       "      <td>-0.935832</td>\n",
       "      <td>-0.933213</td>\n",
       "      <td>-0.930595</td>\n",
       "      <td>-0.927976</td>\n",
       "      <td>-0.925357</td>\n",
       "    </tr>\n",
       "    <tr>\n",
       "      <th>1</th>\n",
       "      <td>30.689476</td>\n",
       "      <td>0.433210</td>\n",
       "      <td>0.452059</td>\n",
       "      <td>0.470909</td>\n",
       "      <td>0.489758</td>\n",
       "      <td>0.508607</td>\n",
       "      <td>0.527456</td>\n",
       "      <td>0.546306</td>\n",
       "      <td>0.565155</td>\n",
       "      <td>0.584004</td>\n",
       "      <td>...</td>\n",
       "      <td>0.696777</td>\n",
       "      <td>0.715627</td>\n",
       "      <td>0.734476</td>\n",
       "      <td>0.753325</td>\n",
       "      <td>0.772174</td>\n",
       "      <td>0.791024</td>\n",
       "      <td>0.809873</td>\n",
       "      <td>0.828722</td>\n",
       "      <td>0.847571</td>\n",
       "      <td>0.866421</td>\n",
       "    </tr>\n",
       "    <tr>\n",
       "      <th>2</th>\n",
       "      <td>77.284880</td>\n",
       "      <td>-1.705960</td>\n",
       "      <td>-1.658493</td>\n",
       "      <td>-1.611025</td>\n",
       "      <td>-1.563557</td>\n",
       "      <td>-1.516089</td>\n",
       "      <td>-1.468621</td>\n",
       "      <td>-1.421154</td>\n",
       "      <td>-1.373686</td>\n",
       "      <td>-1.326218</td>\n",
       "      <td>...</td>\n",
       "      <td>2.444055</td>\n",
       "      <td>2.491523</td>\n",
       "      <td>2.538990</td>\n",
       "      <td>2.586458</td>\n",
       "      <td>2.633926</td>\n",
       "      <td>2.681394</td>\n",
       "      <td>2.728861</td>\n",
       "      <td>2.776329</td>\n",
       "      <td>2.823797</td>\n",
       "      <td>2.871265</td>\n",
       "    </tr>\n",
       "    <tr>\n",
       "      <th>3</th>\n",
       "      <td>-21.807557</td>\n",
       "      <td>-1.135722</td>\n",
       "      <td>-1.149116</td>\n",
       "      <td>-1.162510</td>\n",
       "      <td>-1.175904</td>\n",
       "      <td>-1.189298</td>\n",
       "      <td>-1.202692</td>\n",
       "      <td>-1.216086</td>\n",
       "      <td>-1.229480</td>\n",
       "      <td>-1.242874</td>\n",
       "      <td>...</td>\n",
       "      <td>-2.150897</td>\n",
       "      <td>-2.164291</td>\n",
       "      <td>-2.177685</td>\n",
       "      <td>-2.191079</td>\n",
       "      <td>-2.204473</td>\n",
       "      <td>-2.217867</td>\n",
       "      <td>-2.231261</td>\n",
       "      <td>-2.244655</td>\n",
       "      <td>-2.258049</td>\n",
       "      <td>-2.271444</td>\n",
       "    </tr>\n",
       "    <tr>\n",
       "      <th>4</th>\n",
       "      <td>39.138534</td>\n",
       "      <td>-0.541275</td>\n",
       "      <td>-0.517237</td>\n",
       "      <td>-0.493198</td>\n",
       "      <td>-0.469159</td>\n",
       "      <td>-0.445121</td>\n",
       "      <td>-0.421082</td>\n",
       "      <td>-0.397044</td>\n",
       "      <td>-0.373005</td>\n",
       "      <td>-0.348967</td>\n",
       "      <td>...</td>\n",
       "      <td>-1.298898</td>\n",
       "      <td>-1.274859</td>\n",
       "      <td>-1.250820</td>\n",
       "      <td>-1.226782</td>\n",
       "      <td>-1.202743</td>\n",
       "      <td>-1.178705</td>\n",
       "      <td>-1.154666</td>\n",
       "      <td>-1.130628</td>\n",
       "      <td>-1.106589</td>\n",
       "      <td>-1.082550</td>\n",
       "    </tr>\n",
       "  </tbody>\n",
       "</table>\n",
       "<p>5 rows × 1025 columns</p>\n",
       "</div>"
      ],
      "text/plain": [
       "         tau         0         1         2         3         4         5  \\\n",
       "0   4.263624  2.678914  2.681533  2.684151  2.686770  2.689389  2.692007   \n",
       "1  30.689476  0.433210  0.452059  0.470909  0.489758  0.508607  0.527456   \n",
       "2  77.284880 -1.705960 -1.658493 -1.611025 -1.563557 -1.516089 -1.468621   \n",
       "3 -21.807557 -1.135722 -1.149116 -1.162510 -1.175904 -1.189298 -1.202692   \n",
       "4  39.138534 -0.541275 -0.517237 -0.493198 -0.469159 -0.445121 -0.421082   \n",
       "\n",
       "          6         7         8    ...         1014      1015      1016  \\\n",
       "0  2.694626  2.697245  2.699863    ...    -0.948926 -0.946307 -0.943688   \n",
       "1  0.546306  0.565155  0.584004    ...     0.696777  0.715627  0.734476   \n",
       "2 -1.421154 -1.373686 -1.326218    ...     2.444055  2.491523  2.538990   \n",
       "3 -1.216086 -1.229480 -1.242874    ...    -2.150897 -2.164291 -2.177685   \n",
       "4 -0.397044 -0.373005 -0.348967    ...    -1.298898 -1.274859 -1.250820   \n",
       "\n",
       "       1017      1018      1019      1020      1021      1022      1023  \n",
       "0 -0.941069 -0.938451 -0.935832 -0.933213 -0.930595 -0.927976 -0.925357  \n",
       "1  0.753325  0.772174  0.791024  0.809873  0.828722  0.847571  0.866421  \n",
       "2  2.586458  2.633926  2.681394  2.728861  2.776329  2.823797  2.871265  \n",
       "3 -2.191079 -2.204473 -2.217867 -2.231261 -2.244655 -2.258049 -2.271444  \n",
       "4 -1.226782 -1.202743 -1.178705 -1.154666 -1.130628 -1.106589 -1.082550  \n",
       "\n",
       "[5 rows x 1025 columns]"
      ]
     },
     "execution_count": 4,
     "metadata": {},
     "output_type": "execute_result"
    }
   ],
   "source": [
    "data_df.head()"
   ]
  },
  {
   "cell_type": "markdown",
   "metadata": {},
   "source": [
    "### Seperate data into training and testing"
   ]
  },
  {
   "cell_type": "code",
   "execution_count": 5,
   "metadata": {
    "ExecuteTime": {
     "end_time": "2018-05-24T23:12:56.602308Z",
     "start_time": "2018-05-24T23:12:56.507275Z"
    }
   },
   "outputs": [],
   "source": [
    "# Randomly sample 80%\n",
    "training_data_df = data_df.sample(frac = 0.8)"
   ]
  },
  {
   "cell_type": "code",
   "execution_count": 6,
   "metadata": {
    "ExecuteTime": {
     "end_time": "2018-05-24T23:12:56.631715Z",
     "start_time": "2018-05-24T23:12:56.605780Z"
    }
   },
   "outputs": [],
   "source": [
    "testing_data_df = data_df.loc[~data_df.index.isin(training_data_df.index)]"
   ]
  },
  {
   "cell_type": "markdown",
   "metadata": {},
   "source": [
    "#### Truncate data for experimentation"
   ]
  },
  {
   "cell_type": "code",
   "execution_count": 7,
   "metadata": {
    "ExecuteTime": {
     "end_time": "2018-05-24T23:12:56.642209Z",
     "start_time": "2018-05-24T23:12:56.635195Z"
    }
   },
   "outputs": [],
   "source": [
    "training_short_df = training_data_df.loc[:, :'1023']"
   ]
  },
  {
   "cell_type": "code",
   "execution_count": 8,
   "metadata": {
    "ExecuteTime": {
     "end_time": "2018-05-24T23:12:56.652009Z",
     "start_time": "2018-05-24T23:12:56.646219Z"
    }
   },
   "outputs": [],
   "source": [
    "testing_short_df = testing_data_df.loc[:, :'1023']"
   ]
  },
  {
   "cell_type": "markdown",
   "metadata": {},
   "source": [
    "### Split the data into X and Y"
   ]
  },
  {
   "cell_type": "code",
   "execution_count": 9,
   "metadata": {
    "ExecuteTime": {
     "end_time": "2018-05-24T23:12:56.732187Z",
     "start_time": "2018-05-24T23:12:56.655862Z"
    }
   },
   "outputs": [],
   "source": [
    "# drop the tau column from the X data (data to train with)\n",
    "# axis = 1 drops the column\n",
    "X_training = training_short_df.drop('tau', axis = 1).values\n",
    "\n",
    "# retain only the tau column (value to predict) for the Y data\n",
    "Y_training = training_short_df[['tau']].values"
   ]
  },
  {
   "cell_type": "code",
   "execution_count": 10,
   "metadata": {
    "ExecuteTime": {
     "end_time": "2018-05-24T23:12:56.762904Z",
     "start_time": "2018-05-24T23:12:56.736423Z"
    }
   },
   "outputs": [],
   "source": [
    "# drop the tau column from the X data (data to train with)\n",
    "# axis = 1 drops the column\n",
    "X_testing = testing_short_df.drop('tau', axis = 1).values\n",
    "\n",
    "# retain only the tau column (value to predict) for the Y data\n",
    "Y_testing = testing_short_df[['tau']].values"
   ]
  },
  {
   "cell_type": "code",
   "execution_count": 11,
   "metadata": {
    "ExecuteTime": {
     "end_time": "2018-05-24T23:12:56.775422Z",
     "start_time": "2018-05-24T23:12:56.767068Z"
    }
   },
   "outputs": [],
   "source": [
    "# Create scalars for inputs and outputs\n",
    "X_scaler = MinMaxScaler(feature_range = (0,1))\n",
    "Y_scaler = MinMaxScaler(feature_range = (0,1))"
   ]
  },
  {
   "cell_type": "code",
   "execution_count": 12,
   "metadata": {
    "ExecuteTime": {
     "end_time": "2018-05-24T23:12:57.051750Z",
     "start_time": "2018-05-24T23:12:56.780576Z"
    }
   },
   "outputs": [],
   "source": [
    "# Scale training input and output\n",
    "X_scaled_training = X_scaler.fit_transform(X_training)\n",
    "Y_scaled_training = Y_scaler.fit_transform(Y_training)"
   ]
  },
  {
   "cell_type": "code",
   "execution_count": 13,
   "metadata": {
    "ExecuteTime": {
     "end_time": "2018-05-24T23:12:57.108031Z",
     "start_time": "2018-05-24T23:12:57.055141Z"
    }
   },
   "outputs": [],
   "source": [
    "# Scale testing data using same scaler\n",
    "X_scaled_testing = X_scaler.transform(X_testing)\n",
    "Y_scaled_testing = Y_scaler.transform(Y_testing)"
   ]
  },
  {
   "cell_type": "code",
   "execution_count": 14,
   "metadata": {
    "ExecuteTime": {
     "end_time": "2018-05-24T23:12:57.121810Z",
     "start_time": "2018-05-24T23:12:57.111406Z"
    }
   },
   "outputs": [
    {
     "data": {
      "text/plain": [
       "(8000, 1024)"
      ]
     },
     "execution_count": 14,
     "metadata": {},
     "output_type": "execute_result"
    }
   ],
   "source": [
    "X_scaled_training.shape"
   ]
  },
  {
   "cell_type": "code",
   "execution_count": 15,
   "metadata": {
    "ExecuteTime": {
     "end_time": "2018-05-24T23:12:57.186331Z",
     "start_time": "2018-05-24T23:12:57.126416Z"
    }
   },
   "outputs": [
    {
     "name": "stdout",
     "output_type": "stream",
     "text": [
      "Note: Y values were scaled by multiplying by 0.0050027049 and adding 0.4997\n"
     ]
    }
   ],
   "source": [
    "msg = 'Note: Y values were scaled by multiplying by {:.10f} and adding {:.4f}'\n",
    "print(msg.format(Y_scaler.scale_[0], Y_scaler.min_[0]))"
   ]
  },
  {
   "cell_type": "code",
   "execution_count": 16,
   "metadata": {
    "ExecuteTime": {
     "end_time": "2018-05-24T23:12:57.200287Z",
     "start_time": "2018-05-24T23:12:57.193714Z"
    }
   },
   "outputs": [],
   "source": [
    "# Define how many inputs and outputs are in our neural network\n",
    "number_of_inputs = X_scaled_training.shape[1]\n",
    "number_of_outputs = Y_scaled_training.shape[1]"
   ]
  },
  {
   "cell_type": "code",
   "execution_count": 17,
   "metadata": {
    "ExecuteTime": {
     "end_time": "2018-05-24T23:12:57.211433Z",
     "start_time": "2018-05-24T23:12:57.204066Z"
    }
   },
   "outputs": [],
   "source": [
    "# define how many neurons we want in each layer of our NN\n",
    "layer_1_nodes = 20\n",
    "layer_2_nodes = 500\n",
    "layer_3_nodes = 50"
   ]
  },
  {
   "cell_type": "code",
   "execution_count": 18,
   "metadata": {
    "ExecuteTime": {
     "end_time": "2018-05-24T23:12:57.223887Z",
     "start_time": "2018-05-24T23:12:57.215730Z"
    }
   },
   "outputs": [],
   "source": [
    "# Define model parameters\n",
    "learning_rate = 0.001\n",
    "training_epochs = 100\n",
    "display_step = 2"
   ]
  },
  {
   "cell_type": "code",
   "execution_count": 19,
   "metadata": {
    "ExecuteTime": {
     "end_time": "2018-05-24T23:13:05.128782Z",
     "start_time": "2018-05-24T23:12:57.229563Z"
    }
   },
   "outputs": [
    {
     "name": "stderr",
     "output_type": "stream",
     "text": [
      "/Users/andrew/anaconda3/lib/python3.6/importlib/_bootstrap.py:219: RuntimeWarning: numpy.dtype size changed, may indicate binary incompatibility. Expected 96, got 88\n",
      "  return f(*args, **kwds)\n"
     ]
    }
   ],
   "source": [
    "# Input Layer\n",
    "with tf.variable_scope('input'):\n",
    "    X  = tf.placeholder(tf.float32, shape = (None, number_of_inputs))\n",
    "    \n",
    "# Layer 1\n",
    "with tf.variable_scope('layer_1'):\n",
    "    \n",
    "    biases = tf.get_variable(name = \"biases1\",\n",
    "                             shape = [layer_1_nodes],\n",
    "                             initializer = tf.zeros_initializer())\n",
    "    \n",
    "    weights = tf.get_variable(name = \"weights1\",\n",
    "                              shape  = [number_of_inputs, layer_1_nodes],\n",
    "                         initializer = tf.contrib.layers.xavier_initializer())\n",
    "\n",
    "\n",
    "    layer_1_output = tf.nn.relu(tf.matmul(X, weights) + biases)\n",
    "    \n",
    "# Layer 2\n",
    "with tf.variable_scope('layer_2'):\n",
    "    \n",
    "    biases = tf.get_variable(name = \"biases2\",\n",
    "                             shape = [layer_2_nodes],\n",
    "                             initializer = tf.zeros_initializer())\n",
    "    \n",
    "    weights = tf.get_variable(name = \"weights2\",\n",
    "                              shape  = [layer_1_nodes, layer_2_nodes],\n",
    "                         initializer = tf.contrib.layers.xavier_initializer())\n",
    "\n",
    "\n",
    "    layer_2_output = tf.nn.relu(tf.matmul(layer_1_output, weights) + biases)\n",
    "    \n",
    "# Layer 3\n",
    "with tf.variable_scope('layer_3'):\n",
    "    \n",
    "    biases = tf.get_variable(name = \"biases3\",\n",
    "                             shape = [layer_3_nodes],\n",
    "                             initializer = tf.zeros_initializer())\n",
    "    \n",
    "    weights = tf.get_variable(name = \"weights3\",\n",
    "                              shape  = [layer_2_nodes, layer_3_nodes],\n",
    "                         initializer = tf.contrib.layers.xavier_initializer())\n",
    "\n",
    "\n",
    "    layer_3_output = tf.nn.relu(tf.matmul(layer_2_output, weights) + biases)\n",
    "    \n",
    "# Output layer\n",
    "\n",
    "with tf.variable_scope('output'):\n",
    "    \n",
    "    biases = tf.get_variable(name = \"biases_out\",\n",
    "                             shape = [number_of_outputs],\n",
    "                             initializer = tf.zeros_initializer())\n",
    "    \n",
    "    weights = tf.get_variable(name = \"weights_out\",\n",
    "                              shape  = [layer_3_nodes, number_of_outputs],\n",
    "                         initializer = tf.contrib.layers.xavier_initializer())\n",
    "\n",
    "\n",
    "    prediction = tf.nn.relu(tf.matmul(layer_3_output, weights) + biases)\n",
    "    \n",
    "with tf.variable_scope('cost'):\n",
    "    \n",
    "    Y = tf.placeholder(tf.float32, shape = (None, 1))\n",
    "    cost = tf.reduce_mean(tf.squared_difference(prediction, Y))\n",
    "\n",
    "    \n",
    "with tf.variable_scope('train'):\n",
    "    optimizer = tf.train.AdamOptimizer(learning_rate, epsilon=1e-05).minimize(cost)\n",
    "    \n",
    "with tf.variable_scope('logging'):\n",
    "    tf.summary.scalar('current_cost', cost)\n",
    "    summary = tf.summary.merge_all()\n",
    "    \n",
    "saver = tf.train.Saver()"
   ]
  },
  {
   "cell_type": "code",
   "execution_count": 20,
   "metadata": {
    "ExecuteTime": {
     "end_time": "2018-05-24T23:13:27.260496Z",
     "start_time": "2018-05-24T23:13:05.132483Z"
    },
    "scrolled": false
   },
   "outputs": [
    {
     "name": "stdout",
     "output_type": "stream",
     "text": [
      "0 0.12384813 0.12551996\n",
      "2 0.10278259 0.10108135\n",
      "4 0.10479634 0.106163315\n",
      "6 0.093287475 0.09393341\n",
      "8 0.09648123 0.09463333\n",
      "10 0.08785094 0.087537244\n",
      "12 0.09025907 0.09092345\n",
      "14 0.08724412 0.08753214\n",
      "16 0.088768326 0.08823479\n",
      "18 0.08611495 0.086101666\n",
      "20 0.08694216 0.08742212\n",
      "22 0.085516974 0.08571994\n",
      "24 0.08596465 0.08588068\n",
      "26 0.08481713 0.08512972\n",
      "28 0.08474254 0.08535362\n",
      "30 0.08406742 0.084535\n",
      "32 0.083616436 0.08411285\n",
      "34 0.083268635 0.08412484\n",
      "36 0.082586914 0.083529875\n",
      "38 0.08203473 0.0829691\n",
      "40 0.08164421 0.08276111\n",
      "42 0.08091142 0.08217886\n",
      "44 0.08009504 0.08138021\n",
      "46 0.07920088 0.08073125\n",
      "48 0.07833832 0.079851605\n",
      "50 0.077375636 0.07906579\n",
      "52 0.07643496 0.07803444\n",
      "54 0.075346 0.0770887\n",
      "56 0.07433203 0.07601981\n",
      "58 0.07321315 0.074921645\n",
      "60 0.07212069 0.073917836\n",
      "62 0.07104653 0.07293193\n",
      "64 0.0699175 0.071860865\n",
      "66 0.06883702 0.07087055\n",
      "68 0.06796067 0.070070654\n",
      "70 0.067008965 0.069709964\n",
      "72 0.065525174 0.067888655\n",
      "74 0.06413298 0.06693757\n",
      "76 0.063073166 0.065799646\n",
      "78 0.061656877 0.06455356\n",
      "80 0.060135398 0.06323372\n",
      "82 0.058676284 0.061877627\n",
      "84 0.0574051 0.06087569\n",
      "86 0.055732504 0.05925795\n",
      "88 0.054275773 0.05800363\n",
      "90 0.052717254 0.05645476\n",
      "92 0.051269487 0.055022966\n",
      "94 0.049646016 0.053536028\n",
      "96 0.04818293 0.0519794\n",
      "98 0.046618104 0.050402053\n",
      "Training done\n",
      "Final Training Cost: 0.045881666243076324\n",
      "Final Testing Cost: 0.04972810298204422\n",
      "The actual tau of row #1 is 19.841727579553137\n",
      "The predicted tau of row #1 is -11.509927749633789\n",
      "Model saved: logs3/trained_model.ckpt\n"
     ]
    }
   ],
   "source": [
    "# initialize a session to run TF operations\n",
    "with tf.Session() as session:\n",
    "    \n",
    "    # Run the global variable initilizer to init all variables and layers\n",
    "    session.run(tf.global_variables_initializer())\n",
    "    \n",
    "    # Create log writers to record training progress\n",
    "    # Store training and testing data separately\n",
    "    training_writer = tf.summary.FileWriter('logs3/training', session.graph)\n",
    "    testing_writer = tf.summary.FileWriter('logs3/testing', session.graph)\n",
    "    \n",
    "    \n",
    "    # Run the optimizer over and over to train the network\n",
    "    # One epoch is one full run through the training data set\n",
    "    for epoch in range(training_epochs):\n",
    "        \n",
    "        # Feed in the training data and do one stepf NN training\n",
    "        session.run(optimizer,\n",
    "                    feed_dict = {X: X_scaled_training, Y: Y_scaled_training})\n",
    "\n",
    "        # Every display_step steps, log our process\n",
    "        if epoch % display_step == 0:\n",
    "            \n",
    "            training_feed = {X: X_scaled_training, Y: Y_scaled_training}\n",
    "            training_cost, training_summary = session.run([cost, summary],\n",
    "                                                    feed_dict = training_feed)\n",
    "            \n",
    "            testing_feed =  {X: X_scaled_testing, Y: Y_scaled_testing}\n",
    "            testing_cost, testing_summary = session.run([cost, summary],\n",
    "                                                     feed_dict = testing_feed)\n",
    "            \n",
    "            print(epoch, training_cost, testing_cost)\n",
    "            \n",
    "            # write the current status to the log files\n",
    "            training_writer.add_summary(training_summary, epoch)\n",
    "            testing_writer.add_summary(testing_summary, epoch)\n",
    "            \n",
    "    print('Training done')\n",
    "    \n",
    "    final_training_cost = session.run(cost,\n",
    "                                      feed_dict = {X: X_scaled_training,\n",
    "                                                   Y: Y_scaled_training})\n",
    "    \n",
    "    final_testing_cost = session.run(cost,\n",
    "                                     feed_dict = {X: X_scaled_testing,\n",
    "                                                  Y: Y_scaled_testing})\n",
    "\n",
    "    print('Final Training Cost: {}'.format(final_training_cost))\n",
    "    print('Final Testing Cost: {}'.format(final_testing_cost))\n",
    "    \n",
    "    \n",
    "    # Now that the NN is trained, lets use it to make predictions.\n",
    "    # pass in the X testing data and run the prediction operation\n",
    "    Y_prediction_scaled = session.run(prediction,\n",
    "                                      feed_dict = {X:X_scaled_testing})\n",
    "\n",
    "    # Unscale the data back to its original units (dollar$)\n",
    "    Y_predicted = Y_scaler.inverse_transform(Y_prediction_scaled)\n",
    "    \n",
    "    rand_entry = np.random.randint(0,200)\n",
    "    # actual earnings of 0th game\n",
    "    real_tau = testing_short_df['tau'].values[rand_entry]\n",
    "    \n",
    "    # predicted_earnings of 0th game\n",
    "    predicted_earnings = Y_predicted[rand_entry][0]\n",
    "    \n",
    "    print('The actual tau of row #1 is {}'.format(real_tau))\n",
    "    \n",
    "    msg = 'The predicted tau of row #1 is {}'\n",
    "    print(msg.format(predicted_earnings))\n",
    "    \n",
    "    model_save_location = \"logs3/trained_model.ckpt\"\n",
    "    save_path = saver.save(session, model_save_location)\n",
    "    print('Model saved: {}'.format(save_path))"
   ]
  },
  {
   "cell_type": "code",
   "execution_count": 21,
   "metadata": {
    "ExecuteTime": {
     "end_time": "2018-05-24T23:13:27.276194Z",
     "start_time": "2018-05-24T23:13:27.264322Z"
    }
   },
   "outputs": [
    {
     "name": "stdout",
     "output_type": "stream",
     "text": [
      "[ 77.2848799   82.53084872 -46.78979372   8.3500292   76.53500637\n",
      "  91.87107739  58.73071152 -54.44329068 -87.52381841  55.44658825]\n",
      "[-15.719983    9.929435  -25.000648    4.4912586   1.7812501  96.035706\n",
      "  11.3358555 -30.760336  -14.717987    7.0561733]\n"
     ]
    }
   ],
   "source": [
    "real_tau_ten = testing_short_df['tau'].values[0:10]\n",
    "predicted_earnings_ten = Y_predicted[0:10].T[0]\n",
    "print(real_tau_ten)\n",
    "print(predicted_earnings_ten)"
   ]
  },
  {
   "cell_type": "code",
   "execution_count": 22,
   "metadata": {
    "ExecuteTime": {
     "end_time": "2018-05-24T23:13:27.592137Z",
     "start_time": "2018-05-24T23:13:27.282661Z"
    }
   },
   "outputs": [],
   "source": [
    "import matplotlib.pyplot as plt"
   ]
  },
  {
   "cell_type": "code",
   "execution_count": 23,
   "metadata": {
    "ExecuteTime": {
     "end_time": "2018-05-24T23:13:27.605288Z",
     "start_time": "2018-05-24T23:13:27.595621Z"
    }
   },
   "outputs": [],
   "source": [
    "sort_idx = np.argsort(testing_short_df['tau'].values)"
   ]
  },
  {
   "cell_type": "code",
   "execution_count": 29,
   "metadata": {
    "ExecuteTime": {
     "end_time": "2018-05-25T01:59:46.568637Z",
     "start_time": "2018-05-25T01:59:46.282239Z"
    }
   },
   "outputs": [
    {
     "data": {
      "image/png": "[encoded data removed]",
      "text/plain": [
       "<matplotlib.figure.Figure at 0x1a22c43128>"
      ]
     },
     "metadata": {},
     "output_type": "display_data"
    }
   ],
   "source": [
    "plt.plot(Y_predicted[:].T[0][sort_idx][::])\n",
    "plt.plot(testing_short_df['tau'].values[sort_idx][::])\n",
    "plt.show()"
   ]
  },
  {
   "cell_type": "code",
   "execution_count": 25,
   "metadata": {
    "ExecuteTime": {
     "end_time": "2018-05-24T23:13:27.809317Z",
     "start_time": "2018-05-24T23:13:27.801048Z"
    }
   },
   "outputs": [
    {
     "data": {
      "text/plain": [
       "(1, 2000)"
      ]
     },
     "execution_count": 25,
     "metadata": {},
     "output_type": "execute_result"
    }
   ],
   "source": [
    "Y_predicted[:].T.shape"
   ]
  },
  {
   "cell_type": "code",
   "execution_count": 26,
   "metadata": {
    "ExecuteTime": {
     "end_time": "2018-05-24T23:13:27.820335Z",
     "start_time": "2018-05-24T23:13:27.814179Z"
    }
   },
   "outputs": [],
   "source": [
    "import matplotlib.pyplot as plt"
   ]
  },
  {
   "cell_type": "code",
   "execution_count": null,
   "metadata": {
    "ExecuteTime": {
     "end_time": "2018-05-24T22:29:45.821409Z",
     "start_time": "2018-05-24T22:29:45.813743Z"
    }
   },
   "outputs": [],
   "source": []
  },
  {
   "cell_type": "code",
   "execution_count": 27,
   "metadata": {
    "ExecuteTime": {
     "end_time": "2018-05-24T23:13:27.836963Z",
     "start_time": "2018-05-24T23:13:27.824570Z"
    }
   },
   "outputs": [
    {
     "data": {
      "text/plain": [
       "(2000, 1)"
      ]
     },
     "execution_count": 27,
     "metadata": {},
     "output_type": "execute_result"
    }
   ],
   "source": [
    "Y_predicted.shape"
   ]
  },
  {
   "cell_type": "code",
   "execution_count": 28,
   "metadata": {
    "ExecuteTime": {
     "end_time": "2018-05-24T23:13:27.850277Z",
     "start_time": "2018-05-24T23:13:27.841888Z"
    }
   },
   "outputs": [
    {
     "ename": "SyntaxError",
     "evalue": "invalid syntax (<ipython-input-28-abefa8d9bb1a>, line 1)",
     "output_type": "error",
     "traceback": [
      "\u001b[0;36m  File \u001b[0;32m\"<ipython-input-28-abefa8d9bb1a>\"\u001b[0;36m, line \u001b[0;32m1\u001b[0m\n\u001b[0;31m    .shape\u001b[0m\n\u001b[0m    ^\u001b[0m\n\u001b[0;31mSyntaxError\u001b[0m\u001b[0;31m:\u001b[0m invalid syntax\n"
     ]
    }
   ],
   "source": [
    ".shape"
   ]
  },
  {
   "cell_type": "code",
   "execution_count": null,
   "metadata": {},
   "outputs": [],
   "source": []
  }
 ],
 "metadata": {
  "kernelspec": {
   "display_name": "Python 3",
   "language": "python",
   "name": "python3"
  },
  "language_info": {
   "codemirror_mode": {
    "name": "ipython",
    "version": 3
   },
   "file_extension": ".py",
   "mimetype": "text/x-python",
   "name": "python",
   "nbconvert_exporter": "python",
   "pygments_lexer": "ipython3",
   "version": "3.6.5"
  },
  "varInspector": {
   "cols": {
    "lenName": 16,
    "lenType": 16,
    "lenVar": 40
   },
   "kernels_config": {
    "python": {
     "delete_cmd_postfix": "",
     "delete_cmd_prefix": "del ",
     "library": "var_list.py",
     "varRefreshCmd": "print(var_dic_list())"
    },
    "r": {
     "delete_cmd_postfix": ") ",
     "delete_cmd_prefix": "rm(",
     "library": "var_list.r",
     "varRefreshCmd": "cat(var_dic_list()) "
    }
   },
   "types_to_exclude": [
    "module",
    "function",
    "builtin_function_or_method",
    "instance",
    "_Feature"
   ],
   "window_display": false
  }
 },
 "nbformat": 4,
 "nbformat_minor": 2
}
