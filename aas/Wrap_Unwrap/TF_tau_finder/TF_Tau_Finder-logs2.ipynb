{
 "cells": [
  {
   "cell_type": "markdown",
   "metadata": {},
   "source": [
    "# TF Tau Finder"
   ]
  },
  {
   "cell_type": "code",
   "execution_count": 1,
   "metadata": {
    "ExecuteTime": {
     "end_time": "2018-05-25T03:31:46.573567Z",
     "start_time": "2018-05-25T03:31:46.528543Z"
    }
   },
   "outputs": [
    {
     "data": {
      "text/html": [
       "<style>.container { width:100% !important; }</style>"
      ],
      "text/plain": [
       "<IPython.core.display.HTML object>"
      ]
     },
     "metadata": {},
     "output_type": "display_data"
    }
   ],
   "source": [
    "# fullwidth notebook cells\n",
    "from IPython.core.display import display, HTML\n",
    "display(HTML(\"<style>.container { width:100% !important; }</style>\"))"
   ]
  },
  {
   "cell_type": "code",
   "execution_count": 2,
   "metadata": {
    "ExecuteTime": {
     "end_time": "2018-05-25T03:31:52.571401Z",
     "start_time": "2018-05-25T03:31:46.580052Z"
    }
   },
   "outputs": [
    {
     "name": "stderr",
     "output_type": "stream",
     "text": [
      "/Users/andrew/anaconda3/lib/python3.6/importlib/_bootstrap.py:219: RuntimeWarning: numpy.dtype size changed, may indicate binary incompatibility. Expected 96, got 88\n",
      "  return f(*args, **kwds)\n",
      "/Users/andrew/anaconda3/lib/python3.6/importlib/_bootstrap.py:219: RuntimeWarning: numpy.dtype size changed, may indicate binary incompatibility. Expected 96, got 88\n",
      "  return f(*args, **kwds)\n",
      "/Users/andrew/anaconda3/lib/python3.6/importlib/_bootstrap.py:219: RuntimeWarning: numpy.dtype size changed, may indicate binary incompatibility. Expected 96, got 88\n",
      "  return f(*args, **kwds)\n",
      "/Users/andrew/anaconda3/lib/python3.6/importlib/_bootstrap.py:219: RuntimeWarning: numpy.dtype size changed, may indicate binary incompatibility. Expected 96, got 88\n",
      "  return f(*args, **kwds)\n"
     ]
    }
   ],
   "source": [
    "# suppress tensorflow FutureWarning\n",
    "import warnings\n",
    "with warnings.catch_warnings():\n",
    "    warnings.filterwarnings(\"ignore\",category=FutureWarning)\n",
    "    import h5py\n",
    "import tensorflow as tf\n",
    "\n",
    "# for reading & slicing data\n",
    "import pandas as pd\n",
    "\n",
    "# for data preprocessing\n",
    "from sklearn.preprocessing import MinMaxScaler\n",
    "\n",
    "import numpy as np"
   ]
  },
  {
   "cell_type": "markdown",
   "metadata": {},
   "source": [
    "***"
   ]
  },
  {
   "cell_type": "markdown",
   "metadata": {},
   "source": [
    "## Load data"
   ]
  },
  {
   "cell_type": "code",
   "execution_count": 3,
   "metadata": {
    "ExecuteTime": {
     "end_time": "2018-05-25T03:31:59.397956Z",
     "start_time": "2018-05-25T03:31:52.581278Z"
    }
   },
   "outputs": [],
   "source": [
    "data_path = 'wrap_data_test_1.csv'\n",
    "data_df = pd.read_csv(data_path, dtype = float)"
   ]
  },
  {
   "cell_type": "code",
   "execution_count": 4,
   "metadata": {
    "ExecuteTime": {
     "end_time": "2018-05-25T03:31:59.475058Z",
     "start_time": "2018-05-25T03:31:59.402665Z"
    }
   },
   "outputs": [
    {
     "data": {
      "text/html": [
       "<div>\n",
       "<style scoped>\n",
       "    .dataframe tbody tr th:only-of-type {\n",
       "        vertical-align: middle;\n",
       "    }\n",
       "\n",
       "    .dataframe tbody tr th {\n",
       "        vertical-align: top;\n",
       "    }\n",
       "\n",
       "    .dataframe thead th {\n",
       "        text-align: right;\n",
       "    }\n",
       "</style>\n",
       "<table border=\"1\" class=\"dataframe\">\n",
       "  <thead>\n",
       "    <tr style=\"text-align: right;\">\n",
       "      <th></th>\n",
       "      <th>tau</th>\n",
       "      <th>0</th>\n",
       "      <th>1</th>\n",
       "      <th>2</th>\n",
       "      <th>3</th>\n",
       "      <th>4</th>\n",
       "      <th>5</th>\n",
       "      <th>6</th>\n",
       "      <th>7</th>\n",
       "      <th>8</th>\n",
       "      <th>...</th>\n",
       "      <th>1014</th>\n",
       "      <th>1015</th>\n",
       "      <th>1016</th>\n",
       "      <th>1017</th>\n",
       "      <th>1018</th>\n",
       "      <th>1019</th>\n",
       "      <th>1020</th>\n",
       "      <th>1021</th>\n",
       "      <th>1022</th>\n",
       "      <th>1023</th>\n",
       "    </tr>\n",
       "  </thead>\n",
       "  <tbody>\n",
       "    <tr>\n",
       "      <th>0</th>\n",
       "      <td>4.263624</td>\n",
       "      <td>2.678914</td>\n",
       "      <td>2.681533</td>\n",
       "      <td>2.684151</td>\n",
       "      <td>2.686770</td>\n",
       "      <td>2.689389</td>\n",
       "      <td>2.692007</td>\n",
       "      <td>2.694626</td>\n",
       "      <td>2.697245</td>\n",
       "      <td>2.699863</td>\n",
       "      <td>...</td>\n",
       "      <td>-0.948926</td>\n",
       "      <td>-0.946307</td>\n",
       "      <td>-0.943688</td>\n",
       "      <td>-0.941069</td>\n",
       "      <td>-0.938451</td>\n",
       "      <td>-0.935832</td>\n",
       "      <td>-0.933213</td>\n",
       "      <td>-0.930595</td>\n",
       "      <td>-0.927976</td>\n",
       "      <td>-0.925357</td>\n",
       "    </tr>\n",
       "    <tr>\n",
       "      <th>1</th>\n",
       "      <td>30.689476</td>\n",
       "      <td>0.433210</td>\n",
       "      <td>0.452059</td>\n",
       "      <td>0.470909</td>\n",
       "      <td>0.489758</td>\n",
       "      <td>0.508607</td>\n",
       "      <td>0.527456</td>\n",
       "      <td>0.546306</td>\n",
       "      <td>0.565155</td>\n",
       "      <td>0.584004</td>\n",
       "      <td>...</td>\n",
       "      <td>0.696777</td>\n",
       "      <td>0.715627</td>\n",
       "      <td>0.734476</td>\n",
       "      <td>0.753325</td>\n",
       "      <td>0.772174</td>\n",
       "      <td>0.791024</td>\n",
       "      <td>0.809873</td>\n",
       "      <td>0.828722</td>\n",
       "      <td>0.847571</td>\n",
       "      <td>0.866421</td>\n",
       "    </tr>\n",
       "    <tr>\n",
       "      <th>2</th>\n",
       "      <td>77.284880</td>\n",
       "      <td>-1.705960</td>\n",
       "      <td>-1.658493</td>\n",
       "      <td>-1.611025</td>\n",
       "      <td>-1.563557</td>\n",
       "      <td>-1.516089</td>\n",
       "      <td>-1.468621</td>\n",
       "      <td>-1.421154</td>\n",
       "      <td>-1.373686</td>\n",
       "      <td>-1.326218</td>\n",
       "      <td>...</td>\n",
       "      <td>2.444055</td>\n",
       "      <td>2.491523</td>\n",
       "      <td>2.538990</td>\n",
       "      <td>2.586458</td>\n",
       "      <td>2.633926</td>\n",
       "      <td>2.681394</td>\n",
       "      <td>2.728861</td>\n",
       "      <td>2.776329</td>\n",
       "      <td>2.823797</td>\n",
       "      <td>2.871265</td>\n",
       "    </tr>\n",
       "    <tr>\n",
       "      <th>3</th>\n",
       "      <td>-21.807557</td>\n",
       "      <td>-1.135722</td>\n",
       "      <td>-1.149116</td>\n",
       "      <td>-1.162510</td>\n",
       "      <td>-1.175904</td>\n",
       "      <td>-1.189298</td>\n",
       "      <td>-1.202692</td>\n",
       "      <td>-1.216086</td>\n",
       "      <td>-1.229480</td>\n",
       "      <td>-1.242874</td>\n",
       "      <td>...</td>\n",
       "      <td>-2.150897</td>\n",
       "      <td>-2.164291</td>\n",
       "      <td>-2.177685</td>\n",
       "      <td>-2.191079</td>\n",
       "      <td>-2.204473</td>\n",
       "      <td>-2.217867</td>\n",
       "      <td>-2.231261</td>\n",
       "      <td>-2.244655</td>\n",
       "      <td>-2.258049</td>\n",
       "      <td>-2.271444</td>\n",
       "    </tr>\n",
       "    <tr>\n",
       "      <th>4</th>\n",
       "      <td>39.138534</td>\n",
       "      <td>-0.541275</td>\n",
       "      <td>-0.517237</td>\n",
       "      <td>-0.493198</td>\n",
       "      <td>-0.469159</td>\n",
       "      <td>-0.445121</td>\n",
       "      <td>-0.421082</td>\n",
       "      <td>-0.397044</td>\n",
       "      <td>-0.373005</td>\n",
       "      <td>-0.348967</td>\n",
       "      <td>...</td>\n",
       "      <td>-1.298898</td>\n",
       "      <td>-1.274859</td>\n",
       "      <td>-1.250820</td>\n",
       "      <td>-1.226782</td>\n",
       "      <td>-1.202743</td>\n",
       "      <td>-1.178705</td>\n",
       "      <td>-1.154666</td>\n",
       "      <td>-1.130628</td>\n",
       "      <td>-1.106589</td>\n",
       "      <td>-1.082550</td>\n",
       "    </tr>\n",
       "  </tbody>\n",
       "</table>\n",
       "<p>5 rows × 1025 columns</p>\n",
       "</div>"
      ],
      "text/plain": [
       "         tau         0         1         2         3         4         5  \\\n",
       "0   4.263624  2.678914  2.681533  2.684151  2.686770  2.689389  2.692007   \n",
       "1  30.689476  0.433210  0.452059  0.470909  0.489758  0.508607  0.527456   \n",
       "2  77.284880 -1.705960 -1.658493 -1.611025 -1.563557 -1.516089 -1.468621   \n",
       "3 -21.807557 -1.135722 -1.149116 -1.162510 -1.175904 -1.189298 -1.202692   \n",
       "4  39.138534 -0.541275 -0.517237 -0.493198 -0.469159 -0.445121 -0.421082   \n",
       "\n",
       "          6         7         8    ...         1014      1015      1016  \\\n",
       "0  2.694626  2.697245  2.699863    ...    -0.948926 -0.946307 -0.943688   \n",
       "1  0.546306  0.565155  0.584004    ...     0.696777  0.715627  0.734476   \n",
       "2 -1.421154 -1.373686 -1.326218    ...     2.444055  2.491523  2.538990   \n",
       "3 -1.216086 -1.229480 -1.242874    ...    -2.150897 -2.164291 -2.177685   \n",
       "4 -0.397044 -0.373005 -0.348967    ...    -1.298898 -1.274859 -1.250820   \n",
       "\n",
       "       1017      1018      1019      1020      1021      1022      1023  \n",
       "0 -0.941069 -0.938451 -0.935832 -0.933213 -0.930595 -0.927976 -0.925357  \n",
       "1  0.753325  0.772174  0.791024  0.809873  0.828722  0.847571  0.866421  \n",
       "2  2.586458  2.633926  2.681394  2.728861  2.776329  2.823797  2.871265  \n",
       "3 -2.191079 -2.204473 -2.217867 -2.231261 -2.244655 -2.258049 -2.271444  \n",
       "4 -1.226782 -1.202743 -1.178705 -1.154666 -1.130628 -1.106589 -1.082550  \n",
       "\n",
       "[5 rows x 1025 columns]"
      ]
     },
     "execution_count": 4,
     "metadata": {},
     "output_type": "execute_result"
    }
   ],
   "source": [
    "data_df.head()"
   ]
  },
  {
   "cell_type": "markdown",
   "metadata": {},
   "source": [
    "### Seperate data into training and testing"
   ]
  },
  {
   "cell_type": "code",
   "execution_count": 5,
   "metadata": {
    "ExecuteTime": {
     "end_time": "2018-05-25T03:31:59.592061Z",
     "start_time": "2018-05-25T03:31:59.479779Z"
    }
   },
   "outputs": [],
   "source": [
    "# Randomly sample 80%\n",
    "training_data_df = data_df.sample(frac = 0.8)"
   ]
  },
  {
   "cell_type": "code",
   "execution_count": 6,
   "metadata": {
    "ExecuteTime": {
     "end_time": "2018-05-25T03:31:59.630012Z",
     "start_time": "2018-05-25T03:31:59.596929Z"
    }
   },
   "outputs": [],
   "source": [
    "testing_data_df = data_df.loc[~data_df.index.isin(training_data_df.index)]"
   ]
  },
  {
   "cell_type": "markdown",
   "metadata": {},
   "source": [
    "#### Truncate data for experimentation"
   ]
  },
  {
   "cell_type": "code",
   "execution_count": 7,
   "metadata": {
    "ExecuteTime": {
     "end_time": "2018-05-25T03:31:59.646164Z",
     "start_time": "2018-05-25T03:31:59.635410Z"
    }
   },
   "outputs": [],
   "source": [
    "training_short_df = training_data_df.loc[:, :'1023']"
   ]
  },
  {
   "cell_type": "code",
   "execution_count": 8,
   "metadata": {
    "ExecuteTime": {
     "end_time": "2018-05-25T03:31:59.661597Z",
     "start_time": "2018-05-25T03:31:59.652639Z"
    }
   },
   "outputs": [],
   "source": [
    "testing_short_df = testing_data_df.loc[:, :'1023']"
   ]
  },
  {
   "cell_type": "markdown",
   "metadata": {},
   "source": [
    "### Split the data into X and Y"
   ]
  },
  {
   "cell_type": "code",
   "execution_count": 9,
   "metadata": {
    "ExecuteTime": {
     "end_time": "2018-05-25T03:31:59.762186Z",
     "start_time": "2018-05-25T03:31:59.666389Z"
    }
   },
   "outputs": [],
   "source": [
    "# drop the tau column from the X data (data to train with)\n",
    "# axis = 1 drops the column\n",
    "X_training = training_short_df.drop('tau', axis = 1).values\n",
    "\n",
    "# retain only the tau column (value to predict) for the Y data\n",
    "Y_training = training_short_df[['tau']].values"
   ]
  },
  {
   "cell_type": "code",
   "execution_count": 10,
   "metadata": {
    "ExecuteTime": {
     "end_time": "2018-05-25T03:31:59.816991Z",
     "start_time": "2018-05-25T03:31:59.768968Z"
    }
   },
   "outputs": [],
   "source": [
    "# drop the tau column from the X data (data to train with)\n",
    "# axis = 1 drops the column\n",
    "X_testing = testing_short_df.drop('tau', axis = 1).values\n",
    "\n",
    "# retain only the tau column (value to predict) for the Y data\n",
    "Y_testing = testing_short_df[['tau']].values"
   ]
  },
  {
   "cell_type": "code",
   "execution_count": 11,
   "metadata": {
    "ExecuteTime": {
     "end_time": "2018-05-25T03:31:59.844944Z",
     "start_time": "2018-05-25T03:31:59.829776Z"
    }
   },
   "outputs": [],
   "source": [
    "# Create scalars for inputs and outputs\n",
    "X_scaler = MinMaxScaler(feature_range = (0,1))\n",
    "Y_scaler = MinMaxScaler(feature_range = (0,1))"
   ]
  },
  {
   "cell_type": "code",
   "execution_count": 12,
   "metadata": {
    "ExecuteTime": {
     "end_time": "2018-05-25T03:32:00.206069Z",
     "start_time": "2018-05-25T03:31:59.849678Z"
    }
   },
   "outputs": [],
   "source": [
    "# Scale training input and output\n",
    "X_scaled_training = X_scaler.fit_transform(X_training)\n",
    "Y_scaled_training = Y_scaler.fit_transform(Y_training)"
   ]
  },
  {
   "cell_type": "code",
   "execution_count": 13,
   "metadata": {
    "ExecuteTime": {
     "end_time": "2018-05-25T03:32:00.270163Z",
     "start_time": "2018-05-25T03:32:00.213452Z"
    }
   },
   "outputs": [],
   "source": [
    "# Scale testing data using same scaler\n",
    "X_scaled_testing = X_scaler.transform(X_testing)\n",
    "Y_scaled_testing = Y_scaler.transform(Y_testing)"
   ]
  },
  {
   "cell_type": "code",
   "execution_count": 14,
   "metadata": {
    "ExecuteTime": {
     "end_time": "2018-05-25T03:32:00.292112Z",
     "start_time": "2018-05-25T03:32:00.275814Z"
    }
   },
   "outputs": [
    {
     "name": "stdout",
     "output_type": "stream",
     "text": [
      "Note: Y values were scaled by multiplying by 0.0050009846 and adding 0.4999\n"
     ]
    }
   ],
   "source": [
    "msg = 'Note: Y values were scaled by multiplying by {:.10f} and adding {:.4f}'\n",
    "print(msg.format(Y_scaler.scale_[0], Y_scaler.min_[0]))"
   ]
  },
  {
   "cell_type": "code",
   "execution_count": 15,
   "metadata": {
    "ExecuteTime": {
     "end_time": "2018-05-25T03:32:00.315587Z",
     "start_time": "2018-05-25T03:32:00.300728Z"
    }
   },
   "outputs": [],
   "source": [
    "# Define how many inputs and outputs are in our neural network\n",
    "number_of_inputs = X_scaled_training.shape[1]\n",
    "number_of_outputs = Y_scaled_training.shape[1]"
   ]
  },
  {
   "cell_type": "code",
   "execution_count": 16,
   "metadata": {
    "ExecuteTime": {
     "end_time": "2018-05-25T03:32:00.335125Z",
     "start_time": "2018-05-25T03:32:00.320703Z"
    }
   },
   "outputs": [],
   "source": [
    "# define how many neurons we want in each layer of our NN\n",
    "layer_1_nodes = 500\n",
    "layer_2_nodes = 50\n",
    "layer_3_nodes = 250"
   ]
  },
  {
   "cell_type": "code",
   "execution_count": 17,
   "metadata": {
    "ExecuteTime": {
     "end_time": "2018-05-25T03:32:00.361087Z",
     "start_time": "2018-05-25T03:32:00.346447Z"
    }
   },
   "outputs": [],
   "source": [
    "# Define model parameters\n",
    "learning_rate = 0.0015\n",
    "training_epochs = 500\n",
    "display_step = 2"
   ]
  },
  {
   "cell_type": "code",
   "execution_count": 18,
   "metadata": {
    "ExecuteTime": {
     "end_time": "2018-05-25T03:32:14.467005Z",
     "start_time": "2018-05-25T03:32:00.368610Z"
    }
   },
   "outputs": [
    {
     "name": "stderr",
     "output_type": "stream",
     "text": [
      "/Users/andrew/anaconda3/lib/python3.6/importlib/_bootstrap.py:219: RuntimeWarning: numpy.dtype size changed, may indicate binary incompatibility. Expected 96, got 88\n",
      "  return f(*args, **kwds)\n"
     ]
    }
   ],
   "source": [
    "# Input Layer\n",
    "with tf.variable_scope('input'):\n",
    "    X  = tf.placeholder(tf.float32, shape = (None, number_of_inputs))\n",
    "    \n",
    "# Layer 1\n",
    "with tf.variable_scope('layer_1'):\n",
    "    \n",
    "    biases = tf.get_variable(name = \"biases1\",\n",
    "                             shape = [layer_1_nodes],\n",
    "                             initializer = tf.zeros_initializer())\n",
    "    \n",
    "    weights = tf.get_variable(name = \"weights1\",\n",
    "                              shape  = [number_of_inputs, layer_1_nodes],\n",
    "                         initializer = tf.contrib.layers.xavier_initializer())\n",
    "\n",
    "\n",
    "    layer_1_output = tf.nn.relu(tf.matmul(X, weights) + biases)\n",
    "    \n",
    "# Layer 2\n",
    "with tf.variable_scope('layer_2'):\n",
    "    \n",
    "    biases = tf.get_variable(name = \"biases2\",\n",
    "                             shape = [layer_2_nodes],\n",
    "                             initializer = tf.zeros_initializer())\n",
    "    \n",
    "    weights = tf.get_variable(name = \"weights2\",\n",
    "                              shape  = [layer_1_nodes, layer_2_nodes],\n",
    "                         initializer = tf.contrib.layers.xavier_initializer())\n",
    "\n",
    "\n",
    "    layer_2_output = tf.nn.relu(tf.matmul(layer_1_output, weights) + biases)\n",
    "    \n",
    "# Layer 3\n",
    "with tf.variable_scope('layer_3'):\n",
    "    \n",
    "    biases = tf.get_variable(name = \"biases3\",\n",
    "                             shape = [layer_3_nodes],\n",
    "                             initializer = tf.zeros_initializer())\n",
    "    \n",
    "    weights = tf.get_variable(name = \"weights3\",\n",
    "                              shape  = [layer_2_nodes, layer_3_nodes],\n",
    "                         initializer = tf.contrib.layers.xavier_initializer())\n",
    "\n",
    "\n",
    "    layer_3_output = tf.nn.relu(tf.matmul(layer_2_output, weights) + biases)\n",
    "    \n",
    "# Output layer\n",
    "\n",
    "with tf.variable_scope('output'):\n",
    "    \n",
    "    biases = tf.get_variable(name = \"biases_out\",\n",
    "                             shape = [number_of_outputs],\n",
    "                             initializer = tf.zeros_initializer())\n",
    "    \n",
    "    weights = tf.get_variable(name = \"weights_out\",\n",
    "                              shape  = [layer_3_nodes, number_of_outputs],\n",
    "                         initializer = tf.contrib.layers.xavier_initializer())\n",
    "\n",
    "\n",
    "    prediction = tf.nn.relu(tf.matmul(layer_3_output, weights) + biases)\n",
    "    \n",
    "with tf.variable_scope('cost'):\n",
    "    \n",
    "    Y = tf.placeholder(tf.float32, shape = (None, 1))\n",
    "    cost = tf.reduce_mean(tf.squared_difference(prediction, Y))\n",
    "\n",
    "    \n",
    "with tf.variable_scope('train'):\n",
    "    optimizer = tf.train.AdamOptimizer(learning_rate, epsilon=1e-05).minimize(cost)\n",
    "    \n",
    "with tf.variable_scope('logging'):\n",
    "    tf.summary.scalar('current_cost', cost)\n",
    "    summary = tf.summary.merge_all()\n",
    "    \n",
    "saver = tf.train.Saver()"
   ]
  },
  {
   "cell_type": "code",
   "execution_count": 19,
   "metadata": {
    "ExecuteTime": {
     "end_time": "2018-05-25T03:36:13.385306Z",
     "start_time": "2018-05-25T03:32:14.477838Z"
    },
    "scrolled": false
   },
   "outputs": [
    {
     "name": "stdout",
     "output_type": "stream",
     "text": [
      "0 3.4394708 3.4525616\n",
      "2 0.2221378 0.22090945\n",
      "4 0.17295608 0.17479734\n",
      "6 0.086540215 0.08716635\n",
      "8 0.12369243 0.12354616\n",
      "10 0.102052994 0.10355118\n",
      "12 0.089152016 0.09021726\n",
      "14 0.10127765 0.10148655\n",
      "16 0.08545762 0.086324066\n",
      "18 0.09198695 0.09312404\n",
      "20 0.08917348 0.08945685\n",
      "22 0.08653064 0.086894885\n",
      "24 0.09003136 0.090971544\n",
      "26 0.084953554 0.08546716\n",
      "28 0.08738115 0.0877236\n",
      "30 0.08676002 0.08756121\n",
      "32 0.08502172 0.08568152\n",
      "34 0.08649927 0.08693561\n",
      "36 0.08534468 0.086115904\n",
      "38 0.084951796 0.085681245\n",
      "40 0.08561261 0.08609664\n",
      "42 0.08476634 0.085478775\n",
      "44 0.08470953 0.085438244\n",
      "46 0.08499448 0.08556158\n",
      "48 0.08451996 0.08528092\n",
      "50 0.08442413 0.085166246\n",
      "52 0.08455653 0.08512929\n",
      "54 0.08429546 0.085003875\n",
      "56 0.08412814 0.08483504\n",
      "58 0.08420045 0.08484115\n",
      "60 0.08406703 0.08484072\n",
      "62 0.08390131 0.08458972\n",
      "64 0.08386859 0.08453554\n",
      "66 0.08381439 0.084606886\n",
      "68 0.083683014 0.08442253\n",
      "70 0.08356514 0.084332645\n",
      "72 0.08350029 0.08431772\n",
      "74 0.08341208 0.08419373\n",
      "76 0.08329255 0.08414981\n",
      "78 0.083172254 0.08400613\n",
      "80 0.08306312 0.083909236\n",
      "82 0.08294928 0.08385664\n",
      "84 0.082822226 0.083703004\n",
      "86 0.082683854 0.0836183\n",
      "88 0.08253711 0.08346629\n",
      "90 0.08238419 0.083354704\n",
      "92 0.08221859 0.08319916\n",
      "94 0.08204099 0.083040036\n",
      "96 0.08185094 0.08288629\n",
      "98 0.081646696 0.08270035\n",
      "100 0.08142637 0.08250754\n",
      "102 0.081185915 0.08231098\n",
      "104 0.080920324 0.08207808\n",
      "106 0.080625705 0.081824265\n",
      "108 0.08030363 0.08154089\n",
      "110 0.07996283 0.08124225\n",
      "112 0.079595596 0.08093376\n",
      "114 0.079184994 0.080574185\n",
      "116 0.07873299 0.08017552\n",
      "118 0.078220494 0.07973522\n",
      "120 0.07763506 0.07923643\n",
      "122 0.07691498 0.07858284\n",
      "124 0.07622757 0.07800159\n",
      "126 0.07553162 0.07743947\n",
      "128 0.07473561 0.07674066\n",
      "130 0.07393971 0.07607568\n",
      "132 0.07309647 0.07536804\n",
      "134 0.072028436 0.07433833\n",
      "136 0.07095617 0.07332796\n",
      "138 0.06990095 0.07234192\n",
      "140 0.06926866 0.07165423\n",
      "142 0.06874829 0.07119864\n",
      "144 0.06663314 0.06935422\n",
      "146 0.06563573 0.06850914\n",
      "148 0.06525927 0.06837194\n",
      "150 0.06324228 0.06624675\n",
      "152 0.061497148 0.064379774\n",
      "154 0.06146801 0.06430088\n",
      "156 0.061251942 0.06417435\n",
      "158 0.058066238 0.06090319\n",
      "160 0.055300444 0.05812464\n",
      "162 0.053629745 0.05660885\n",
      "164 0.053566866 0.056536444\n",
      "166 0.062312987 0.06534086\n",
      "168 0.051154695 0.05409097\n",
      "170 0.06824256 0.07108975\n",
      "172 0.06093891 0.06349406\n",
      "174 0.05260986 0.055202983\n",
      "176 0.051706836 0.054187216\n",
      "178 0.05096895 0.053570572\n",
      "180 0.057666585 0.060140297\n",
      "182 0.050403032 0.05313614\n",
      "184 0.04822774 0.050768003\n",
      "186 0.041886527 0.04472174\n",
      "188 0.041580778 0.044067197\n",
      "190 0.043949723 0.046446472\n",
      "192 0.03797054 0.040736876\n",
      "194 0.037206993 0.04013985\n",
      "196 0.03630448 0.039245658\n",
      "198 0.032832976 0.035477757\n",
      "200 0.03407016 0.03663652\n",
      "202 0.03053884 0.03328991\n",
      "204 0.028795956 0.031511843\n",
      "206 0.0318492 0.03458102\n",
      "208 0.038584534 0.04112199\n",
      "210 0.025300367 0.027545411\n",
      "212 0.03042956 0.03281813\n",
      "214 0.023161633 0.02537275\n",
      "216 0.025491467 0.027668145\n",
      "218 0.02226409 0.024428304\n",
      "220 0.019598098 0.02163202\n",
      "222 0.021609707 0.023673091\n",
      "224 0.021177426 0.023301275\n",
      "226 0.01782333 0.019623112\n",
      "228 0.015727635 0.017375637\n",
      "230 0.015643146 0.017248664\n",
      "232 0.021735877 0.023289364\n",
      "234 0.04518939 0.047183555\n",
      "236 0.017469712 0.018828718\n",
      "238 0.020542808 0.02193172\n",
      "240 0.021683179 0.023136819\n",
      "242 0.014187956 0.015471442\n",
      "244 0.017098358 0.018301269\n",
      "246 0.012189666 0.013508667\n",
      "248 0.0155505445 0.016948555\n",
      "250 0.012742224 0.0140975835\n",
      "252 0.011869091 0.01300967\n",
      "254 0.012000658 0.013051705\n",
      "256 0.0105986325 0.01162109\n",
      "258 0.010258709 0.011215578\n",
      "260 0.009738993 0.010746504\n",
      "262 0.008828559 0.009931267\n",
      "264 0.009617991 0.010715473\n",
      "266 0.00787565 0.0088631585\n",
      "268 0.0079144975 0.008863115\n",
      "270 0.008405382 0.009304716\n",
      "272 0.007514974 0.008427674\n",
      "274 0.0067304866 0.007612866\n",
      "276 0.007108628 0.008031981\n",
      "278 0.007884107 0.008887264\n",
      "280 0.00915559 0.010158244\n",
      "282 0.008463736 0.009408193\n",
      "284 0.005849737 0.0066851205\n",
      "286 0.007069386 0.007865008\n",
      "288 0.009241661 0.010011995\n",
      "290 0.008000776 0.008752086\n",
      "292 0.0056718034 0.0064915265\n",
      "294 0.008029274 0.008913759\n",
      "296 0.005767463 0.0065504937\n",
      "298 0.005179026 0.0059056273\n",
      "300 0.0064985696 0.0071736355\n",
      "302 0.005623268 0.00631701\n",
      "304 0.0045171715 0.0052559315\n",
      "306 0.0054733544 0.006227368\n",
      "308 0.005770523 0.0065209665\n",
      "310 0.0048489734 0.0055777687\n",
      "312 0.0040408038 0.00473192\n",
      "314 0.004303462 0.0049950792\n",
      "316 0.0050734836 0.005748577\n",
      "318 0.006007497 0.0066954806\n",
      "320 0.00531946 0.005988558\n",
      "322 0.0036809244 0.0043397434\n",
      "324 0.004483901 0.005183023\n",
      "326 0.0072700526 0.008024151\n",
      "328 0.008987465 0.009777992\n",
      "330 0.0038031633 0.004462197\n",
      "332 0.0063578356 0.0069992743\n",
      "334 0.004989748 0.0056062085\n",
      "336 0.0036038684 0.0042243623\n",
      "338 0.0054868194 0.0062418394\n",
      "340 0.003936672 0.0045628557\n",
      "342 0.0034282876 0.0040253047\n",
      "344 0.0040542623 0.0046785707\n",
      "346 0.0030949074 0.003626129\n",
      "348 0.0031955752 0.003855208\n",
      "350 0.0038059088 0.0044300575\n",
      "352 0.003543808 0.004138712\n",
      "354 0.002771011 0.0033592095\n",
      "356 0.0029968014 0.003537301\n",
      "358 0.003544406 0.0041155084\n",
      "360 0.003797057 0.0043277694\n",
      "362 0.0033132182 0.0038914343\n",
      "364 0.0025712848 0.0031090153\n",
      "366 0.0026942915 0.0032767758\n",
      "368 0.003443101 0.004057251\n",
      "370 0.0044939676 0.005122216\n",
      "372 0.004558571 0.005188493\n",
      "374 0.002568428 0.0031158333\n",
      "376 0.0030571586 0.0035723515\n",
      "378 0.0043130657 0.004801395\n",
      "380 0.004234085 0.004729405\n",
      "382 0.0023845993 0.0028866213\n",
      "384 0.0032244576 0.003790452\n",
      "386 0.0035772182 0.0041620717\n",
      "388 0.0023732625 0.0029144948\n",
      "390 0.0023331118 0.0028049296\n",
      "392 0.0029937355 0.0034612159\n",
      "394 0.0027634152 0.003249311\n",
      "396 0.0020421548 0.0025211857\n",
      "398 0.002302445 0.0028306146\n",
      "400 0.0028957427 0.003444055\n",
      "402 0.0030694862 0.0036054594\n",
      "404 0.0022549434 0.0027524782\n",
      "406 0.0019199471 0.0023910298\n",
      "408 0.002443654 0.0028994551\n",
      "410 0.003076172 0.0035141804\n",
      "412 0.0030744513 0.003536584\n",
      "414 0.0021364589 0.0025803726\n",
      "416 0.0018256066 0.0023072117\n",
      "418 0.0023801296 0.0028936209\n",
      "420 0.00294543 0.0034990248\n",
      "422 0.0031574306 0.0036879776\n",
      "424 0.0023353298 0.0028284611\n",
      "426 0.0016805413 0.0021188683\n",
      "428 0.0022518113 0.0026637025\n",
      "430 0.0031643556 0.0035828347\n",
      "432 0.0037829722 0.0041742\n",
      "434 0.0023643665 0.0028102987\n",
      "436 0.0020661885 0.0025135798\n",
      "438 0.0033410045 0.0038986825\n",
      "440 0.0030239928 0.0035440724\n",
      "442 0.0017021375 0.0021497617\n",
      "444 0.0018780646 0.0022860079\n",
      "446 0.0022000684 0.002576015\n",
      "448 0.0018713042 0.0022878675\n",
      "450 0.0016479574 0.0020537914\n",
      "452 0.0018170739 0.0022759703\n",
      "454 0.0017903234 0.0022151037\n",
      "456 0.0016026454 0.0020389683\n",
      "458 0.0014243801 0.0018320075\n",
      "460 0.0013856448 0.0017927501\n",
      "462 0.001384842 0.0018011422\n",
      "464 0.0014008825 0.0018003833\n",
      "466 0.0014081192 0.0018314971\n",
      "468 0.0014155445 0.0018261828\n",
      "470 0.0014992635 0.0019330349\n",
      "472 0.0018348508 0.0022709824\n",
      "474 0.003409061 0.0039083995\n",
      "476 0.009000499 0.009555531\n",
      "478 0.01273533 0.013393455\n",
      "480 0.005332553 0.0056844023\n",
      "482 0.009315617 0.009646702\n",
      "484 0.0031409792 0.003628535\n",
      "486 0.005724495 0.006320091\n",
      "488 0.004144602 0.004585029\n",
      "490 0.0023271139 0.002704581\n",
      "492 0.0042742444 0.0047931825\n",
      "494 0.0019863085 0.002293661\n",
      "496 0.002844719 0.003168909\n",
      "498 0.001982281 0.002447709\n",
      "Training done\n",
      "Final Training Cost: 0.0022421046160161495\n",
      "Final Testing Cost: 0.0025673971977084875\n",
      "The actual tau of row #1 is 92.22712715033687\n",
      "The predicted tau of row #1 is 100.07183074951172\n",
      "Model saved: logs2-200-100-50/trained_model.ckpt\n"
     ]
    }
   ],
   "source": [
    "# initialize a session to run TF operations\n",
    "with tf.Session() as session:\n",
    "    \n",
    "    # Run the global variable initilizer to init all variables and layers\n",
    "    session.run(tf.global_variables_initializer())\n",
    "    \n",
    "    # Create log writers to record training progress\n",
    "    # Store training and testing data separately\n",
    "    training_writer = tf.summary.FileWriter('logs2-200-100-50/training', session.graph)\n",
    "    testing_writer = tf.summary.FileWriter('logs2-200-100-50/testing', session.graph)\n",
    "    \n",
    "    \n",
    "    # Run the optimizer over and over to train the network\n",
    "    # One epoch is one full run through the training data set\n",
    "    for epoch in range(training_epochs):\n",
    "        \n",
    "        # Feed in the training data and do one stepf NN training\n",
    "        session.run(optimizer,\n",
    "                    feed_dict = {X: X_scaled_training, Y: Y_scaled_training})\n",
    "\n",
    "        # Every display_step steps, log our process\n",
    "        if epoch % display_step == 0:\n",
    "            \n",
    "            training_feed = {X: X_scaled_training, Y: Y_scaled_training}\n",
    "            training_cost, training_summary = session.run([cost, summary],\n",
    "                                                    feed_dict = training_feed)\n",
    "            \n",
    "            testing_feed =  {X: X_scaled_testing, Y: Y_scaled_testing}\n",
    "            testing_cost, testing_summary = session.run([cost, summary],\n",
    "                                                     feed_dict = testing_feed)\n",
    "            \n",
    "            print(epoch, training_cost, testing_cost)\n",
    "            \n",
    "            # write the current status to the log files\n",
    "            training_writer.add_summary(training_summary, epoch)\n",
    "            testing_writer.add_summary(testing_summary, epoch)\n",
    "            \n",
    "    print('Training done')\n",
    "    \n",
    "    final_training_cost = session.run(cost,\n",
    "                                      feed_dict = {X: X_scaled_training,\n",
    "                                                   Y: Y_scaled_training})\n",
    "    \n",
    "    final_testing_cost = session.run(cost,\n",
    "                                     feed_dict = {X: X_scaled_testing,\n",
    "                                                  Y: Y_scaled_testing})\n",
    "\n",
    "    print('Final Training Cost: {}'.format(final_training_cost))\n",
    "    print('Final Testing Cost: {}'.format(final_testing_cost))\n",
    "    \n",
    "    \n",
    "    # Now that the NN is trained, lets use it to make predictions.\n",
    "    # pass in the X testing data and run the prediction operation\n",
    "    Y_prediction_scaled = session.run(prediction,\n",
    "                                      feed_dict = {X:X_scaled_testing})\n",
    "\n",
    "    # Unscale the data back to its original units (dollar$)\n",
    "    Y_predicted = Y_scaler.inverse_transform(Y_prediction_scaled)\n",
    "    \n",
    "    rand_entry = np.random.randint(0,200)\n",
    "    # actual earnings of 0th game\n",
    "    real_tau = testing_short_df['tau'].values[rand_entry]\n",
    "    \n",
    "    # predicted_earnings of 0th game\n",
    "    predicted_earnings = Y_predicted[rand_entry][0]\n",
    "    \n",
    "    print('The actual tau of row #1 is {}'.format(real_tau))\n",
    "    \n",
    "    msg = 'The predicted tau of row #1 is {}'\n",
    "    print(msg.format(predicted_earnings))\n",
    "    \n",
    "    model_save_location = \"logs2-200-100-50/trained_model.ckpt\"\n",
    "    save_path = saver.save(session, model_save_location)\n",
    "    print('Model saved: {}'.format(save_path))"
   ]
  },
  {
   "cell_type": "code",
   "execution_count": 20,
   "metadata": {
    "ExecuteTime": {
     "end_time": "2018-05-25T03:36:13.399887Z",
     "start_time": "2018-05-25T03:36:13.389257Z"
    }
   },
   "outputs": [
    {
     "name": "stdout",
     "output_type": "stream",
     "text": [
      "[-21.80755732  82.53084872 -46.78979372 -43.89086084  58.73071152\n",
      " -15.38806819  98.32728659 -70.42693694 -81.58667937  69.51098874]\n",
      "[-24.785357   89.1554    -33.131634  -33.74062    50.584427   -4.2343297\n",
      " 101.16482   -55.4731    -83.00259    69.4577   ]\n"
     ]
    }
   ],
   "source": [
    "real_tau_ten = testing_short_df['tau'].values[0:10]\n",
    "predicted_earnings_ten = Y_predicted[0:10].T[0]\n",
    "print(real_tau_ten)\n",
    "print(predicted_earnings_ten)"
   ]
  },
  {
   "cell_type": "code",
   "execution_count": 21,
   "metadata": {
    "ExecuteTime": {
     "end_time": "2018-05-25T03:36:13.892453Z",
     "start_time": "2018-05-25T03:36:13.408447Z"
    }
   },
   "outputs": [],
   "source": [
    "import matplotlib.pyplot as plt"
   ]
  },
  {
   "cell_type": "code",
   "execution_count": 22,
   "metadata": {
    "ExecuteTime": {
     "end_time": "2018-05-25T03:36:13.914386Z",
     "start_time": "2018-05-25T03:36:13.899410Z"
    }
   },
   "outputs": [],
   "source": [
    "sort_idx = np.argsort(testing_short_df['tau'].values)"
   ]
  },
  {
   "cell_type": "code",
   "execution_count": 23,
   "metadata": {
    "ExecuteTime": {
     "end_time": "2018-05-25T03:36:14.181801Z",
     "start_time": "2018-05-25T03:36:13.922081Z"
    }
   },
   "outputs": [
    {
     "data": {
      "image/png": "[encoded data removed]",
      "text/plain": [
       "<matplotlib.figure.Figure at 0x1a2b5ba668>"
      ]
     },
     "metadata": {},
     "output_type": "display_data"
    }
   ],
   "source": [
    "plt.plot(Y_predicted[:].T[0][sort_idx][::])\n",
    "plt.plot(testing_short_df['tau'].values[sort_idx][::])\n",
    "plt.show()"
   ]
  }
 ],
 "metadata": {
  "kernelspec": {
   "display_name": "Python 3",
   "language": "python",
   "name": "python3"
  },
  "language_info": {
   "codemirror_mode": {
    "name": "ipython",
    "version": 3
   },
   "file_extension": ".py",
   "mimetype": "text/x-python",
   "name": "python",
   "nbconvert_exporter": "python",
   "pygments_lexer": "ipython3",
   "version": "3.6.5"
  },
  "varInspector": {
   "cols": {
    "lenName": 16,
    "lenType": 16,
    "lenVar": 40
   },
   "kernels_config": {
    "python": {
     "delete_cmd_postfix": "",
     "delete_cmd_prefix": "del ",
     "library": "var_list.py",
     "varRefreshCmd": "print(var_dic_list())"
    },
    "r": {
     "delete_cmd_postfix": ") ",
     "delete_cmd_prefix": "rm(",
     "library": "var_list.r",
     "varRefreshCmd": "cat(var_dic_list()) "
    }
   },
   "types_to_exclude": [
    "module",
    "function",
    "builtin_function_or_method",
    "instance",
    "_Feature"
   ],
   "window_display": false
  }
 },
 "nbformat": 4,
 "nbformat_minor": 2
}
