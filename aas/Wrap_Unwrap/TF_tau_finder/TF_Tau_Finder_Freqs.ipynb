{
 "cells": [
  {
   "cell_type": "markdown",
   "metadata": {},
   "source": [
    "# TF Tau Finder w/Freqs"
   ]
  },
  {
   "cell_type": "code",
   "execution_count": 1,
   "metadata": {
    "ExecuteTime": {
     "end_time": "2018-05-24T23:20:47.857338Z",
     "start_time": "2018-05-24T23:20:47.831170Z"
    }
   },
   "outputs": [
    {
     "data": {
      "text/html": [
       "<style>.container { width:100% !important; }</style>"
      ],
      "text/plain": [
       "<IPython.core.display.HTML object>"
      ]
     },
     "metadata": {},
     "output_type": "display_data"
    }
   ],
   "source": [
    "# fullwidth notebook cells\n",
    "from IPython.core.display import display, HTML\n",
    "display(HTML(\"<style>.container { width:100% !important; }</style>\"))"
   ]
  },
  {
   "cell_type": "code",
   "execution_count": 2,
   "metadata": {
    "ExecuteTime": {
     "end_time": "2018-05-24T23:20:53.905413Z",
     "start_time": "2018-05-24T23:20:49.710031Z"
    }
   },
   "outputs": [],
   "source": [
    "# suppress tensorflow FutureWarning\n",
    "import warnings\n",
    "with warnings.catch_warnings():\n",
    "    warnings.filterwarnings(\"ignore\",category=FutureWarning)\n",
    "    import h5py\n",
    "import tensorflow as tf\n",
    "\n",
    "# for reading & slicing data\n",
    "import pandas as pd\n",
    "\n",
    "# for data preprocessing\n",
    "from sklearn.preprocessing import MinMaxScaler\n",
    "\n",
    "import numpy as np"
   ]
  },
  {
   "cell_type": "markdown",
   "metadata": {},
   "source": [
    "***"
   ]
  },
  {
   "cell_type": "markdown",
   "metadata": {},
   "source": [
    "## Load data"
   ]
  },
  {
   "cell_type": "code",
   "execution_count": 15,
   "metadata": {
    "ExecuteTime": {
     "end_time": "2018-05-24T23:22:43.909760Z",
     "start_time": "2018-05-24T23:22:33.988669Z"
    }
   },
   "outputs": [],
   "source": [
    "data_path = 'wrap_data_test_2.csv'\n",
    "data_df = pd.read_csv(data_path, dtype = float)"
   ]
  },
  {
   "cell_type": "code",
   "execution_count": 16,
   "metadata": {
    "ExecuteTime": {
     "end_time": "2018-05-24T23:22:44.293269Z",
     "start_time": "2018-05-24T23:22:44.249533Z"
    }
   },
   "outputs": [
    {
     "data": {
      "text/html": [
       "<div>\n",
       "<style scoped>\n",
       "    .dataframe tbody tr th:only-of-type {\n",
       "        vertical-align: middle;\n",
       "    }\n",
       "\n",
       "    .dataframe tbody tr th {\n",
       "        vertical-align: top;\n",
       "    }\n",
       "\n",
       "    .dataframe thead th {\n",
       "        text-align: right;\n",
       "    }\n",
       "</style>\n",
       "<table border=\"1\" class=\"dataframe\">\n",
       "  <thead>\n",
       "    <tr style=\"text-align: right;\">\n",
       "      <th></th>\n",
       "      <th>tau</th>\n",
       "      <th>0</th>\n",
       "      <th>1</th>\n",
       "      <th>2</th>\n",
       "      <th>3</th>\n",
       "      <th>4</th>\n",
       "      <th>5</th>\n",
       "      <th>6</th>\n",
       "      <th>7</th>\n",
       "      <th>8</th>\n",
       "      <th>...</th>\n",
       "      <th>2038</th>\n",
       "      <th>2039</th>\n",
       "      <th>2040</th>\n",
       "      <th>2041</th>\n",
       "      <th>2042</th>\n",
       "      <th>2043</th>\n",
       "      <th>2044</th>\n",
       "      <th>2045</th>\n",
       "      <th>2046</th>\n",
       "      <th>2047</th>\n",
       "    </tr>\n",
       "  </thead>\n",
       "  <tbody>\n",
       "    <tr>\n",
       "      <th>0</th>\n",
       "      <td>4.263624</td>\n",
       "      <td>2.678914</td>\n",
       "      <td>2.681533</td>\n",
       "      <td>2.684151</td>\n",
       "      <td>2.686770</td>\n",
       "      <td>2.689389</td>\n",
       "      <td>2.692007</td>\n",
       "      <td>2.694626</td>\n",
       "      <td>2.697245</td>\n",
       "      <td>2.699863</td>\n",
       "      <td>...</td>\n",
       "      <td>0.19912</td>\n",
       "      <td>0.199218</td>\n",
       "      <td>0.199316</td>\n",
       "      <td>0.199413</td>\n",
       "      <td>0.199511</td>\n",
       "      <td>0.199609</td>\n",
       "      <td>0.199707</td>\n",
       "      <td>0.199804</td>\n",
       "      <td>0.199902</td>\n",
       "      <td>0.2</td>\n",
       "    </tr>\n",
       "    <tr>\n",
       "      <th>1</th>\n",
       "      <td>30.689476</td>\n",
       "      <td>0.433210</td>\n",
       "      <td>0.452059</td>\n",
       "      <td>0.470909</td>\n",
       "      <td>0.489758</td>\n",
       "      <td>0.508607</td>\n",
       "      <td>0.527456</td>\n",
       "      <td>0.546306</td>\n",
       "      <td>0.565155</td>\n",
       "      <td>0.584004</td>\n",
       "      <td>...</td>\n",
       "      <td>0.19912</td>\n",
       "      <td>0.199218</td>\n",
       "      <td>0.199316</td>\n",
       "      <td>0.199413</td>\n",
       "      <td>0.199511</td>\n",
       "      <td>0.199609</td>\n",
       "      <td>0.199707</td>\n",
       "      <td>0.199804</td>\n",
       "      <td>0.199902</td>\n",
       "      <td>0.2</td>\n",
       "    </tr>\n",
       "    <tr>\n",
       "      <th>2</th>\n",
       "      <td>77.284880</td>\n",
       "      <td>-1.705960</td>\n",
       "      <td>-1.658493</td>\n",
       "      <td>-1.611025</td>\n",
       "      <td>-1.563557</td>\n",
       "      <td>-1.516089</td>\n",
       "      <td>-1.468621</td>\n",
       "      <td>-1.421154</td>\n",
       "      <td>-1.373686</td>\n",
       "      <td>-1.326218</td>\n",
       "      <td>...</td>\n",
       "      <td>0.19912</td>\n",
       "      <td>0.199218</td>\n",
       "      <td>0.199316</td>\n",
       "      <td>0.199413</td>\n",
       "      <td>0.199511</td>\n",
       "      <td>0.199609</td>\n",
       "      <td>0.199707</td>\n",
       "      <td>0.199804</td>\n",
       "      <td>0.199902</td>\n",
       "      <td>0.2</td>\n",
       "    </tr>\n",
       "    <tr>\n",
       "      <th>3</th>\n",
       "      <td>-21.807557</td>\n",
       "      <td>-1.135722</td>\n",
       "      <td>-1.149116</td>\n",
       "      <td>-1.162510</td>\n",
       "      <td>-1.175904</td>\n",
       "      <td>-1.189298</td>\n",
       "      <td>-1.202692</td>\n",
       "      <td>-1.216086</td>\n",
       "      <td>-1.229480</td>\n",
       "      <td>-1.242874</td>\n",
       "      <td>...</td>\n",
       "      <td>0.19912</td>\n",
       "      <td>0.199218</td>\n",
       "      <td>0.199316</td>\n",
       "      <td>0.199413</td>\n",
       "      <td>0.199511</td>\n",
       "      <td>0.199609</td>\n",
       "      <td>0.199707</td>\n",
       "      <td>0.199804</td>\n",
       "      <td>0.199902</td>\n",
       "      <td>0.2</td>\n",
       "    </tr>\n",
       "    <tr>\n",
       "      <th>4</th>\n",
       "      <td>39.138534</td>\n",
       "      <td>-0.541275</td>\n",
       "      <td>-0.517237</td>\n",
       "      <td>-0.493198</td>\n",
       "      <td>-0.469159</td>\n",
       "      <td>-0.445121</td>\n",
       "      <td>-0.421082</td>\n",
       "      <td>-0.397044</td>\n",
       "      <td>-0.373005</td>\n",
       "      <td>-0.348967</td>\n",
       "      <td>...</td>\n",
       "      <td>0.19912</td>\n",
       "      <td>0.199218</td>\n",
       "      <td>0.199316</td>\n",
       "      <td>0.199413</td>\n",
       "      <td>0.199511</td>\n",
       "      <td>0.199609</td>\n",
       "      <td>0.199707</td>\n",
       "      <td>0.199804</td>\n",
       "      <td>0.199902</td>\n",
       "      <td>0.2</td>\n",
       "    </tr>\n",
       "  </tbody>\n",
       "</table>\n",
       "<p>5 rows × 2049 columns</p>\n",
       "</div>"
      ],
      "text/plain": [
       "         tau         0         1         2         3         4         5  \\\n",
       "0   4.263624  2.678914  2.681533  2.684151  2.686770  2.689389  2.692007   \n",
       "1  30.689476  0.433210  0.452059  0.470909  0.489758  0.508607  0.527456   \n",
       "2  77.284880 -1.705960 -1.658493 -1.611025 -1.563557 -1.516089 -1.468621   \n",
       "3 -21.807557 -1.135722 -1.149116 -1.162510 -1.175904 -1.189298 -1.202692   \n",
       "4  39.138534 -0.541275 -0.517237 -0.493198 -0.469159 -0.445121 -0.421082   \n",
       "\n",
       "          6         7         8  ...      2038      2039      2040      2041  \\\n",
       "0  2.694626  2.697245  2.699863  ...   0.19912  0.199218  0.199316  0.199413   \n",
       "1  0.546306  0.565155  0.584004  ...   0.19912  0.199218  0.199316  0.199413   \n",
       "2 -1.421154 -1.373686 -1.326218  ...   0.19912  0.199218  0.199316  0.199413   \n",
       "3 -1.216086 -1.229480 -1.242874  ...   0.19912  0.199218  0.199316  0.199413   \n",
       "4 -0.397044 -0.373005 -0.348967  ...   0.19912  0.199218  0.199316  0.199413   \n",
       "\n",
       "       2042      2043      2044      2045      2046  2047  \n",
       "0  0.199511  0.199609  0.199707  0.199804  0.199902   0.2  \n",
       "1  0.199511  0.199609  0.199707  0.199804  0.199902   0.2  \n",
       "2  0.199511  0.199609  0.199707  0.199804  0.199902   0.2  \n",
       "3  0.199511  0.199609  0.199707  0.199804  0.199902   0.2  \n",
       "4  0.199511  0.199609  0.199707  0.199804  0.199902   0.2  \n",
       "\n",
       "[5 rows x 2049 columns]"
      ]
     },
     "execution_count": 16,
     "metadata": {},
     "output_type": "execute_result"
    }
   ],
   "source": [
    "data_df.head()"
   ]
  },
  {
   "cell_type": "markdown",
   "metadata": {},
   "source": [
    "### Seperate data into training and testing"
   ]
  },
  {
   "cell_type": "code",
   "execution_count": 17,
   "metadata": {
    "ExecuteTime": {
     "end_time": "2018-05-24T23:22:44.796406Z",
     "start_time": "2018-05-24T23:22:44.471912Z"
    }
   },
   "outputs": [],
   "source": [
    "# Randomly sample 80%\n",
    "training_data_df = data_df.sample(frac = 0.8)"
   ]
  },
  {
   "cell_type": "code",
   "execution_count": 19,
   "metadata": {
    "ExecuteTime": {
     "end_time": "2018-05-24T23:22:49.545873Z",
     "start_time": "2018-05-24T23:22:49.460096Z"
    }
   },
   "outputs": [],
   "source": [
    "testing_data_df = data_df.loc[~data_df.index.isin(training_data_df.index)]"
   ]
  },
  {
   "cell_type": "markdown",
   "metadata": {},
   "source": [
    "### Split the data into X and Y"
   ]
  },
  {
   "cell_type": "code",
   "execution_count": 20,
   "metadata": {
    "ExecuteTime": {
     "end_time": "2018-05-24T23:22:50.937829Z",
     "start_time": "2018-05-24T23:22:50.706069Z"
    }
   },
   "outputs": [],
   "source": [
    "# drop the tau column from the X data (data to train with)\n",
    "# axis = 1 drops the column\n",
    "X_training = training_data_df.drop('tau', axis = 1).values\n",
    "\n",
    "# retain only the tau column (value to predict) for the Y data\n",
    "Y_training = training_data_df[['tau']].values"
   ]
  },
  {
   "cell_type": "code",
   "execution_count": 21,
   "metadata": {
    "ExecuteTime": {
     "end_time": "2018-05-24T23:22:51.586755Z",
     "start_time": "2018-05-24T23:22:51.464974Z"
    }
   },
   "outputs": [],
   "source": [
    "# drop the tau column from the X data (data to train with)\n",
    "# axis = 1 drops the column\n",
    "X_testing = testing_data_df.drop('tau', axis = 1).values\n",
    "\n",
    "# retain only the tau column (value to predict) for the Y data\n",
    "Y_testing = testing_data_df[['tau']].values"
   ]
  },
  {
   "cell_type": "code",
   "execution_count": 22,
   "metadata": {
    "ExecuteTime": {
     "end_time": "2018-05-24T23:22:52.215534Z",
     "start_time": "2018-05-24T23:22:52.211328Z"
    }
   },
   "outputs": [],
   "source": [
    "# Create scalars for inputs and outputs\n",
    "X_scaler = MinMaxScaler(feature_range = (0,1))\n",
    "Y_scaler = MinMaxScaler(feature_range = (0,1))"
   ]
  },
  {
   "cell_type": "code",
   "execution_count": 23,
   "metadata": {
    "ExecuteTime": {
     "end_time": "2018-05-24T23:22:53.609297Z",
     "start_time": "2018-05-24T23:22:53.052670Z"
    }
   },
   "outputs": [],
   "source": [
    "# Scale training input and output\n",
    "X_scaled_training = X_scaler.fit_transform(X_training)\n",
    "Y_scaled_training = Y_scaler.fit_transform(Y_training)"
   ]
  },
  {
   "cell_type": "code",
   "execution_count": 24,
   "metadata": {
    "ExecuteTime": {
     "end_time": "2018-05-24T23:22:53.890939Z",
     "start_time": "2018-05-24T23:22:53.771855Z"
    }
   },
   "outputs": [],
   "source": [
    "# Scale testing data using same scaler\n",
    "X_scaled_testing = X_scaler.transform(X_testing)\n",
    "Y_scaled_testing = Y_scaler.transform(Y_testing)"
   ]
  },
  {
   "cell_type": "code",
   "execution_count": 25,
   "metadata": {
    "ExecuteTime": {
     "end_time": "2018-05-24T23:22:54.277410Z",
     "start_time": "2018-05-24T23:22:54.268388Z"
    }
   },
   "outputs": [
    {
     "data": {
      "text/plain": [
       "(8000, 2048)"
      ]
     },
     "execution_count": 25,
     "metadata": {},
     "output_type": "execute_result"
    }
   ],
   "source": [
    "X_scaled_training.shape"
   ]
  },
  {
   "cell_type": "code",
   "execution_count": 26,
   "metadata": {
    "ExecuteTime": {
     "end_time": "2018-05-24T23:22:55.202314Z",
     "start_time": "2018-05-24T23:22:55.197071Z"
    }
   },
   "outputs": [
    {
     "name": "stdout",
     "output_type": "stream",
     "text": [
      "Note: Y values were scaled by multiplying by 0.0050009846 and adding 0.4999\n"
     ]
    }
   ],
   "source": [
    "msg = 'Note: Y values were scaled by multiplying by {:.10f} and adding {:.4f}'\n",
    "print(msg.format(Y_scaler.scale_[0], Y_scaler.min_[0]))"
   ]
  },
  {
   "cell_type": "code",
   "execution_count": 27,
   "metadata": {
    "ExecuteTime": {
     "end_time": "2018-05-24T23:22:58.529981Z",
     "start_time": "2018-05-24T23:22:58.524711Z"
    }
   },
   "outputs": [],
   "source": [
    "# Define how many inputs and outputs are in our neural network\n",
    "number_of_inputs = X_scaled_training.shape[1]\n",
    "number_of_outputs = Y_scaled_training.shape[1]"
   ]
  },
  {
   "cell_type": "code",
   "execution_count": 28,
   "metadata": {
    "ExecuteTime": {
     "end_time": "2018-05-24T23:23:00.755315Z",
     "start_time": "2018-05-24T23:23:00.751061Z"
    }
   },
   "outputs": [],
   "source": [
    "# define how many neurons we want in each layer of our NN\n",
    "layer_1_nodes = 20\n",
    "layer_2_nodes = 500\n",
    "layer_3_nodes = 50"
   ]
  },
  {
   "cell_type": "code",
   "execution_count": 29,
   "metadata": {
    "ExecuteTime": {
     "end_time": "2018-05-24T23:23:02.180112Z",
     "start_time": "2018-05-24T23:23:02.175236Z"
    }
   },
   "outputs": [],
   "source": [
    "# Define model parameters\n",
    "learning_rate = 0.001\n",
    "training_epochs = 100\n",
    "display_step = 2"
   ]
  },
  {
   "cell_type": "code",
   "execution_count": 30,
   "metadata": {
    "ExecuteTime": {
     "end_time": "2018-05-24T23:23:16.421572Z",
     "start_time": "2018-05-24T23:23:05.891275Z"
    }
   },
   "outputs": [],
   "source": [
    "# Input Layer\n",
    "with tf.variable_scope('input'):\n",
    "    X  = tf.placeholder(tf.float32, shape = (None, number_of_inputs))\n",
    "    \n",
    "# Layer 1\n",
    "with tf.variable_scope('layer_1'):\n",
    "    \n",
    "    biases = tf.get_variable(name = \"biases1\",\n",
    "                             shape = [layer_1_nodes],\n",
    "                             initializer = tf.zeros_initializer())\n",
    "    \n",
    "    weights = tf.get_variable(name = \"weights1\",\n",
    "                              shape  = [number_of_inputs, layer_1_nodes],\n",
    "                         initializer = tf.contrib.layers.xavier_initializer())\n",
    "\n",
    "\n",
    "    layer_1_output = tf.nn.relu(tf.matmul(X, weights) + biases)\n",
    "    \n",
    "# Layer 2\n",
    "with tf.variable_scope('layer_2'):\n",
    "    \n",
    "    biases = tf.get_variable(name = \"biases2\",\n",
    "                             shape = [layer_2_nodes],\n",
    "                             initializer = tf.zeros_initializer())\n",
    "    \n",
    "    weights = tf.get_variable(name = \"weights2\",\n",
    "                              shape  = [layer_1_nodes, layer_2_nodes],\n",
    "                         initializer = tf.contrib.layers.xavier_initializer())\n",
    "\n",
    "\n",
    "    layer_2_output = tf.nn.relu(tf.matmul(layer_1_output, weights) + biases)\n",
    "    \n",
    "# Layer 3\n",
    "with tf.variable_scope('layer_3'):\n",
    "    \n",
    "    biases = tf.get_variable(name = \"biases3\",\n",
    "                             shape = [layer_3_nodes],\n",
    "                             initializer = tf.zeros_initializer())\n",
    "    \n",
    "    weights = tf.get_variable(name = \"weights3\",\n",
    "                              shape  = [layer_2_nodes, layer_3_nodes],\n",
    "                         initializer = tf.contrib.layers.xavier_initializer())\n",
    "\n",
    "\n",
    "    layer_3_output = tf.nn.relu(tf.matmul(layer_2_output, weights) + biases)\n",
    "    \n",
    "# Output layer\n",
    "\n",
    "with tf.variable_scope('output'):\n",
    "    \n",
    "    biases = tf.get_variable(name = \"biases_out\",\n",
    "                             shape = [number_of_outputs],\n",
    "                             initializer = tf.zeros_initializer())\n",
    "    \n",
    "    weights = tf.get_variable(name = \"weights_out\",\n",
    "                              shape  = [layer_3_nodes, number_of_outputs],\n",
    "                         initializer = tf.contrib.layers.xavier_initializer())\n",
    "\n",
    "\n",
    "    prediction = tf.nn.relu(tf.matmul(layer_3_output, weights) + biases)\n",
    "    \n",
    "with tf.variable_scope('cost'):\n",
    "    \n",
    "    Y = tf.placeholder(tf.float32, shape = (None, 1))\n",
    "    cost = tf.reduce_mean(tf.squared_difference(prediction, Y))\n",
    "\n",
    "    \n",
    "with tf.variable_scope('train'):\n",
    "    optimizer = tf.train.AdamOptimizer(learning_rate, epsilon=1e-05).minimize(cost)\n",
    "    \n",
    "with tf.variable_scope('logging'):\n",
    "    tf.summary.scalar('current_cost', cost)\n",
    "    summary = tf.summary.merge_all()\n",
    "    \n",
    "saver = tf.train.Saver()"
   ]
  },
  {
   "cell_type": "code",
   "execution_count": 31,
   "metadata": {
    "ExecuteTime": {
     "end_time": "2018-05-24T23:24:09.000955Z",
     "start_time": "2018-05-24T23:23:26.161223Z"
    },
    "scrolled": false
   },
   "outputs": [
    {
     "name": "stdout",
     "output_type": "stream",
     "text": [
      "0 0.2318769 0.23364122\n",
      "2 0.22969589 0.23136804\n",
      "4 0.08964256 0.09043522\n",
      "6 0.12403558 0.12529175\n",
      "8 0.088714585 0.089151815\n",
      "10 0.10538748 0.10523814\n",
      "12 0.0873613 0.088052936\n",
      "14 0.09433049 0.09530651\n",
      "16 0.08723488 0.087999925\n",
      "18 0.08887877 0.0892245\n",
      "20 0.08799445 0.08833654\n",
      "22 0.085840374 0.08656099\n",
      "24 0.087755434 0.08868733\n",
      "26 0.08485192 0.085537106\n",
      "28 0.0859073 0.08640329\n",
      "30 0.08478548 0.08556363\n",
      "32 0.0840997 0.08502539\n",
      "34 0.084389605 0.0853422\n",
      "36 0.08370247 0.08458392\n",
      "38 0.08355047 0.0845195\n",
      "40 0.08278082 0.0841441\n",
      "42 0.08249162 0.083869435\n",
      "44 0.08230048 0.08354158\n",
      "46 0.08204294 0.08332593\n",
      "48 0.081321746 0.08283723\n",
      "50 0.081016175 0.0826569\n",
      "52 0.08070352 0.082189485\n",
      "54 0.080026776 0.0816464\n",
      "56 0.07967522 0.081449695\n",
      "58 0.0791786 0.08083249\n",
      "60 0.07868292 0.08059918\n",
      "62 0.07814262 0.07989099\n",
      "64 0.077661015 0.079695836\n",
      "66 0.07716898 0.078996986\n",
      "68 0.07672138 0.078913525\n",
      "70 0.07611011 0.07805952\n",
      "72 0.07567368 0.077880815\n",
      "74 0.0751518 0.07717246\n",
      "76 0.07464407 0.07679153\n",
      "78 0.074205674 0.07634323\n",
      "80 0.073803134 0.075956285\n",
      "82 0.07335976 0.075722836\n",
      "84 0.072911255 0.07516867\n",
      "86 0.07243098 0.07488092\n",
      "88 0.07193251 0.07433408\n",
      "90 0.07152458 0.07380554\n",
      "92 0.071046434 0.07360725\n",
      "94 0.07045616 0.07274571\n",
      "96 0.0700493 0.07222942\n",
      "98 0.069259845 0.07167671\n",
      "Training done\n",
      "Final Training Cost: 0.06924320012331009\n",
      "Final Testing Cost: 0.07174894958734512\n"
     ]
    },
    {
     "ename": "NameError",
     "evalue": "name 'testing_short_df' is not defined",
     "output_type": "error",
     "traceback": [
      "\u001b[0;31m---------------------------------------------------------------------------\u001b[0m",
      "\u001b[0;31mNameError\u001b[0m                                 Traceback (most recent call last)",
      "\u001b[0;32m<ipython-input-31-2ed4e9d58a6f>\u001b[0m in \u001b[0;36m<module>\u001b[0;34m()\u001b[0m\n\u001b[1;32m     60\u001b[0m     \u001b[0mrand_entry\u001b[0m \u001b[0;34m=\u001b[0m \u001b[0mnp\u001b[0m\u001b[0;34m.\u001b[0m\u001b[0mrandom\u001b[0m\u001b[0;34m.\u001b[0m\u001b[0mrandint\u001b[0m\u001b[0;34m(\u001b[0m\u001b[0;36m0\u001b[0m\u001b[0;34m,\u001b[0m\u001b[0;36m200\u001b[0m\u001b[0;34m)\u001b[0m\u001b[0;34m\u001b[0m\u001b[0m\n\u001b[1;32m     61\u001b[0m     \u001b[0;31m# actual earnings of 0th game\u001b[0m\u001b[0;34m\u001b[0m\u001b[0;34m\u001b[0m\u001b[0m\n\u001b[0;32m---> 62\u001b[0;31m     \u001b[0mreal_tau\u001b[0m \u001b[0;34m=\u001b[0m \u001b[0mtesting_short_df\u001b[0m\u001b[0;34m[\u001b[0m\u001b[0;34m'tau'\u001b[0m\u001b[0;34m]\u001b[0m\u001b[0;34m.\u001b[0m\u001b[0mvalues\u001b[0m\u001b[0;34m[\u001b[0m\u001b[0mrand_entry\u001b[0m\u001b[0;34m]\u001b[0m\u001b[0;34m\u001b[0m\u001b[0m\n\u001b[0m\u001b[1;32m     63\u001b[0m \u001b[0;34m\u001b[0m\u001b[0m\n\u001b[1;32m     64\u001b[0m     \u001b[0;31m# predicted_earnings of 0th game\u001b[0m\u001b[0;34m\u001b[0m\u001b[0;34m\u001b[0m\u001b[0m\n",
      "\u001b[0;31mNameError\u001b[0m: name 'testing_short_df' is not defined"
     ]
    }
   ],
   "source": [
    "# initialize a session to run TF operations\n",
    "with tf.Session() as session:\n",
    "    \n",
    "    # Run the global variable initilizer to init all variables and layers\n",
    "    session.run(tf.global_variables_initializer())\n",
    "    \n",
    "    # Create log writers to record training progress\n",
    "    # Store training and testing data separately\n",
    "    training_writer = tf.summary.FileWriter('logs4/training', session.graph)\n",
    "    testing_writer = tf.summary.FileWriter('logs4/testing', session.graph)\n",
    "    \n",
    "    \n",
    "    # Run the optimizer over and over to train the network\n",
    "    # One epoch is one full run through the training data set\n",
    "    for epoch in range(training_epochs):\n",
    "        \n",
    "        # Feed in the training data and do one stepf NN training\n",
    "        session.run(optimizer,\n",
    "                    feed_dict = {X: X_scaled_training, Y: Y_scaled_training})\n",
    "\n",
    "        # Every display_step steps, log our process\n",
    "        if epoch % display_step == 0:\n",
    "            \n",
    "            training_feed = {X: X_scaled_training, Y: Y_scaled_training}\n",
    "            training_cost, training_summary = session.run([cost, summary],\n",
    "                                                    feed_dict = training_feed)\n",
    "            \n",
    "            testing_feed =  {X: X_scaled_testing, Y: Y_scaled_testing}\n",
    "            testing_cost, testing_summary = session.run([cost, summary],\n",
    "                                                     feed_dict = testing_feed)\n",
    "            \n",
    "            print(epoch, training_cost, testing_cost)\n",
    "            \n",
    "            # write the current status to the log files\n",
    "            training_writer.add_summary(training_summary, epoch)\n",
    "            testing_writer.add_summary(testing_summary, epoch)\n",
    "            \n",
    "    print('Training done')\n",
    "    \n",
    "    final_training_cost = session.run(cost,\n",
    "                                      feed_dict = {X: X_scaled_training,\n",
    "                                                   Y: Y_scaled_training})\n",
    "    \n",
    "    final_testing_cost = session.run(cost,\n",
    "                                     feed_dict = {X: X_scaled_testing,\n",
    "                                                  Y: Y_scaled_testing})\n",
    "\n",
    "    print('Final Training Cost: {}'.format(final_training_cost))\n",
    "    print('Final Testing Cost: {}'.format(final_testing_cost))\n",
    "    \n",
    "    \n",
    "    # Now that the NN is trained, lets use it to make predictions.\n",
    "    # pass in the X testing data and run the prediction operation\n",
    "    Y_prediction_scaled = session.run(prediction,\n",
    "                                      feed_dict = {X:X_scaled_testing})\n",
    "\n",
    "    # Unscale the data back to its original units (dollar$)\n",
    "    Y_predicted = Y_scaler.inverse_transform(Y_prediction_scaled)\n",
    "    \n",
    "    rand_entry = np.random.randint(0,200)\n",
    "    # actual earnings of 0th game\n",
    "    real_tau = testing_data_df['tau'].values[rand_entry]\n",
    "    \n",
    "    # predicted_earnings of 0th game\n",
    "    predicted_earnings = Y_predicted[rand_entry][0]\n",
    "    \n",
    "    print('The actual tau of row #1 is {}'.format(real_tau))\n",
    "    \n",
    "    msg = 'The predicted tau of row #1 is {}'\n",
    "    print(msg.format(predicted_earnings))\n",
    "    \n",
    "    model_save_location = \"logs4/trained_model.ckpt\"\n",
    "    save_path = saver.save(session, model_save_location)\n",
    "    print('Model saved: {}'.format(save_path))"
   ]
  },
  {
   "cell_type": "code",
   "execution_count": 32,
   "metadata": {
    "ExecuteTime": {
     "end_time": "2018-05-24T23:24:44.113781Z",
     "start_time": "2018-05-24T23:24:44.105100Z"
    }
   },
   "outputs": [
    {
     "name": "stdout",
     "output_type": "stream",
     "text": [
      "[ 82.53084872  64.60497736 -22.6290887   58.47565429  57.01557984\n",
      " -15.38806819 -52.44864085  22.2580471  -64.17383478  -1.24806885]\n",
      "[  4.4662232  10.589347  -14.156471    1.8844681  -1.5205517   5.7440743\n",
      "   5.6824074  12.721605    7.271643  -23.02426  ]\n"
     ]
    }
   ],
   "source": [
    "real_tau_ten = testing_data_df['tau'].values[0:10]\n",
    "predicted_earnings_ten = Y_predicted[0:10].T[0]\n",
    "print(real_tau_ten)\n",
    "print(predicted_earnings_ten)"
   ]
  },
  {
   "cell_type": "code",
   "execution_count": 33,
   "metadata": {
    "ExecuteTime": {
     "end_time": "2018-05-24T23:25:24.513873Z",
     "start_time": "2018-05-24T23:25:24.063746Z"
    }
   },
   "outputs": [],
   "source": [
    "import matplotlib.pyplot as plt"
   ]
  },
  {
   "cell_type": "code",
   "execution_count": 35,
   "metadata": {
    "ExecuteTime": {
     "end_time": "2018-05-24T23:25:28.562057Z",
     "start_time": "2018-05-24T23:25:28.557476Z"
    }
   },
   "outputs": [],
   "source": [
    "sort_idx = np.argsort(testing_data_df['tau'].values)"
   ]
  },
  {
   "cell_type": "code",
   "execution_count": 38,
   "metadata": {
    "ExecuteTime": {
     "end_time": "2018-05-25T01:56:50.535344Z",
     "start_time": "2018-05-25T01:56:50.323628Z"
    }
   },
   "outputs": [
    {
     "data": {
      "image/png": "[encoded data removed]",
      "text/plain": [
       "<matplotlib.figure.Figure at 0x1a28adb358>"
      ]
     },
     "metadata": {},
     "output_type": "display_data"
    }
   ],
   "source": [
    "plt.plot(Y_predicted[:].T[0][sort_idx][::])\n",
    "plt.plot(testing_data_df['tau'].values[sort_idx][::])\n",
    "plt.show()"
   ]
  },
  {
   "cell_type": "code",
   "execution_count": 25,
   "metadata": {
    "ExecuteTime": {
     "end_time": "2018-05-24T23:13:27.809317Z",
     "start_time": "2018-05-24T23:13:27.801048Z"
    }
   },
   "outputs": [
    {
     "data": {
      "text/plain": [
       "(1, 2000)"
      ]
     },
     "execution_count": 25,
     "metadata": {},
     "output_type": "execute_result"
    }
   ],
   "source": [
    "Y_predicted[:].T.shape"
   ]
  },
  {
   "cell_type": "code",
   "execution_count": 26,
   "metadata": {
    "ExecuteTime": {
     "end_time": "2018-05-24T23:13:27.820335Z",
     "start_time": "2018-05-24T23:13:27.814179Z"
    }
   },
   "outputs": [],
   "source": [
    "import matplotlib.pyplot as plt"
   ]
  },
  {
   "cell_type": "code",
   "execution_count": null,
   "metadata": {
    "ExecuteTime": {
     "end_time": "2018-05-24T22:29:45.821409Z",
     "start_time": "2018-05-24T22:29:45.813743Z"
    }
   },
   "outputs": [],
   "source": []
  },
  {
   "cell_type": "code",
   "execution_count": 27,
   "metadata": {
    "ExecuteTime": {
     "end_time": "2018-05-24T23:13:27.836963Z",
     "start_time": "2018-05-24T23:13:27.824570Z"
    }
   },
   "outputs": [
    {
     "data": {
      "text/plain": [
       "(2000, 1)"
      ]
     },
     "execution_count": 27,
     "metadata": {},
     "output_type": "execute_result"
    }
   ],
   "source": [
    "Y_predicted.shape"
   ]
  },
  {
   "cell_type": "code",
   "execution_count": 28,
   "metadata": {
    "ExecuteTime": {
     "end_time": "2018-05-24T23:13:27.850277Z",
     "start_time": "2018-05-24T23:13:27.841888Z"
    }
   },
   "outputs": [
    {
     "ename": "SyntaxError",
     "evalue": "invalid syntax (<ipython-input-28-abefa8d9bb1a>, line 1)",
     "output_type": "error",
     "traceback": [
      "\u001b[0;36m  File \u001b[0;32m\"<ipython-input-28-abefa8d9bb1a>\"\u001b[0;36m, line \u001b[0;32m1\u001b[0m\n\u001b[0;31m    .shape\u001b[0m\n\u001b[0m    ^\u001b[0m\n\u001b[0;31mSyntaxError\u001b[0m\u001b[0;31m:\u001b[0m invalid syntax\n"
     ]
    }
   ],
   "source": [
    ".shape"
   ]
  },
  {
   "cell_type": "code",
   "execution_count": null,
   "metadata": {},
   "outputs": [],
   "source": []
  }
 ],
 "metadata": {
  "kernelspec": {
   "display_name": "Python 3",
   "language": "python",
   "name": "python3"
  },
  "language_info": {
   "codemirror_mode": {
    "name": "ipython",
    "version": 3
   },
   "file_extension": ".py",
   "mimetype": "text/x-python",
   "name": "python",
   "nbconvert_exporter": "python",
   "pygments_lexer": "ipython3",
   "version": "3.6.5"
  },
  "varInspector": {
   "cols": {
    "lenName": 16,
    "lenType": 16,
    "lenVar": 40
   },
   "kernels_config": {
    "python": {
     "delete_cmd_postfix": "",
     "delete_cmd_prefix": "del ",
     "library": "var_list.py",
     "varRefreshCmd": "print(var_dic_list())"
    },
    "r": {
     "delete_cmd_postfix": ") ",
     "delete_cmd_prefix": "rm(",
     "library": "var_list.r",
     "varRefreshCmd": "cat(var_dic_list()) "
    }
   },
   "types_to_exclude": [
    "module",
    "function",
    "builtin_function_or_method",
    "instance",
    "_Feature"
   ],
   "window_display": false
  }
 },
 "nbformat": 4,
 "nbformat_minor": 2
}
