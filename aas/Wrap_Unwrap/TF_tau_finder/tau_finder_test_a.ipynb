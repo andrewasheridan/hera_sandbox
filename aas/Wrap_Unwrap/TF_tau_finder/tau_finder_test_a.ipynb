{
 "cells": [
  {
   "cell_type": "code",
   "execution_count": 7,
   "metadata": {
    "ExecuteTime": {
     "end_time": "2018-05-25T20:15:23.053772Z",
     "start_time": "2018-05-25T20:15:12.009479Z"
    }
   },
   "outputs": [],
   "source": [
    "import pandas as pd\n",
    "from sklearn.preprocessing import MinMaxScaler\n",
    "\n",
    "data_path = 'data/wrap_data_10000.csv'\n",
    "data_df = pd.read_csv(data_path, dtype = float)\n",
    "\n",
    "training_data_df = data_df.sample(frac = 0.8)\n",
    "testing_data_df = data_df.loc[~data_df.index.isin(training_data_df.index)]\n",
    "\n",
    "X_training = training_data_df.drop('tau', axis = 1).values\n",
    "Y_training = training_data_df[['tau']].values\n",
    "\n",
    "X_testing = testing_data_df.drop('tau', axis = 1).values\n",
    "Y_testing = testing_data_df[['tau']].values\n",
    "\n",
    "X_scaler = MinMaxScaler(feature_range = (0,1))\n",
    "Y_scaler = MinMaxScaler(feature_range = (0,1))\n",
    "\n",
    "X_scaled_training = X_scaler.fit_transform(X_training)\n",
    "Y_scaled_training = Y_scaler.fit_transform(Y_training)\n",
    "\n",
    "X_scaled_testing = X_scaler.transform(X_testing)\n",
    "Y_scaled_testing = Y_scaler.transform(Y_testing)\n",
    "\n",
    "number_of_inputs = X_scaled_training.shape[1]\n",
    "number_of_outputs = Y_scaled_training.shape[1]"
   ]
  },
  {
   "cell_type": "code",
   "execution_count": 8,
   "metadata": {
    "ExecuteTime": {
     "end_time": "2018-05-25T20:15:23.817649Z",
     "start_time": "2018-05-25T20:15:23.803349Z"
    }
   },
   "outputs": [],
   "source": [
    "learning_rate = 0.0015\n",
    "training_epochs = 100\n",
    "\n",
    "layer_1_nodes = 80\n",
    "layer_2_nodes = 280\n",
    "layer_3_nodes = 500"
   ]
  },
  {
   "cell_type": "code",
   "execution_count": 2,
   "metadata": {
    "ExecuteTime": {
     "end_time": "2018-05-25T20:10:04.228640Z",
     "start_time": "2018-05-25T20:09:59.846560Z"
    }
   },
   "outputs": [
    {
     "name": "stderr",
     "output_type": "stream",
     "text": [
      "/Users/andrew/anaconda3/lib/python3.6/site-packages/h5py/__init__.py:36: FutureWarning: Conversion of the second argument of issubdtype from `float` to `np.floating` is deprecated. In future, it will be treated as `np.float64 == np.dtype(float).type`.\n",
      "  from ._conv import register_converters as _register_converters\n"
     ]
    }
   ],
   "source": [
    "import tensorflow as tf"
   ]
  },
  {
   "cell_type": "code",
   "execution_count": 49,
   "metadata": {
    "ExecuteTime": {
     "end_time": "2018-05-25T20:37:22.973322Z",
     "start_time": "2018-05-25T20:37:22.339716Z"
    }
   },
   "outputs": [],
   "source": [
    "logdir = 'tau_test_1/'\n",
    "layer_code = '80_280_500_e'\n",
    "\n",
    "tf.reset_default_graph()\n",
    "\n",
    "# Input Layer\n",
    "with tf.variable_scope('input'):\n",
    "    X  = tf.placeholder(tf.float32, shape = (None, number_of_inputs))\n",
    "\n",
    "# Layer 1\n",
    "with tf.variable_scope('layer_1'):\n",
    "\n",
    "    biases = tf.get_variable(name = \"biases1\",\n",
    "                             shape = [layer_1_nodes],\n",
    "                             initializer = tf.zeros_initializer())\n",
    "\n",
    "    weights = tf.get_variable(name = \"weights1\",\n",
    "                              shape  = [number_of_inputs, layer_1_nodes],\n",
    "                         initializer = tf.contrib.layers.xavier_initializer())\n",
    "\n",
    "\n",
    "    layer_1_output = tf.nn.relu(tf.matmul(X, weights) + biases)\n",
    "\n",
    "# Layer 2\n",
    "with tf.variable_scope('layer_2'):\n",
    "\n",
    "    biases = tf.get_variable(name = \"biases2\",\n",
    "                             shape = [layer_2_nodes],\n",
    "                             initializer = tf.zeros_initializer())\n",
    "\n",
    "    weights = tf.get_variable(name = \"weights2\",\n",
    "                              shape  = [layer_1_nodes, layer_2_nodes],\n",
    "                         initializer = tf.contrib.layers.xavier_initializer())\n",
    "\n",
    "\n",
    "    layer_2_output = tf.nn.relu(tf.matmul(layer_1_output, weights) + biases)\n",
    "\n",
    "# Layer 3\n",
    "with tf.variable_scope('layer_3'):\n",
    "\n",
    "    biases = tf.get_variable(name = \"biases3\",\n",
    "                             shape = [layer_3_nodes],\n",
    "                             initializer = tf.zeros_initializer())\n",
    "\n",
    "    weights = tf.get_variable(name = \"weights3\",\n",
    "                              shape  = [layer_2_nodes, layer_3_nodes],\n",
    "                         initializer = tf.contrib.layers.xavier_initializer())\n",
    "\n",
    "\n",
    "    layer_3_output = tf.nn.relu(tf.matmul(layer_2_output, weights) + biases)\n",
    "\n",
    "# Output layer\n",
    "\n",
    "with tf.variable_scope('output'):\n",
    "\n",
    "    biases = tf.get_variable(name = \"biases_out\",\n",
    "                             shape = [number_of_outputs],\n",
    "                             initializer = tf.zeros_initializer())\n",
    "\n",
    "    weights = tf.get_variable(name = \"weights_out\",\n",
    "                              shape  = [layer_3_nodes, number_of_outputs],\n",
    "                         initializer = tf.contrib.layers.xavier_initializer())\n",
    "\n",
    "\n",
    "    prediction = tf.nn.relu(tf.matmul(layer_3_output, weights) + biases)\n",
    "\n",
    "with tf.variable_scope('cost'):\n",
    "\n",
    "    Y = tf.placeholder(tf.float32, shape = (None, 1))\n",
    "    cost = tf.reduce_mean(tf.squared_difference(prediction, Y))\n",
    "\n",
    "\n",
    "with tf.variable_scope('train'):\n",
    "    optimizer = tf.train.AdamOptimizer(learning_rate, epsilon=1e-05).minimize(cost)\n",
    "\n",
    "with tf.variable_scope('logging'):\n",
    "    tf.summary.scalar('current_cost', cost)\n",
    "    summary = tf.summary.merge_all()"
   ]
  },
  {
   "cell_type": "code",
   "execution_count": 50,
   "metadata": {
    "ExecuteTime": {
     "end_time": "2018-05-25T20:38:34.007653Z",
     "start_time": "2018-05-25T20:37:31.968000Z"
    }
   },
   "outputs": [],
   "source": [
    "saver = tf.train.Saver()\n",
    "\n",
    "with tf.Session() as session:\n",
    "\n",
    "    session.run(tf.global_variables_initializer())\n",
    "\n",
    "    training_writer = tf.summary.FileWriter('logs/' + logdir + layer_code + '/training', session.graph)\n",
    "    testing_writer = tf.summary.FileWriter('logs/' + logdir + layer_code + '/testing', session.graph)\n",
    "\n",
    "    for epoch in range(training_epochs):\n",
    "\n",
    "        # Feed in the training data and do one stepf NN training\n",
    "        session.run(optimizer,\n",
    "                    feed_dict = {X: X_scaled_training, Y: Y_scaled_training})\n",
    "\n",
    "        training_feed = {X: X_scaled_training, Y: Y_scaled_training}\n",
    "        training_cost, training_summary = session.run([cost, summary],\n",
    "                                                feed_dict = training_feed)\n",
    "\n",
    "        testing_feed =  {X: X_scaled_testing, Y: Y_scaled_testing}\n",
    "        testing_cost, testing_summary = session.run([cost, summary],\n",
    "                                                     feed_dict = testing_feed)\n",
    "\n",
    "        training_writer.add_summary(training_summary, epoch)\n",
    "        testing_writer.add_summary(testing_summary, epoch)\n",
    "        testing_writer.flush()\n",
    "        training_writer.flush()\n",
    "\n",
    "    model_save_location = 'logs/' + logdir + layer_code + 'model' + '/trained_model.ckpt'\n",
    "    save_path = saver.save(session, model_save_location)"
   ]
  },
  {
   "cell_type": "code",
   "execution_count": 21,
   "metadata": {
    "ExecuteTime": {
     "end_time": "2018-05-25T20:27:11.453887Z",
     "start_time": "2018-05-25T20:27:11.079845Z"
    }
   },
   "outputs": [],
   "source": [
    "import matplotlib.pyplot as plt"
   ]
  },
  {
   "cell_type": "code",
   "execution_count": 106,
   "metadata": {
    "ExecuteTime": {
     "end_time": "2018-05-25T20:49:02.707854Z",
     "start_time": "2018-05-25T20:49:02.492781Z"
    }
   },
   "outputs": [
    {
     "name": "stdout",
     "output_type": "stream",
     "text": [
      "INFO:tensorflow:Restoring parameters from logs/tau_test_1/80_280_500_dmodel/trained_model.ckpt\n"
     ]
    }
   ],
   "source": [
    "with tf.Session() as session:\n",
    "    saver.restore(session,'logs/tau_test_1/80_280_500_dmodel/trained_model.ckpt')\n",
    "    \n",
    "    X_to_pred = X_scaler.transform(X_testing[:])\n",
    "    prediction_scaled = session.run(prediction, feed_dict = {X: X_to_pred})\n",
    "    prediction_unscaled = Y_scaler.inverse_transform(prediction_scaled)\n",
    "    \n",
    "#     pred_vals = prediction.T[0]\n",
    "#     plt.plot(pred_vals)\n",
    "#     plt.show()\n",
    "    \n",
    "#     act_vals = Y_testing.T[0]\n",
    "#     plt.plot(act_vals)\n",
    "#     plt.show()"
   ]
  },
  {
   "cell_type": "code",
   "execution_count": 20,
   "metadata": {
    "ExecuteTime": {
     "end_time": "2018-05-25T20:26:40.675463Z",
     "start_time": "2018-05-25T20:26:40.662890Z"
    }
   },
   "outputs": [
    {
     "data": {
      "text/plain": [
       "array([-14.337694 , -30.76607  , -26.66161  , ...,  -0.5173396,\n",
       "        47.87693  ,  18.812529 ], dtype=float32)"
      ]
     },
     "execution_count": 20,
     "metadata": {},
     "output_type": "execute_result"
    }
   ],
   "source": [
    "# prediction.T[0]"
   ]
  },
  {
   "cell_type": "code",
   "execution_count": 82,
   "metadata": {
    "ExecuteTime": {
     "end_time": "2018-05-25T20:43:45.847494Z",
     "start_time": "2018-05-25T20:43:45.838320Z"
    }
   },
   "outputs": [
    {
     "data": {
      "text/plain": [
       "array([  4.8019075, -23.18803  ,  38.10236  , -21.98647  ,  83.25295  ],\n",
       "      dtype=float32)"
      ]
     },
     "execution_count": 82,
     "metadata": {},
     "output_type": "execute_result"
    }
   ],
   "source": [
    "prediction_unscaled.T[0]"
   ]
  },
  {
   "cell_type": "code",
   "execution_count": 83,
   "metadata": {
    "ExecuteTime": {
     "end_time": "2018-05-25T20:43:52.117650Z",
     "start_time": "2018-05-25T20:43:52.110604Z"
    }
   },
   "outputs": [
    {
     "data": {
      "text/plain": [
       "array([ 40.80685876, -19.71970833,  71.73021304,  20.24466689,\n",
       "        65.72185064])"
      ]
     },
     "execution_count": 83,
     "metadata": {},
     "output_type": "execute_result"
    }
   ],
   "source": [
    "Y_testing.T[0][5:10]"
   ]
  },
  {
   "cell_type": "code",
   "execution_count": 73,
   "metadata": {
    "ExecuteTime": {
     "end_time": "2018-05-25T20:42:10.003866Z",
     "start_time": "2018-05-25T20:42:09.996287Z"
    }
   },
   "outputs": [
    {
     "data": {
      "text/plain": [
       "(1, 1024)"
      ]
     },
     "execution_count": 73,
     "metadata": {},
     "output_type": "execute_result"
    }
   ],
   "source": [
    "X_testing[0:1].shape"
   ]
  },
  {
   "cell_type": "code",
   "execution_count": 84,
   "metadata": {
    "ExecuteTime": {
     "end_time": "2018-05-25T20:44:26.217258Z",
     "start_time": "2018-05-25T20:44:25.963522Z"
    }
   },
   "outputs": [
    {
     "data": {
      "image/png": "[encoded data removed]",
      "text/plain": [
       "<matplotlib.figure.Figure at 0x114d795c0>"
      ]
     },
     "metadata": {},
     "output_type": "display_data"
    }
   ],
   "source": [
    "act_vals = Y_testing.T[0][0:2]\n",
    "plt.plot(act_vals)\n",
    "plt.show()"
   ]
  },
  {
   "cell_type": "code",
   "execution_count": 107,
   "metadata": {
    "ExecuteTime": {
     "end_time": "2018-05-25T20:49:09.071419Z",
     "start_time": "2018-05-25T20:49:08.792829Z"
    }
   },
   "outputs": [
    {
     "data": {
      "image/png": "[encoded data removed]",
      "text/plain": [
       "<matplotlib.figure.Figure at 0x1a1868d3c8>"
      ]
     },
     "metadata": {},
     "output_type": "display_data"
    }
   ],
   "source": [
    "\n",
    "plt.scatter(range(len(prediction_unscaled.T[0])), sorted(prediction_unscaled.T[0]), color = 'green')\n",
    "plt.scatter(range(len(prediction_unscaled.T[0])), sorted(Y_testing.T[0][:]), color = 'red')\n",
    "\n",
    "plt.show()"
   ]
  },
  {
   "cell_type": "code",
   "execution_count": 101,
   "metadata": {
    "ExecuteTime": {
     "end_time": "2018-05-25T20:47:26.781614Z",
     "start_time": "2018-05-25T20:47:26.773169Z"
    }
   },
   "outputs": [
    {
     "data": {
      "text/plain": [
       "array([-46.677063 , -21.693924 ,  -2.4275954,  -9.708442 ,  32.056538 ,\n",
       "       -11.688241 , -30.18643  , -85.73218  ,   0.6899467,   3.7849689,\n",
       "        21.211967 , -32.10462  ,  32.604202 ,  46.54869  , -30.71954  ,\n",
       "       -17.539192 ,  15.277401 , -59.96058  ,  20.519842 , -32.201523 ,\n",
       "       -19.418093 , -37.76217  ,  67.39001  , -34.185535 ,  11.208203 ,\n",
       "       -22.105997 , -41.048172 ,   1.8485589,  53.13902  ,  23.131327 ,\n",
       "        -7.089235 ,  53.033497 ,   9.792971 , -56.93134  , -21.993206 ,\n",
       "       -13.835296 ,  -3.869739 ,   1.5422751, -24.724669 ,   1.3974917,\n",
       "       -13.205236 , -50.18018  ,  20.773699 , -22.493698 ,  29.00945  ,\n",
       "        -1.6869079,   4.5421653, -65.40788  , -99.92044  ,  -8.6904545],\n",
       "      dtype=float32)"
      ]
     },
     "execution_count": 101,
     "metadata": {},
     "output_type": "execute_result"
    }
   ],
   "source": [
    "prediction_unscaled.T[0]"
   ]
  },
  {
   "cell_type": "code",
   "execution_count": 37,
   "metadata": {
    "ExecuteTime": {
     "end_time": "2018-05-25T20:32:30.437754Z",
     "start_time": "2018-05-25T20:32:30.425501Z"
    }
   },
   "outputs": [
    {
     "data": {
      "text/plain": [
       "array([[0.42220915, 0.41823604, 0.41428976, ..., 0.35255184, 0.34863694,\n",
       "        0.34472286]])"
      ]
     },
     "execution_count": 37,
     "metadata": {},
     "output_type": "execute_result"
    }
   ],
   "source": [
    "X_to_pred"
   ]
  },
  {
   "cell_type": "code",
   "execution_count": 41,
   "metadata": {
    "ExecuteTime": {
     "end_time": "2018-05-25T20:33:34.497666Z",
     "start_time": "2018-05-25T20:33:34.486677Z"
    }
   },
   "outputs": [
    {
     "data": {
      "text/plain": [
       "array([[0.42220915, 0.41823604, 0.41428976, ..., 0.35255184, 0.34863694,\n",
       "        0.34472286],\n",
       "       [0.7480697 , 0.75325201, 0.75840568, ..., 0.98609691, 0.99119301,\n",
       "        0.9966876 ]])"
      ]
     },
     "execution_count": 41,
     "metadata": {},
     "output_type": "execute_result"
    }
   ],
   "source": [
    "X_scaler.transform(X_testing[0:2])"
   ]
  },
  {
   "cell_type": "code",
   "execution_count": null,
   "metadata": {},
   "outputs": [],
   "source": []
  }
 ],
 "metadata": {
  "kernelspec": {
   "display_name": "Python 3",
   "language": "python",
   "name": "python3"
  },
  "language_info": {
   "codemirror_mode": {
    "name": "ipython",
    "version": 3
   },
   "file_extension": ".py",
   "mimetype": "text/x-python",
   "name": "python",
   "nbconvert_exporter": "python",
   "pygments_lexer": "ipython3",
   "version": "3.6.5"
  },
  "varInspector": {
   "cols": {
    "lenName": 16,
    "lenType": 16,
    "lenVar": 40
   },
   "kernels_config": {
    "python": {
     "delete_cmd_postfix": "",
     "delete_cmd_prefix": "del ",
     "library": "var_list.py",
     "varRefreshCmd": "print(var_dic_list())"
    },
    "r": {
     "delete_cmd_postfix": ") ",
     "delete_cmd_prefix": "rm(",
     "library": "var_list.r",
     "varRefreshCmd": "cat(var_dic_list()) "
    }
   },
   "types_to_exclude": [
    "module",
    "function",
    "builtin_function_or_method",
    "instance",
    "_Feature"
   ],
   "window_display": false
  }
 },
 "nbformat": 4,
 "nbformat_minor": 2
}
