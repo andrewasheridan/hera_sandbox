{
 "cells": [
  {
   "cell_type": "markdown",
   "metadata": {},
   "source": [
    "# Author Network Notes\n",
    "`authors-notes.ipynb`"
   ]
  },
  {
   "cell_type": "markdown",
   "metadata": {},
   "source": [
    "> The networks in the `authors` directory are based on the **Teak** network from the `ship-shape` directory.\n",
    "> **Teak** : ship-shape/Teak.ipynb : \n",
    ">\n",
    ">\n",
    "> - The graph layout is the same as **Teak**\n",
    "> - The `author` networks begin as the final trained model of **Teak** : `logs/221754/trained_model.ckpt-999`"
   ]
  },
  {
   "cell_type": "markdown",
   "metadata": {},
   "source": [
    "## Asimov\n",
    "\n",
    "Source model       : **Teak** : `logs/221754/trained_model.ckpt-999`\n",
    "\n",
    "Training data      : `data/wrapped_5000_centi_gaussian_noise_D.bz2`\n",
    "\n",
    "Testing percentage :  10%\n",
    "\n",
    "Number of batches  : 500\n",
    "\n",
    "Entries per patch  :   9\n",
    "\n",
    "Testing cost       :   0.0000424702 @ 449 epochs\n",
    "\n",
    "Log number         : 700462"
   ]
  },
  {
   "cell_type": "markdown",
   "metadata": {},
   "source": [
    "## Baxter\n",
    "\n",
    "Source model       : **Asimov** : `700462/trained_model.ckpt-449`\n",
    "\n",
    "Training data      : `data/wrapped_10000_moderate_gaussian_noise_D.bz2`\n",
    "\n",
    "Testing percentage :  10%\n",
    "\n",
    "Number of batches  : 500\n",
    "\n",
    "Entries per patch  :   9\n",
    "\n",
    "Testing cost       :   0.0000170675 @ 499 epochs\n",
    "\n",
    "Log number         : 973386"
   ]
  },
  {
   "cell_type": "markdown",
   "metadata": {},
   "source": [
    "## Clarke\n",
    "\n",
    "Source model       : **Baxter** : `973386/trained_model.ckpt-499`\n",
    "\n",
    "Training data      : `data/wrapped_10000_moderate_gaussian_noise_all_entries_A.bz2`\n",
    "\n",
    "Testing percentage :  10%\n",
    "\n",
    "Number of batches  : 500\n",
    "\n",
    "Entries per patch  :   18\n",
    "\n",
    "Testing cost       :   0.0000992408 @ 199 epochs\n",
    "\n",
    "Log number         : 234239A"
   ]
  },
  {
   "cell_type": "markdown",
   "metadata": {},
   "source": [
    "## Dick\n",
    "\n",
    "Source model       : **Baxter** : `973386/trained_model.ckpt-499`\n",
    "\n",
    "Training data      : `data/wrapped_10000_moderate_gaussian_noise_all_entries_A.bz2`\n",
    "\n",
    "Testing percentage :  20%\n",
    "\n",
    "Number of batches  : 1000\n",
    "\n",
    "Entries per patch  :   8\n",
    "\n",
    "Testing cost       :   0.0000531822 @ Epoch 149\n",
    "\n",
    "Log number         : 215294, 215294A, 215294B"
   ]
  },
  {
   "cell_type": "markdown",
   "metadata": {},
   "source": [
    "## Evans\n",
    "\n",
    "Source model       : **Baxter** : `logs/973386/trained_model.ckpt-499'\n",
    "\n",
    "Training data      : `data/wrapped_10000_moderate_gaussian_noise_all_entries_A.bz2`\n",
    "\n",
    "Testing percentage :  10%\n",
    "\n",
    "Number of batches  : 500\n",
    "\n",
    "Entries per patch  :   18\n",
    "\n",
    "Testing cost       :   0.0000531822 @ Epoch 149\n",
    "\n",
    "Log number         : 686397, 686397A"
   ]
  },
  {
   "cell_type": "markdown",
   "metadata": {},
   "source": [
    "## Foster\n",
    "\n",
    "Source model       : **Evans** : `logs/686397A/trained_model.ckpt-899`\n",
    "\n",
    "Training data      : `data/wrapped_10000_moderate_gaussian_noise_medium_gaussian_noise_5050_A.bz2`\n",
    "\n",
    "Testing percentage :  10%\n",
    "\n",
    "Number of batches  : 500\n",
    "\n",
    "Entries per patch  :   18\n",
    "\n",
    "Testing cost       :   \n",
    "\n",
    "Log number         : 478065"
   ]
  },
  {
   "cell_type": "code",
   "execution_count": null,
   "metadata": {},
   "outputs": [],
   "source": []
  }
 ],
 "metadata": {
  "kernelspec": {
   "display_name": "Python 3",
   "language": "python",
   "name": "python3"
  },
  "language_info": {
   "codemirror_mode": {
    "name": "ipython",
    "version": 3
   },
   "file_extension": ".py",
   "mimetype": "text/x-python",
   "name": "python",
   "nbconvert_exporter": "python",
   "pygments_lexer": "ipython3",
   "version": "3.6.5"
  }
 },
 "nbformat": 4,
 "nbformat_minor": 2
}
