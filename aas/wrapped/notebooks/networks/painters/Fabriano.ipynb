{
 "cells": [
  {
   "cell_type": "markdown",
   "metadata": {},
   "source": [
    "# Fabriano\n",
    "\n",
    "\n",
    "**Fabriano** : Based on Eakins."
   ]
  },
  {
   "cell_type": "code",
   "execution_count": 1,
   "metadata": {},
   "outputs": [
    {
     "name": "stderr",
     "output_type": "stream",
     "text": [
      "/Users/andrew/anaconda3/lib/python3.6/site-packages/h5py/__init__.py:36: FutureWarning: Conversion of the second argument of issubdtype from `float` to `np.floating` is deprecated. In future, it will be treated as `np.float64 == np.dtype(float).type`.\n",
      "  from ._conv import register_converters as _register_converters\n"
     ]
    }
   ],
   "source": [
    "import tensorflow as tf\n",
    "import numpy as np, pandas as pd\n",
    "import matplotlib.pyplot as plt\n",
    "import time\n",
    "import sys\n",
    "import io\n",
    "\n",
    "from sklearn.model_selection import train_test_split\n",
    "\n",
    "from nn_helpers import *\n",
    "\n",
    "%config InlineBackend.figure_format = 'retina'\n",
    "darkness = True"
   ]
  },
  {
   "cell_type": "markdown",
   "metadata": {},
   "source": [
    "## Log number : 899574"
   ]
  },
  {
   "cell_type": "code",
   "execution_count": 2,
   "metadata": {},
   "outputs": [],
   "source": [
    "# log_random_serial_number = '{}'.format(np.random.randint(100000,999999))\n",
    "# print(log_random_serial_number)"
   ]
  },
  {
   "cell_type": "code",
   "execution_count": 3,
   "metadata": {},
   "outputs": [
    {
     "name": "stdout",
     "output_type": "stream",
     "text": [
      "../../../logs/899574\n"
     ]
    }
   ],
   "source": [
    "log_direc = log_dir('899574')\n",
    "print(log_direc)"
   ]
  },
  {
   "cell_type": "code",
   "execution_count": 4,
   "metadata": {},
   "outputs": [],
   "source": [
    "flags = tf.app.flags\n",
    "\n",
    "# flag 'f' prevents an error due to using flags in jupyter notebook\n",
    "#https://github.com/tensorflow/tensorflow/issues/17702#issuecomment-387335646\n",
    "flags.DEFINE_string('f', '', 'kernel')\n",
    "\n",
    "# Data parameters\n",
    "flags.DEFINE_float(\"testing_data_percentage\", 0.20,\"Percentage of the data to use for testing. (default: 0.10)\")\n",
    "flags.DEFINE_string('data_path', '../../../data/wrapped_20000_gaussian_spikes_100_medium_noise_rand_B.bz2', \"Data source for training and testing\")\n",
    "\n",
    "# training parameters\n",
    "flags.DEFINE_integer('num_epochs', 1000, \"Number of training epochs\")\n",
    "flags.DEFINE_integer('num_batches', 500, \"Number of batches per epoch\")\n",
    "flags.DEFINE_float('keep_prob', 0.50, \"Dropout probability\")\n",
    "flags.DEFINE_float('learning_rate', 0.00001, \"Learning rate\")\n",
    "\n",
    "# saving parameters\n",
    "flags.DEFINE_string('log_directory', log_direc, \"Log save directory\")\n",
    "flags.DEFINE_integer('image_save_interval', 5, \"Epoch to save images on.\")\n",
    "\n",
    "FLAGS = tf.flags.FLAGS"
   ]
  },
  {
   "cell_type": "code",
   "execution_count": 5,
   "metadata": {},
   "outputs": [],
   "source": [
    "data = load_data(FLAGS.data_path)"
   ]
  },
  {
   "cell_type": "code",
   "execution_count": 6,
   "metadata": {
    "ExecuteTime": {
     "end_time": "2018-06-01T22:45:23.303000Z",
     "start_time": "2018-06-01T22:45:22.833734Z"
    }
   },
   "outputs": [],
   "source": [
    "scaled_input, scaled_output, input_scaler, output_scaler = scale_data(data)\n",
    "X_train, X_test, y_train, y_test = train_test_split(scaled_input, scaled_output,\n",
    "                                                    test_size = FLAGS.testing_data_percentage,\n",
    "                                                    random_state = np.random.seed(int(time.time())))"
   ]
  },
  {
   "cell_type": "code",
   "execution_count": 7,
   "metadata": {
    "ExecuteTime": {
     "end_time": "2018-06-01T22:45:23.616103Z",
     "start_time": "2018-06-01T22:45:23.310640Z"
    }
   },
   "outputs": [],
   "source": [
    "number_of_inputs  = scaled_input.shape[1]\n",
    "number_of_outputs = scaled_output.shape[1]\n",
    "\n",
    "# these should probably become flags as well\n",
    "layer_1_nodes = 256\n",
    "layer_2_nodes = 128\n",
    "layer_3_nodes = 64"
   ]
  },
  {
   "cell_type": "code",
   "execution_count": 8,
   "metadata": {},
   "outputs": [],
   "source": [
    "tf.reset_default_graph()"
   ]
  },
  {
   "cell_type": "code",
   "execution_count": 9,
   "metadata": {},
   "outputs": [],
   "source": [
    "def gen_plot(predicted_values, actual_values):\n",
    "    \"\"\"Create a pyplot plot and save to buffer.\"\"\"\n",
    "    prediction_unscaled = output_scaler.inverse_transform(predicted_values)\n",
    "    actual_unscaled = output_scaler.inverse_transform(actual_values)\n",
    "\n",
    "    sorting_idx = np.argsort(actual_unscaled.T[0])\n",
    "        \n",
    "    fig, ax = plt.subplots(figsize = (5, 3), dpi = 144)\n",
    "\n",
    "    ax.plot(prediction_unscaled.T[0][sorting_idx], linestyle = 'none', marker = '.', markersize = 1, color = 'darkblue')\n",
    "    ax.plot(actual_unscaled.T[0][sorting_idx],     linestyle = 'none', marker = '.', markersize = 1, color = '#E50000', alpha = 0.50, )        \n",
    "#     ax.set_ylim(-200,200)\n",
    "    # ylims changed on run C\n",
    "    ax.set_ylim(-250,250)\n",
    "\n",
    "\n",
    "    buf = io.BytesIO()\n",
    "    fig.savefig(buf, format='png', dpi = 144)\n",
    "    plt.close(fig)\n",
    "    buf.seek(0)\n",
    "\n",
    "    return buf.getvalue()"
   ]
  },
  {
   "cell_type": "code",
   "execution_count": 10,
   "metadata": {},
   "outputs": [],
   "source": [
    "with tf.variable_scope('input_X'):\n",
    "    X  = tf.placeholder(tf.float32, shape = (None, number_of_inputs))\n",
    "    \n",
    "with tf.variable_scope('input_y'):\n",
    "    y  = tf.placeholder(tf.float32, shape = (None, 1))\n",
    "    \n",
    "with tf.variable_scope('keep'):\n",
    "    keep_prob = tf.placeholder(tf.float32)\n",
    "    \n",
    "with tf.variable_scope('layer_1'):\n",
    "\n",
    "    biases = tf.get_variable(name = \"biases1\",\n",
    "                             shape = [layer_1_nodes],\n",
    "                             initializer = tf.zeros_initializer())\n",
    "\n",
    "    weights = tf.get_variable(name = \"weights1\",\n",
    "                              shape  = [number_of_inputs, layer_1_nodes], \n",
    "                              initializer = tf.contrib.layers.xavier_initializer())\n",
    "\n",
    "\n",
    "    layer_1_output = tf.nn.leaky_relu(tf.matmul(X, weights) + biases)\n",
    "\n",
    "with tf.variable_scope('dropout_12'):\n",
    "    drop_out_12 = tf.nn.dropout(layer_1_output, keep_prob)     \n",
    "      \n",
    "with tf.variable_scope('layer_2'):\n",
    "\n",
    "    biases = tf.get_variable(name = \"biases2\",\n",
    "                             shape = [layer_2_nodes],\n",
    "                             initializer = tf.zeros_initializer())\n",
    "\n",
    "    weights = tf.get_variable(name = \"weights2\",\n",
    "                              shape  = [layer_1_nodes, layer_2_nodes],\n",
    "                         initializer = tf.contrib.layers.xavier_initializer())\n",
    "\n",
    "\n",
    "    layer_2_output = tf.nn.relu(tf.matmul(drop_out_12, weights) + biases)\n",
    "    \n",
    "with tf.variable_scope('layer_3'):\n",
    "\n",
    "    biases = tf.get_variable(name = \"biases2\",\n",
    "                             shape = [layer_3_nodes],\n",
    "                             initializer = tf.zeros_initializer())\n",
    "\n",
    "    weights = tf.get_variable(name = \"weights2\",\n",
    "                              shape  = [layer_2_nodes, layer_3_nodes],\n",
    "                         initializer = tf.contrib.layers.xavier_initializer())\n",
    "\n",
    "\n",
    "    layer_3_output = tf.nn.relu(tf.matmul(layer_2_output, weights) + biases)\n",
    "    \n",
    "with tf.variable_scope('output'):\n",
    "\n",
    "    biases = tf.get_variable(name = \"biases_out\",\n",
    "                             shape = [number_of_outputs],\n",
    "                             initializer = tf.zeros_initializer())\n",
    "\n",
    "    weights = tf.get_variable(name = \"weights_out\",\n",
    "                              shape  = [layer_3_nodes, number_of_outputs],\n",
    "                         initializer = tf.contrib.layers.xavier_initializer())\n",
    "\n",
    "\n",
    "    prediction = tf.nn.relu(tf.matmul(layer_3_output, weights) + biases)\n",
    "    \n",
    "with tf.variable_scope('cost'):\n",
    "\n",
    "    cost = tf.sqrt(tf.reduce_mean(tf.squared_difference(prediction, y)))\n",
    "\n",
    "with tf.variable_scope('train'):\n",
    "    optimizer = tf.train.AdamOptimizer(FLAGS.learning_rate, epsilon=1e-08).minimize(cost)\n",
    "\n",
    "with tf.variable_scope('image'):\n",
    "    image_buf  = tf.placeholder(tf.string, shape=[])\n",
    "    epoch_image = tf.expand_dims(tf.image.decode_png(image_buf, channels=4), 0)\n",
    "    \n",
    "with tf.variable_scope('logging'):\n",
    "    \n",
    "    tf.summary.image('prediction_vs_actual', epoch_image)\n",
    "    tf.summary.histogram('predictions', prediction)\n",
    "    tf.summary.scalar('current_cost', cost)\n",
    "    summary = tf.summary.merge_all()"
   ]
  },
  {
   "cell_type": "code",
   "execution_count": 11,
   "metadata": {},
   "outputs": [],
   "source": [
    "saver = tf.train.Saver()"
   ]
  },
  {
   "cell_type": "code",
   "execution_count": 12,
   "metadata": {},
   "outputs": [
    {
     "name": "stdout",
     "output_type": "stream",
     "text": [
      "INFO:tensorflow:Restoring parameters from ../../../logs/652719B/trained_model.ckpt-949\n",
      " epoch:  601 testing_cost: 0.0776392594"
     ]
    },
    {
     "ename": "KeyboardInterrupt",
     "evalue": "",
     "output_type": "error",
     "traceback": [
      "\u001b[0;31m---------------------------------------------------------------------------\u001b[0m",
      "\u001b[0;31mKeyboardInterrupt\u001b[0m                         Traceback (most recent call last)",
      "\u001b[0;32m<ipython-input-12-e6d0ea39335f>\u001b[0m in \u001b[0;36m<module>\u001b[0;34m()\u001b[0m\n\u001b[1;32m     19\u001b[0m \u001b[0;34m\u001b[0m\u001b[0m\n\u001b[1;32m     20\u001b[0m             session.run(optimizer,\n\u001b[0;32m---> 21\u001b[0;31m                         feed_dict = {X: X_train_batch, y: y_train_batch, keep_prob : 0.50})\n\u001b[0m\u001b[1;32m     22\u001b[0m \u001b[0;34m\u001b[0m\u001b[0m\n\u001b[1;32m     23\u001b[0m \u001b[0;31m#         if (epoch + 1) % FLAGS.image_save_interval == 0:\u001b[0m\u001b[0;34m\u001b[0m\u001b[0;34m\u001b[0m\u001b[0m\n",
      "\u001b[0;32m~/anaconda3/lib/python3.6/site-packages/tensorflow/python/client/session.py\u001b[0m in \u001b[0;36mrun\u001b[0;34m(self, fetches, feed_dict, options, run_metadata)\u001b[0m\n\u001b[1;32m    898\u001b[0m     \u001b[0;32mtry\u001b[0m\u001b[0;34m:\u001b[0m\u001b[0;34m\u001b[0m\u001b[0m\n\u001b[1;32m    899\u001b[0m       result = self._run(None, fetches, feed_dict, options_ptr,\n\u001b[0;32m--> 900\u001b[0;31m                          run_metadata_ptr)\n\u001b[0m\u001b[1;32m    901\u001b[0m       \u001b[0;32mif\u001b[0m \u001b[0mrun_metadata\u001b[0m\u001b[0;34m:\u001b[0m\u001b[0;34m\u001b[0m\u001b[0m\n\u001b[1;32m    902\u001b[0m         \u001b[0mproto_data\u001b[0m \u001b[0;34m=\u001b[0m \u001b[0mtf_session\u001b[0m\u001b[0;34m.\u001b[0m\u001b[0mTF_GetBuffer\u001b[0m\u001b[0;34m(\u001b[0m\u001b[0mrun_metadata_ptr\u001b[0m\u001b[0;34m)\u001b[0m\u001b[0;34m\u001b[0m\u001b[0m\n",
      "\u001b[0;32m~/anaconda3/lib/python3.6/site-packages/tensorflow/python/client/session.py\u001b[0m in \u001b[0;36m_run\u001b[0;34m(self, handle, fetches, feed_dict, options, run_metadata)\u001b[0m\n\u001b[1;32m   1133\u001b[0m     \u001b[0;32mif\u001b[0m \u001b[0mfinal_fetches\u001b[0m \u001b[0;32mor\u001b[0m \u001b[0mfinal_targets\u001b[0m \u001b[0;32mor\u001b[0m \u001b[0;34m(\u001b[0m\u001b[0mhandle\u001b[0m \u001b[0;32mand\u001b[0m \u001b[0mfeed_dict_tensor\u001b[0m\u001b[0;34m)\u001b[0m\u001b[0;34m:\u001b[0m\u001b[0;34m\u001b[0m\u001b[0m\n\u001b[1;32m   1134\u001b[0m       results = self._do_run(handle, final_targets, final_fetches,\n\u001b[0;32m-> 1135\u001b[0;31m                              feed_dict_tensor, options, run_metadata)\n\u001b[0m\u001b[1;32m   1136\u001b[0m     \u001b[0;32melse\u001b[0m\u001b[0;34m:\u001b[0m\u001b[0;34m\u001b[0m\u001b[0m\n\u001b[1;32m   1137\u001b[0m       \u001b[0mresults\u001b[0m \u001b[0;34m=\u001b[0m \u001b[0;34m[\u001b[0m\u001b[0;34m]\u001b[0m\u001b[0;34m\u001b[0m\u001b[0m\n",
      "\u001b[0;32m~/anaconda3/lib/python3.6/site-packages/tensorflow/python/client/session.py\u001b[0m in \u001b[0;36m_do_run\u001b[0;34m(self, handle, target_list, fetch_list, feed_dict, options, run_metadata)\u001b[0m\n\u001b[1;32m   1314\u001b[0m     \u001b[0;32mif\u001b[0m \u001b[0mhandle\u001b[0m \u001b[0;32mis\u001b[0m \u001b[0;32mNone\u001b[0m\u001b[0;34m:\u001b[0m\u001b[0;34m\u001b[0m\u001b[0m\n\u001b[1;32m   1315\u001b[0m       return self._do_call(_run_fn, feeds, fetches, targets, options,\n\u001b[0;32m-> 1316\u001b[0;31m                            run_metadata)\n\u001b[0m\u001b[1;32m   1317\u001b[0m     \u001b[0;32melse\u001b[0m\u001b[0;34m:\u001b[0m\u001b[0;34m\u001b[0m\u001b[0m\n\u001b[1;32m   1318\u001b[0m       \u001b[0;32mreturn\u001b[0m \u001b[0mself\u001b[0m\u001b[0;34m.\u001b[0m\u001b[0m_do_call\u001b[0m\u001b[0;34m(\u001b[0m\u001b[0m_prun_fn\u001b[0m\u001b[0;34m,\u001b[0m \u001b[0mhandle\u001b[0m\u001b[0;34m,\u001b[0m \u001b[0mfeeds\u001b[0m\u001b[0;34m,\u001b[0m \u001b[0mfetches\u001b[0m\u001b[0;34m)\u001b[0m\u001b[0;34m\u001b[0m\u001b[0m\n",
      "\u001b[0;32m~/anaconda3/lib/python3.6/site-packages/tensorflow/python/client/session.py\u001b[0m in \u001b[0;36m_do_call\u001b[0;34m(self, fn, *args)\u001b[0m\n\u001b[1;32m   1320\u001b[0m   \u001b[0;32mdef\u001b[0m \u001b[0m_do_call\u001b[0m\u001b[0;34m(\u001b[0m\u001b[0mself\u001b[0m\u001b[0;34m,\u001b[0m \u001b[0mfn\u001b[0m\u001b[0;34m,\u001b[0m \u001b[0;34m*\u001b[0m\u001b[0margs\u001b[0m\u001b[0;34m)\u001b[0m\u001b[0;34m:\u001b[0m\u001b[0;34m\u001b[0m\u001b[0m\n\u001b[1;32m   1321\u001b[0m     \u001b[0;32mtry\u001b[0m\u001b[0;34m:\u001b[0m\u001b[0;34m\u001b[0m\u001b[0m\n\u001b[0;32m-> 1322\u001b[0;31m       \u001b[0;32mreturn\u001b[0m \u001b[0mfn\u001b[0m\u001b[0;34m(\u001b[0m\u001b[0;34m*\u001b[0m\u001b[0margs\u001b[0m\u001b[0;34m)\u001b[0m\u001b[0;34m\u001b[0m\u001b[0m\n\u001b[0m\u001b[1;32m   1323\u001b[0m     \u001b[0;32mexcept\u001b[0m \u001b[0merrors\u001b[0m\u001b[0;34m.\u001b[0m\u001b[0mOpError\u001b[0m \u001b[0;32mas\u001b[0m \u001b[0me\u001b[0m\u001b[0;34m:\u001b[0m\u001b[0;34m\u001b[0m\u001b[0m\n\u001b[1;32m   1324\u001b[0m       \u001b[0mmessage\u001b[0m \u001b[0;34m=\u001b[0m \u001b[0mcompat\u001b[0m\u001b[0;34m.\u001b[0m\u001b[0mas_text\u001b[0m\u001b[0;34m(\u001b[0m\u001b[0me\u001b[0m\u001b[0;34m.\u001b[0m\u001b[0mmessage\u001b[0m\u001b[0;34m)\u001b[0m\u001b[0;34m\u001b[0m\u001b[0m\n",
      "\u001b[0;32m~/anaconda3/lib/python3.6/site-packages/tensorflow/python/client/session.py\u001b[0m in \u001b[0;36m_run_fn\u001b[0;34m(feed_dict, fetch_list, target_list, options, run_metadata)\u001b[0m\n\u001b[1;32m   1305\u001b[0m       \u001b[0mself\u001b[0m\u001b[0;34m.\u001b[0m\u001b[0m_extend_graph\u001b[0m\u001b[0;34m(\u001b[0m\u001b[0;34m)\u001b[0m\u001b[0;34m\u001b[0m\u001b[0m\n\u001b[1;32m   1306\u001b[0m       return self._call_tf_sessionrun(\n\u001b[0;32m-> 1307\u001b[0;31m           options, feed_dict, fetch_list, target_list, run_metadata)\n\u001b[0m\u001b[1;32m   1308\u001b[0m \u001b[0;34m\u001b[0m\u001b[0m\n\u001b[1;32m   1309\u001b[0m     \u001b[0;32mdef\u001b[0m \u001b[0m_prun_fn\u001b[0m\u001b[0;34m(\u001b[0m\u001b[0mhandle\u001b[0m\u001b[0;34m,\u001b[0m \u001b[0mfeed_dict\u001b[0m\u001b[0;34m,\u001b[0m \u001b[0mfetch_list\u001b[0m\u001b[0;34m)\u001b[0m\u001b[0;34m:\u001b[0m\u001b[0;34m\u001b[0m\u001b[0m\n",
      "\u001b[0;32m~/anaconda3/lib/python3.6/site-packages/tensorflow/python/client/session.py\u001b[0m in \u001b[0;36m_call_tf_sessionrun\u001b[0;34m(self, options, feed_dict, fetch_list, target_list, run_metadata)\u001b[0m\n\u001b[1;32m   1407\u001b[0m       return tf_session.TF_SessionRun_wrapper(\n\u001b[1;32m   1408\u001b[0m           \u001b[0mself\u001b[0m\u001b[0;34m.\u001b[0m\u001b[0m_session\u001b[0m\u001b[0;34m,\u001b[0m \u001b[0moptions\u001b[0m\u001b[0;34m,\u001b[0m \u001b[0mfeed_dict\u001b[0m\u001b[0;34m,\u001b[0m \u001b[0mfetch_list\u001b[0m\u001b[0;34m,\u001b[0m \u001b[0mtarget_list\u001b[0m\u001b[0;34m,\u001b[0m\u001b[0;34m\u001b[0m\u001b[0m\n\u001b[0;32m-> 1409\u001b[0;31m           run_metadata)\n\u001b[0m\u001b[1;32m   1410\u001b[0m     \u001b[0;32melse\u001b[0m\u001b[0;34m:\u001b[0m\u001b[0;34m\u001b[0m\u001b[0m\n\u001b[1;32m   1411\u001b[0m       \u001b[0;32mwith\u001b[0m \u001b[0merrors\u001b[0m\u001b[0;34m.\u001b[0m\u001b[0mraise_exception_on_not_ok_status\u001b[0m\u001b[0;34m(\u001b[0m\u001b[0;34m)\u001b[0m \u001b[0;32mas\u001b[0m \u001b[0mstatus\u001b[0m\u001b[0;34m:\u001b[0m\u001b[0;34m\u001b[0m\u001b[0m\n",
      "\u001b[0;31mKeyboardInterrupt\u001b[0m: "
     ]
    }
   ],
   "source": [
    "with tf.Session() as session:\n",
    "\n",
    "#     session.run(tf.global_variables_initializer())\n",
    "    saver.restore(session,'../../../logs/652719B/trained_model.ckpt-949')\n",
    "    training_writer = tf.summary.FileWriter(log_direc + '/training', session.graph)\n",
    "    testing_writer = tf.summary.FileWriter(log_direc + '/testing', session.graph)\n",
    "    model_save_location = log_direc + '/trained_model.ckpt'\n",
    "\n",
    "    \n",
    "    for epoch in range(FLAGS.num_epochs):\n",
    "        \n",
    "        split_permutation = np.random.permutation(X_train.shape[0])\n",
    "        X_train_batches = np.vsplit(X_train[split_permutation], FLAGS.num_batches)\n",
    "        y_train_batches = np.vsplit(y_train[split_permutation], FLAGS.num_batches)\n",
    "        \n",
    "        for i in range(FLAGS.num_batches):\n",
    "            X_train_batch = X_train_batches[i]\n",
    "            y_train_batch = y_train_batches[i]\n",
    "        \n",
    "            session.run(optimizer,\n",
    "                        feed_dict = {X: X_train_batch, y: y_train_batch, keep_prob : 0.50})\n",
    "\n",
    "#         if (epoch + 1) % FLAGS.image_save_interval == 0:\n",
    "            \n",
    "#             saver.save(session, model_save_location, epoch)\n",
    "        prediction_scaled_test = session.run(prediction, feed_dict = {X: X_train, keep_prob : 1.00})\n",
    "        image_buffer = gen_plot(prediction_scaled_test, y_train)\n",
    "#             print('xx')\n",
    "#             _ = session.run(epoch_image, feed_dict = {image_buf: image_buffer})\n",
    "            \n",
    "        training_feed = {X: X_train, y: y_train, keep_prob : 1.00,image_buf: image_buffer}\n",
    "        training_cost, training_summary = session.run([cost, summary], feed_dict = training_feed)\n",
    "\n",
    "        prediction_scaled_test = session.run(prediction, feed_dict = {X: X_test, keep_prob : 1.00})\n",
    "        image_buffer = gen_plot(prediction_scaled_test, y_test)\n",
    "        \n",
    "        testing_feed =  {X: X_test, y: y_test, keep_prob : 1.00,image_buf: image_buffer}\n",
    "        testing_cost, testing_summary = session.run([cost, summary],feed_dict = testing_feed)\n",
    "        \n",
    "        sys.stdout.write('\\r epoch: {:4.0f} testing_cost: {:2.10f}'.format(epoch, testing_cost))\n",
    "        \n",
    "        training_writer.add_summary(training_summary, epoch)\n",
    "        testing_writer.add_summary(testing_summary, epoch)\n",
    "        testing_writer.flush()\n",
    "        training_writer.flush()\n",
    "\n",
    "        if (epoch + 1) % 50 == 0:\n",
    "            \n",
    "            saver.save(session, model_save_location, epoch)\n",
    "\n",
    "\n",
    "\n",
    "            \n",
    "#             prediction_unscaled = output_scaler.inverse_transform(prediction_scaled)\n",
    "#             actual_unscaled = output_scaler.inverse_transform(y_test)\n",
    "            \n",
    "#             sorting_idx = np.argsort(actual_unscaled.T[0])\n",
    "#             fig, ax = plt.subplots(figsize = (8.5, 3), dpi = 100)\n",
    "            \n",
    "#             ax.plot(prediction_unscaled.T[0][sorting_idx], linestyle = 'none', marker = '.', markersize = 1, color = 'darkblue')\n",
    "#             ax.plot(actual_unscaled.T[0][sorting_idx],     linestyle = 'none', marker = '.', markersize = 1, color = '#E50000', alpha = 0.50, )\n",
    "#             plt.show()\n",
    "            \n",
    "    saver.save(session, model_save_location, epoch)"
   ]
  },
  {
   "cell_type": "code",
   "execution_count": null,
   "metadata": {},
   "outputs": [],
   "source": []
  }
 ],
 "metadata": {
  "kernelspec": {
   "display_name": "Python 3",
   "language": "python",
   "name": "python3"
  },
  "language_info": {
   "codemirror_mode": {
    "name": "ipython",
    "version": 3
   },
   "file_extension": ".py",
   "mimetype": "text/x-python",
   "name": "python",
   "nbconvert_exporter": "python",
   "pygments_lexer": "ipython3",
   "version": "3.6.5"
  }
 },
 "nbformat": 4,
 "nbformat_minor": 2
}
