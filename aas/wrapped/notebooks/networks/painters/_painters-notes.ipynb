{
 "cells": [
  {
   "cell_type": "markdown",
   "metadata": {},
   "source": [
    "# Painter Network Notes\n",
    "`painters-notes.ipynb`"
   ]
  },
  {
   "cell_type": "markdown",
   "metadata": {},
   "source": [
    "> The networks in the `authors` directory are based on the **Baxter** network from the `authors` directory.\n",
    "> **Teak** : authors/Baxter.ipynb \n",
    ">\n",
    ">\n",
    "> - The graph layout is the same as **Baxter**\n",
    "> - The `author` networks begin as the final trained model of **Baxter** : `logs/973386/trained_model.ckpt-499`\n",
    "\n",
    "> In the `painters` networks I will try to implement custom image summaries."
   ]
  },
  {
   "cell_type": "markdown",
   "metadata": {},
   "source": [
    "## Aach\n",
    "\n",
    "Source model       : **Baxter** : `logs/973386/trained_model.ckpt-499`\n",
    "\n",
    "Training data      : `../../data/wrapped_10000_medium_gaussian_noise_all_entries_B.bz2`\n",
    "\n",
    "Testing percentage :  20%\n",
    "\n",
    "Number of batches  : E:500, F:1000, G: 2000\n",
    "\n",
    "Entries per patch  :   \n",
    "\n",
    "Testing cost       :   \n",
    "\n",
    "Learning rate.     : 0.001\n",
    "\n",
    "Log number         : 251794 -> G\n",
    "\n",
    "Notes              : Initial run, testing very large number of batches."
   ]
  },
  {
   "cell_type": "markdown",
   "metadata": {},
   "source": [
    "## Baccarini\n",
    "\n",
    "Source model       : none (baxter design)\n",
    "\n",
    "Training data      : `../../data/wrapped_20000_gaussian_spikes_100_medium_noise_rand_A.bz2`\n",
    "\n",
    "Testing percentage :  20%\n",
    "\n",
    "Number of batches  : inital, A = 1000, B = 2000\n",
    "\n",
    "Learning rate.     : inital = 0.00001, A = 0.000001\n",
    "\n",
    "Log number         : 665082\n",
    "\n",
    "Notes              : \n",
    "initial = Does not learn.\n",
    "A = Asymtotes at 0.36,\n",
    "B = Twice as slow as A, worse performance."
   ]
  },
  {
   "cell_type": "markdown",
   "metadata": {},
   "source": [
    "## Cabanel\n",
    "\n",
    "Source model       : Baxter\n",
    "\n",
    "Training data      : `../../data/wrapped_20000_gaussian_spikes_100_medium_noise_rand_A.bz2`\n",
    "\n",
    "Testing percentage :  20%\n",
    "\n",
    "Number of batches  : initial 2000, A 1000\n",
    "\n",
    "Learning rate.     : inital = 0.00001, A = 0.000001\n",
    "\n",
    "Log number         : 665082\n",
    "\n",
    "Notes              : \n",
    "initial = Does not learn.\n",
    "A = Asymtotes at 0.36,\n",
    "B = Twice as slow as A, worse performance."
   ]
  },
  {
   "cell_type": "markdown",
   "metadata": {},
   "source": [
    "## Dahl\n",
    "\n",
    "Source model       : Baxter\n",
    "\n",
    "Training data      : `../../data/wrapped_20000_gaussian_spikes_100_medium_noise_rand_A.bz2`\n",
    "\n",
    "Testing percentage :  20%\n",
    "\n",
    "Number of batches  : initial 2000, A 1000\n",
    "\n",
    "Learning rate.     : inital = 0.00001, A = 0.000001\n",
    "\n",
    "Log number         : 665082\n",
    "\n",
    "Notes              : Changed cost function to be square root of old cost function."
   ]
  },
  {
   "cell_type": "code",
   "execution_count": null,
   "metadata": {},
   "outputs": [],
   "source": []
  }
 ],
 "metadata": {
  "kernelspec": {
   "display_name": "Python 3",
   "language": "python",
   "name": "python3"
  },
  "language_info": {
   "codemirror_mode": {
    "name": "ipython",
    "version": 3
   },
   "file_extension": ".py",
   "mimetype": "text/x-python",
   "name": "python",
   "nbconvert_exporter": "python",
   "pygments_lexer": "ipython3",
   "version": "3.6.5"
  }
 },
 "nbformat": 4,
 "nbformat_minor": 2
}
