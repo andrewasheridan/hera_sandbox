{
 "cells": [
  {
   "cell_type": "markdown",
   "metadata": {},
   "source": [
    "In general we are trying to solve an overdetermined system of equations, $\\text{A}\\bf{x} = \\bf{b}$.\n",
    "\n",
    " - Each row in the matrix $\\text{A}$ is derived from ratios of redundant visiblities, such that the elements of $\\text{A}$ are integers representing the antennas used in that ratio\n",
    "\n",
    " - the vector $\\bf{b}$ contains the sum of the antenna cable delays for that visibility ratio\n",
    "\n",
    " - the solution $\\bf{x}$ will provide the cable delay $\\tau$ for each antenna"
   ]
  },
  {
   "cell_type": "markdown",
   "metadata": {},
   "source": [
    "\\begin{equation}\n",
    "\\begin{bmatrix} \n",
    "1 & -2 & 1 & 0 & 0 & 0 & 0 & \\cdots& \\cdots\\\\ \n",
    "1 & -1 & -1 & 1 & 0 & 0 & 0 & \\cdots& \\cdots\\\\ \n",
    "\\vdots & \\vdots & \\vdots & \\vdots & \\vdots & \\vdots & \\vdots & \\ddots& \\cdots\\\\ \n",
    "\\vdots & \\vdots & \\vdots & \\vdots & \\vdots & \\vdots & \\vdots & \\vdots& \\ddots\\\\ \n",
    "\\end{bmatrix}\n",
    "\\begin{bmatrix} \n",
    "\\tau_1 \\\\ \\tau_2 \\\\ \\tau_3 \\\\ \\tau_4 \\\\ \\tau_5 \\\\ \\vdots \\\\ \\vdots \\\\ \\vdots\\\\\n",
    "\\end{bmatrix} =\n",
    "\\begin{bmatrix} \n",
    "134\\text{ns} \\\\ 78\\text{ns} \\\\ \\vdots \\\\ \\vdots \\\\ \\vdots \\\\ \\vdots \\\\ \\vdots \\\\ \\vdots\\\\\n",
    "\\end{bmatrix} \\rightarrow \\text{A}\\bf{x} = \\bf{b}\n",
    "\\end{equation}"
   ]
  },
  {
   "cell_type": "markdown",
   "metadata": {},
   "source": [
    "Each visibility ratio is proportional to a complex exponential\n",
    "\\begin{equation}\n",
    "\\frac{V_{i j}}{V_{k l}} \\propto \\exp{\\bigg(-2\\pi i \\cdot(\\tau_i - \\tau_j - \\tau_k + \\tau_l)\\bigg)}\n",
    "\\end{equation}"
   ]
  },
  {
   "cell_type": "markdown",
   "metadata": {},
   "source": [
    "Where in the example the first and second rows of $\\text{A}$ are made from these visibilities:\n",
    "\\begin{align}\n",
    "\\frac{V_{12}}{V_{23}} &\\leadsto 1\\tau_1 -2\\tau_2  + 1\\tau_3 \\rightarrow A_1\\\\\n",
    "\\frac{V_{12}}{V_{34}} &\\leadsto 1\\tau_1 -1\\tau_2  - 1\\tau_3 + 1\\tau_4 \\rightarrow A_2\\\\\n",
    "\\end{align} "
   ]
  },
  {
   "cell_type": "markdown",
   "metadata": {},
   "source": [
    "***\n"
   ]
  },
  {
   "cell_type": "code",
   "execution_count": 1,
   "metadata": {},
   "outputs": [],
   "source": [
    "import sys, os\n",
    "import random\n",
    "import numpy as np\n",
    "\n",
    "sys.path.insert(1, os.path.join(sys.path[0], '../../data_creation/'))\n",
    "import data_manipulation as dm\n",
    "\n",
    "import estdel"
   ]
  },
  {
   "cell_type": "markdown",
   "metadata": {},
   "source": [
    "Load (or generate) a list of redundant baselines and get their data"
   ]
  },
  {
   "cell_type": "code",
   "execution_count": 2,
   "metadata": {},
   "outputs": [],
   "source": [
    "red_bls, gains, uvd = dm.load_relevant_data('../../zen_data/zen.2458098.58037.xx.HH.uv',\n",
    "                                            '../../zen_data/zen.2458098.58037.xx.HH.uv.abs.calfits')"
   ]
  },
  {
   "cell_type": "code",
   "execution_count": 3,
   "metadata": {},
   "outputs": [],
   "source": [
    "_, _bl_dict = dm.get_or_gen_test_train_red_bls_dicts(red_bls, gains.keys(),\n",
    "                                                     training_load_path = '../../data/training_redundant_baselines_dict_80.npz',\n",
    "                                                     testing_load_path = '../../data/testing_redundant_baselines_dict_80.npz')\n",
    "_bl_data = dm.get_seps_data(_bl_dict, uvd)"
   ]
  },
  {
   "cell_type": "code",
   "execution_count": 4,
   "metadata": {},
   "outputs": [],
   "source": [
    "_bl_data = _bl_data\n",
    "_bl_data_c = {key : _bl_data[key].conjugate() for key in _bl_data.keys()}"
   ]
  },
  {
   "cell_type": "code",
   "execution_count": 5,
   "metadata": {},
   "outputs": [],
   "source": [
    "_gains = gains\n",
    "_gains_c = {key : _gains[key].conjugate() for key in _gains.keys()}"
   ]
  },
  {
   "cell_type": "markdown",
   "metadata": {},
   "source": [
    "***"
   ]
  },
  {
   "cell_type": "markdown",
   "metadata": {},
   "source": [
    "Get the unique antennas"
   ]
  },
  {
   "cell_type": "code",
   "execution_count": 6,
   "metadata": {},
   "outputs": [],
   "source": [
    "unique_ants = []\n",
    "for key in _bl_dict.keys():\n",
    "    if len(_bl_dict[key]) >= 2:\n",
    "        for sep in _bl_dict[key]:\n",
    "            for ant in sep:\n",
    "                if ant not in unique_ants:\n",
    "                    unique_ants.append(ant)"
   ]
  },
  {
   "cell_type": "code",
   "execution_count": 7,
   "metadata": {},
   "outputs": [],
   "source": [
    "unique_ants = sorted(unique_ants)"
   ]
  },
  {
   "cell_type": "markdown",
   "metadata": {},
   "source": [
    "Assign each antenna a random delay in the range of -100ns to 100ns"
   ]
  },
  {
   "cell_type": "code",
   "execution_count": 8,
   "metadata": {},
   "outputs": [],
   "source": [
    "generated_ant_delays = {ant : np.random.uniform(low = -0.0100, high = 0.0100) for ant in unique_ants}"
   ]
  },
  {
   "cell_type": "markdown",
   "metadata": {},
   "source": [
    "Generate a list of abstracted visibility ratios from redundant baselines ( pairs of redundant separations)"
   ]
  },
  {
   "cell_type": "code",
   "execution_count": 10,
   "metadata": {},
   "outputs": [],
   "source": [
    "num_V_ratios = 100\n",
    "list_o_sep_pairs = []\n",
    "\n",
    "for i in range(num_V_ratios):\n",
    "    \n",
    "    # Randomly select a redundant baseline\n",
    "    unique_baseline = random.sample(_bl_dict.keys(), 1)[0]\n",
    "    \n",
    "    while len(_bl_dict[unique_baseline]) < 2:\n",
    "        unique_baseline = random.sample(_bl_dict.keys(), 1)[0]\n",
    "\n",
    "    # randomly select two sepearations from that baseline\n",
    "    two_seps = [random.sample(_bl_dict[unique_baseline], 2)][0]\n",
    "    \n",
    "    list_o_sep_pairs.append(two_seps)"
   ]
  },
  {
   "cell_type": "markdown",
   "metadata": {},
   "source": [
    "***\n",
    "Construct Data"
   ]
  },
  {
   "cell_type": "code",
   "execution_count": 11,
   "metadata": {},
   "outputs": [],
   "source": [
    "def _flatness(seps):\n",
    "    \"\"\"Create a flatness from a given pair of seperations, their data & their gains.\"\"\"\n",
    "\n",
    "    a, b = seps[0][0], seps[0][1]\n",
    "    c, d = seps[1][0], seps[1][1]\n",
    "\n",
    "    return _bl_data[seps[0]]   * _gains_c[(a,'x')] * _gains[(b,'x')] * \\\n",
    "           _bl_data_c[seps[1]] * _gains[(c,'x')]   * _gains_c[(d,'x')]"
   ]
  },
  {
   "cell_type": "code",
   "execution_count": 12,
   "metadata": {},
   "outputs": [],
   "source": [
    "def get_target(two_seps, d):\n",
    "    \n",
    "    ants = flatten_list_o_tuples(two_seps)\n",
    "    \n",
    "    ratio_delay  = d[ants[0]]\n",
    "    ratio_delay -= d[ants[1]]\n",
    "    ratio_delay -= d[ants[2]]\n",
    "    ratio_delay += d[ants[3]]\n",
    "    \n",
    "    return ratio_delay"
   ]
  },
  {
   "cell_type": "code",
   "execution_count": 13,
   "metadata": {},
   "outputs": [],
   "source": [
    "inputs = []\n",
    "targets = []\n",
    "flatten_list_o_tuples = lambda x: np.array(list(sum(x, ())))\n",
    "\n",
    "nu = np.arange(1024)\n",
    "for i in range(num_V_ratios):\n",
    "    \n",
    "\n",
    "    two_seps = list_o_sep_pairs[i]       \n",
    "    true_delay = get_target(two_seps, generated_ant_delays)\n",
    "    v_ratio = _flatness(two_seps)*np.exp(-2j*np.pi*(nu*true_delay + np.random.uniform()))\n",
    "    \n",
    "    inputs.append(v_ratio)\n",
    " "
   ]
  },
  {
   "cell_type": "code",
   "execution_count": 14,
   "metadata": {},
   "outputs": [],
   "source": [
    "# delays in nanoseconds\n",
    "true_ant_delays = {ant : estdel._100MHz_1024_channels(generated_ant_delays[ant]) for ant in generated_ant_delays.keys()}"
   ]
  },
  {
   "cell_type": "code",
   "execution_count": 15,
   "metadata": {},
   "outputs": [
    {
     "name": "stdout",
     "output_type": "stream",
     "text": [
      "CPU times: user 2min 47s, sys: 38.8 s, total: 3min 26s\n",
      "Wall time: 1min 16s\n"
     ]
    }
   ],
   "source": [
    "%%time\n",
    "tester = estdel.Antenna_Delay_Solver(list_o_sep_pairs, inputs, conversion_fn='default',true_ant_delays=true_ant_delays)"
   ]
  },
  {
   "cell_type": "code",
   "execution_count": 16,
   "metadata": {},
   "outputs": [],
   "source": [
    "true_b = tester.true_b()"
   ]
  },
  {
   "cell_type": "code",
   "execution_count": 17,
   "metadata": {},
   "outputs": [],
   "source": [
    "pred_b = tester.v_ratio_row_predictions"
   ]
  },
  {
   "cell_type": "code",
   "execution_count": 18,
   "metadata": {},
   "outputs": [],
   "source": [
    "# http://maxwell.ucsc.edu/~drip/133/ch4.pdf\n",
    "red_chi2 = np.sum((pred_b - np.mean(pred_b))**2/np.std(pred_b)**2) / len(pred_b)"
   ]
  },
  {
   "cell_type": "code",
   "execution_count": 19,
   "metadata": {},
   "outputs": [
    {
     "data": {
      "text/plain": [
       "1.0"
      ]
     },
     "execution_count": 19,
     "metadata": {},
     "output_type": "execute_result"
    }
   ],
   "source": [
    "red_chi2"
   ]
  },
  {
   "cell_type": "code",
   "execution_count": 20,
   "metadata": {},
   "outputs": [],
   "source": [
    "import matplotlib.pyplot as plt"
   ]
  },
  {
   "cell_type": "code",
   "execution_count": 27,
   "metadata": {},
   "outputs": [
    {
     "data": {
      "text/plain": [
       "<matplotlib.collections.LineCollection at 0x1c82fa1fd0>"
      ]
     },
     "execution_count": 27,
     "metadata": {},
     "output_type": "execute_result"
    },
    {
     "data": {
      "image/png": "[encoded data removed]",
      "text/plain": [
       "<Figure size 1152x432 with 1 Axes>"
      ]
     },
     "metadata": {},
     "output_type": "display_data"
    }
   ],
   "source": [
    "fig, ax = plt.subplots(figsize = (8,3), dpi = 144)\n",
    "plt.vlines(range(len(pred_b)), 0, true_b- pred_b, lw = 0.5)"
   ]
  },
  {
   "cell_type": "code",
   "execution_count": 30,
   "metadata": {},
   "outputs": [
    {
     "data": {
      "image/png": "[encoded data removed]",
      "text/plain": [
       "<Figure size 1152x432 with 1 Axes>"
      ]
     },
     "metadata": {},
     "output_type": "display_data"
    }
   ],
   "source": [
    "fig, ax = plt.subplots(figsize = (8,3), dpi = 144)\n",
    "plt.hist(true_b- pred_b, bins = 100);"
   ]
  },
  {
   "cell_type": "code",
   "execution_count": 31,
   "metadata": {},
   "outputs": [
    {
     "data": {
      "text/plain": [
       "1.5329085642510658"
      ]
     },
     "execution_count": 31,
     "metadata": {},
     "output_type": "execute_result"
    }
   ],
   "source": [
    "np.std(np.abs(true_b- pred_b))"
   ]
  },
  {
   "cell_type": "code",
   "execution_count": null,
   "metadata": {},
   "outputs": [],
   "source": []
  }
 ],
 "metadata": {
  "kernelspec": {
   "display_name": "Python 2",
   "language": "python",
   "name": "python2"
  },
  "language_info": {
   "codemirror_mode": {
    "name": "ipython",
    "version": 2
   },
   "file_extension": ".py",
   "mimetype": "text/x-python",
   "name": "python",
   "nbconvert_exporter": "python",
   "pygments_lexer": "ipython2",
   "version": "2.7.15"
  }
 },
 "nbformat": 4,
 "nbformat_minor": 2
}
