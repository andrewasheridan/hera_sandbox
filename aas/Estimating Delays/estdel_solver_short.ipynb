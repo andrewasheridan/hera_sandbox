{
 "cells": [
  {
   "cell_type": "markdown",
   "metadata": {},
   "source": [
    "In general we are trying to solve an overdetermined system of equations, $\\text{A}\\bf{x} = \\bf{b}$.\n",
    "\n",
    " - Each row in the matrix $\\text{A}$ is derived from ratios of redundant visiblities, such that the elements of $\\text{A}$ are integers representing the antennas used in that ratio\n",
    "\n",
    " - the vector $\\bf{b}$ contains the sum of the antenna cable delays for that visibility ratio\n",
    "\n",
    " - the solution $\\bf{x}$ will provide the cable delay $\\tau$ for each antenna"
   ]
  },
  {
   "cell_type": "markdown",
   "metadata": {},
   "source": [
    "\\begin{equation}\n",
    "\\begin{bmatrix} \n",
    "1 & -2 & 1 & 0 & 0 & 0 & 0 & \\cdots& \\cdots\\\\ \n",
    "1 & -1 & -1 & 1 & 0 & 0 & 0 & \\cdots& \\cdots\\\\ \n",
    "\\vdots & \\vdots & \\vdots & \\vdots & \\vdots & \\vdots & \\vdots & \\ddots& \\cdots\\\\ \n",
    "\\vdots & \\vdots & \\vdots & \\vdots & \\vdots & \\vdots & \\vdots & \\vdots& \\ddots\\\\ \n",
    "\\end{bmatrix}\n",
    "\\begin{bmatrix} \n",
    "\\tau_1 \\\\ \\tau_2 \\\\ \\tau_3 \\\\ \\tau_4 \\\\ \\tau_5 \\\\ \\vdots \\\\ \\vdots \\\\ \\vdots\\\\\n",
    "\\end{bmatrix} =\n",
    "\\begin{bmatrix} \n",
    "134\\text{ns} \\\\ 78\\text{ns} \\\\ \\vdots \\\\ \\vdots \\\\ \\vdots \\\\ \\vdots \\\\ \\vdots \\\\ \\vdots\\\\\n",
    "\\end{bmatrix} \\rightarrow \\text{A}\\bf{x} = \\bf{b}\n",
    "\\end{equation}"
   ]
  },
  {
   "cell_type": "markdown",
   "metadata": {},
   "source": [
    "Each visibility ratio is proportional to a complex exponential\n",
    "\\begin{equation}\n",
    "\\frac{V_{i j}}{V_{k l}} \\propto \\exp{\\bigg(-2\\pi i \\cdot(\\tau_i - \\tau_j - \\tau_k + \\tau_l)\\bigg)}\n",
    "\\end{equation}"
   ]
  },
  {
   "cell_type": "markdown",
   "metadata": {},
   "source": [
    "Where in the example the first and second rows of $\\text{A}$ are made from these visibilities:\n",
    "\\begin{align}\n",
    "\\frac{V_{12}}{V_{23}} &\\leadsto 1\\tau_1 -2\\tau_2  + 1\\tau_3 \\rightarrow A_1\\\\\n",
    "\\frac{V_{12}}{V_{34}} &\\leadsto 1\\tau_1 -1\\tau_2  - 1\\tau_3 + 1\\tau_4 \\rightarrow A_2\\\\\n",
    "\\end{align} "
   ]
  },
  {
   "cell_type": "markdown",
   "metadata": {},
   "source": [
    "***\n"
   ]
  },
  {
   "cell_type": "code",
   "execution_count": 1,
   "metadata": {},
   "outputs": [],
   "source": [
    "import random\n",
    "import numpy as np\n",
    "\n",
    "import estdel\n",
    "\n",
    "from estdel.nn.data_creation import data_manipulation as dm"
   ]
  },
  {
   "cell_type": "markdown",
   "metadata": {},
   "source": [
    "Load (or generate) a list of redundant baselines and get their data"
   ]
  },
  {
   "cell_type": "code",
   "execution_count": 2,
   "metadata": {},
   "outputs": [],
   "source": [
    "red_bls, gains, uvd = dm.load_relevant_data('zen_data/zen.2458098.58037.xx.HH.uv',\n",
    "                                            'zen_data/zen.2458098.58037.xx.HH.uv.abs.calfits')"
   ]
  },
  {
   "cell_type": "code",
   "execution_count": 3,
   "metadata": {},
   "outputs": [],
   "source": [
    "_, _bl_dict = dm.get_or_gen_test_train_red_bls_dicts(red_bls, gains.keys(),\n",
    "                                                     training_load_path = 'data/training_redundant_baselines_dict_80.npz',\n",
    "                                                     testing_load_path = 'data/testing_redundant_baselines_dict_80.npz')\n",
    "_bl_data = dm.get_seps_data(_bl_dict, uvd)"
   ]
  },
  {
   "cell_type": "code",
   "execution_count": 4,
   "metadata": {},
   "outputs": [],
   "source": [
    "_bl_data = _bl_data\n",
    "_bl_data_c = {key : _bl_data[key].conjugate() for key in _bl_data.keys()}"
   ]
  },
  {
   "cell_type": "code",
   "execution_count": 5,
   "metadata": {},
   "outputs": [],
   "source": [
    "_gains = gains\n",
    "_gains_c = {key : _gains[key].conjugate() for key in _gains.keys()}"
   ]
  },
  {
   "cell_type": "markdown",
   "metadata": {},
   "source": [
    "***"
   ]
  },
  {
   "cell_type": "markdown",
   "metadata": {},
   "source": [
    "Get the unique antennas"
   ]
  },
  {
   "cell_type": "code",
   "execution_count": 85,
   "metadata": {},
   "outputs": [],
   "source": [
    "unique_ants = []\n",
    "for key in _bl_dict.keys():\n",
    "    if len(_bl_dict[key]) >= 2:\n",
    "        for sep in _bl_dict[key]:\n",
    "            for ant in sep:\n",
    "                if ant not in unique_ants:\n",
    "                    unique_ants.append(ant)"
   ]
  },
  {
   "cell_type": "code",
   "execution_count": 86,
   "metadata": {},
   "outputs": [],
   "source": [
    "unique_ants = sorted(unique_ants)"
   ]
  },
  {
   "cell_type": "markdown",
   "metadata": {},
   "source": [
    "Assign each antenna a random delay in the range of -100ns to 100ns"
   ]
  },
  {
   "cell_type": "code",
   "execution_count": 112,
   "metadata": {},
   "outputs": [],
   "source": [
    "generated_ant_delays = {ant : np.random.uniform(low = -0.0100, high = 0.0100) for ant in unique_ants}"
   ]
  },
  {
   "cell_type": "markdown",
   "metadata": {},
   "source": [
    "Generate a list of abstracted visibility ratios from redundant baselines ( pairs of redundant separations)"
   ]
  },
  {
   "cell_type": "code",
   "execution_count": 113,
   "metadata": {},
   "outputs": [],
   "source": [
    "num_V_ratios = 100\n",
    "list_o_sep_pairs = []\n",
    "\n",
    "for i in range(num_V_ratios):\n",
    "    \n",
    "    # Randomly select a redundant baseline\n",
    "    unique_baseline = random.sample(_bl_dict.keys(), 1)[0]\n",
    "    \n",
    "    while len(_bl_dict[unique_baseline]) < 2:\n",
    "        unique_baseline = random.sample(_bl_dict.keys(), 1)[0]\n",
    "\n",
    "    # randomly select two sepearations from that baseline\n",
    "    two_seps = [random.sample(_bl_dict[unique_baseline], 2)][0]\n",
    "    \n",
    "    list_o_sep_pairs.append(two_seps)"
   ]
  },
  {
   "cell_type": "markdown",
   "metadata": {},
   "source": [
    "***\n",
    "Construct Data"
   ]
  },
  {
   "cell_type": "code",
   "execution_count": 114,
   "metadata": {},
   "outputs": [],
   "source": [
    "def _flatness(seps):\n",
    "    \"\"\"Create a flatness from a given pair of seperations, their data & their gains.\"\"\"\n",
    "\n",
    "    a, b = seps[0][0], seps[0][1]\n",
    "    c, d = seps[1][0], seps[1][1]\n",
    "\n",
    "    return _bl_data[seps[0]]   * _gains_c[(a,'x')] * _gains[(b,'x')] * \\\n",
    "           _bl_data_c[seps[1]] * _gains[(c,'x')]   * _gains_c[(d,'x')]"
   ]
  },
  {
   "cell_type": "code",
   "execution_count": 115,
   "metadata": {},
   "outputs": [],
   "source": [
    "def get_target(two_seps, d):\n",
    "    \n",
    "    ants = flatten_list_o_tuples(two_seps)\n",
    "    \n",
    "    ratio_delay  = d[ants[0]]\n",
    "    ratio_delay -= d[ants[1]]\n",
    "    ratio_delay -= d[ants[2]]\n",
    "    ratio_delay += d[ants[3]]\n",
    "    \n",
    "    return ratio_delay"
   ]
  },
  {
   "cell_type": "code",
   "execution_count": 116,
   "metadata": {},
   "outputs": [],
   "source": [
    "inputs = []\n",
    "targets = []\n",
    "flatten_list_o_tuples = lambda x: np.array(list(sum(x, ())))\n",
    "\n",
    "nu = np.arange(1024)\n",
    "for i in range(num_V_ratios):\n",
    "    \n",
    "\n",
    "    two_seps = list_o_sep_pairs[i]       \n",
    "    true_delay = get_target(two_seps, generated_ant_delays)\n",
    "    v_ratio = _flatness(two_seps)*np.exp(-2j*np.pi*(nu*true_delay + np.random.uniform()))\n",
    "    \n",
    "    inputs.append(v_ratio)\n",
    " "
   ]
  },
  {
   "cell_type": "code",
   "execution_count": 117,
   "metadata": {},
   "outputs": [],
   "source": [
    "freqs = np.linspace(0.100,0.200,1024)"
   ]
  },
  {
   "cell_type": "code",
   "execution_count": 118,
   "metadata": {},
   "outputs": [],
   "source": [
    "channel_width_in_GHz = np.mean(np.diff(freqs))"
   ]
  },
  {
   "cell_type": "code",
   "execution_count": 119,
   "metadata": {},
   "outputs": [],
   "source": [
    "def scale_delays_to_ns(delays, channel_width_in_GHz = np.mean(np.diff(np.linspace(0.100,0.200,1024)))):\n",
    "    return delays / channel_width_in_GHz"
   ]
  },
  {
   "cell_type": "code",
   "execution_count": 120,
   "metadata": {},
   "outputs": [],
   "source": [
    "# delays in nanoseconds\n",
    "true_ant_delays = {ant :scale_delays_to_ns(generated_ant_delays[ant]) for ant in generated_ant_delays.keys()}"
   ]
  },
  {
   "cell_type": "code",
   "execution_count": 121,
   "metadata": {},
   "outputs": [],
   "source": [
    "tester = estdel.DelaySolver(list_o_sep_pairs, inputs, conversion_fn='default',true_ant_delays=true_ant_delays)"
   ]
  },
  {
   "cell_type": "code",
   "execution_count": 122,
   "metadata": {},
   "outputs": [],
   "source": [
    "true_b = tester.true_b()"
   ]
  },
  {
   "cell_type": "code",
   "execution_count": 123,
   "metadata": {},
   "outputs": [],
   "source": [
    "pred_b = tester.v_ratio_row_predictions"
   ]
  },
  {
   "cell_type": "code",
   "execution_count": 124,
   "metadata": {},
   "outputs": [],
   "source": [
    "# http://maxwell.ucsc.edu/~drip/133/ch4.pdf\n",
    "red_chi2 = np.sum((pred_b - np.mean(pred_b))**2/np.std(pred_b)**2) / len(pred_b)"
   ]
  },
  {
   "cell_type": "code",
   "execution_count": 125,
   "metadata": {},
   "outputs": [
    {
     "data": {
      "text/plain": [
       "0.9999999999999997"
      ]
     },
     "execution_count": 125,
     "metadata": {},
     "output_type": "execute_result"
    }
   ],
   "source": [
    "red_chi2"
   ]
  },
  {
   "cell_type": "code",
   "execution_count": 126,
   "metadata": {},
   "outputs": [],
   "source": [
    "import matplotlib.pyplot as plt"
   ]
  },
  {
   "cell_type": "code",
   "execution_count": 127,
   "metadata": {},
   "outputs": [
    {
     "data": {
      "text/plain": [
       "<matplotlib.collections.LineCollection at 0x1c1d21e490>"
      ]
     },
     "execution_count": 127,
     "metadata": {},
     "output_type": "execute_result"
    },
    {
     "data": {
      "image/png": "[encoded data removed]",
      "text/plain": [
       "<Figure size 1152x432 with 1 Axes>"
      ]
     },
     "metadata": {},
     "output_type": "display_data"
    }
   ],
   "source": [
    "fig, ax = plt.subplots(figsize = (8,3), dpi = 144)\n",
    "plt.vlines(range(len(pred_b)), 0, true_b- pred_b, lw = 0.5)"
   ]
  },
  {
   "cell_type": "code",
   "execution_count": 128,
   "metadata": {},
   "outputs": [
    {
     "data": {
      "image/png": "[encoded data removed]",
      "text/plain": [
       "<Figure size 1152x432 with 1 Axes>"
      ]
     },
     "metadata": {},
     "output_type": "display_data"
    }
   ],
   "source": [
    "fig, ax = plt.subplots(figsize = (8,3), dpi = 144)\n",
    "plt.hist(true_b- pred_b, bins = 100);"
   ]
  },
  {
   "cell_type": "code",
   "execution_count": 129,
   "metadata": {},
   "outputs": [
    {
     "data": {
      "text/plain": [
       "1.2278073677915466"
      ]
     },
     "execution_count": 129,
     "metadata": {},
     "output_type": "execute_result"
    }
   ],
   "source": [
    "np.std(np.abs(true_b- pred_b))"
   ]
  },
  {
   "cell_type": "code",
   "execution_count": 130,
   "metadata": {},
   "outputs": [],
   "source": [
    "A = tester.A"
   ]
  },
  {
   "cell_type": "code",
   "execution_count": 131,
   "metadata": {},
   "outputs": [],
   "source": [
    "x_prediction_eval = np.linalg.lstsq(A[:, tester.unique_ants], pred_b, rcond = None)"
   ]
  },
  {
   "cell_type": "code",
   "execution_count": 132,
   "metadata": {},
   "outputs": [],
   "source": [
    "x_prediction = x_prediction_eval[0]"
   ]
  },
  {
   "cell_type": "code",
   "execution_count": 133,
   "metadata": {},
   "outputs": [
    {
     "data": {
      "text/plain": [
       "array([ 47.35946556,  -3.33951262, 105.71282141, -21.21106886,\n",
       "       -77.56926292,  80.87047745,  44.83935161,  27.92760892,\n",
       "        22.732552  ,  15.67978496,  26.2057299 , -73.77743662,\n",
       "        45.82555238, -27.84669619, -58.54118706, -16.43791271,\n",
       "       -89.95886763, -16.43791271,  11.47748307,  90.82677107,\n",
       "       -49.16172234,  79.63999388, -60.51257885,  -5.58285967,\n",
       "        87.58825444, -77.08163734, -64.57029227, -56.21512702,\n",
       "       -74.13407834, -92.16233928, -47.50777164, -86.02585574,\n",
       "        84.47350736,  41.18740801,  45.8458003 , -82.53325799,\n",
       "        20.69914303, -32.64160199,  52.4498068 ,  40.08336086,\n",
       "       -63.02861618,  82.74575557,  29.41708207,  82.50069239,\n",
       "       -25.02552206,  35.21471502])"
      ]
     },
     "execution_count": 133,
     "metadata": {},
     "output_type": "execute_result"
    }
   ],
   "source": [
    "x_prediction"
   ]
  },
  {
   "cell_type": "code",
   "execution_count": 134,
   "metadata": {},
   "outputs": [
    {
     "data": {
      "text/plain": [
       "{1: 47.35946556269076,\n",
       " 11: -3.3395126169680225,\n",
       " 12: 105.71282140752507,\n",
       " 13: -21.21106886427649,\n",
       " 14: -77.56926292218085,\n",
       " 23: 80.87047745180328,\n",
       " 24: 44.83935160510693,\n",
       " 25: 27.927608920504227,\n",
       " 26: 22.732551996996328,\n",
       " 27: 15.679784956292139,\n",
       " 36: 26.205729899253967,\n",
       " 37: -73.77743662391693,\n",
       " 38: 45.8255523778843,\n",
       " 39: -27.846696194754216,\n",
       " 40: -58.541187057829845,\n",
       " 41: -16.437912709025255,\n",
       " 51: -89.95886763121459,\n",
       " 52: -16.43791270902531,\n",
       " 53: 11.47748307160846,\n",
       " 54: 90.82677106876721,\n",
       " 55: -49.161722336648005,\n",
       " 65: 79.63999387707821,\n",
       " 66: -60.51257884948984,\n",
       " 67: -5.582859673341218,\n",
       " 68: 87.58825444292765,\n",
       " 69: -77.08163734077728,\n",
       " 70: -64.570292269948,\n",
       " 71: -56.215127023157535,\n",
       " 82: -74.1340783362489,\n",
       " 83: -92.1623392824336,\n",
       " 84: -47.50777163509722,\n",
       " 86: -86.02585574124193,\n",
       " 87: 84.47350735781126,\n",
       " 88: 41.18740801252746,\n",
       " 120: 45.845800295898655,\n",
       " 121: -82.53325799406502,\n",
       " 122: 20.699143029986587,\n",
       " 123: -32.641601988339396,\n",
       " 124: 52.44980679835618,\n",
       " 137: 40.08336085595073,\n",
       " 138: -63.02861618219746,\n",
       " 139: 82.7457555747425,\n",
       " 140: 29.41708207470657,\n",
       " 141: 82.5006923914535,\n",
       " 142: -25.025522064678903,\n",
       " 143: 35.21471501698527}"
      ]
     },
     "execution_count": 134,
     "metadata": {},
     "output_type": "execute_result"
    }
   ],
   "source": [
    "predicted_antenna_delays = {tester.unique_ants[i]: x_prediction[i] for i in range(len(x_prediction))}\n",
    "predicted_antenna_delays"
   ]
  },
  {
   "cell_type": "code",
   "execution_count": 145,
   "metadata": {},
   "outputs": [
    {
     "name": "stdout",
     "output_type": "stream",
     "text": [
      "  1:  47.36,  39.33\n",
      " 11:  -3.34,   0.40\n",
      " 12: 105.71, 102.10\n",
      " 13: -21.21, -31.61\n",
      " 14: -77.57, -93.56\n",
      " 23:  80.87,  87.70\n",
      " 24:  44.84,  45.82\n",
      " 25:  27.93,  22.17\n",
      " 26:  22.73,  11.28\n",
      " 27:  15.68,  -3.52\n",
      " 36:  26.21,  39.13\n",
      " 37: -73.78, -66.73\n",
      " 38:  45.83,  46.60\n",
      " 39: -27.85, -35.06\n",
      " 40: -58.54, -70.49\n",
      " 41: -16.44, -15.79\n",
      " 51: -89.96, -76.04\n",
      " 52: -16.44, -31.11\n",
      " 53:  11.48,  10.71\n",
      " 54:  90.83,  83.35\n",
      " 55: -49.16, -63.48\n",
      " 65:  79.64,  99.29\n",
      " 66: -60.51, -44.36\n",
      " 67:  -5.58,   4.72\n",
      " 68:  87.59,  92.29\n",
      " 69: -77.08, -79.11\n",
      " 70: -64.57, -73.21\n",
      " 71: -56.22, -71.88\n",
      " 82: -74.13, -53.27\n",
      " 83: -92.16, -77.39\n",
      " 84: -47.51, -38.32\n",
      " 86: -86.03, -89.48\n",
      " 87:  84.47,  73.85\n",
      " 88:  41.19,  25.08\n",
      "120:  45.85,  59.97\n",
      "121: -82.53, -73.44\n",
      "122:  20.70,  21.72\n",
      "123: -32.64, -39.02\n",
      "124:  52.45,  40.26\n",
      "137:  40.08,  70.20\n",
      "138: -63.03, -39.42\n",
      "139:  82.75,  98.88\n",
      "140:  29.42,  40.46\n",
      "141:  82.50,  86.35\n",
      "142: -25.03, -26.81\n",
      "143:  35.21,  27.36\n"
     ]
    }
   ],
   "source": [
    "error = {}\n",
    "error_ls = []\n",
    "for key in sorted(predicted_antenna_delays.keys()):\n",
    "    print('{:3d}: {:6.2f}, {:6.2f}'.format(key,predicted_antenna_delays[key], scale_delays_to_ns(generated_ant_delays[key])))\n",
    "    error[key] = scale_delays_to_ns(generated_ant_delays[key]) - predicted_antenna_delays[key]\n",
    "    error_ls.append(error[key])"
   ]
  },
  {
   "cell_type": "code",
   "execution_count": 146,
   "metadata": {},
   "outputs": [
    {
     "data": {
      "text/plain": [
       "<matplotlib.collections.LineCollection at 0x1c7dfcaf90>"
      ]
     },
     "execution_count": 146,
     "metadata": {},
     "output_type": "execute_result"
    },
    {
     "data": {
      "image/png": "[encoded data removed]",
      "text/plain": [
       "<Figure size 432x288 with 1 Axes>"
      ]
     },
     "metadata": {},
     "output_type": "display_data"
    }
   ],
   "source": [
    "plt.vlines(range(len(error_ls)), 0, error_ls)"
   ]
  },
  {
   "cell_type": "code",
   "execution_count": null,
   "metadata": {},
   "outputs": [],
   "source": []
  }
 ],
 "metadata": {
  "kernelspec": {
   "display_name": "Python 2",
   "language": "python",
   "name": "python2"
  },
  "language_info": {
   "codemirror_mode": {
    "name": "ipython",
    "version": 2
   },
   "file_extension": ".py",
   "mimetype": "text/x-python",
   "name": "python",
   "nbconvert_exporter": "python",
   "pygments_lexer": "ipython2",
   "version": "2.7.15"
  }
 },
 "nbformat": 4,
 "nbformat_minor": 2
}
