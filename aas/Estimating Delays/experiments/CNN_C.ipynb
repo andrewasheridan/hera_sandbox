{
 "cells": [
  {
   "cell_type": "code",
   "execution_count": 1,
   "metadata": {},
   "outputs": [],
   "source": [
    "import sys, os\n",
    "sys.path.insert(1, os.path.join(sys.path[0], '../modules/'))\n",
    "sys.path.insert(1, os.path.join(sys.path[0], '../data_creation/'))\n",
    "sys.path.insert(1, os.path.join(sys.path[0], '../networks/'))\n",
    "sys.path.insert(1, os.path.join(sys.path[0], '../network_trainers/'))\n",
    "\n",
    "from Data_Creator_C import Data_Creator_C as Data_Creator\n",
    "from CNN_DS_BN_C import CNN_DS_BN_C\n",
    "from CNN_C_Trainer import CNN_C_Trainer\n",
    "\n",
    "from data_manipulation import *\n",
    "import tensorflow as tf"
   ]
  },
  {
   "cell_type": "code",
   "execution_count": 2,
   "metadata": {},
   "outputs": [],
   "source": [
    "red_bls, gains, uvd = load_relevant_data('../zen_data/zen.2458098.58037.xx.HH.uv','../zen_data/zen.2458098.58037.xx.HH.uv.abs.calfits')"
   ]
  },
  {
   "cell_type": "code",
   "execution_count": 3,
   "metadata": {},
   "outputs": [],
   "source": [
    "training_redundant_baselines_dict, testing_redundant_baselines_dict = get_or_gen_test_train_red_bls_dicts(red_bls, gains.keys())\n",
    "training_baselines_data = get_seps_data(training_redundant_baselines_dict, uvd)\n",
    "testing_baselines_data = get_seps_data(testing_redundant_baselines_dict, uvd)"
   ]
  },
  {
   "cell_type": "code",
   "execution_count": 16,
   "metadata": {},
   "outputs": [
    {
     "name": "stdout",
     "output_type": "stream",
     "text": [
      "{'adam_initial_learning_rate': 0.0001,\n",
      " 'log_dir': '../logs/',\n",
      " 'name': 'CNN_DS_BN_C_2_161_aug6h_j',\n",
      " 'num_classes': 161,\n",
      " 'num_downsamples': 3}\n"
     ]
    }
   ],
   "source": [
    "network = CNN_DS_BN_C('CNN_DS_BN_C_2_161_aug6h_j', 3, 161)\n",
    "network.print_params()"
   ]
  },
  {
   "cell_type": "code",
   "execution_count": 17,
   "metadata": {},
   "outputs": [
    {
     "name": "stdout",
     "output_type": "stream",
     "text": [
      "{'batch_size': 30,\n",
      " 'conv_keep_prob': 0.9,\n",
      " 'log_dir': '../logs/',\n",
      " 'metric_names': ['costs', 'accuracies'],\n",
      " 'model_save_interval': 10,\n",
      " 'name': 'CNN_DS_BN_C_2_161_aug6h_j',\n",
      " 'num_classes': 161,\n",
      " 'num_epochs': 500,\n",
      " 'pretrained_model_path': None,\n",
      " 'sample_keep_prob': 1,\n",
      " 'single_dataset': False}\n"
     ]
    }
   ],
   "source": [
    "trainer = CNN_C_Trainer(network,\n",
    "                        Data_Creator,\n",
    "                        161,\n",
    "                        num_epochs = 500,\n",
    "                        batch_size = 30,\n",
    "                        model_save_interval = 10,\n",
    "                        conv_keep_prob = 0.90,\n",
    "                        sample_keep_prob = 1,\n",
    "                        single_dataset = False)\n",
    "trainer.print_params()"
   ]
  },
  {
   "cell_type": "code",
   "execution_count": 18,
   "metadata": {},
   "outputs": [],
   "source": [
    "trainer.add_data((training_baselines_data, training_redundant_baselines_dict),\n",
    "                 (testing_baselines_data, testing_redundant_baselines_dict),\n",
    "                 gains,\n",
    "                 num_flatnesses = 50,\n",
    "                 precision = 0.00025,\n",
    "                 blur = 0.10)"
   ]
  },
  {
   "cell_type": "code",
   "execution_count": 19,
   "metadata": {},
   "outputs": [
    {
     "name": "stdout",
     "output_type": "stream",
     "text": [
      "saving metrics - saved"
     ]
    }
   ],
   "source": [
    "trainer.train()"
   ]
  },
  {
   "cell_type": "code",
   "execution_count": null,
   "metadata": {},
   "outputs": [],
   "source": []
  },
  {
   "cell_type": "code",
   "execution_count": 24,
   "metadata": {},
   "outputs": [
    {
     "name": "stdout",
     "output_type": "stream",
     "text": [
      "{'adam_initial_learning_rate': 0.0001,\n",
      " 'log_dir': '../logs/',\n",
      " 'name': 'CNN_DS_BN_C_2_161_aug6h_k',\n",
      " 'num_classes': 161,\n",
      " 'num_downsamples': 3}\n"
     ]
    }
   ],
   "source": [
    "network = CNN_DS_BN_C('CNN_DS_BN_C_2_161_aug6h_k', 3, 161)\n",
    "network.print_params()"
   ]
  },
  {
   "cell_type": "code",
   "execution_count": 25,
   "metadata": {},
   "outputs": [
    {
     "name": "stdout",
     "output_type": "stream",
     "text": [
      "{'batch_size': 30,\n",
      " 'conv_keep_prob': 0.9,\n",
      " 'log_dir': '../logs/',\n",
      " 'metric_names': ['costs', 'accuracies'],\n",
      " 'model_save_interval': 10,\n",
      " 'name': 'CNN_DS_BN_C_2_161_aug6h_k',\n",
      " 'num_classes': 161,\n",
      " 'num_epochs': 10,\n",
      " 'pretrained_model_path': '../logs/CNN_DS_BN_C_2_161_aug6h_j/trained_model.ckpt-500',\n",
      " 'sample_keep_prob': 1,\n",
      " 'single_dataset': False}\n"
     ]
    }
   ],
   "source": [
    "trainer = CNN_C_Trainer(network,\n",
    "                        Data_Creator,\n",
    "                        161,\n",
    "                        num_epochs = 10,\n",
    "                        batch_size = 30,\n",
    "                        model_save_interval = 10,\n",
    "                        conv_keep_prob = 0.90,\n",
    "                        sample_keep_prob = 1,\n",
    "                        single_dataset = False,\n",
    "                        pretrained_model_path = '../logs/CNN_DS_BN_C_2_161_aug6h_j/trained_model.ckpt-500')\n",
    "trainer.print_params()"
   ]
  },
  {
   "cell_type": "code",
   "execution_count": 26,
   "metadata": {},
   "outputs": [],
   "source": [
    "trainer.add_data((training_baselines_data, training_redundant_baselines_dict),\n",
    "                 (testing_baselines_data, testing_redundant_baselines_dict),\n",
    "                 gains,\n",
    "                 num_flatnesses = 50,\n",
    "                 precision = 0.00025,\n",
    "                 blur = 0.20)"
   ]
  },
  {
   "cell_type": "code",
   "execution_count": 27,
   "metadata": {},
   "outputs": [
    {
     "name": "stdout",
     "output_type": "stream",
     "text": [
      "network Ready - 1415085 trainable parametersINFO:tensorflow:Restoring parameters from ../logs/CNN_DS_BN_C_2_161_aug6h_j/trained_model.ckpt-500\n",
      "saving metrics - saved"
     ]
    }
   ],
   "source": [
    "trainer.train()"
   ]
  },
  {
   "cell_type": "code",
   "execution_count": null,
   "metadata": {},
   "outputs": [],
   "source": []
  }
 ],
 "metadata": {
  "kernelspec": {
   "display_name": "Python 2",
   "language": "python",
   "name": "python2"
  },
  "language_info": {
   "codemirror_mode": {
    "name": "ipython",
    "version": 2
   },
   "file_extension": ".py",
   "mimetype": "text/x-python",
   "name": "python",
   "nbconvert_exporter": "python",
   "pygments_lexer": "ipython2",
   "version": "2.7.15"
  }
 },
 "nbformat": 4,
 "nbformat_minor": 2
}
