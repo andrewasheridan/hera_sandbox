{
 "cells": [
  {
   "cell_type": "markdown",
   "metadata": {},
   "source": [
    " - Notebook for training of various convolutional regression models"
   ]
  },
  {
   "cell_type": "code",
   "execution_count": 1,
   "metadata": {},
   "outputs": [],
   "source": [
    "# # if running on a GPU machine, uncomment this cell and select a GPU by changing the CUDA_VISIBLE_DEVICES index\n",
    "# # in terminal to view active GPUs:\n",
    "# # watch -d -n 0.5 nvidia-smi\n",
    "\n",
    "# import os\n",
    "# os.environ[\"CUDA_DEVICE_ORDER\"]=\"PCI_BUS_ID\"\n",
    "# os.environ[\"CUDA_VISIBLE_DEVICES\"]=\"2\""
   ]
  },
  {
   "cell_type": "code",
   "execution_count": 2,
   "metadata": {},
   "outputs": [],
   "source": [
    "import sys, os\n",
    "sys.path.insert(1, os.path.join(sys.path[0], '../modules/'))\n",
    "sys.path.insert(1, os.path.join(sys.path[0], '../data_creation/'))\n",
    "sys.path.insert(1, os.path.join(sys.path[0], '../networks/'))\n",
    "sys.path.insert(1, os.path.join(sys.path[0], '../network_trainers/'))\n",
    "\n",
    "from CNN_R_Trainer import CNN_R_Trainer\n",
    "from CNN_DS_BN_R_Trainer import CNN_DS_BN_R_Trainer\n",
    "from Data_Creator_R import Data_Creator_R as Data_Creator\n",
    "from CNN_QP_BN_R import CNN_QP_BN_R\n",
    "from CNN_DS_BN_R import CNN_DS_BN_R\n",
    "\n",
    "from data_manipulation import *"
   ]
  },
  {
   "cell_type": "markdown",
   "metadata": {},
   "source": [
    "## Load & Setup Data"
   ]
  },
  {
   "cell_type": "code",
   "execution_count": 3,
   "metadata": {},
   "outputs": [],
   "source": [
    "# extract the redundant baselines and their gains and data from miriad and calfits files\n",
    "red_bls, gains, uvd = load_relevant_data('../zen_data/zen.2458098.58037.xx.HH.uv','../zen_data/zen.2458098.58037.xx.HH.uv.abs.calfits')"
   ]
  },
  {
   "cell_type": "code",
   "execution_count": 3,
   "metadata": {},
   "outputs": [],
   "source": [
    "# seperate trining and testing redundant baselines \n",
    "# if we have not already done this, load them from disk\n",
    "training_redundant_baselines_dict, testing_redundant_baselines_dict = get_or_gen_test_train_red_bls_dicts(red_bls, gains.keys())\n",
    "\n",
    "# seperate the visiblites\n",
    "training_baselines_data = get_seps_data(training_redundant_baselines_dict, uvd)\n",
    "testing_baselines_data = get_seps_data(testing_redundant_baselines_dict, uvd)"
   ]
  },
  {
   "cell_type": "code",
   "execution_count": 18,
   "metadata": {},
   "outputs": [],
   "source": [
    "CNN_DS_BN_R_H = CNN_DS_BN_R('CNN_DS_BN_R_H', 7, cost = 'MQE', adam_initial_learning_rate=1e-6)"
   ]
  },
  {
   "cell_type": "code",
   "execution_count": 19,
   "metadata": {},
   "outputs": [
    {
     "name": "stdout",
     "output_type": "stream",
     "text": [
      "{'accuracy_threshold': 0.00625,\n",
      " 'adam_initial_learning_rate': 1e-06,\n",
      " 'cost': 'MQE',\n",
      " 'gaussian_shift_scalar': 1e-05,\n",
      " 'log_dir': 'logs/',\n",
      " 'name': 'CNN_DS_BN_R_H',\n",
      " 'num_downsamples': 7}\n"
     ]
    }
   ],
   "source": [
    "CNN_DS_BN_R_H.print_params()"
   ]
  },
  {
   "cell_type": "code",
   "execution_count": 22,
   "metadata": {},
   "outputs": [],
   "source": [
    "trainer = CNN_DS_BN_R_Trainer(CNN_DS_BN_R_H, Data_Creator, batch_size=2, num_epochs=200)"
   ]
  },
  {
   "cell_type": "code",
   "execution_count": 23,
   "metadata": {},
   "outputs": [],
   "source": [
    "trainer.add_data((training_baselines_data, training_redundant_baselines_dict),\n",
    "                 (testing_baselines_data, testing_redundant_baselines_dict),\n",
    "                 gains,\n",
    "                 num_flatnesses = 2)"
   ]
  },
  {
   "cell_type": "code",
   "execution_count": 24,
   "metadata": {},
   "outputs": [
    {
     "name": "stdout",
     "output_type": "stream",
     "text": [
      "{'batch_size': 2,\n",
      " 'downsample_keep_prob': 0.9,\n",
      " 'log_dir': 'logs/',\n",
      " 'metric_names': ['MISGs', 'MSEs', 'MQEs', 'PWTs'],\n",
      " 'model_save_interval': 25,\n",
      " 'name': 'CNN_DS_BN_R_H',\n",
      " 'num_epochs': 200,\n",
      " 'pretrained_model_path': None,\n",
      " 'sample_keep_prob': 0.8}\n"
     ]
    }
   ],
   "source": [
    "trainer.print_params()"
   ]
  },
  {
   "cell_type": "code",
   "execution_count": 25,
   "metadata": {},
   "outputs": [
    {
     "name": "stdout",
     "output_type": "stream",
     "text": [
      "saving metrics - saved"
     ]
    }
   ],
   "source": [
    "trainer.train()"
   ]
  },
  {
   "cell_type": "code",
   "execution_count": null,
   "metadata": {},
   "outputs": [],
   "source": []
  }
 ],
 "metadata": {
  "kernelspec": {
   "display_name": "Python 2",
   "language": "python",
   "name": "python2"
  },
  "language_info": {
   "codemirror_mode": {
    "name": "ipython",
    "version": 2
   },
   "file_extension": ".py",
   "mimetype": "text/x-python",
   "name": "python",
   "nbconvert_exporter": "python",
   "pygments_lexer": "ipython2",
   "version": "2.7.15"
  }
 },
 "nbformat": 4,
 "nbformat_minor": 2
}
