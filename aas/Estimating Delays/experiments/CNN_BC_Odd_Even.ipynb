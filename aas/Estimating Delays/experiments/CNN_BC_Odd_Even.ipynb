{
 "cells": [
  {
   "cell_type": "code",
   "execution_count": 1,
   "metadata": {},
   "outputs": [],
   "source": [
    "import sys, os\n",
    "sys.path.insert(1, os.path.join(sys.path[0], '../modules/'))\n",
    "sys.path.insert(1, os.path.join(sys.path[0], '../data_creation/'))\n",
    "sys.path.insert(1, os.path.join(sys.path[0], '../networks/'))\n",
    "sys.path.insert(1, os.path.join(sys.path[0], '../network_trainers/'))\n",
    "\n",
    "from Data_Creator_BC_Odd_Even import Data_Creator_BC_Odd_Even as Data_Creator\n",
    "from CNN_DS_BN_BC import CNN_DS_BN_BC as Network\n",
    "from CNN_BC_Trainer import CNN_BC_Trainer as Trainer\n",
    "\n",
    "import data_manipulation as dm\n",
    "import tensorflow as tf"
   ]
  },
  {
   "cell_type": "code",
   "execution_count": 2,
   "metadata": {},
   "outputs": [],
   "source": [
    "red_bls, gains, uvd = dm.load_relevant_data('../zen_data/zen.2458098.58037.xx.HH.uv','../zen_data/zen.2458098.58037.xx.HH.uv.abs.calfits')"
   ]
  },
  {
   "cell_type": "code",
   "execution_count": 3,
   "metadata": {},
   "outputs": [],
   "source": [
    "training_redundant_baselines_dict, testing_redundant_baselines_dict = dm.get_or_gen_test_train_red_bls_dicts(red_bls, gains.keys())\n",
    "training_baselines_data = dm.get_seps_data(training_redundant_baselines_dict, uvd)\n",
    "testing_baselines_data = dm.get_seps_data(testing_redundant_baselines_dict, uvd)"
   ]
  },
  {
   "cell_type": "code",
   "execution_count": 12,
   "metadata": {},
   "outputs": [
    {
     "name": "stdout",
     "output_type": "stream",
     "text": [
      "{'adam_initial_learning_rate': 0.0001,\n",
      " 'log_dir': '../logs/',\n",
      " 'name': 'CNN_DS_BN_BC_Odd_Even_b',\n",
      " 'num_classes': 2,\n",
      " 'num_downsamples': 3}\n"
     ]
    }
   ],
   "source": [
    "network = Network('CNN_DS_BN_BC_Odd_Even_b', 3)\n",
    "network.print_params()"
   ]
  },
  {
   "cell_type": "code",
   "execution_count": 13,
   "metadata": {},
   "outputs": [
    {
     "name": "stdout",
     "output_type": "stream",
     "text": [
      "{'batch_size': 2,\n",
      " 'class_names': ['even', 'odd'],\n",
      " 'conv_keep_prob': 0.9,\n",
      " 'log_dir': '../logs/',\n",
      " 'metric_names': ['costs', 'accuracies'],\n",
      " 'model_save_interval': 5,\n",
      " 'name': 'CNN_DS_BN_BC_Odd_Even_b',\n",
      " 'num_epochs': 50,\n",
      " 'pretrained_model_path': None,\n",
      " 'sample_keep_prob': 1}\n"
     ]
    }
   ],
   "source": [
    "trainer = Trainer(network,\n",
    "                  Data_Creator,\n",
    "                  num_epochs = 50,\n",
    "                  batch_size = 2,\n",
    "                  model_save_interval = 5,\n",
    "                  conv_keep_prob = 0.90,\n",
    "                  sample_keep_prob = 1,\n",
    "                  class_names = ['even', 'odd'])\n",
    "trainer.print_params()"
   ]
  },
  {
   "cell_type": "code",
   "execution_count": 14,
   "metadata": {},
   "outputs": [],
   "source": [
    "trainer.add_data((training_baselines_data, training_redundant_baselines_dict),\n",
    "                 (testing_baselines_data, testing_redundant_baselines_dict),\n",
    "                 gains,\n",
    "                 num_flatnesses = 2)"
   ]
  },
  {
   "cell_type": "code",
   "execution_count": 15,
   "metadata": {},
   "outputs": [
    {
     "name": "stdout",
     "output_type": "stream",
     "text": [
      "saving metrics - saved"
     ]
    }
   ],
   "source": [
    "trainer.train()"
   ]
  },
  {
   "cell_type": "code",
   "execution_count": null,
   "metadata": {},
   "outputs": [],
   "source": []
  }
 ],
 "metadata": {
  "kernelspec": {
   "display_name": "Python 2",
   "language": "python",
   "name": "python2"
  },
  "language_info": {
   "codemirror_mode": {
    "name": "ipython",
    "version": 2
   },
   "file_extension": ".py",
   "mimetype": "text/x-python",
   "name": "python",
   "nbconvert_exporter": "python",
   "pygments_lexer": "ipython2",
   "version": "2.7.15"
  }
 },
 "nbformat": 4,
 "nbformat_minor": 2
}
