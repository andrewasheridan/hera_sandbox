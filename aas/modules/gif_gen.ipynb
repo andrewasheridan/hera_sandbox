{
 "cells": [
  {
   "cell_type": "code",
   "execution_count": 1,
   "metadata": {},
   "outputs": [],
   "source": [
    "import os\n",
    "import imageio\n",
    "import tensorflow as tf\n",
    "import glob\n",
    "\n",
    "def tfevents_image_to_gif(log_dir, gif_dir = 'gifs/', mode = 'testing', tag = 'logging/confusion_matrix/image/0', frame_duration = 0.1):\n",
    "\n",
    "    boldstr = lambda s: '\\x1b[1;03m' + s + '\\x1b[0m'\n",
    "    \n",
    "    if not os.path.exists(gif_dir):\n",
    "        os.makedirs(gif_dir)\n",
    "    \n",
    "    fn = glob.glob(log_dir  + mode + '/*')[0]\n",
    "\n",
    "    str_flag = 'tfevents.'\n",
    "    flag_idx = fn.find(str_flag)\n",
    "    temp_fn = fn[flag_idx + len(str_flag):]\n",
    "    fn_end = temp_fn.find('.')\n",
    "    gif_name = gif_dir + log_dir[:-1] + '_' + mode + '_' + temp_fn[:fn_end] + '.gif'\n",
    "    \n",
    "    if not os.path.exists(gif_name):\n",
    "#         os.makedirs(gif_dir)\n",
    "        image_str = tf.placeholder(tf.string)\n",
    "        im_tf = tf.image.decode_image(image_str)\n",
    "        images = []\n",
    "        sess = tf.Session()\n",
    "        with sess.as_default():\n",
    "            count = 0\n",
    "            for e in tf.train.summary_iterator(fn):\n",
    "                for v in e.summary.value:\n",
    "                    if v.tag == tag:\n",
    "                        im = im_tf.eval({image_str: v.image.encoded_image_string})\n",
    "                        images.append(im)\n",
    "                        count += 1  \n",
    "        imageio.mimsave(gif_name, images, duration=frame_duration, subrectangles = True) \n",
    "        print(gif_name + ' saved')\n",
    "\n",
    "\n",
    "    else:\n",
    "        print(gif_name + boldstr(' exists'))\n",
    "\n",
    "    \n",
    "    return None\n",
    "\n",
    "def gif_all_logs():\n",
    "    log_dirs = [s for s in glob.glob('*/') if s not in ['gifs/']]\n",
    "    for log_dir in log_dirs:\n",
    "        tfevents_image_to_gif(log_dir, mode = 'testing')\n",
    "        tfevents_image_to_gif(log_dir, mode = 'training')"
   ]
  },
  {
   "cell_type": "code",
   "execution_count": 5,
   "metadata": {},
   "outputs": [
    {
     "name": "stdout",
     "output_type": "stream",
     "text": [
      "gifs/positive_negative_classifier_cm_testing_1533151064.gif saved\n"
     ]
    }
   ],
   "source": [
    "tfevents_image_to_gif('positive_negative_classifier_cm/', mode = 'testing')"
   ]
  },
  {
   "cell_type": "code",
   "execution_count": 3,
   "metadata": {},
   "outputs": [],
   "source": [
    "#gif_all_logs()"
   ]
  },
  {
   "cell_type": "code",
   "execution_count": null,
   "metadata": {},
   "outputs": [],
   "source": []
  }
 ],
 "metadata": {
  "kernelspec": {
   "display_name": "Python 2",
   "language": "python",
   "name": "python2"
  },
  "language_info": {
   "codemirror_mode": {
    "name": "ipython",
    "version": 2
   },
   "file_extension": ".py",
   "mimetype": "text/x-python",
   "name": "python",
   "nbconvert_exporter": "python",
   "pygments_lexer": "ipython2",
   "version": "2.7.15"
  }
 },
 "nbformat": 4,
 "nbformat_minor": 2
}
