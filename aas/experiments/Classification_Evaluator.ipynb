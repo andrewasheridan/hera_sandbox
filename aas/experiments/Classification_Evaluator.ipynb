{
 "cells": [
  {
   "cell_type": "markdown",
   "metadata": {},
   "source": [
    "# Classfication Evaluation"
   ]
  },
  {
   "cell_type": "code",
   "execution_count": 1,
   "metadata": {},
   "outputs": [],
   "source": [
    "import matplotlib.pyplot as plt\n",
    "plt.style.use('dark background')"
   ]
  },
  {
   "cell_type": "code",
   "execution_count": 2,
   "metadata": {},
   "outputs": [],
   "source": [
    "import sys, os\n",
    "sys.path.insert(1, os.path.join(sys.path[0], '../modules/'))\n",
    "sys.path.insert(1, os.path.join(sys.path[0], '../data_creation/'))\n",
    "sys.path.insert(1, os.path.join(sys.path[0], '../networks/'))\n",
    "sys.path.insert(1, os.path.join(sys.path[0], '../network_trainers/'))\n",
    "\n",
    "from CNN_DS_BN_C import CNN_DS_BN_C\n",
    "from CNN_DS_BN_BC import CNN_DS_BN_BC\n",
    "from Data_Creator_C import Data_Creator_C\n",
    "from data_manipulation import *\n",
    "import tensorflow as tf"
   ]
  },
  {
   "cell_type": "code",
   "execution_count": 3,
   "metadata": {},
   "outputs": [],
   "source": [
    "red_bls, gains, uvd = load_relevant_data('../zen_data/zen.2458098.58037.xx.HH.uv','../zen_data/zen.2458098.58037.xx.HH.uv.abs.calfits')"
   ]
  },
  {
   "cell_type": "code",
   "execution_count": 4,
   "metadata": {},
   "outputs": [],
   "source": [
    "training_redundant_baselines_dict, testing_redundant_baselines_dict = get_or_gen_test_train_red_bls_dicts(red_bls, gains.keys())\n",
    "training_baselines_data = get_seps_data(training_redundant_baselines_dict, uvd)\n",
    "testing_baselines_data = get_seps_data(testing_redundant_baselines_dict, uvd)"
   ]
  },
  {
   "cell_type": "markdown",
   "metadata": {},
   "source": [
    "## Load in data"
   ]
  },
  {
   "cell_type": "code",
   "execution_count": 5,
   "metadata": {},
   "outputs": [],
   "source": [
    "def make_A_from_list_o_sep_pairs(list_o_sep_pairs, max_ant): \n",
    "    def get_A_row(two_seps, max_ant_idx):\n",
    "        \"\"\"Contructs a row of A by placing a 1 or -1 in the index corresponding to an antenna\"\"\"\n",
    "\n",
    "        a = np.array(two_seps).flatten()\n",
    "\n",
    "        b = np.zeros((a.size, max_ant_idx), dtype = int)\n",
    "\n",
    "        b[np.arange(a.size),a] = 1\n",
    "        b[1] *= -1\n",
    "        b[2] *= -1\n",
    "\n",
    "        return np.sum(b, axis = 0)\n",
    "    \n",
    "    max_ant_idx = max_ant + 1\n",
    "    A = []\n",
    "    for two_seps in list_o_sep_pairs:\n",
    "        \n",
    "        A.append(get_A_row(two_seps, max_ant_idx = max_ant_idx))\n",
    "\n",
    "    return np.asarray(A).reshape(-1, max_ant_idx)"
   ]
  },
  {
   "cell_type": "code",
   "execution_count": 50,
   "metadata": {},
   "outputs": [],
   "source": [
    "# Find all the different antennas for this data set and extract the max value\n",
    "unique_ants = []\n",
    "# for sep_pair in evaluation_seps:     \n",
    "for key in testing_redundant_baselines_dict.keys():\n",
    "    for sep in testing_redundant_baselines_dict[key]:\n",
    "        for ant in sep:\n",
    "            if ant not in unique_ants:\n",
    "                unique_ants.append(ant)\n",
    "max_ant = np.max(unique_ants)       "
   ]
  },
  {
   "cell_type": "code",
   "execution_count": 51,
   "metadata": {},
   "outputs": [],
   "source": [
    "generated_ant_delays = {ant : np.random.uniform(low = -0.010, high = 0.010) for ant in unique_ants}"
   ]
  },
  {
   "cell_type": "code",
   "execution_count": 52,
   "metadata": {},
   "outputs": [],
   "source": [
    "_bl_data = testing_baselines_data"
   ]
  },
  {
   "cell_type": "code",
   "execution_count": 53,
   "metadata": {},
   "outputs": [],
   "source": [
    "_bl_data_c = {key : _bl_data[key].conjugate() for key in _bl_data.keys()}"
   ]
  },
  {
   "cell_type": "code",
   "execution_count": 54,
   "metadata": {},
   "outputs": [],
   "source": [
    "_bl_dict = testing_redundant_baselines_dict"
   ]
  },
  {
   "cell_type": "code",
   "execution_count": 55,
   "metadata": {},
   "outputs": [],
   "source": [
    "_gains = gains"
   ]
  },
  {
   "cell_type": "code",
   "execution_count": 56,
   "metadata": {},
   "outputs": [],
   "source": [
    "_gains_c = {key : _gains[key].conjugate() for key in _gains.keys()}"
   ]
  },
  {
   "cell_type": "code",
   "execution_count": 57,
   "metadata": {},
   "outputs": [],
   "source": [
    "def _flatness(seps):\n",
    "    \"\"\"Create a flatness from a given pair of seperations, their data & their gains.\"\"\"\n",
    "\n",
    "    a, b = seps[0][0], seps[0][1]\n",
    "    c, d = seps[1][0], seps[1][1]\n",
    "\n",
    "    return _bl_data[seps[0]]   * _gains_c[(a,'x')] * _gains[(b,'x')] * \\\n",
    "           _bl_data_c[seps[1]] * _gains[(c,'x')]   * _gains_c[(d,'x')]"
   ]
  },
  {
   "cell_type": "code",
   "execution_count": 58,
   "metadata": {},
   "outputs": [],
   "source": [
    "def get_target(two_seps, d):\n",
    "    return np.sum([d[ant] for ant in np.array(two_seps).flatten()])"
   ]
  },
  {
   "cell_type": "code",
   "execution_count": 59,
   "metadata": {},
   "outputs": [],
   "source": [
    "num_V_ratios = 2500\n",
    "inputs = []\n",
    "targets = []\n",
    "evaluation_seps = []\n",
    "nu = np.arange(1024)\n",
    "for i in range(num_V_ratios):\n",
    "    unique_baseline = random.sample(_bl_dict.keys(), 1)[0]\n",
    "    two_seps = [random.sample(_bl_dict[unique_baseline], 2)][0]\n",
    "    evaluation_seps.append(two_seps)\n",
    "        \n",
    "    \n",
    "    target = get_target(two_seps, generated_ant_delays)\n",
    "    targets.append(target)\n",
    "\n",
    "    input_rect = np.angle( _flatness(two_seps)*np.exp(-2j*np.pi*(nu*target + np.random.uniform())))\n",
    "    \n",
    "    \n",
    "    inputs.append(input_rect[np.random.randint(60)])"
   ]
  },
  {
   "cell_type": "code",
   "execution_count": 122,
   "metadata": {},
   "outputs": [],
   "source": [
    "classes = np.arange(0,0.04 + 0.0005, 0.0005)"
   ]
  },
  {
   "cell_type": "code",
   "execution_count": 123,
   "metadata": {},
   "outputs": [],
   "source": [
    "rounded_targets = np.asarray([np.round(abs(np.round(d * 20,2)/20), 5) for d in targets]).reshape(-1)"
   ]
  },
  {
   "cell_type": "code",
   "execution_count": 124,
   "metadata": {},
   "outputs": [],
   "source": [
    "eye = np.eye(len(classes), dtype = int)\n",
    "classes_labels = {}\n",
    "for i, key in enumerate(classes):\n",
    "    classes_labels[np.round(key,5)] = eye[i].tolist()\n",
    "\n",
    "\n",
    "labels = [classes_labels[x] for x in rounded_targets]"
   ]
  },
  {
   "cell_type": "markdown",
   "metadata": {},
   "source": [
    "***\n",
    "\n",
    "## Evaluate magnitude of delay"
   ]
  },
  {
   "cell_type": "code",
   "execution_count": 126,
   "metadata": {},
   "outputs": [
    {
     "name": "stdout",
     "output_type": "stream",
     "text": [
      "params loaded{'adam_initial_learning_rate': 1e-05,\n",
      " 'log_dir': 'logs/',\n",
      " 'name': 'CNN_DS_BN_C_cm_evaluation_test',\n",
      " 'num_classes': 81,\n",
      " 'num_downsamples': 2}\n"
     ]
    }
   ],
   "source": [
    "network = CNN_DS_BN_C('CNN_DS_BN_C_cm_evaluation_test', 2, 81)\n",
    "network.load_params('../logs/CNN_DS_BN_C_cm_ONETIME4/params/CNN_DS_BN_C')\n",
    "network.print_params()"
   ]
  },
  {
   "cell_type": "code",
   "execution_count": 117,
   "metadata": {},
   "outputs": [
    {
     "name": "stdout",
     "output_type": "stream",
     "text": [
      "creating network graph .... ...... doneINFO:tensorflow:Restoring parameters from ../logs/CNN_DS_BN_C_cm_ONETIME4/trained_model.ckpt-17\n"
     ]
    }
   ],
   "source": [
    "network.create_graph()\n",
    "\n",
    "saver = tf.train.Saver()\n",
    "with tf.Session() as session:\n",
    "\n",
    "    saver.restore(session,'../logs/CNN_DS_BN_C_cm_ONETIME4/trained_model.ckpt-17')\n",
    "\n",
    "    eval_feed_dict = {network.X: np.array(inputs).reshape(-1,1,1024,1),\n",
    "                      network.sample_keep_prob : 1.,\n",
    "                      network.downsample_keep_prob : 1.,\n",
    "                      network.is_training : False}\n",
    "\n",
    "    predicted_labels = session.run([network.predictions], feed_dict = eval_feed_dict)"
   ]
  },
  {
   "cell_type": "markdown",
   "metadata": {},
   "source": [
    "***\n",
    "## Evaluate sign of delay"
   ]
  },
  {
   "cell_type": "code",
   "execution_count": 118,
   "metadata": {},
   "outputs": [
    {
     "name": "stdout",
     "output_type": "stream",
     "text": [
      "creating network graph .... ...... doneINFO:tensorflow:Restoring parameters from ../logs/positive_negative_classifier_cm_extended/trained_model.ckpt-1000\n"
     ]
    }
   ],
   "source": [
    "network_pos_neg = CNN_DS_BN_BC('positive_negative_classifier_cm_evaluation_test', 2)\n",
    "network_pos_neg.load_params('../logs/positive_negative_classifier_cm_extended/params/CNN_DS_BN_BC')\n",
    "\n",
    "network_pos_neg.create_graph()\n",
    "saver_pos_neg = tf.train.Saver()\n",
    "with tf.Session() as session_pos_neg:\n",
    "\n",
    "    saver_pos_neg.restore(session_pos_neg,'../logs/positive_negative_classifier_cm_extended/trained_model.ckpt-1000')\n",
    "    \n",
    "\n",
    "    eval_feed_dict_pos_neg = {network_pos_neg.X: np.array(inputs).reshape(-1,1,1024,1),\n",
    "                              network_pos_neg.sample_keep_prob : 1.,\n",
    "                              network_pos_neg.downsample_keep_prob : 1.,\n",
    "                              network_pos_neg.is_training : False}\n",
    "\n",
    "    predicted_labels_pos_neg = session_pos_neg.run([network_pos_neg.predictions], feed_dict = eval_feed_dict_pos_neg)"
   ]
  },
  {
   "cell_type": "markdown",
   "metadata": {},
   "source": [
    "### make a dictionary of : \n",
    " {true_delay, top_guesses, probabilites_for_each_guess, {sign_of_guess : probability_of_sign}}"
   ]
  },
  {
   "cell_type": "code",
   "execution_count": 127,
   "metadata": {},
   "outputs": [],
   "source": [
    "top_num = 3\n",
    "evaluations = []\n",
    "# predicted_label_top_picks =  []\n",
    "\n",
    "for i, a in enumerate(np.array(predicted_labels).reshape(-1,81)):\n",
    "    \n",
    "    ind = np.argpartition(a, -top_num)[-top_num:]\n",
    "    \n",
    "    picks = []\n",
    "    percs = []\n",
    "    for j in ind:\n",
    "        \n",
    "        picks.append(classes[j])#np.round(classes[j],5))\n",
    "        percs.append(np.round(a[j],5))\n",
    "        \n",
    "    idx = np.argsort(percs)\n",
    "    sPerc = predicted_labels_pos_neg[0][i]\n",
    "    s = {\"pos\" : np.round(np.max(sPerc),4)} if np.argmax(sPerc) == 0 else {\"neg\" : np.round(np.max(sPerc),4)}\n",
    "    \n",
    "#     predicted_label_top_picks.append((np.round(evaluation_targets[i],6), np.array(picks)[idx][::-1], np.array(percs)[idx][::-1], s))\n",
    "    \n",
    "    evaluation = {}\n",
    "    evaluation['true'] = targets[i]#np.round(evaluation_targets[i],6)\n",
    "    evaluation['top_3'] = [x for x in np.array(picks)[idx][::-1]]\n",
    "    evaluation['top_3_probs'] = [x for x in np.array(percs)[idx][::-1]]\n",
    "    evaluation['sign'] = s\n",
    "    evaluation['guess'] = evaluation['top_3'][0] if s.keys()[0] == 'pos' else -1*evaluation['top_3'][0]\n",
    "    evaluation['error'] = evaluation['true'] - evaluation['guess']\n",
    "\n",
    "    evaluations.append(evaluation)\n",
    "                                      "
   ]
  },
  {
   "cell_type": "markdown",
   "metadata": {},
   "source": [
    "### Print some to take a look"
   ]
  },
  {
   "cell_type": "code",
   "execution_count": 128,
   "metadata": {},
   "outputs": [],
   "source": [
    "from pprint import pprint as pPrint"
   ]
  },
  {
   "cell_type": "code",
   "execution_count": 129,
   "metadata": {},
   "outputs": [
    {
     "name": "stdout",
     "output_type": "stream",
     "text": [
      "{'error': 0.0032433921046460825,\n",
      " 'guess': -0.0015,\n",
      " 'sign': {'neg': 0.9789},\n",
      " 'top_3': [0.0015, 0.0, 0.003],\n",
      " 'top_3_probs': [1.0, 0.0, 0.0],\n",
      " 'true': 0.0017433921046460825}\n",
      "\n",
      "\n",
      "{'error': 4.592935923109637e-05,\n",
      " 'guess': -0.0055,\n",
      " 'sign': {'neg': 0.9994},\n",
      " 'top_3': [0.0055, 0.005, 0.0],\n",
      " 'top_3_probs': [0.9994, 0.0006, 0.0],\n",
      " 'true': -0.005454070640768903}\n",
      "\n",
      "\n",
      "{'error': -0.013695287611776926,\n",
      " 'guess': -0.0,\n",
      " 'sign': {'neg': 1.0},\n",
      " 'top_3': [0.0, 0.013000000000000001, 0.0145],\n",
      " 'top_3_probs': [0.99999, 0.0, 0.0],\n",
      " 'true': -0.013695287611776926}\n",
      "\n",
      "\n",
      "{'error': 5.54793634300766e-05,\n",
      " 'guess': -0.0075,\n",
      " 'sign': {'neg': 1.0},\n",
      " 'top_3': [0.0075, 0.0, 0.008],\n",
      " 'top_3_probs': [1.0, 0.0, 0.0],\n",
      " 'true': -0.007444520636569923}\n",
      "\n",
      "\n",
      "{'error': -0.008751396490326855,\n",
      " 'guess': -0.0,\n",
      " 'sign': {'neg': 0.9998},\n",
      " 'top_3': [0.0, 0.018000000000000002, 0.008],\n",
      " 'top_3_probs': [0.99995, 4e-05, 0.0],\n",
      " 'true': -0.008751396490326855}\n",
      "\n",
      "\n"
     ]
    }
   ],
   "source": [
    "for x in evaluations[0:5]:\n",
    "    pPrint(x)\n",
    "    print('\\n')"
   ]
  },
  {
   "cell_type": "code",
   "execution_count": 130,
   "metadata": {},
   "outputs": [],
   "source": [
    "errors = [x['error'] for x in evaluations]\n",
    "best_guesses = [x['guess'] for x in evaluations]\n",
    "combined_prob = [x['top_3_probs'][0]*x['sign'].values()[0] for x in evaluations]"
   ]
  },
  {
   "cell_type": "code",
   "execution_count": 131,
   "metadata": {},
   "outputs": [
    {
     "name": "stdout",
     "output_type": "stream",
     "text": [
      "Out of a maximum score of 2500, this dataset scores 2279.62153968\n"
     ]
    }
   ],
   "source": [
    "print('Out of a maximum score of {}, this dataset scores {}'.format(len(evaluations), sum(combined_prob)))"
   ]
  },
  {
   "cell_type": "code",
   "execution_count": 132,
   "metadata": {},
   "outputs": [
    {
     "data": {
      "image/png": "[encoded data removed]",
      "text/plain": [
       "<Figure size 432x288 with 1 Axes>"
      ]
     },
     "metadata": {},
     "output_type": "display_data"
    },
    {
     "name": "stdout",
     "output_type": "stream",
     "text": [
      "std(error) = 0.00937193354312\n",
      "percent of errors less than 0.0005 (~5ns)= 0.7584\n"
     ]
    },
    {
     "data": {
      "image/png": "[encoded data removed]",
      "text/plain": [
       "<Figure size 432x288 with 1 Axes>"
      ]
     },
     "metadata": {},
     "output_type": "display_data"
    }
   ],
   "source": [
    "plt.plot(errors,\n",
    "         ls = 'none',\n",
    "         marker = 's', markersize = 1, alpha = 0.5)\n",
    "plt.show()\n",
    "print('std(error) = {}'.format(np.std(errors)))\n",
    "print('percent of errors less than 0.0005 (~5ns)= {}'.format(np.mean(np.asarray(errors) < 0.0005)))\n",
    "plt.xlabel('Sample number')\n",
    "plt.ylabel('delay')\n",
    "plt.plot(errors,\n",
    "         ls = 'none',\n",
    "         marker = 's', markersize = 1, alpha = 0.5)\n",
    "plt.ylim(-np.std(errors),np.std(errors))\n",
    "plt.xlabel('Sample number')\n",
    "plt.ylabel('delay')\n",
    "plt.show()"
   ]
  },
  {
   "cell_type": "code",
   "execution_count": 155,
   "metadata": {},
   "outputs": [
    {
     "data": {
      "image/png": "[encoded data removed]",
      "text/plain": [
       "<Figure size 432x288 with 1 Axes>"
      ]
     },
     "metadata": {},
     "output_type": "display_data"
    }
   ],
   "source": [
    "plt.plot(best_guesses, targets, ls = 'none', marker = 's', markersize = .1, alpha = 0.5);\n",
    "plt.xlim(-0.040, 0.040)\n",
    "plt.ylim(-0.040, 0.040)\n",
    "plt.xlabel('prediction')\n",
    "plt.ylabel('true');"
   ]
  },
  {
   "cell_type": "markdown",
   "metadata": {},
   "source": [
    "***"
   ]
  },
  {
   "cell_type": "markdown",
   "metadata": {},
   "source": [
    "## Assuming these results are ok, can we solve Ax = b and get realistic results?"
   ]
  },
  {
   "cell_type": "code",
   "execution_count": 134,
   "metadata": {},
   "outputs": [],
   "source": [
    "# Create A\n",
    "A = make_A_from_list_o_sep_pairs(evaluation_seps, max_ant )"
   ]
  },
  {
   "cell_type": "markdown",
   "metadata": {},
   "source": [
    "### take a look at A."
   ]
  },
  {
   "cell_type": "code",
   "execution_count": 135,
   "metadata": {},
   "outputs": [
    {
     "data": {
      "image/png": "[encoded data removed]",
      "text/plain": [
       "<Figure size 432x288 with 1 Axes>"
      ]
     },
     "metadata": {},
     "output_type": "display_data"
    }
   ],
   "source": [
    "plt.imshow(A, aspect = 'auto');"
   ]
  },
  {
   "cell_type": "code",
   "execution_count": 136,
   "metadata": {},
   "outputs": [],
   "source": [
    "# drop the empty columns ( the antennas not present)\n",
    "# dont do and  indexing  will be easier\n",
    "# A = A[:, unique_ants]"
   ]
  },
  {
   "cell_type": "code",
   "execution_count": 137,
   "metadata": {},
   "outputs": [],
   "source": [
    "# create b\n",
    "b = np.array(best_guesses)"
   ]
  },
  {
   "cell_type": "markdown",
   "metadata": {},
   "source": [
    "Solve Ax = b"
   ]
  },
  {
   "cell_type": "code",
   "execution_count": 138,
   "metadata": {},
   "outputs": [],
   "source": [
    "# solve\n",
    "x = np.linalg.lstsq(A, b, rcond=None)[0]"
   ]
  },
  {
   "cell_type": "code",
   "execution_count": 139,
   "metadata": {},
   "outputs": [],
   "source": [
    "# suppress scientific notation\n",
    "np.set_printoptions(suppress=True)"
   ]
  },
  {
   "cell_type": "code",
   "execution_count": 140,
   "metadata": {},
   "outputs": [
    {
     "data": {
      "text/plain": [
       "array([ 0.        , -0.00120301, -0.        ,  0.        ,  0.        ,\n",
       "        0.        , -0.        , -0.        ,  0.        ,  0.        ,\n",
       "        0.        , -0.00127093,  0.00033153,  0.00061513, -0.00002576,\n",
       "       -0.        ,  0.        ,  0.        , -0.        ,  0.        ,\n",
       "       -0.        , -0.        ,  0.        ,  0.00125134, -0.00120603,\n",
       "        0.00033374, -0.00008863, -0.00026242, -0.        , -0.        ,\n",
       "       -0.        , -0.        ,  0.        , -0.        ,  0.        ,\n",
       "       -0.        , -0.00038362,  0.00032389, -0.0016423 ,  0.00045111,\n",
       "       -0.00004055, -0.00174792,  0.        ,  0.        ,  0.        ,\n",
       "        0.        ,  0.        ,  0.        ,  0.        ,  0.        ,\n",
       "        0.        ,  0.00113658, -0.00058062,  0.0011392 ,  0.00018647,\n",
       "        0.00027709,  0.        ,  0.        ,  0.        ,  0.        ,\n",
       "        0.        ,  0.        ,  0.        ,  0.        ,  0.        ,\n",
       "        0.00038399, -0.00033593,  0.00070497,  0.00351882, -0.0010103 ,\n",
       "        0.00158828, -0.00031142,  0.        ,  0.        ,  0.        ,\n",
       "        0.        ,  0.        ,  0.        ,  0.        ,  0.        ,\n",
       "        0.        ,  0.        , -0.00138029,  0.0006675 , -0.00040596,\n",
       "        0.00528689,  0.0001391 , -0.0030841 , -0.00021118,  0.        ,\n",
       "        0.        ,  0.        ,  0.        ,  0.        ,  0.        ,\n",
       "        0.        ,  0.        ,  0.        ,  0.        ,  0.        ,\n",
       "        0.        ,  0.        ,  0.        ,  0.        ,  0.        ,\n",
       "        0.        ,  0.        ,  0.        ,  0.        ,  0.        ,\n",
       "        0.        ,  0.        ,  0.        ,  0.        ,  0.        ,\n",
       "        0.        ,  0.        ,  0.        ,  0.        ,  0.        ,\n",
       "       -0.00009325, -0.0007404 ,  0.00012986, -0.00008842,  0.00047673,\n",
       "        0.        ,  0.        ,  0.        ,  0.        ,  0.        ,\n",
       "        0.        ,  0.        ,  0.        ,  0.        ,  0.        ,\n",
       "        0.        ,  0.        , -0.00083021, -0.00049192, -0.00085755,\n",
       "       -0.00126461, -0.00037399,  0.00038009,  0.00060901])"
      ]
     },
     "execution_count": 140,
     "metadata": {},
     "output_type": "execute_result"
    }
   ],
   "source": [
    "x"
   ]
  },
  {
   "cell_type": "code",
   "execution_count": 141,
   "metadata": {},
   "outputs": [],
   "source": [
    "solution = {i : x[i] for i in range(len(x))}"
   ]
  },
  {
   "cell_type": "code",
   "execution_count": 142,
   "metadata": {},
   "outputs": [],
   "source": [
    "keys = sorted(generated_ant_delays.keys())\n",
    "sols = [solution[key] for key in keys]\n",
    "trus = [generated_ant_delays[key] for key in keys]\n",
    "errs = np.array(trus) - np.array(sols)"
   ]
  },
  {
   "cell_type": "code",
   "execution_count": 143,
   "metadata": {},
   "outputs": [
    {
     "name": "stdout",
     "output_type": "stream",
     "text": [
      "0.005077810792830222\n",
      "-0.0018710654398084055\n",
      "-0.002343855951541761\n"
     ]
    }
   ],
   "source": [
    "print(np.std(errs))\n",
    "print(np.mean(errs))\n",
    "print(np.median(errs))"
   ]
  },
  {
   "cell_type": "code",
   "execution_count": 144,
   "metadata": {},
   "outputs": [
    {
     "data": {
      "text/plain": [
       "[<matplotlib.lines.Line2D at 0x1cbc635890>]"
      ]
     },
     "execution_count": 144,
     "metadata": {},
     "output_type": "execute_result"
    },
    {
     "data": {
      "image/png": "[encoded data removed]",
      "text/plain": [
       "<Figure size 432x288 with 1 Axes>"
      ]
     },
     "metadata": {},
     "output_type": "display_data"
    }
   ],
   "source": [
    "plt.plot(np.arange(len(sols)), trus,ls = 'none', marker = 's')\n",
    "plt.plot(np.arange(len(sols)), sols,ls = 'none', marker = 's', c = 'r', alpha = 0.5)"
   ]
  },
  {
   "cell_type": "markdown",
   "metadata": {},
   "source": [
    "Should we weight AX = b? if so by what?"
   ]
  },
  {
   "cell_type": "markdown",
   "metadata": {},
   "source": [
    "***\n",
    "combined_prob as Weights 🤷🏻‍♂️"
   ]
  },
  {
   "cell_type": "markdown",
   "metadata": {},
   "source": [
    "Solve wAx = wb"
   ]
  },
  {
   "cell_type": "code",
   "execution_count": 145,
   "metadata": {},
   "outputs": [],
   "source": [
    "w = np.diag(1/(np.array(combined_prob)))"
   ]
  },
  {
   "cell_type": "code",
   "execution_count": 146,
   "metadata": {},
   "outputs": [],
   "source": [
    "wb = np.dot(w,b)"
   ]
  },
  {
   "cell_type": "code",
   "execution_count": 147,
   "metadata": {},
   "outputs": [],
   "source": [
    "wA = np.dot(w,A)"
   ]
  },
  {
   "cell_type": "code",
   "execution_count": 148,
   "metadata": {},
   "outputs": [],
   "source": [
    "wx = np.linalg.lstsq(wA, wb, rcond=None)[0]"
   ]
  },
  {
   "cell_type": "code",
   "execution_count": 149,
   "metadata": {},
   "outputs": [
    {
     "data": {
      "text/plain": [
       "array([ 0.        , -0.00148564,  0.        , -0.        ,  0.        ,\n",
       "        0.        ,  0.        ,  0.        , -0.        ,  0.        ,\n",
       "        0.        , -0.00027023,  0.00079359,  0.00013149,  0.00003685,\n",
       "        0.        , -0.        ,  0.        ,  0.        , -0.        ,\n",
       "        0.        ,  0.        ,  0.        ,  0.00187861, -0.00198795,\n",
       "        0.00042602, -0.0002407 , -0.00001199, -0.        , -0.        ,\n",
       "       -0.        , -0.        , -0.        ,  0.        , -0.        ,\n",
       "       -0.        , -0.00040668,  0.00051576, -0.00151146,  0.00031298,\n",
       "       -0.00036291, -0.00183954,  0.        ,  0.        ,  0.        ,\n",
       "        0.        ,  0.        ,  0.        ,  0.        ,  0.        ,\n",
       "        0.        ,  0.00100927, -0.00196279,  0.00135383, -0.00043824,\n",
       "        0.00061141,  0.        ,  0.        ,  0.        ,  0.        ,\n",
       "        0.        ,  0.        ,  0.        ,  0.        ,  0.        ,\n",
       "        0.000948  , -0.00068249,  0.00135162,  0.00355544, -0.00082785,\n",
       "        0.00177128, -0.00048333,  0.        ,  0.        ,  0.        ,\n",
       "        0.        ,  0.        ,  0.        ,  0.        ,  0.        ,\n",
       "        0.        ,  0.        , -0.00151415,  0.0002134 , -0.00035764,\n",
       "        0.00397251,  0.00049654, -0.0026435 ,  0.0001255 ,  0.        ,\n",
       "        0.        ,  0.        ,  0.        ,  0.        ,  0.        ,\n",
       "        0.        ,  0.        ,  0.        ,  0.        ,  0.        ,\n",
       "        0.        ,  0.        ,  0.        ,  0.        ,  0.        ,\n",
       "        0.        ,  0.        ,  0.        ,  0.        ,  0.        ,\n",
       "        0.        ,  0.        ,  0.        ,  0.        ,  0.        ,\n",
       "        0.        ,  0.        ,  0.        ,  0.        ,  0.        ,\n",
       "        0.00114575, -0.00102892,  0.00002153,  0.00029201,  0.00043396,\n",
       "        0.        ,  0.        ,  0.        ,  0.        ,  0.        ,\n",
       "        0.        ,  0.        ,  0.        ,  0.        ,  0.        ,\n",
       "        0.        ,  0.        , -0.00078426, -0.00056839, -0.00130148,\n",
       "       -0.00142451, -0.00020813,  0.0003652 ,  0.00058024])"
      ]
     },
     "execution_count": 149,
     "metadata": {},
     "output_type": "execute_result"
    }
   ],
   "source": [
    "wx"
   ]
  },
  {
   "cell_type": "code",
   "execution_count": 150,
   "metadata": {},
   "outputs": [],
   "source": [
    "solution = {i : wx[i] for i in range(len(wx))}"
   ]
  },
  {
   "cell_type": "code",
   "execution_count": 151,
   "metadata": {},
   "outputs": [],
   "source": [
    "keys = sorted(generated_ant_delays.keys())\n",
    "sols = [solution[key] for key in keys]\n",
    "trus = [generated_ant_delays[key] for key in keys]\n",
    "errs = np.array(trus) - np.array(sols)"
   ]
  },
  {
   "cell_type": "code",
   "execution_count": 152,
   "metadata": {},
   "outputs": [
    {
     "name": "stdout",
     "output_type": "stream",
     "text": [
      "0.005091943592451404\n",
      "-0.0018710654398084062\n",
      "-0.002348241614895073\n"
     ]
    }
   ],
   "source": [
    "print(np.std(errs))\n",
    "print(np.mean(errs))\n",
    "print(np.median(errs))"
   ]
  },
  {
   "cell_type": "code",
   "execution_count": 153,
   "metadata": {},
   "outputs": [
    {
     "data": {
      "text/plain": [
       "[<matplotlib.lines.Line2D at 0x1cbc7983d0>]"
      ]
     },
     "execution_count": 153,
     "metadata": {},
     "output_type": "execute_result"
    },
    {
     "data": {
      "image/png": "[encoded data removed]",
      "text/plain": [
       "<Figure size 432x288 with 1 Axes>"
      ]
     },
     "metadata": {},
     "output_type": "display_data"
    }
   ],
   "source": [
    "plt.plot(np.arange(len(sols)), trus,ls = 'none', marker = 's')\n",
    "plt.plot(np.arange(len(sols)), sols,ls = 'none', marker = 's', c = 'r', alpha = 0.5)"
   ]
  },
  {
   "cell_type": "code",
   "execution_count": null,
   "metadata": {},
   "outputs": [],
   "source": []
  },
  {
   "cell_type": "code",
   "execution_count": null,
   "metadata": {},
   "outputs": [],
   "source": []
  },
  {
   "cell_type": "code",
   "execution_count": null,
   "metadata": {},
   "outputs": [],
   "source": []
  },
  {
   "cell_type": "code",
   "execution_count": null,
   "metadata": {},
   "outputs": [],
   "source": [
    "``````````````````````````````````````"
   ]
  }
 ],
 "metadata": {
  "kernelspec": {
   "display_name": "Python 2",
   "language": "python",
   "name": "python2"
  },
  "language_info": {
   "codemirror_mode": {
    "name": "ipython",
    "version": 2
   },
   "file_extension": ".py",
   "mimetype": "text/x-python",
   "name": "python",
   "nbconvert_exporter": "python",
   "pygments_lexer": "ipython2",
   "version": "2.7.15"
  }
 },
 "nbformat": 4,
 "nbformat_minor": 2
}
