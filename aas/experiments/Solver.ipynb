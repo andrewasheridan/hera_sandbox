{
 "cells": [
  {
   "cell_type": "code",
   "execution_count": 1,
   "metadata": {},
   "outputs": [],
   "source": [
    "import sys, os\n",
    "sys.path.insert(1, os.path.join(sys.path[0], '../data_creation/'))\n",
    "\n",
    "from data_manipulation import *"
   ]
  },
  {
   "cell_type": "code",
   "execution_count": 2,
   "metadata": {},
   "outputs": [],
   "source": [
    "red_bls, gains, uvd = load_relevant_data('../zen_data/zen.2458098.58037.xx.HH.uv','../zen_data/zen.2458098.58037.xx.HH.uv.abs.calfits')"
   ]
  },
  {
   "cell_type": "code",
   "execution_count": 2,
   "metadata": {},
   "outputs": [],
   "source": [
    "training_redundant_baselines_dict, testing_redundant_baselines_dict = get_or_gen_test_train_red_bls_dicts(red_bls, gains.keys())\n",
    "training_baselines_data = get_seps_data(training_redundant_baselines_dict, uvd)\n",
    "testing_baselines_data = get_seps_data(testing_redundant_baselines_dict, uvd)"
   ]
  },
  {
   "cell_type": "code",
   "execution_count": 3,
   "metadata": {},
   "outputs": [],
   "source": [
    "def get_A_row(two_seps, max_ant_idx):\n",
    "\n",
    "    # how exactly does this work?\n",
    "    # what does sum do here\n",
    "    # https://stackoverflow.com/a/10636583\n",
    "    flatten_list_o_tuples = lambda x: np.array(list(sum(x, ())))\n",
    "\n",
    "\n",
    "    # https://stackoverflow.com/a/29831596\n",
    "    a = flatten_list_o_tuples(two_seps)\n",
    "    b = np.zeros((a.size, max_ant_idx), dtype = int)\n",
    "\n",
    "    b[np.arange(a.size),a] = 1\n",
    "    b[1] *= -1\n",
    "    b[2] *= -1\n",
    "\n",
    "    return np.sum(b, axis = 0)\n",
    "\n"
   ]
  },
  {
   "cell_type": "code",
   "execution_count": 4,
   "metadata": {},
   "outputs": [],
   "source": [
    "def make_A_from_list_o_sep_pairs(list_o_sep_pairs, max_ant_idx):\n",
    "    \n",
    "    A = []\n",
    "    for two_seps in list_o_sep_pairs:\n",
    "        \n",
    "        A.append(get_A_row(two_seps, max_ant_idx = max_ant_idx))\n",
    "\n",
    "    return np.asarray(A).reshape(-1, max_ant_idx)"
   ]
  },
  {
   "cell_type": "code",
   "execution_count": 5,
   "metadata": {},
   "outputs": [],
   "source": [
    "def make_A_from_list_o_A_rows(rows, max_ant_idx):\n",
    "    \n",
    "    A = []\n",
    "    \n",
    "    for row in rows:\n",
    "        A.append(row)\n",
    "    \n",
    "    return np.asarray(A).reshape(-1, row.shape[1])\n"
   ]
  },
  {
   "cell_type": "code",
   "execution_count": 6,
   "metadata": {},
   "outputs": [],
   "source": [
    "import itertools"
   ]
  },
  {
   "cell_type": "code",
   "execution_count": 7,
   "metadata": {},
   "outputs": [],
   "source": [
    "giant_list_o_sep_pairs = []\n",
    "for key in training_redundant_baselines_dict:\n",
    "    giant_list_o_sep_pairs.extend(itertools.combinations(training_redundant_baselines_dict[key], 2))"
   ]
  },
  {
   "cell_type": "code",
   "execution_count": 8,
   "metadata": {},
   "outputs": [
    {
     "data": {
      "text/plain": [
       "6618"
      ]
     },
     "execution_count": 8,
     "metadata": {},
     "output_type": "execute_result"
    }
   ],
   "source": [
    "len(giant_list_o_sep_pairs)"
   ]
  },
  {
   "cell_type": "code",
   "execution_count": 9,
   "metadata": {},
   "outputs": [
    {
     "data": {
      "text/plain": [
       "143"
      ]
     },
     "execution_count": 9,
     "metadata": {},
     "output_type": "execute_result"
    }
   ],
   "source": [
    "unique_ants = []\n",
    "for key in training_redundant_baselines_dict:\n",
    "    for sep in training_redundant_baselines_dict[key]:\n",
    "        for ant in sep:\n",
    "            if ant not in unique_ants:\n",
    "                unique_ants.append(ant)\n",
    "unique_ants = sorted(unique_ants)\n",
    "max_ant = max(unique_ants)\n",
    "max_ant"
   ]
  },
  {
   "cell_type": "code",
   "execution_count": 10,
   "metadata": {},
   "outputs": [],
   "source": [
    "A = make_A_from_list_o_sep_pairs(giant_list_o_sep_pairs, max_ant + 1) # account for ant 0"
   ]
  },
  {
   "cell_type": "code",
   "execution_count": 11,
   "metadata": {},
   "outputs": [],
   "source": [
    "A = A[:, unique_ants]"
   ]
  },
  {
   "cell_type": "code",
   "execution_count": 12,
   "metadata": {},
   "outputs": [
    {
     "data": {
      "text/plain": [
       "(6618, 47)"
      ]
     },
     "execution_count": 12,
     "metadata": {},
     "output_type": "execute_result"
    }
   ],
   "source": [
    "A.shape"
   ]
  },
  {
   "cell_type": "code",
   "execution_count": 13,
   "metadata": {},
   "outputs": [
    {
     "data": {
      "text/plain": [
       "<matplotlib.image.AxesImage at 0x10fa22e10>"
      ]
     },
     "execution_count": 13,
     "metadata": {},
     "output_type": "execute_result"
    },
    {
     "data": {
      "image/png": "[encoded data removed]",
      "text/plain": [
       "<Figure size 432x288 with 1 Axes>"
      ]
     },
     "metadata": {},
     "output_type": "display_data"
    }
   ],
   "source": [
    "import matplotlib.pyplot as plt\n",
    "plt.imshow(A, aspect = 'auto')"
   ]
  },
  {
   "cell_type": "code",
   "execution_count": 14,
   "metadata": {},
   "outputs": [
    {
     "data": {
      "text/plain": [
       "(6618, 1)"
      ]
     },
     "execution_count": 14,
     "metadata": {},
     "output_type": "execute_result"
    }
   ],
   "source": [
    "fake_b = np.random.uniform(low = -400, high = 400, size = (A.shape[0],1))\n",
    "fake_b.shape"
   ]
  },
  {
   "cell_type": "code",
   "execution_count": 15,
   "metadata": {},
   "outputs": [],
   "source": [
    "# w = np.identity(A.shape[1])*np.random.normal(size = (47,47)) # random weights\n",
    "w = np.identity(A.shape[1])*0.85 # random weights"
   ]
  },
  {
   "cell_type": "code",
   "execution_count": 16,
   "metadata": {},
   "outputs": [],
   "source": [
    "x = np.linalg.lstsq(np.dot(A,w), fake_b, rcond=None)[0]"
   ]
  },
  {
   "cell_type": "code",
   "execution_count": 17,
   "metadata": {},
   "outputs": [],
   "source": [
    "x_2 = np.linalg.lstsq(A, fake_b, rcond=None)[0]"
   ]
  },
  {
   "cell_type": "code",
   "execution_count": null,
   "metadata": {},
   "outputs": [],
   "source": []
  }
 ],
 "metadata": {
  "kernelspec": {
   "display_name": "Python 2",
   "language": "python",
   "name": "python2"
  },
  "language_info": {
   "codemirror_mode": {
    "name": "ipython",
    "version": 2
   },
   "file_extension": ".py",
   "mimetype": "text/x-python",
   "name": "python",
   "nbconvert_exporter": "python",
   "pygments_lexer": "ipython2",
   "version": "2.7.15"
  }
 },
 "nbformat": 4,
 "nbformat_minor": 2
}
