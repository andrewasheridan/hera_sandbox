{
 "cells": [
  {
   "cell_type": "markdown",
   "metadata": {},
   "source": [
    "In general we are trying to solve an overdetermined system of equations, $\\text{A}\\bf{x} = \\bf{b}$.\n",
    "\n",
    " - Each row in the matrix $\\text{A}$ is derived from ratios of redundant visiblities, such that the elements of $\\text{A}$ are integers representing the antennas used in that ratio\n",
    "\n",
    " - the vector $\\bf{b}$ contains the sum of the antenna cable delays for that visibility ratio\n",
    "\n",
    " - the solution $\\bf{x}$ will provide the cable delay $\\tau$ for each antenna"
   ]
  },
  {
   "cell_type": "markdown",
   "metadata": {},
   "source": [
    "\\begin{equation}\n",
    "\\begin{bmatrix} \n",
    "1 & -2 & 1 & 0 & 0 & 0 & 0 & \\cdots& \\cdots\\\\ \n",
    "1 & -1 & -1 & 1 & 0 & 0 & 0 & \\cdots& \\cdots\\\\ \n",
    "\\vdots & \\vdots & \\vdots & \\vdots & \\vdots & \\vdots & \\vdots & \\ddots& \\cdots\\\\ \n",
    "\\vdots & \\vdots & \\vdots & \\vdots & \\vdots & \\vdots & \\vdots & \\vdots& \\ddots\\\\ \n",
    "\\end{bmatrix}\n",
    "\\begin{bmatrix} \n",
    "\\tau_1 \\\\ \\tau_2 \\\\ \\tau_3 \\\\ \\tau_4 \\\\ \\tau_5 \\\\ \\vdots \\\\ \\vdots \\\\ \\vdots\\\\\n",
    "\\end{bmatrix} =\n",
    "\\begin{bmatrix} \n",
    "134\\text{ns} \\\\ 78\\text{ns} \\\\ \\vdots \\\\ \\vdots \\\\ \\vdots \\\\ \\vdots \\\\ \\vdots \\\\ \\vdots\\\\\n",
    "\\end{bmatrix} \\rightarrow \\text{A}\\bf{x} = \\bf{b}\n",
    "\\end{equation}"
   ]
  },
  {
   "cell_type": "markdown",
   "metadata": {},
   "source": [
    "Each visibility ratio is proportional to a complex exponential\n",
    "\\begin{equation}\n",
    "\\frac{V_{i j}}{V_{k l}} \\propto \\exp{\\bigg(-2\\pi i \\cdot(\\tau_i - \\tau_j - \\tau_k + \\tau_l)\\bigg)}\n",
    "\\end{equation}"
   ]
  },
  {
   "cell_type": "markdown",
   "metadata": {},
   "source": [
    "Where in the example the first and second rows of $\\text{A}$ are made from these visibilities:\n",
    "\\begin{align}\n",
    "\\frac{V_{12}}{V_{23}} &\\leadsto 1\\tau_1 -2\\tau_2  + 1\\tau_3 \\rightarrow A_1\\\\\n",
    "\\frac{V_{12}}{V_{34}} &\\leadsto 1\\tau_1 -1\\tau_2  - 1\\tau_3 + 1\\tau_4 \\rightarrow A_2\\\\\n",
    "\\end{align} "
   ]
  },
  {
   "cell_type": "markdown",
   "metadata": {},
   "source": [
    "***\n",
    "Lets load some redundant baselines up and see if we can get the right answer by providing a perfect vector $\\bf{b}$"
   ]
  },
  {
   "cell_type": "code",
   "execution_count": 1,
   "metadata": {},
   "outputs": [],
   "source": [
    "import sys, os\n",
    "sys.path.insert(1, os.path.join(sys.path[0], '../data_creation/'))\n",
    "import data_manipulation as dm"
   ]
  },
  {
   "cell_type": "code",
   "execution_count": 2,
   "metadata": {},
   "outputs": [],
   "source": [
    "red_bls = dm._loadnpz('../data/testing_redundant_baselines_dict_80.npz')[()]"
   ]
  },
  {
   "cell_type": "markdown",
   "metadata": {},
   "source": [
    "Find all the unique antennas for this data set"
   ]
  },
  {
   "cell_type": "code",
   "execution_count": 3,
   "metadata": {},
   "outputs": [],
   "source": [
    "unique_ants = []\n",
    "for key in red_bls.keys():\n",
    "    for sep in red_bls[key]:\n",
    "        for ant in sep:\n",
    "            if ant not in unique_ants:\n",
    "                unique_ants.append(ant)"
   ]
  },
  {
   "cell_type": "code",
   "execution_count": 4,
   "metadata": {},
   "outputs": [
    {
     "name": "stdout",
     "output_type": "stream",
     "text": [
      "[1, 88, 37, 142, 138, 87, 137, 25, 123, 36, 140, 23, 54, 82, 121, 12, 11, 141, 14, 86, 40, 122, 27, 69, 85, 24, 66, 53, 67, 38, 83, 51, 70, 84, 13, 52, 65, 26, 68, 39, 71, 139, 124, 143, 55, 120, 41]\n"
     ]
    }
   ],
   "source": [
    "print(unique_ants)"
   ]
  },
  {
   "cell_type": "markdown",
   "metadata": {},
   "source": [
    "Assign each antenna a random delay in the range of -100ns to 100ns"
   ]
  },
  {
   "cell_type": "code",
   "execution_count": 5,
   "metadata": {},
   "outputs": [],
   "source": [
    "import numpy as np\n",
    "generated_ant_delays = {ant : np.random.uniform(low = -100, high = 100) for ant in unique_ants}"
   ]
  },
  {
   "cell_type": "code",
   "execution_count": 6,
   "metadata": {},
   "outputs": [
    {
     "data": {
      "text/plain": [
       "{1: 62.665510808419384,\n",
       " 11: -13.351097520018925,\n",
       " 12: -1.3687426658619302,\n",
       " 13: -99.65723997754927,\n",
       " 14: 89.0871218371285,\n",
       " 23: -39.36521154941626,\n",
       " 24: -8.036995016469547,\n",
       " 25: 39.69146242087987,\n",
       " 26: -60.66377043823352,\n",
       " 27: -42.36046830380074,\n",
       " 36: -5.682914295763396,\n",
       " 37: -17.4175922069237,\n",
       " 38: -30.996340519003567,\n",
       " 39: -18.629805190527634,\n",
       " 40: 64.69550101598466,\n",
       " 41: 87.68282810476998,\n",
       " 51: 89.40839206265338,\n",
       " 52: 43.14031458070468,\n",
       " 53: 18.344321323435977,\n",
       " 54: -47.77201058843046,\n",
       " 55: 79.72386287304192,\n",
       " 65: -42.94907135137214,\n",
       " 66: 23.280581424966343,\n",
       " 67: 34.15794025471129,\n",
       " 68: -24.275162819510413,\n",
       " 69: -82.59098808856322,\n",
       " 70: -64.59296168301088,\n",
       " 71: 8.597924984236997,\n",
       " 82: -93.61647801052935,\n",
       " 83: 14.823957321323306,\n",
       " 84: 50.21009819904009,\n",
       " 85: -64.5012715268092,\n",
       " 86: -9.621114316211361,\n",
       " 87: -17.917926422739967,\n",
       " 88: -95.52399637416688,\n",
       " 120: 87.79312313058958,\n",
       " 121: -73.74146836802677,\n",
       " 122: -4.562366145307678,\n",
       " 123: 4.212119185366703,\n",
       " 124: 4.5492342537305035,\n",
       " 137: -88.34589980332896,\n",
       " 138: -30.234127024996454,\n",
       " 139: 16.58274587935891,\n",
       " 140: 1.096181274061749,\n",
       " 141: -79.12093012570374,\n",
       " 142: -44.9691799377117,\n",
       " 143: 61.19182592689242}"
      ]
     },
     "execution_count": 6,
     "metadata": {},
     "output_type": "execute_result"
    }
   ],
   "source": [
    "generated_ant_delays"
   ]
  },
  {
   "cell_type": "markdown",
   "metadata": {},
   "source": [
    "Generate a list of abstracted visibility ratios from redundant baselines"
   ]
  },
  {
   "cell_type": "code",
   "execution_count": 7,
   "metadata": {},
   "outputs": [],
   "source": [
    "import random\n",
    "num_V_ratios = 100000\n",
    "v_ratios = []\n",
    "for i in range(num_V_ratios):\n",
    "    \n",
    "    # Randomly select a redundant baseline\n",
    "    unique_baseline = random.sample(red_bls.keys(), 1)[0]\n",
    "    \n",
    "    # randomly select two sepearations from that baseline\n",
    "    two_seps = [random.sample(red_bls[unique_baseline], 2)][0]\n",
    "    \n",
    "    v_ratios.append(two_seps)"
   ]
  },
  {
   "cell_type": "code",
   "execution_count": 8,
   "metadata": {},
   "outputs": [
    {
     "data": {
      "text/plain": [
       "[[(139, 142), (84, 87)],\n",
       " [(23, 137), (26, 140)],\n",
       " [(13, 54), (39, 86)],\n",
       " [(36, 140), (25, 123)],\n",
       " [(11, 138), (12, 139)],\n",
       " [(27, 122), (25, 120)],\n",
       " [(83, 138), (26, 69)],\n",
       " [(1, 13), (123, 143)],\n",
       " [(23, 140), (11, 121)],\n",
       " [(39, 142), (36, 139)]]"
      ]
     },
     "execution_count": 8,
     "metadata": {},
     "output_type": "execute_result"
    }
   ],
   "source": [
    "v_ratios[:10]"
   ]
  },
  {
   "cell_type": "markdown",
   "metadata": {},
   "source": [
    "For one of these lets see what a row of A would look like"
   ]
  },
  {
   "cell_type": "code",
   "execution_count": 9,
   "metadata": {},
   "outputs": [
    {
     "name": "stdout",
     "output_type": "stream",
     "text": [
      "[(139, 142), (84, 87)]\n"
     ]
    },
    {
     "data": {
      "text/plain": [
       "array([ 0,  0,  0,  0,  0,  0,  0,  0,  0,  0,  0,  0,  0,  0,  0,  0,  0,\n",
       "        0,  0,  0,  0,  0,  0,  0,  0,  0,  0,  0,  0,  0,  0,  0,  0,  0,\n",
       "        0,  0,  0,  0,  0,  0,  0,  0,  0,  0,  0,  0,  0,  0,  0,  0,  0,\n",
       "        0,  0,  0,  0,  0,  0,  0,  0,  0,  0,  0,  0,  0,  0,  0,  0,  0,\n",
       "        0,  0,  0,  0,  0,  0,  0,  0,  0,  0,  0,  0,  0,  0,  0, -1,  1,\n",
       "        0,  0,  0,  0,  0,  0,  0,  0,  0,  0,  0,  0,  0,  0,  0,  0,  0,\n",
       "        0,  0,  0,  0,  0,  0,  0,  0,  0,  0,  0,  0,  0,  0,  0,  0,  0,\n",
       "        0,  0,  0,  0,  0,  0,  0,  0,  0,  0,  0,  0,  0,  0,  0,  0,  0,\n",
       "        0,  0,  0,  0,  0,  1, -1,  0])"
      ]
     },
     "execution_count": 9,
     "metadata": {},
     "output_type": "execute_result"
    }
   ],
   "source": [
    "print(v_ratios[0])\n",
    "flatten_list_o_tuples = lambda x: np.array(list(sum(x, ())))\n",
    "a = flatten_list_o_tuples(two_seps)\n",
    "b = np.zeros((a.size, np.max(unique_ants) + 1), dtype = int)\n",
    "\n",
    "b[np.arange(a.size),a] = 1\n",
    "b[1] *= -1\n",
    "b[2] *= -1\n",
    "\n",
    "b = np.sum(b, axis = 0)\n",
    "b"
   ]
  },
  {
   "cell_type": "markdown",
   "metadata": {},
   "source": [
    "You can see that the approporiate antennas values have been assigned."
   ]
  },
  {
   "cell_type": "markdown",
   "metadata": {},
   "source": [
    "Lets generate the full matrix A"
   ]
  },
  {
   "cell_type": "code",
   "execution_count": 10,
   "metadata": {},
   "outputs": [],
   "source": [
    "def get_A_row(two_seps, max_ant_idx):\n",
    "\n",
    "    # how exactly does flatten_list_o_tuples work?\n",
    "    # https://stackoverflow.com/a/10636583\n",
    "    flatten_list_o_tuples = lambda x: np.array(list(sum(x, ())))\n",
    "\n",
    "    a = flatten_list_o_tuples(two_seps)\n",
    "    \n",
    "    # construct the row\n",
    "    # https://stackoverflow.com/a/29831596\n",
    "    b = np.zeros((a.size, max_ant_idx), dtype = int)\n",
    "    b[np.arange(a.size),a] = 1\n",
    "    b[1] *= -1\n",
    "    b[2] *= -1\n",
    "    b = np.sum(b, axis = 0)\n",
    "    \n",
    "    return b\n",
    "\n",
    "def make_A_from_list_o_sep_pairs(list_o_sep_pairs, max_ant_idx):\n",
    "    \n",
    "    A = []\n",
    "    for two_seps in list_o_sep_pairs:\n",
    "        \n",
    "        A.append(get_A_row(two_seps, max_ant_idx = max_ant_idx))\n",
    "\n",
    "    return np.asarray(A).reshape(-1, max_ant_idx)"
   ]
  },
  {
   "cell_type": "code",
   "execution_count": 11,
   "metadata": {},
   "outputs": [],
   "source": [
    "A = make_A_from_list_o_sep_pairs(v_ratios, np.max(unique_ants) + 1)"
   ]
  },
  {
   "cell_type": "code",
   "execution_count": 12,
   "metadata": {},
   "outputs": [
    {
     "data": {
      "text/plain": [
       "(100000, 144)"
      ]
     },
     "execution_count": 12,
     "metadata": {},
     "output_type": "execute_result"
    }
   ],
   "source": [
    "A.shape"
   ]
  },
  {
   "cell_type": "markdown",
   "metadata": {},
   "source": [
    "A is too large to print, so lets view it with imshow"
   ]
  },
  {
   "cell_type": "code",
   "execution_count": 13,
   "metadata": {},
   "outputs": [
    {
     "data": {
      "image/png": "[encoded data removed]",
      "text/plain": [
       "<Figure size 432x288 with 2 Axes>"
      ]
     },
     "metadata": {
      "image/png": {
       "height": 265,
       "width": 400
      }
     },
     "output_type": "display_data"
    }
   ],
   "source": [
    "import matplotlib.pyplot as plt\n",
    "%config InlineBackend.figure_format = 'retina'\n",
    "plt.imshow(A, aspect = 'auto', cmap = plt.get_cmap('rainbow', 4))\n",
    "plt.xlabel('Antenna #')\n",
    "plt.ylabel('Visibility index')\n",
    "plt.colorbar();"
   ]
  },
  {
   "cell_type": "markdown",
   "metadata": {},
   "source": [
    "Every column is an antenna. There are many missing antennas, lets drop them and look again"
   ]
  },
  {
   "cell_type": "code",
   "execution_count": 14,
   "metadata": {},
   "outputs": [
    {
     "data": {
      "image/png": "[encoded data removed]",
      "text/plain": [
       "<Figure size 432x288 with 2 Axes>"
      ]
     },
     "metadata": {
      "image/png": {
       "height": 265,
       "width": 400
      }
     },
     "output_type": "display_data"
    }
   ],
   "source": [
    "plt.imshow(A[:, unique_ants], aspect = 'auto', cmap = plt.get_cmap('rainbow', 4))\n",
    "plt.xlabel('Antenna #')\n",
    "plt.ylabel('Visibility index')\n",
    "plt.colorbar();"
   ]
  },
  {
   "cell_type": "markdown",
   "metadata": {},
   "source": [
    "Lets try to solve Ax = b. The dimensions dont work directly so we can use np.linalg.lstsq"
   ]
  },
  {
   "cell_type": "markdown",
   "metadata": {},
   "source": [
    "First we need b"
   ]
  },
  {
   "cell_type": "code",
   "execution_count": 15,
   "metadata": {},
   "outputs": [],
   "source": [
    "b = []\n",
    "for v_ratio in v_ratios:\n",
    "    \n",
    "    ants = flatten_list_o_tuples(v_ratio)\n",
    "    \n",
    "    ratio_delay  = generated_ant_delays[ants[0]]\n",
    "    ratio_delay -= generated_ant_delays[ants[1]]\n",
    "    ratio_delay -= generated_ant_delays[ants[2]]\n",
    "    ratio_delay += generated_ant_delays[ants[3]]\n",
    "    \n",
    "    b.append(ratio_delay)"
   ]
  },
  {
   "cell_type": "markdown",
   "metadata": {},
   "source": [
    "Suppress scientific notation"
   ]
  },
  {
   "cell_type": "code",
   "execution_count": 16,
   "metadata": {},
   "outputs": [],
   "source": [
    "np.set_printoptions(suppress=True)"
   ]
  },
  {
   "cell_type": "markdown",
   "metadata": {},
   "source": [
    "Solve"
   ]
  },
  {
   "cell_type": "code",
   "execution_count": 17,
   "metadata": {},
   "outputs": [
    {
     "data": {
      "text/plain": [
       "array([  45.33860931,  -81.16695072,    1.96935862,    6.10171804,\n",
       "         48.66594262,    3.39641215,   -2.48853725,   39.88316956,\n",
       "         43.04506639,   20.66132945,   66.08166508,  -25.25891858,\n",
       "        -37.01898774,  -37.51567486,  -20.99393533,   -6.45769339,\n",
       "        -11.48275533,  -21.09273923,   70.08358528,   18.65051717,\n",
       "         63.21057309,   41.22787397,  -56.083347  ,  -59.60001446,\n",
       "        -29.27234713,   -0.88799496,   67.1434338 ,   36.05463709,\n",
       "         71.06349971,  -18.56668261,   63.96746755,  121.03329366,\n",
       "        -48.55928097,   92.39631552, -111.70348362,   67.80792327,\n",
       "          7.87107394,  -67.42935622,    5.67310372,  -13.1574402 ,\n",
       "         17.67431278,   88.5255226 ,   36.42488854,  105.30543099,\n",
       "         83.51959281,  147.49794908,   79.24060727])"
      ]
     },
     "execution_count": 17,
     "metadata": {},
     "output_type": "execute_result"
    }
   ],
   "source": [
    "ans = np.linalg.lstsq(A[:, unique_ants], b, rcond=0)\n",
    "x = ans[0]\n",
    "x"
   ]
  },
  {
   "cell_type": "markdown",
   "metadata": {},
   "source": [
    "Compare solution to true values"
   ]
  },
  {
   "cell_type": "code",
   "execution_count": 18,
   "metadata": {},
   "outputs": [],
   "source": [
    "ant_solutions = {}\n",
    "ant_errors = {}\n",
    "for i, key in enumerate(sorted(generated_ant_delays.keys())):\n",
    "    ant_solutions[key] = x[i]\n",
    "    ant_errors[key] = generated_ant_delays[key] - ant_solutions[key]"
   ]
  },
  {
   "cell_type": "code",
   "execution_count": 19,
   "metadata": {},
   "outputs": [],
   "source": [
    "x_true = [generated_ant_delays[key] for key in sorted(generated_ant_delays.keys())]"
   ]
  },
  {
   "cell_type": "code",
   "execution_count": 20,
   "metadata": {},
   "outputs": [
    {
     "data": {
      "text/plain": [
       "[62.665510808419384,\n",
       " -13.351097520018925,\n",
       " -1.3687426658619302,\n",
       " -99.65723997754927,\n",
       " 89.0871218371285,\n",
       " -39.36521154941626,\n",
       " -8.036995016469547,\n",
       " 39.69146242087987,\n",
       " -60.66377043823352,\n",
       " -42.36046830380074,\n",
       " -5.682914295763396,\n",
       " -17.4175922069237,\n",
       " -30.996340519003567,\n",
       " -18.629805190527634,\n",
       " 64.69550101598466,\n",
       " 87.68282810476998,\n",
       " 89.40839206265338,\n",
       " 43.14031458070468,\n",
       " 18.344321323435977,\n",
       " -47.77201058843046,\n",
       " 79.72386287304192,\n",
       " -42.94907135137214,\n",
       " 23.280581424966343,\n",
       " 34.15794025471129,\n",
       " -24.275162819510413,\n",
       " -82.59098808856322,\n",
       " -64.59296168301088,\n",
       " 8.597924984236997,\n",
       " -93.61647801052935,\n",
       " 14.823957321323306,\n",
       " 50.21009819904009,\n",
       " -64.5012715268092,\n",
       " -9.621114316211361,\n",
       " -17.917926422739967,\n",
       " -95.52399637416688,\n",
       " 87.79312313058958,\n",
       " -73.74146836802677,\n",
       " -4.562366145307678,\n",
       " 4.212119185366703,\n",
       " 4.5492342537305035,\n",
       " -88.34589980332896,\n",
       " -30.234127024996454,\n",
       " 16.58274587935891,\n",
       " 1.096181274061749,\n",
       " -79.12093012570374,\n",
       " -44.9691799377117,\n",
       " 61.19182592689242]"
      ]
     },
     "execution_count": 20,
     "metadata": {},
     "output_type": "execute_result"
    }
   ],
   "source": [
    "x_true"
   ]
  },
  {
   "cell_type": "code",
   "execution_count": 21,
   "metadata": {},
   "outputs": [],
   "source": [
    "errors = [ant_errors[key] for key in sorted(ant_errors.keys())]"
   ]
  },
  {
   "cell_type": "code",
   "execution_count": 22,
   "metadata": {},
   "outputs": [
    {
     "data": {
      "image/png": "[encoded data removed]",
      "text/plain": [
       "<Figure size 432x288 with 1 Axes>"
      ]
     },
     "metadata": {
      "image/png": {
       "height": 263,
       "width": 399
      }
     },
     "output_type": "display_data"
    }
   ],
   "source": [
    "plt.plot(x_true, ls = 'none', marker = 's', markersize = 5)\n",
    "plt.plot(x, ls = 'none', marker = 's', markersize = 5)\n",
    "plt.xlabel('Antenna #')\n",
    "plt.ylabel('Delay [ ns ]')\n",
    "plt.show()"
   ]
  },
  {
   "cell_type": "code",
   "execution_count": 23,
   "metadata": {},
   "outputs": [
    {
     "data": {
      "image/png": "[encoded data removed]",
      "text/plain": [
       "<Figure size 432x288 with 1 Axes>"
      ]
     },
     "metadata": {
      "image/png": {
       "height": 263,
       "width": 399
      }
     },
     "output_type": "display_data"
    }
   ],
   "source": [
    "plt.plot(errors, ls = 'none', marker = 's', markersize = 5)\n",
    "plt.vlines(range(len(errors)), 0, errors)\n",
    "plt.xlabel('Antenna #')\n",
    "plt.ylabel('Error [ ns ]')\n",
    "plt.show()"
   ]
  },
  {
   "cell_type": "markdown",
   "metadata": {},
   "source": [
    "Doesnt look great"
   ]
  },
  {
   "cell_type": "code",
   "execution_count": null,
   "metadata": {},
   "outputs": [],
   "source": []
  }
 ],
 "metadata": {
  "kernelspec": {
   "display_name": "Python 2",
   "language": "python",
   "name": "python2"
  },
  "language_info": {
   "codemirror_mode": {
    "name": "ipython",
    "version": 2
   },
   "file_extension": ".py",
   "mimetype": "text/x-python",
   "name": "python",
   "nbconvert_exporter": "python",
   "pygments_lexer": "ipython2",
   "version": "2.7.15"
  }
 },
 "nbformat": 4,
 "nbformat_minor": 2
}
