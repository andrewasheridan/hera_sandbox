{
 "cells": [
  {
   "cell_type": "markdown",
   "metadata": {},
   "source": [
    "# FCN\n",
    "\n",
    "Fully Connected Network"
   ]
  },
  {
   "cell_type": "markdown",
   "metadata": {},
   "source": [
    "## GPU Check"
   ]
  },
  {
   "cell_type": "code",
   "execution_count": 1,
   "metadata": {},
   "outputs": [],
   "source": [
    "# # check available GPU in terminal: watch -d -n 0.5 nvidia-smi\n",
    "# # select one GPU to train on:\n",
    "# import os\n",
    "# os.environ[\"CUDA_DEVICE_ORDER\"]=\"PCI_BUS_ID\"   # see issue #152\n",
    "# os.environ[\"CUDA_VISIBLE_DEVICES\"]=\"2\""
   ]
  },
  {
   "cell_type": "markdown",
   "metadata": {},
   "source": [
    "## Imports"
   ]
  },
  {
   "cell_type": "code",
   "execution_count": 1,
   "metadata": {},
   "outputs": [],
   "source": [
    "import sys, os\n",
    "sys.path.insert(1, os.path.join(sys.path[0], '../modules/'))\n",
    "sys.path.insert(1, os.path.join(sys.path[0], '../data_creation/'))\n",
    "sys.path.insert(1, os.path.join(sys.path[0], '../networks/'))\n",
    "sys.path.insert(1, os.path.join(sys.path[0], '../network_trainers/'))\n",
    "\n",
    "from FNN_BN_R import FNN_BN_R\n",
    "from FNN_BN_R_Trainer import FNN_BN_R_Trainer\n",
    "from Data_Creator_R import Data_Creator_R\n",
    "from data_manipulation import *"
   ]
  },
  {
   "cell_type": "markdown",
   "metadata": {},
   "source": [
    "## Load and Setup Data"
   ]
  },
  {
   "cell_type": "code",
   "execution_count": 2,
   "metadata": {},
   "outputs": [],
   "source": [
    "# extract the redundant baselines and their gains and data from miriad and calfits files\n",
    "red_bls, gains, uvd = load_relevant_data('../zen_data/zen.2458098.58037.xx.HH.uv','../zen_data/zen.2458098.58037.xx.HH.uv.abs.calfits')"
   ]
  },
  {
   "cell_type": "code",
   "execution_count": 2,
   "metadata": {},
   "outputs": [],
   "source": [
    "# seperate trining and testing redundant baselines \n",
    "# if we have not already done this, load them from disk\n",
    "training_redundant_baselines_dict, testing_redundant_baselines_dict = get_or_gen_test_train_red_bls_dicts(red_bls, gains.keys())\n",
    "\n",
    "# seperate the visiblites\n",
    "training_baselines_data = get_seps_data(training_redundant_baselines_dict, uvd)\n",
    "testing_baselines_data = get_seps_data(testing_redundant_baselines_dict, uvd)"
   ]
  },
  {
   "cell_type": "markdown",
   "metadata": {},
   "source": [
    "***\n",
    "## A"
   ]
  },
  {
   "cell_type": "code",
   "execution_count": 9,
   "metadata": {},
   "outputs": [],
   "source": [
    "FNN_BN_R_A = FNN_BN_R('FNN_BN_R_A',\n",
    "                      layer_nodes=[512,256,128,128,64,64,32],\n",
    "                      adam_initial_learning_rate = 0.001)"
   ]
  },
  {
   "cell_type": "code",
   "execution_count": 10,
   "metadata": {},
   "outputs": [
    {
     "name": "stdout",
     "output_type": "stream",
     "text": [
      "{'accuracy_threshold': 0.00625,\n",
      " 'adam_initial_learning_rate': 0.001,\n",
      " 'cost': 'MSE',\n",
      " 'gaussian_shift_scalar': 1e-05,\n",
      " 'layer_nodes': [512, 256, 128, 128, 64, 64, 32],\n",
      " 'log_dir': 'logs/',\n",
      " 'name': 'FNN_BN_R_A'}\n"
     ]
    }
   ],
   "source": [
    "FNN_BN_R_A.print_params()"
   ]
  },
  {
   "cell_type": "code",
   "execution_count": 11,
   "metadata": {},
   "outputs": [],
   "source": [
    "trainer = FNN_BN_R_Trainer(FNN_BN_R_A,\n",
    "                           Data_Creator_R,\n",
    "                           num_epochs=1000,\n",
    "                           batch_size=32)"
   ]
  },
  {
   "cell_type": "code",
   "execution_count": 12,
   "metadata": {},
   "outputs": [],
   "source": [
    "trainer.add_data((training_baselines_data, training_redundant_baselines_dict),\n",
    "                 (testing_baselines_data, testing_redundant_baselines_dict),\n",
    "                 gains,\n",
    "                 num_flatnesses=100)"
   ]
  },
  {
   "cell_type": "code",
   "execution_count": 13,
   "metadata": {},
   "outputs": [
    {
     "name": "stdout",
     "output_type": "stream",
     "text": [
      "{'batch_size': 32,\n",
      " 'fcl_keep_prob': 0.9,\n",
      " 'log_dir': 'logs/',\n",
      " 'metric_names': ['MISGs', 'MSEs', 'MQEs', 'PWTs'],\n",
      " 'model_save_interval': 25,\n",
      " 'name': 'FNN_BN_R_A',\n",
      " 'num_epochs': 1000,\n",
      " 'pretrained_model_path': None,\n",
      " 'sample_keep_prob': 0.8}\n"
     ]
    }
   ],
   "source": [
    "trainer.print_params()"
   ]
  },
  {
   "cell_type": "code",
   "execution_count": 14,
   "metadata": {},
   "outputs": [
    {
     "name": "stdout",
     "output_type": "stream",
     "text": [
      "saving metrics - saved"
     ]
    }
   ],
   "source": [
    "trainer.train()"
   ]
  },
  {
   "cell_type": "markdown",
   "metadata": {},
   "source": [
    "***\n",
    "## B"
   ]
  },
  {
   "cell_type": "code",
   "execution_count": 23,
   "metadata": {},
   "outputs": [
    {
     "name": "stdout",
     "output_type": "stream",
     "text": [
      "params loaded"
     ]
    }
   ],
   "source": [
    "FNN_BN_R_B = FNN_BN_R('FNN_BN_R_B',\n",
    "                      layer_nodes=[])\n",
    "FNN_BN_R_B.load_params('logs/FNN_BN_R_A/params/FNN_BN_R')"
   ]
  },
  {
   "cell_type": "code",
   "execution_count": 24,
   "metadata": {},
   "outputs": [
    {
     "name": "stdout",
     "output_type": "stream",
     "text": [
      "{'accuracy_threshold': 0.00625,\n",
      " 'adam_initial_learning_rate': 1e-05,\n",
      " 'cost': 'MISG',\n",
      " 'gaussian_shift_scalar': 1e-05,\n",
      " 'layer_nodes': [512, 256, 128, 128, 64, 64, 32],\n",
      " 'log_dir': 'logs/',\n",
      " 'name': 'FNN_BN_R_B'}\n"
     ]
    }
   ],
   "source": [
    "FNN_BN_R_B.cost = 'MISG'\n",
    "FNN_BN_R_B.adam_initial_learning_rate = 1e-05\n",
    "FNN_BN_R_B.print_params()"
   ]
  },
  {
   "cell_type": "code",
   "execution_count": 25,
   "metadata": {},
   "outputs": [],
   "source": [
    "trainer = FNN_BN_R_Trainer(FNN_BN_R_B,\n",
    "                           Data_Creator_R,\n",
    "                           num_epochs=1000,\n",
    "                           batch_size=64)\n",
    "trainer.pretrained_model_path = 'logs/FNN_BN_R_A/trained_model.ckpt-349'"
   ]
  },
  {
   "cell_type": "code",
   "execution_count": 26,
   "metadata": {},
   "outputs": [],
   "source": [
    "trainer.add_data((training_baselines_data, training_redundant_baselines_dict),\n",
    "                 (testing_baselines_data, testing_redundant_baselines_dict),\n",
    "                 gains,\n",
    "                 num_flatnesses=100)"
   ]
  },
  {
   "cell_type": "code",
   "execution_count": 27,
   "metadata": {},
   "outputs": [
    {
     "name": "stdout",
     "output_type": "stream",
     "text": [
      "{'batch_size': 64,\n",
      " 'fcl_keep_prob': 0.9,\n",
      " 'log_dir': 'logs/',\n",
      " 'metric_names': ['MISGs', 'MSEs', 'MQEs', 'PWTs'],\n",
      " 'model_save_interval': 25,\n",
      " 'name': 'FNN_BN_R_B',\n",
      " 'num_epochs': 1000,\n",
      " 'pretrained_model_path': 'logs/FNN_BN_R_A/trained_model.ckpt-349',\n",
      " 'sample_keep_prob': 0.8}\n"
     ]
    }
   ],
   "source": [
    "trainer.print_params()"
   ]
  },
  {
   "cell_type": "code",
   "execution_count": 28,
   "metadata": {},
   "outputs": [
    {
     "name": "stdout",
     "output_type": "stream",
     "text": [
      "Network Ready - 721249 trainable parametersINFO:tensorflow:Restoring parameters from logs/FNN_BN_R_A/trained_model.ckpt-349\n",
      "saving metrics - saved"
     ]
    }
   ],
   "source": [
    "trainer.train()"
   ]
  },
  {
   "cell_type": "markdown",
   "metadata": {},
   "source": [
    "***\n",
    "## C"
   ]
  },
  {
   "cell_type": "code",
   "execution_count": null,
   "metadata": {},
   "outputs": [],
   "source": []
  },
  {
   "cell_type": "code",
   "execution_count": 45,
   "metadata": {},
   "outputs": [
    {
     "name": "stdout",
     "output_type": "stream",
     "text": [
      "params loaded"
     ]
    }
   ],
   "source": [
    "FNN_BN_R_C = FNN_BN_R('FNN_BN_R_C',\n",
    "                      layer_nodes=[])\n",
    "FNN_BN_R_C.load_params('logs/FNN_BN_R_B/params/FNN_BN_R')"
   ]
  },
  {
   "cell_type": "code",
   "execution_count": 46,
   "metadata": {},
   "outputs": [
    {
     "name": "stdout",
     "output_type": "stream",
     "text": [
      "{'accuracy_threshold': 0.00625,\n",
      " 'adam_initial_learning_rate': 0.0001,\n",
      " 'cost': 'MISG',\n",
      " 'gaussian_shift_scalar': 1e-05,\n",
      " 'layer_nodes': [512, 256, 128, 128, 64, 64, 32],\n",
      " 'log_dir': 'logs/',\n",
      " 'name': 'FNN_BN_R_C'}\n"
     ]
    }
   ],
   "source": [
    "FNN_BN_R_C.cost = 'MISG'\n",
    "FNN_BN_R_C.adam_initial_learning_rate = 1e-04\n",
    "FNN_BN_R_C.print_params()"
   ]
  },
  {
   "cell_type": "code",
   "execution_count": 47,
   "metadata": {},
   "outputs": [],
   "source": [
    "trainer = FNN_BN_R_Trainer(FNN_BN_R_C,\n",
    "                           Data_Creator_R,\n",
    "                           num_epochs=1000,\n",
    "                           batch_size=256)\n",
    "trainer.pretrained_model_path = 'logs/FNN_BN_R_B/trained_model.ckpt-199'"
   ]
  },
  {
   "cell_type": "code",
   "execution_count": 48,
   "metadata": {},
   "outputs": [],
   "source": [
    "trainer.add_data((training_baselines_data, training_redundant_baselines_dict),\n",
    "                 (testing_baselines_data, testing_redundant_baselines_dict),\n",
    "                 gains,\n",
    "                 num_flatnesses=100)"
   ]
  },
  {
   "cell_type": "code",
   "execution_count": 49,
   "metadata": {},
   "outputs": [
    {
     "name": "stdout",
     "output_type": "stream",
     "text": [
      "{'batch_size': 256,\n",
      " 'fcl_keep_prob': 0.9,\n",
      " 'log_dir': 'logs/',\n",
      " 'metric_names': ['MISGs', 'MSEs', 'MQEs', 'PWTs'],\n",
      " 'model_save_interval': 25,\n",
      " 'name': 'FNN_BN_R_C',\n",
      " 'num_epochs': 1000,\n",
      " 'pretrained_model_path': 'logs/FNN_BN_R_B/trained_model.ckpt-199',\n",
      " 'sample_keep_prob': 0.8}\n"
     ]
    }
   ],
   "source": [
    "trainer.print_params()"
   ]
  },
  {
   "cell_type": "code",
   "execution_count": 50,
   "metadata": {},
   "outputs": [
    {
     "name": "stdout",
     "output_type": "stream",
     "text": [
      "Network Ready - 721249 trainable parametersINFO:tensorflow:Restoring parameters from logs/FNN_BN_R_B/trained_model.ckpt-199\n",
      "saving metrics - saved"
     ]
    }
   ],
   "source": [
    "trainer.train()"
   ]
  },
  {
   "cell_type": "code",
   "execution_count": null,
   "metadata": {},
   "outputs": [],
   "source": []
  }
 ],
 "metadata": {
  "kernelspec": {
   "display_name": "Python 2",
   "language": "python",
   "name": "python2"
  },
  "language_info": {
   "codemirror_mode": {
    "name": "ipython",
    "version": 2
   },
   "file_extension": ".py",
   "mimetype": "text/x-python",
   "name": "python",
   "nbconvert_exporter": "python",
   "pygments_lexer": "ipython2",
   "version": "2.7.15"
  }
 },
 "nbformat": 4,
 "nbformat_minor": 2
}
