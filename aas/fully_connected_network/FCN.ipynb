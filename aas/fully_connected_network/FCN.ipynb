{
 "cells": [
  {
   "cell_type": "markdown",
   "metadata": {},
   "source": [
    "# FCN\n",
    "\n",
    "Fully Connected Network"
   ]
  },
  {
   "cell_type": "markdown",
   "metadata": {},
   "source": [
    "## GPU Check"
   ]
  },
  {
   "cell_type": "code",
   "execution_count": 1,
   "metadata": {},
   "outputs": [],
   "source": [
    "# # check available GPU in terminal: watch -d -n 0.5 nvidia-smi\n",
    "# # select one GPU to train on:\n",
    "# import os\n",
    "# os.environ[\"CUDA_DEVICE_ORDER\"]=\"PCI_BUS_ID\"   # see issue #152\n",
    "# os.environ[\"CUDA_VISIBLE_DEVICES\"]=\"2\""
   ]
  },
  {
   "cell_type": "markdown",
   "metadata": {},
   "source": [
    "## Imports"
   ]
  },
  {
   "cell_type": "code",
   "execution_count": 2,
   "metadata": {},
   "outputs": [
    {
     "name": "stdout",
     "output_type": "stream",
     "text": [
      "importing Jupyter notebook from FC_Train.ipynb\n",
      "importing Jupyter notebook from FC_Data.ipynb\n",
      "importing Jupyter notebook from FC_Network.ipynb\n"
     ]
    }
   ],
   "source": [
    "import sys, os\n",
    "\n",
    "sys.path.insert(1, os.path.join(sys.path[0], '../modules'))\n",
    "import notebook_loading\n",
    "\n",
    "from FC_Train import FCN_Train\n",
    "from FC_Data import *\n",
    "from FC_Network import FC_Network\n"
   ]
  },
  {
   "cell_type": "markdown",
   "metadata": {},
   "source": [
    "## Load and Setup Data"
   ]
  },
  {
   "cell_type": "code",
   "execution_count": 3,
   "metadata": {},
   "outputs": [],
   "source": [
    "# extract the redundant baselines and their gains and data from miriad and calfits files\n",
    "red_bls, gains, uvd = load_relevant_data('../zen_data/zen.2458098.58037.xx.HH.uv','../zen_data/zen.2458098.58037.xx.HH.uv.abs.calfits')\n",
    "\n",
    "# seperate trining and testing redundant baselines \n",
    "# if we have not already done this, load them from disk\n",
    "training_redundant_baselines_dict, testing_redundant_baselines_dict = get_or_gen_test_train_red_bls_dicts(red_bls, gains.keys())\n",
    "\n",
    "# seperate the visiblites\n",
    "training_baselines_data = get_seps_data(training_redundant_baselines_dict, uvd)\n",
    "testing_baselines_data = get_seps_data(testing_redundant_baselines_dict, uvd)"
   ]
  },
  {
   "cell_type": "markdown",
   "metadata": {},
   "source": [
    "## Trainer"
   ]
  },
  {
   "cell_type": "code",
   "execution_count": 4,
   "metadata": {},
   "outputs": [],
   "source": [
    "trainer = FCN_Train()"
   ]
  },
  {
   "cell_type": "code",
   "execution_count": 5,
   "metadata": {},
   "outputs": [],
   "source": [
    "trainer.add_data((training_baselines_data, training_redundant_baselines_dict),\n",
    "                 (testing_baselines_data, testing_redundant_baselines_dict),\n",
    "                 gains)"
   ]
  },
  {
   "cell_type": "markdown",
   "metadata": {},
   "source": [
    "## Network"
   ]
  },
  {
   "cell_type": "code",
   "execution_count": 6,
   "metadata": {},
   "outputs": [
    {
     "data": {
      "text/plain": [
       "{'cost_name': 'MSE',\n",
       " 'dtype': tf.float32,\n",
       " 'g_shift': 0.01,\n",
       " 'layer_nodes': [1024, 768, 512, 256, 128, 64],\n",
       " 'learning_rate': 0.0001,\n",
       " 'name': 'example_FCN_A',\n",
       " 'num_freq_channels': 1024,\n",
       " 'threshold': 0.00625}"
      ]
     },
     "execution_count": 6,
     "metadata": {},
     "output_type": "execute_result"
    }
   ],
   "source": [
    "layer_nodes = [1024,768,512,256,128,64]\n",
    "example_FCN_A = FC_Network(name = 'example_FCN_A', layer_nodes = layer_nodes)\n",
    "example_FCN_A.params"
   ]
  },
  {
   "cell_type": "markdown",
   "metadata": {},
   "source": [
    "## Train"
   ]
  },
  {
   "cell_type": "code",
   "execution_count": 7,
   "metadata": {},
   "outputs": [
    {
     "name": "stdout",
     "output_type": "stream",
     "text": [
      "Training Finished\n"
     ]
    }
   ],
   "source": [
    "trainer.network = example_FCN_A\n",
    "trainer.num_epochs = 2 # quick example\n",
    "trainer.train()"
   ]
  },
  {
   "cell_type": "code",
   "execution_count": 8,
   "metadata": {},
   "outputs": [
    {
     "name": "stdout",
     "output_type": "stream",
     "text": [
      "[(1.55, 1.3833333), (1.6166667, 0.96666664)]\n",
      "[(94.768166, 94.85912), (94.34769, 94.780716)]\n",
      "[(0.23883002, 0.24490806), (0.23118961, 0.23492116)]\n"
     ]
    }
   ],
   "source": [
    "# train, test results\n",
    "print(trainer.PWTs) \n",
    "print(trainer.MISGs)\n",
    "print(trainer.MSEs)"
   ]
  },
  {
   "cell_type": "markdown",
   "metadata": {},
   "source": [
    "## Can use same trainer for another network"
   ]
  },
  {
   "cell_type": "code",
   "execution_count": 9,
   "metadata": {},
   "outputs": [
    {
     "data": {
      "text/plain": [
       "{'cost_name': 'MSE',\n",
       " 'dtype': tf.float32,\n",
       " 'g_shift': 0.01,\n",
       " 'layer_nodes': [512, 256, 128, 64],\n",
       " 'learning_rate': 0.0001,\n",
       " 'name': 'example_FCN_B',\n",
       " 'num_freq_channels': 1024,\n",
       " 'threshold': 0.00625}"
      ]
     },
     "execution_count": 9,
     "metadata": {},
     "output_type": "execute_result"
    }
   ],
   "source": [
    "layer_nodes = [512,256,128,64]\n",
    "example_FCN_B = FC_Network(name = 'example_FCN_B', layer_nodes = layer_nodes)\n",
    "example_FCN_B.params"
   ]
  },
  {
   "cell_type": "code",
   "execution_count": 10,
   "metadata": {},
   "outputs": [
    {
     "name": "stdout",
     "output_type": "stream",
     "text": [
      "Training Finished\n"
     ]
    }
   ],
   "source": [
    "trainer.network = example_FCN_B\n",
    "trainer.num_epochs = 2 # quick example\n",
    "trainer.train()"
   ]
  },
  {
   "cell_type": "code",
   "execution_count": 11,
   "metadata": {},
   "outputs": [
    {
     "name": "stdout",
     "output_type": "stream",
     "text": [
      "[(1.2, 1.35), (1.0833334, 1.6333334)]\n",
      "[(94.73084, 94.3626), (95.43424, 94.38673)]\n",
      "[(0.17145516, 0.17014325), (0.18178497, 0.18871598)]\n"
     ]
    }
   ],
   "source": [
    "# train, test results\n",
    "print(trainer.PWTs) \n",
    "print(trainer.MISGs)\n",
    "print(trainer.MSEs)"
   ]
  }
 ],
 "metadata": {
  "kernelspec": {
   "display_name": "Python 2",
   "language": "python",
   "name": "python2"
  },
  "language_info": {
   "codemirror_mode": {
    "name": "ipython",
    "version": 2
   },
   "file_extension": ".py",
   "mimetype": "text/x-python",
   "name": "python",
   "nbconvert_exporter": "python",
   "pygments_lexer": "ipython2",
   "version": "2.7.15"
  }
 },
 "nbformat": 4,
 "nbformat_minor": 2
}
