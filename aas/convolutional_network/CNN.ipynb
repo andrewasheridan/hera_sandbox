{
 "cells": [
  {
   "cell_type": "markdown",
   "metadata": {},
   "source": [
    "# CNN"
   ]
  },
  {
   "cell_type": "markdown",
   "metadata": {},
   "source": [
    "## Imports"
   ]
  },
  {
   "cell_type": "code",
   "execution_count": 1,
   "metadata": {},
   "outputs": [
    {
     "name": "stdout",
     "output_type": "stream",
     "text": [
      "importing Jupyter notebook from CNN_Train.ipynb\n",
      "importing Jupyter notebook from CNN_Data.ipynb\n",
      "importing Jupyter notebook from CN_Network.ipynb\n"
     ]
    }
   ],
   "source": [
    "import sys, os\n",
    "\n",
    "sys.path.insert(1, os.path.join(sys.path[0], '../modules'))\n",
    "import notebook_loading\n",
    "\n",
    "from CNN_Train import CNN_Train\n",
    "from CNN_Data import *\n",
    "from CN_Network import CN_Network"
   ]
  },
  {
   "cell_type": "markdown",
   "metadata": {},
   "source": [
    "## Load & Setup Data"
   ]
  },
  {
   "cell_type": "code",
   "execution_count": 2,
   "metadata": {},
   "outputs": [],
   "source": [
    "# extract the redundant baselines and their gains and data from miriad and calfits files\n",
    "red_bls, gains, uvd = load_relevant_data('../zen_data/zen.2458098.58037.xx.HH.uv','../zen_data/zen.2458098.58037.xx.HH.uv.abs.calfits')\n",
    "\n",
    "# seperate trining and testing redundant baselines \n",
    "# if we have not already done this, load them from disk\n",
    "training_redundant_baselines_dict, testing_redundant_baselines_dict = get_or_gen_test_train_red_bls_dicts(red_bls, gains.keys())\n",
    "\n",
    "# seperate the visiblites\n",
    "training_baselines_data = get_seps_data(training_redundant_baselines_dict, uvd)\n",
    "testing_baselines_data = get_seps_data(testing_redundant_baselines_dict, uvd)"
   ]
  },
  {
   "cell_type": "markdown",
   "metadata": {},
   "source": [
    "## Trainer"
   ]
  },
  {
   "cell_type": "code",
   "execution_count": 3,
   "metadata": {},
   "outputs": [],
   "source": [
    "trainer = CNN_Train()"
   ]
  },
  {
   "cell_type": "code",
   "execution_count": 4,
   "metadata": {},
   "outputs": [],
   "source": [
    "trainer.add_data((training_baselines_data, training_redundant_baselines_dict),\n",
    "                 (testing_baselines_data, testing_redundant_baselines_dict),\n",
    "                 gains)"
   ]
  },
  {
   "cell_type": "markdown",
   "metadata": {},
   "source": [
    "## Network"
   ]
  },
  {
   "cell_type": "code",
   "execution_count": 5,
   "metadata": {},
   "outputs": [
    {
     "data": {
      "text/plain": [
       "{'cost_name': 'MSE',\n",
       " 'dtype': tf.float32,\n",
       " 'g_shift': 0.01,\n",
       " 'learning_rate': 5e-05,\n",
       " 'name': 'example_network_A',\n",
       " 'num_freq_channels': 1024,\n",
       " 'threshold': 0.00625,\n",
       " 'wide_filter_widths': [64, 32, 8],\n",
       " 'width_reduction_factors': [2, 3, 4]}"
      ]
     },
     "execution_count": 5,
     "metadata": {},
     "output_type": "execute_result"
    }
   ],
   "source": [
    "wide_filter_widths = [64,32,8]\n",
    "width_reduction_factors = [2,3,4]\n",
    "learning_rate = 0.00005\n",
    "\n",
    "example_network_A = CN_Network(name = 'example_network_A',\n",
    "                             wide_filter_widths = wide_filter_widths,\n",
    "                             width_reduction_factors = width_reduction_factors,\n",
    "                             learning_rate = learning_rate)\n",
    "example_network_A.params"
   ]
  },
  {
   "cell_type": "code",
   "execution_count": 6,
   "metadata": {},
   "outputs": [
    {
     "name": "stdout",
     "output_type": "stream",
     "text": [
      "Graph Ready\n",
      "Training Finished\n"
     ]
    }
   ],
   "source": [
    "trainer.network = example_network_A\n",
    "trainer.num_epochs = 2 # quick example\n",
    "trainer.train()"
   ]
  },
  {
   "cell_type": "code",
   "execution_count": 7,
   "metadata": {},
   "outputs": [
    {
     "name": "stdout",
     "output_type": "stream",
     "text": [
      "[(1.5833333, 1.8333333), (0.8333334, 0.8166667)]\n",
      "[(94.27098, 94.0534), (94.936356, 95.41085)]\n",
      "[(0.11045755, 0.109611236), (0.08841964, 0.089243196)]\n"
     ]
    }
   ],
   "source": [
    "# train, test results\n",
    "print(trainer.PWTs) \n",
    "print(trainer.MISGs)\n",
    "print(trainer.MSEs)"
   ]
  },
  {
   "cell_type": "markdown",
   "metadata": {},
   "source": [
    "### Can use same trainer for another network"
   ]
  },
  {
   "cell_type": "code",
   "execution_count": 8,
   "metadata": {},
   "outputs": [
    {
     "data": {
      "text/plain": [
       "{'cost_name': 'MSE',\n",
       " 'dtype': tf.float32,\n",
       " 'g_shift': 0.01,\n",
       " 'learning_rate': 5e-05,\n",
       " 'name': 'example_network_B',\n",
       " 'num_freq_channels': 1024,\n",
       " 'threshold': 0.00625,\n",
       " 'wide_filter_widths': [12, 8, 4],\n",
       " 'width_reduction_factors': [2, 2, 2]}"
      ]
     },
     "execution_count": 8,
     "metadata": {},
     "output_type": "execute_result"
    }
   ],
   "source": [
    "wide_filter_widths = [12,8,4]\n",
    "width_reduction_factors = [2,2,2]\n",
    "learning_rate = 0.00005\n",
    "\n",
    "example_network_B = CN_Network(name = 'example_network_B',\n",
    "                             wide_filter_widths = wide_filter_widths,\n",
    "                             width_reduction_factors = width_reduction_factors,\n",
    "                             learning_rate = learning_rate)\n",
    "example_network_B.params"
   ]
  },
  {
   "cell_type": "code",
   "execution_count": 9,
   "metadata": {},
   "outputs": [
    {
     "name": "stdout",
     "output_type": "stream",
     "text": [
      "Graph Ready\n",
      "Training Finished\n"
     ]
    }
   ],
   "source": [
    "trainer.network = example_network_B\n",
    "trainer.num_epochs = 2 # quick example\n",
    "trainer.train()"
   ]
  },
  {
   "cell_type": "code",
   "execution_count": 10,
   "metadata": {},
   "outputs": [
    {
     "name": "stdout",
     "output_type": "stream",
     "text": [
      "[(1.6166667, 1.5833333), (1.4166667, 0.6333333)]\n",
      "[(94.20609, 94.65782), (94.77652, 95.850105)]\n",
      "[(0.085117735, 0.08686262), (0.0843562, 0.087568715)]\n"
     ]
    }
   ],
   "source": [
    "# train, test results\n",
    "print(trainer.PWTs) \n",
    "print(trainer.MISGs)\n",
    "print(trainer.MSEs)"
   ]
  },
  {
   "cell_type": "code",
   "execution_count": null,
   "metadata": {},
   "outputs": [],
   "source": []
  }
 ],
 "metadata": {
  "kernelspec": {
   "display_name": "Python 2",
   "language": "python",
   "name": "python2"
  },
  "language_info": {
   "codemirror_mode": {
    "name": "ipython",
    "version": 2
   },
   "file_extension": ".py",
   "mimetype": "text/x-python",
   "name": "python",
   "nbconvert_exporter": "python",
   "pygments_lexer": "ipython2",
   "version": "2.7.15"
  }
 },
 "nbformat": 4,
 "nbformat_minor": 2
}
